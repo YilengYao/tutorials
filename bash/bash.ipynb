{
 "cells": [
  {
   "cell_type": "markdown",
   "metadata": {},
   "source": [
    "String Templating"
   ]
  },
  {
   "cell_type": "code",
   "execution_count": null,
   "metadata": {},
   "outputs": [],
   "source": [
    "%%bash\n",
    "for i in {1..5}; \n",
    "do \n",
    "    mkdir \"module-${i}\"; \n",
    "done;"
   ]
  },
  {
   "cell_type": "code",
   "execution_count": null,
   "metadata": {},
   "outputs": [],
   "source": [
    "%%bash\n",
    "for i in {1..5}\n",
    "do\n",
    "    rmdir \"module-${i}\";\n",
    "done;"
   ]
  },
  {
   "cell_type": "markdown",
   "metadata": {},
   "source": [
    "-/bin/sh is the default shell since the very first days of UNIX\n",
    "- Many alternative shells have been developed and are still available and used\n",
    "- /bin/bash is the most common shell in Linux and other Unices\n",
    "Large parts of the operating system and its applications are written in bash\n",
    "- Look for instance in /etc/init.d, /etc/profile and many more\n",
    "\n",
    "<b>What is a Script</b>\n",
    "\n",
    "A script is a simple program that doesn’t have to be compiled\n",
    "A script can be a mare list of commands that are executed sequentially\n",
    "Or more clever things can be accomplished, using smart elements like:\n",
    "- variables\n",
    "- conditional structures\n",
    "- user input processing"
   ]
  },
  {
   "cell_type": "markdown",
   "metadata": {},
   "source": [
    "The “shebang”; `#!/bin/bash`\n",
    "- # is NOT a comment sign in this case\n",
    "An `exit` statement if you don’t want to use the exit status of the last command in the script\n",
    "\n",
    "*Storing and Running the Script*\n",
    "- On linux the current directory is not in the $PATH variable\n",
    "- Consider storing the script in a directory that is in $PATH, such as /usr/local/bin or $USER/bin\n",
    "- or ru the script using ./myscript\n",
    "- notice that running a script without ./ in front may lead to unexpected results\n",
    "- in order to run the script, it musthave thte Execuete permdission applied `chmod +x myscript`\n",
    "- If the script is started as an argument to the bash shell, it doens’t need the execute permission itself `bash myscript`\n",
    "\n",
    "*Bash Internal and external Commands*\n",
    "An internal command is a part of the Bash shell\n",
    "- It does not have to be loaded from disk and therefore faster\n",
    "- User help to get a list of internal command\n",
    "An external command is a command that is loaded from and executable file on disk\n",
    "External commands normally are slower\n",
    "\n",
    "use type to see if it is an external/internal command\n",
    "`type <command>`\n",
    "\n",
    "*Help resources*\n",
    "`man bash`\n",
    "`help <command>`\n",
    "https://www.tldp.org/LDP/abs/html/\n"
   ]
  },
  {
   "cell_type": "markdown",
   "metadata": {},
   "source": [
    "*for statements*\n",
    "for statements are useful to evaluate a range or series\n",
    "```\n",
    "for i in something\n",
    "do\n",
    "   command 1\n",
    "   command 2\n",
    "done\n",
    "```"
   ]
  },
  {
   "cell_type": "code",
   "execution_count": null,
   "metadata": {},
   "outputs": [],
   "source": [
    "%%bash\n",
    "for i in `cat  /etc/hosts`;\n",
    "   do echo $i;\n",
    "done"
   ]
  },
  {
   "cell_type": "code",
   "execution_count": null,
   "metadata": {},
   "outputs": [],
   "source": [
    "%%bash\n",
    "for i in {1..5};                                                                                                                                                        \n",
    "        do echo $i;                                                                                                                                                     \n",
    "done  "
   ]
  },
  {
   "cell_type": "markdown",
   "metadata": {},
   "source": [
    "It is common to use the variable i in a for loop, but any other variable can be used instead"
   ]
  },
  {
   "cell_type": "code",
   "execution_count": null,
   "metadata": {},
   "outputs": [],
   "source": [
    "%%bash\n",
    "#!/bin/bash\n",
    "# script that counts files\n",
    "echo which director do you want to count?\n",
    "read DIR\n",
    "cd $DIR\n",
    "COUNTER=0\n",
    "\n",
    "for i in *;\n",
    "do\n",
    "   COUNTER=$((COUNTER + 1));\n",
    "   echo I have counted $COUNTER files in this directory;\n",
    "done"
   ]
  },
  {
   "cell_type": "markdown",
   "metadata": {},
   "source": [
    "*Case Statements*\n",
    "```\n",
    "#!/bin/bash\n",
    "\n",
    "VAR=$1\n",
    "\n",
    "case $VAR in\n",
    "yes)\n",
    "   echo ok;;\n",
    "no|nee)\n",
    "   echo too bad;;\n",
    "*)\n",
    "   echo try again;;\n",
    "esac\n",
    "```"
   ]
  },
  {
   "cell_type": "markdown",
   "metadata": {},
   "source": [
    "## Exercise 5\n",
    "- A customer has exported a long list of LDAP user names. These user names are stored in the file ldapusers. In this file, every user has a name in the format cn=lisa, dc=example, dc=com. Write a script that extracts the username only (lisa) from all of these lines and write to a new file. Based on this new file, create a local user account on your Linux box. \n",
    "- Note: while testing it's not a really smart idea to create the user accounts directly. Find a solution that proves the script works withoug polluting your system with many usernames."
   ]
  },
  {
   "cell_type": "markdown",
   "metadata": {},
   "source": [
    "##Solution\n",
    "# pattern matching\n",
    "\n",
    "${string#*,} # remove prefix ending with ,\n",
    "\n",
    "${string%,*} # remove suffix starting with ,\n",
    "\n",
    "${string%%,*} # extract the first term, separated by ,\n",
    "\n",
    "extractuser.sh"
   ]
  },
  {
   "cell_type": "raw",
   "metadata": {},
   "source": [
    "#!/bin/bash\n",
    "\n",
    "while read i;\n",
    "do\n",
    "    users=${i%%,*}\n",
    "    echo ${users#*=} >> user\n",
    "done < ./ldapusers\n",
    "\n",
    "while read i;\n",
    "do\n",
    "    # don't want to pollute the environment\n",
    "    echo useradd $i\n",
    "done < ./user\n",
    "\n",
    "exit 0"
   ]
  },
  {
   "cell_type": "code",
   "execution_count": null,
   "metadata": {},
   "outputs": [],
   "source": []
  }
 ],
 "metadata": {
  "kernelspec": {
   "display_name": "Python 3",
   "language": "python",
   "name": "python3"
  },
  "language_info": {
   "codemirror_mode": {
    "name": "ipython",
    "version": 3
   },
   "file_extension": ".py",
   "mimetype": "text/x-python",
   "name": "python",
   "nbconvert_exporter": "python",
   "pygments_lexer": "ipython3",
   "version": "3.7.3"
  }
 },
 "nbformat": 4,
 "nbformat_minor": 2
}
