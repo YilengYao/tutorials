{
 "cells": [
  {
   "cell_type": "markdown",
   "metadata": {},
   "source": [
    "String Templating"
   ]
  },
  {
   "cell_type": "code",
   "execution_count": null,
   "metadata": {},
   "outputs": [],
   "source": [
    "%%bash\n",
    "for i in {1..5}; \n",
    "do \n",
    "    mkdir \"module-${i}\"; \n",
    "done;"
   ]
  },
  {
   "cell_type": "code",
   "execution_count": null,
   "metadata": {},
   "outputs": [],
   "source": [
    "%%bash\n",
    "for i in {1..5}\n",
    "do\n",
    "    rmdir \"module-${i}\";\n",
    "done;"
   ]
  },
  {
   "cell_type": "markdown",
   "metadata": {},
   "source": [
    "-/bin/sh is the default shell since the very first days of UNIX\n",
    "- Many alternative shells have been developed and are still available and used\n",
    "- /bin/bash is the most common shell in Linux and other Unices\n",
    "Large parts of the operating system and its applications are written in bash\n",
    "- Look for instance in /etc/init.d, /etc/profile and many more\n",
    "\n",
    "<b>What is a Script</b>\n",
    "\n",
    "A script is a simple program that doesn’t have to be compiled\n",
    "A script can be a mare list of commands that are executed sequentially\n",
    "Or more clever things can be accomplished, using smart elements like:\n",
    "- variables\n",
    "- conditional structures\n",
    "- user input processing"
   ]
  },
  {
   "cell_type": "markdown",
   "metadata": {},
   "source": [
    "The “shebang”; `#!/bin/bash`\n",
    "- # is NOT a comment sign in this case\n",
    "An `exit` statement if you don’t want to use the exit status of the last command in the script\n",
    "\n",
    "*Storing and Running the Script*\n",
    "- On linux the current directory is not in the $PATH variable\n",
    "- Consider storing the script in a directory that is in $PATH, such as /usr/local/bin or $USER/bin\n",
    "- or ru the script using ./myscript\n",
    "- notice that running a script without ./ in front may lead to unexpected results\n",
    "- in order to run the script, it musthave thte Execuete permdission applied `chmod +x myscript`\n",
    "- If the script is started as an argument to the bash shell, it doens’t need the execute permission itself `bash myscript`\n",
    "\n",
    "*Bash Internal and external Commands*\n",
    "An internal command is a part of the Bash shell\n",
    "- It does not have to be loaded from disk and therefore faster\n",
    "- User help to get a list of internal command\n",
    "An external command is a command that is loaded from and executable file on disk\n",
    "External commands normally are slower\n",
    "\n",
    "use type to see if it is an external/internal command\n",
    "`type <command>`\n",
    "\n",
    "*Help resources*\n",
    "`man bash`\n",
    "`help <command>`\n",
    "https://www.tldp.org/LDP/abs/html/\n"
   ]
  },
  {
   "cell_type": "markdown",
   "metadata": {},
   "source": [
    "*for statements*\n",
    "for statements are useful to evaluate a range or series\n",
    "```\n",
    "for i in something\n",
    "do\n",
    "   command 1\n",
    "   command 2\n",
    "done\n",
    "```"
   ]
  },
  {
   "cell_type": "code",
   "execution_count": null,
   "metadata": {},
   "outputs": [],
   "source": [
    "%%bash\n",
    "for i in `cat  /etc/hosts`;\n",
    "   do echo $i;\n",
    "done"
   ]
  },
  {
   "cell_type": "code",
   "execution_count": null,
   "metadata": {},
   "outputs": [],
   "source": [
    "%%bash\n",
    "for i in {1..5};                                                                                                                                                        \n",
    "        do echo $i;                                                                                                                                                     \n",
    "done  "
   ]
  },
  {
   "cell_type": "markdown",
   "metadata": {},
   "source": [
    "It is common to use the variable i in a for loop, but any other variable can be used instead"
   ]
  },
  {
   "cell_type": "code",
   "execution_count": null,
   "metadata": {},
   "outputs": [],
   "source": [
    "%%bash\n",
    "#!/bin/bash\n",
    "# script that counts files\n",
    "echo which director do you want to count?\n",
    "read DIR\n",
    "cd $DIR\n",
    "COUNTER=0\n",
    "\n",
    "for i in *;\n",
    "do\n",
    "   COUNTER=$((COUNTER + 1));\n",
    "   echo I have counted $COUNTER files in this directory;\n",
    "done"
   ]
  },
  {
   "cell_type": "markdown",
   "metadata": {},
   "source": [
    "*Case Statements*\n",
    "```\n",
    "#!/bin/bash\n",
    "\n",
    "VAR=$1\n",
    "\n",
    "case $VAR in\n",
    "yes)\n",
    "   echo ok;;\n",
    "no|nee)\n",
    "   echo too bad;;\n",
    "*)\n",
    "   echo try again;;\n",
    "esac\n",
    "```"
   ]
  },
  {
   "cell_type": "markdown",
   "metadata": {},
   "source": [
    "## Exercise\n",
    "- A customer has exported a long list of LDAP user names. These user names are stored in the file ldapusers. In this file, every user has a name in the format cn=lisa, dc=example, dc=com. Write a script that extracts the username only (lisa) from all of these lines and write to a new file. Based on this new file, create a local user account on your Linux box. \n",
    "- Note: while testing it's not a really smart idea to create the user accounts directly. Find a solution that proves the script works withoug polluting your system with many usernames."
   ]
  },
  {
   "cell_type": "markdown",
   "metadata": {},
   "source": [
    "##Solution\n",
    "# pattern matching\n",
    "\n",
    "${string#*,} # remove prefix ending with ,\n",
    "\n",
    "${string%,*} # remove suffix starting with ,\n",
    "\n",
    "${string%%,*} # extract the first term, separated by ,\n",
    "\n",
    "extractuser.sh"
   ]
  },
  {
   "cell_type": "code",
   "execution_count": null,
   "metadata": {},
   "outputs": [],
   "source": [
    "%%bash\n",
    "#!/bin/bash\n",
    "\n",
    "while read i;\n",
    "do\n",
    "    users=${i%%,*}\n",
    "    echo ${users#*=} >> user\n",
    "done < ./ldapusers\n",
    "\n",
    "while read i;\n",
    "do\n",
    "    # don't want to pollute the environment\n",
    "    echo useradd $i\n",
    "done < ./user\n",
    "\n",
    "exit 0"
   ]
  },
  {
   "cell_type": "markdown",
   "metadata": {},
   "source": [
    "## Options\n",
    "`getopts` is a built-in function to parse command line argtuments in your script\n",
    "\n",
    "getopts take in 3 parameters\n",
    "<ol>\n",
    "    <li>First is a sequence of valid options. Ex. '123' which specifies the valid options [-1], [-2], [-3]</li>\n",
    "    <li>Second is the <b>getopts</b> variable that will be populated with the option or grgument to be processed next. <b>opt</b></li>\n",
    "    <li>Third argument to <b>getopts</b> is the list of arguments and options to be processed. When not provided, this defaults to the arguments and options provided to the applications '$\\@'. You can provided this third argument to use getopts to parse any list of arguments and options you provide.</li>   \n",
    "</ol>"
   ]
  },
  {
   "cell_type": "markdown",
   "metadata": {},
   "source": [
    "### Shifting processed options\n",
    "The variable <b>OPTIND</b> holds the number of options parsed by the last call called <b>getopts</b>. It is common practice to call the <b>shift</b> command at the end of your processing loop to remove options that have already handled from <b>$@</b>\n",
    "\n",
    "shift $((OPTIND -1))"
   ]
  },
  {
   "cell_type": "code",
   "execution_count": null,
   "metadata": {},
   "outputs": [],
   "source": [
    "%%bash\n",
    "#/bin/bash\n",
    "\n",
    "while getops \"12\": opt\n",
    "do\n",
    "case $opt in\n",
    "    1 ) VAR1='a';;\n",
    "    2 ) VAR2='b';;\n",
    "    * ) echo 'usage: [-1] [-2]'\n",
    "esac\n",
    "done\n",
    "\n",
    "echo the current arguments are set to $*\n",
    "shift $((OPTIND -1))\n",
    "echo now the current argument are set to $*\n",
    "exit0"
   ]
  },
  {
   "cell_type": "markdown",
   "metadata": {},
   "source": [
    "# Using Functions\n",
    "- Functions must be defined before then can be used\n",
    "- It is good practice to define all functions at the beginning of a script\n",
    "\n",
    "<p>\n",
    "<code>\n",
    "function somefunction    \n",
    "{\n",
    "    statements\n",
    "}\n",
    "</code>\n",
    "</p>\n",
    "\n",
    "<p>\n",
    "<code>\n",
    "help ()\n",
    "{\n",
    "    statements\n",
    "}\n",
    "</code>\n",
    "</p>"
   ]
  },
  {
   "cell_type": "markdown",
   "metadata": {},
   "source": [
    "# Array\n",
    "## Declaring an Array and Assigning values\n",
    "In bash, array is created automatically when a variable is used in the format like, <br>\n",
    "<code>name[index]=value</code>\n",
    "<br>\n",
    "- name is any name for an array\n",
    "- index could be any number or expression that must evaluate a number greater than or equal to zero. You can declare an explicit array using declare -a arrayname"
   ]
  },
  {
   "cell_type": "code",
   "execution_count": 37,
   "metadata": {},
   "outputs": [
    {
     "name": "stdout",
     "output_type": "stream",
     "text": [
      "Debian Redhat Ubuntu Suse\n",
      "Ubuntu\n"
     ]
    }
   ],
   "source": [
    "%%bash\n",
    "#! /bin/bash\n",
    "Unix[0]='Debian'\n",
    "Unix[1]='Redhat'\n",
    "Unix[2]='Ubuntu'\n",
    "Unix[3]='Suse'\n",
    "\n",
    "echo ${Unix[*]}\n",
    "echo ${Unix[2]}"
   ]
  },
  {
   "cell_type": "markdown",
   "metadata": {},
   "source": [
    "## Initializing an array during declaration\n",
    "Instead of initializing each element of an array separately, you can declare and initialize an array by specifying the list of elements (separated by white space) with in a pair of curly braces.\n",
    "\n",
    "<code>declare -a arrayname=(element1 element2 element3)</code>"
   ]
  },
  {
   "cell_type": "code",
   "execution_count": 39,
   "metadata": {},
   "outputs": [
    {
     "name": "stdout",
     "output_type": "stream",
     "text": [
      "Debian Redhat Suse Fedora\n"
     ]
    }
   ],
   "source": [
    "%%bash\n",
    "declare -a unix=('Debian' 'Redhat' 'Suse' 'Fedora')\n",
    "echo ${unix[*]}"
   ]
  },
  {
   "cell_type": "markdown",
   "metadata": {},
   "source": [
    "length of array"
   ]
  },
  {
   "cell_type": "code",
   "execution_count": 43,
   "metadata": {},
   "outputs": [
    {
     "name": "stdout",
     "output_type": "stream",
     "text": [
      "4\n",
      "6\n"
     ]
    }
   ],
   "source": [
    "%%bash\n",
    "declare -a unix=('Debian' 'Redhat' 'Suse' 'Fedora')\n",
    "\n",
    "echo ${#unix[@]} # Number of elements in the array\n",
    "echo ${#unix[3]} # Number of elements of the 4th alement in the array"
   ]
  },
  {
   "cell_type": "markdown",
   "metadata": {},
   "source": [
    "Slicing array"
   ]
  },
  {
   "cell_type": "code",
   "execution_count": 44,
   "metadata": {},
   "outputs": [
    {
     "name": "stdout",
     "output_type": "stream",
     "text": [
      "Suse Fedora\n"
     ]
    }
   ],
   "source": [
    "%%bash\n",
    "Unix=('Debian' 'Red hat' 'Ubuntu' 'Suse' 'Fedora' 'UTS' 'OpenLinux');\n",
    "echo ${Unix[@]:3:2}"
   ]
  },
  {
   "cell_type": "markdown",
   "metadata": {},
   "source": [
    "Search and Replace array elements"
   ]
  },
  {
   "cell_type": "code",
   "execution_count": 45,
   "metadata": {},
   "outputs": [
    {
     "name": "stdout",
     "output_type": "stream",
     "text": [
      "Debian Red hat SCO Unix Suse Fedora UTS OpenLinux\n"
     ]
    }
   ],
   "source": [
    "%%bash\n",
    "Unix=('Debian' 'Red hat' 'Ubuntu' 'Suse' 'Fedora' 'UTS' 'OpenLinux');\n",
    "\n",
    "echo ${Unix[@]/Ubuntu/SCO Unix}\n"
   ]
  },
  {
   "cell_type": "markdown",
   "metadata": {},
   "source": [
    "Append elements to an array"
   ]
  },
  {
   "cell_type": "code",
   "execution_count": 46,
   "metadata": {},
   "outputs": [
    {
     "name": "stdout",
     "output_type": "stream",
     "text": [
      "Debian Red hat Ubuntu Suse Fedora UTS OpenLinux AIX HP-UX\n"
     ]
    }
   ],
   "source": [
    "%%bash\n",
    "Unix=('Debian' 'Red hat' 'Ubuntu' 'Suse' 'Fedora' 'UTS' 'OpenLinux');\n",
    "Unix=(\"${Unix[@]}\" \"AIX\" \"HP-UX\")\n",
    "echo ${Unix[*]}"
   ]
  },
  {
   "cell_type": "markdown",
   "metadata": {},
   "source": [
    "Remove elements from an array"
   ]
  },
  {
   "cell_type": "code",
   "execution_count": 47,
   "metadata": {},
   "outputs": [
    {
     "name": "stdout",
     "output_type": "stream",
     "text": [
      "Debian Red hat Ubuntu Fedora UTS OpenLinux\n"
     ]
    }
   ],
   "source": [
    "%%bash\n",
    "Unix=('Debian' 'Red hat' 'Ubuntu' 'Suse' 'Fedora' 'UTS' 'OpenLinux');\n",
    "\n",
    "unset Unix[3]\n",
    "echo ${Unix[*]}"
   ]
  },
  {
   "cell_type": "markdown",
   "metadata": {},
   "source": [
    "# Creating Menu Interfaces\n",
    "- The select statement can be used to create a menu interface\n",
    "- - select DIR in /bin /usr /etc\n",
    "In this, DIR is the variable that will be filled with the selected choice, and /bin /usr /etc are presented as numbered menu options\n",
    "- Notice the use of break in select, without it the script would run forever\n",
    "\n",
    "test - check file types and compare values \n",
    "- test EXPRESSION\n",
    "- test\n",
    "- [ EXPRESSION ]\n",
    "-n String: the length of STRING is nonzero"
   ]
  },
  {
   "cell_type": "markdown",
   "metadata": {},
   "source": [
    "menu"
   ]
  },
  {
   "cell_type": "code",
   "execution_count": null,
   "metadata": {},
   "outputs": [],
   "source": [
    "%%bash\n",
    "#! /bin/bash\n",
    "# demo script that shows making manus with select\n",
    "\n",
    "echo 'Select a directory: '\n",
    "select DIR in /bin /usr /etc\n",
    "do\n",
    "        # only continue if the user has selected something\n",
    "        if [ -n $DIR ]\n",
    "        then\n",
    "                DIR=$DIR\n",
    "                echo you have selected $DIR\n",
    "                export DIR\n",
    "                break\n",
    "        else\n",
    "                echo invalid choice\n",
    "        fi\n",
    "done"
   ]
  },
  {
   "cell_type": "markdown",
   "metadata": {},
   "source": [
    "admenu"
   ]
  },
  {
   "cell_type": "code",
   "execution_count": null,
   "metadata": {},
   "outputs": [],
   "source": [
    "#! /bin/bash\n",
    "echo 'select a task: '\n",
    "select TASK in 'Check mounts' 'Check disk space' 'Check Memory usage'\n",
    "do        case $REPLY in\n",
    "                1) TASK=mount;;                2) TASK=\"df -h\";;\n",
    "                3) TASK=\"free -m\";;\n",
    "                *) echo ERROR && exit 2;;\n",
    "        esac\n",
    "        if [ -n \"$TASK\" ]\n",
    "        then\n",
    "                clear\n",
    "                $TASK\n",
    "                break\n",
    "        else\n",
    "                echo INVALID CHOICE && exit 3\n",
    "        fi\n",
    "done"
   ]
  },
  {
   "cell_type": "markdown",
   "metadata": {},
   "source": [
    "# Bash Traps and Signals\n",
    "- Signals are software interrupts sent to a program to indicate than an important event has occurred\n",
    "- The events can vary from user requests to illegal memory access errors\n",
    "- Some signals, such as the interrupt siganl, indicate that a user has asked the progrm to do something athat is not in the usual flow of control\n",
    "\n",
    "## Types of Signals\n",
    "|Signal Name|Signal Number| Description|\n",
    "|---|---|---|\n",
    "|SIGHUP|1|Hang up detected on controlling terminal or death controlling process|\n",
    "|SIGINT|2|Issued if the user sends an interrupt signal Ctrl + C)|\n",
    "|SIGQUIT|3|Issued if the user sends a quit signal (Ctrl + D)|\n",
    "|SIGFPE|8|Issued if an illegal mathematical operation is attempted|\n",
    "|SIGKILL|9|If a process gets this signal it must quit immediately and will not perform any clean-up operations|\n",
    "|SIGALRM|14|Alarm clock signal (used for timers)|\n",
    "|SIGTERM|15|Software termination signal (sent by kill by default)|\n",
    "\n",
    "## Traps\n",
    "- traps: can be used to redefine signals\n",
    "- Useful to disallow Ctrl-C or other ways of killing a script\n",
    "- Consult `man 7 signal` for a list of available signals or `trap -l`"
   ]
  },
  {
   "cell_type": "markdown",
   "metadata": {},
   "source": [
    "## Exercise\n",
    "Create a user helpdesk. Write a menu script that is started automatically when this user logs in. The menu script should never terminate, unless the user logs out (which is a menu option as well). From this menu, make at least the following options available:\n",
    "\n",
    "1) Reset Password <br>\n",
    "2) Show disk usage <br>\n",
    "3) Ping a host <br>\n",
    "4) Log out\n",
    "\n",
    "Bonus question: modify this script and related configuration so that the user can use sudo to set passwords for other users as well"
   ]
  },
  {
   "cell_type": "markdown",
   "metadata": {},
   "source": [
    "## Solution\n",
    "newmenu"
   ]
  },
  {
   "cell_type": "code",
   "execution_count": null,
   "metadata": {},
   "outputs": [],
   "source": [
    "%%bash\n",
    "#! /bin/bash\n",
    "\n",
    "pinghost ()\n",
    "{\n",
    "    echo which host you wnat to ping?\n",
    "    read HOSTNAME\n",
    "    ping -c -1 $HOSTNAME\n",
    "}\n",
    "\n",
    "while true;\n",
    "do\n",
    "    # user cannot ctrl out ofthe script\n",
    "    trap \"echo NOPE\" INT\n",
    "    \n",
    "    echo'select an option?'\n",
    "    select TASK in 'Reset password' 'Show disk usage' 'Ping a host' 'Log out'\n",
    "    do\n",
    "        case $REPLY in\n",
    "            1) TASK=passwd;;\n",
    "            2) TASK=\"df -h\";;\n",
    "            3) TASK=pinghost;;\n",
    "            4) TASK=exit;;\n",
    "            *) echo ERROR && exit 2;;\n",
    "        esac\n",
    "        if [ -n \"$TASK\" ]\n",
    "        then\n",
    "            clear\n",
    "            $TASK\n",
    "            break\n",
    "        else\n",
    "            echo INVALID CHOICE && exit 3\n",
    "        fi\n",
    "    done\n",
    "done\n",
    "    "
   ]
  },
  {
   "cell_type": "markdown",
   "metadata": {},
   "source": [
    "# Debugging\n",
    "\n",
    "## Design Considerations\n",
    "- Write readable!\n",
    "- - Include white lines\n",
    "- - Include comments\n",
    "- - Be compact only if you need\n",
    "- Don't write for yourself, but write for the person whow works with this script \n",
    "- Develop for speed\n",
    "- Use exit to identify specific errors\n",
    "\n",
    "## Common Analyzing Tools\n",
    "- Use **bash** syntax highlighting available in editors\n",
    "- In vim use **:set list** to show hidden characters\n",
    "- In the scirpt code, insert **echo** or **read** at critical points\n",
    "- Use **bash -v** to show verbose output (including error messages)\n",
    "- Use **bash -n** to check for sentax errors\n",
    "- Use **bash -x** to show xtrace information\n",
    "- Use the **DEBUG** trap to show debugging information for everything between setting it on and off"
   ]
  },
  {
   "cell_type": "markdown",
   "metadata": {},
   "source": [
    "debug_trap_example"
   ]
  },
  {
   "cell_type": "code",
   "execution_count": 86,
   "metadata": {},
   "outputs": [
    {
     "name": "stdout",
     "output_type": "stream",
     "text": [
      "this line is OK\n",
      "the error is\n",
      "this line is also good\n"
     ]
    }
   ],
   "source": [
    "%%bash\n",
    "#! /bin/bash\n",
    "function erroneous\n",
    "{\n",
    "    echo the error is $error\n",
    "}\n",
    "\n",
    "trap DEBUG\n",
    "\n",
    "echo this line is OK\n",
    "erroneous\n",
    "\n",
    "trap - DEBUG\n",
    "\n",
    "echo this line is also good"
   ]
  },
  {
   "cell_type": "code",
   "execution_count": 87,
   "metadata": {},
   "outputs": [
    {
     "name": "stdout",
     "output_type": "stream",
     "text": [
      "this line is OK\n",
      "the error is\n",
      "this line is also good\n"
     ]
    }
   ],
   "source": [
    "! ./debug_trap_example"
   ]
  },
  {
   "cell_type": "markdown",
   "metadata": {},
   "source": [
    "## Monitoring CPU Usage\n",
    "cpuusage"
   ]
  },
  {
   "cell_type": "code",
   "execution_count": null,
   "metadata": {},
   "outputs": [],
   "source": [
    "%%bash\n",
    "#! /bin/bash                                                                                                             \n",
    "INTERVAL=$1                                                                                                              \n",
    "# user set interval which cpu monitoring happens                                                                         \n",
    "while sleep $INTERVAL                                                                                                    \n",
    "do                                                                                                                       \n",
    "        USAGE=`ps -eo pcpu,pid -o comm= | sort -k1 -n -r | head -1 | awk '{ print $1 }'`                                 \n",
    "        USAGE=${USAGE%.*}                                                                                                \n",
    "        PID=`ps -eo pcpu,pid -o comm= | sort -k1 -n -r | head -1 | awk '{ print $2 }'`                                  \n",
    "        PNAME=`ps -eo pcpu,pid -o comm= | sort -k1 -n -r | head -1 | awk '{ print $3 }'`\n",
    "        # the following code is to see if usage is greater than 80%\n",
    "        if [ $USAGE -gt 80 ]                                                                                             \n",
    "        then                                                                                                             \n",
    "                USAGE1=$USAGE                                                                                            \n",
    "                PID1=$PID                                                                                                \n",
    "                PNAME=$PNAME                                                                                             \n",
    "                sleep 7                                                                                                  \n",
    "                USAGE2=`ps -eo pcpu,pid -o comm= | sort -k1 -n -r | head -1 | awk '{ print $1 }'`                       \n",
    "                USAGE2=${USAGE2%.*}                                                                                      \n",
    "                PID2=`ps -eo pcpu,pid -o comm= | sort -k1 -n -r | head -1 | awk '{ print $2 }'`                         \n",
    "                PNAME2=`ps -eo pcpu,pid -o comm = | sort -k1 -n -r | head -1 | awk '{ print $3 }'`                       \n",
    "                [ $USAGE2 -gt 80 ] && [ $PID1 = $PID2 ] && \\                                                             \n",
    "                        mail -s \"CPU load of $PNAME is above 80%\" root.com < .                                      \n",
    "        fi                                                                                                               \n",
    "done              "
   ]
  },
  {
   "cell_type": "code",
   "execution_count": 24,
   "metadata": {},
   "outputs": [
    {
     "name": "stdout",
     "output_type": "stream",
     "text": [
      " 10.6   231 /System/Library/PrivateFrameworks/SkyLight.framework/Resources/WindowServer\n"
     ]
    }
   ],
   "source": [
    "! ps -eo pcpu,pid -o comm= | sort -k1 -n -r | head -1"
   ]
  },
  {
   "cell_type": "markdown",
   "metadata": {},
   "source": [
    "ps: report a snapshot of current processes<br>\n",
    "-e: report all processes, -o: format<br>\n",
    "sort: sort lines of files, -k1: sort option to sort by the first column, -n: numberic sort, -r: reverse<br>\n",
    "head -1: output the first part of files<br>\n",
    "pcpu: physical cpu"
   ]
  },
  {
   "cell_type": "code",
   "execution_count": 28,
   "metadata": {},
   "outputs": [
    {
     "name": "stdout",
     "output_type": "stream",
     "text": [
      "23.6\n"
     ]
    }
   ],
   "source": [
    "! ps -eo pcpu,pid -o comm= | sort -k1 -n -r | head -1 | awk '{ print $1 }'"
   ]
  },
  {
   "cell_type": "code",
   "execution_count": 30,
   "metadata": {},
   "outputs": [
    {
     "name": "stdout",
     "output_type": "stream",
     "text": [
      "231\n"
     ]
    }
   ],
   "source": [
    "! ps -eo pcpu,pid -o comm= | sort -k1 -n -r | head -1 | awk '{ print $2 }'"
   ]
  },
  {
   "cell_type": "code",
   "execution_count": 31,
   "metadata": {},
   "outputs": [
    {
     "name": "stdout",
     "output_type": "stream",
     "text": [
      "/System/Library/PrivateFrameworks/SkyLight.framework/Resources/WindowServer\n"
     ]
    }
   ],
   "source": [
    "! ps -eo pcpu,pid -o comm= | sort -k1 -n -r | head -1 | awk '{ print $3 }'"
   ]
  },
  {
   "cell_type": "markdown",
   "metadata": {},
   "source": [
    "awk '{ print $1 }': print the first part<br>\n",
    "awk '{ print $2 }': print the second part<br>\n",
    "awk '{ print $3 }': print the third part<br>"
   ]
  },
  {
   "cell_type": "code",
   "execution_count": 15,
   "metadata": {},
   "outputs": [
    {
     "name": "stdout",
     "output_type": "stream",
     "text": [
      "11\n"
     ]
    }
   ],
   "source": [
    "%%bash\n",
    "USAGE=`ps -eo pcpu,pid -o comm= | sort -k1 -n -r | head -1 | awk '{ print $1 }'`                                 \n",
    "echo ${USAGE%.*} "
   ]
  },
  {
   "cell_type": "markdown",
   "metadata": {},
   "source": [
    "${USAGE%.*}: strip the decimal places"
   ]
  },
  {
   "cell_type": "code",
   "execution_count": null,
   "metadata": {},
   "outputs": [],
   "source": [
    "! ./cpuusage 10"
   ]
  },
  {
   "cell_type": "markdown",
   "metadata": {},
   "source": [
    "Cleaner version of cpuusage"
   ]
  },
  {
   "cell_type": "code",
   "execution_count": null,
   "metadata": {},
   "outputs": [],
   "source": [
    "#! /bin/bash                                                                                                             \n",
    "INTERVAL=$1                                                                                                              \n",
    "# user set interval which cpu monitoring happens                               \n",
    "while sleep $INTERVAL \n",
    "do    \n",
    "        VALUE=$(ps -eo pcpu,pid -o comm= | sort -k1 -n -r | head -1)\n",
    "        USAGE1=$(echo $VALUE | awk '{ print $1 }')\n",
    "        USAGE1=${USAGE1%.*} \n",
    "        PID1=$(echo $VALUE | awk '{ print $2 }')                               \n",
    "        PNAME1=$(echo $VALUE | awk '{ print $3 }')\n",
    "        # the following code is to see if usage is greater than 80%\n",
    "        if [ $USAGE1 -gt 80 ]       \n",
    "        then  \n",
    "                sleep 7 \n",
    "                VALUE2=$(ps -eo pcpu,pid -o comm= | sort -k1 -n -r | head -1)\n",
    "                USAGE2=$(echo $VALUE2 | awk '{ print $1 }')\n",
    "                USAGE2=${USAGE2%.*}\n",
    "                PID2=$(echo $VALUE2 | awk '{ print $2 }')\n",
    "                PNAME2=$(echo $VALUE2 | awk '{ print $3 }')       \n",
    "                [ $USAGE2 -gt 80 ] && [ $PID1 = $PID2 ] && \\ \n",
    "                    mail -s \"CPU load of $PNAME2 is above 80%\" root < . \n",
    "        fi              \n",
    "done"
   ]
  },
  {
   "cell_type": "markdown",
   "metadata": {},
   "source": [
    "### Calculator"
   ]
  },
  {
   "cell_type": "code",
   "execution_count": null,
   "metadata": {},
   "outputs": [],
   "source": [
    "#! /bin/bash                                                                                                          \n",
    "                                                                                                                      \n",
    "logfile=\"$home/.fcalc-log\"                                                                                            \n",
    "                                                                                                                      \n",
    "date >> $logfile                                                                                                      \n",
    "while /bin/true; do                                                                                                   \n",
    "        if [ \"$(expr $RANDOM % 100)\" -lt \"70\" ]; then                                                                 \n",
    "                x=`expr $(expr $RANDOM % 4) + 6`                                                                      \n",
    "        else                                                                                                          \n",
    "                x=`expr $RANDOM % 5`                                                                                  \n",
    "        fi                                                                                                            \n",
    "        y=`expr $RANDOM % 10`                                                                                         \n",
    "                                                                                                                      \n",
    "        rep=`expr $y \\* $x`                                                                                           \n",
    "                                                                                                                      \n",
    "        urep=\"-1\"                                                                                                     \n",
    "                                                                                                                      \n",
    "        while [ \"$urep\" -ne \"$rep\" ]                                                                                  \n",
    "        do                                                                                                            \n",
    "                read -p \"$y * $x = ?:\" urep                                                                           \n",
    "                if [ \"$urep\" -ne \"$rep\" ]; then                                                                       \n",
    "                        echo \"$y * $x = ?: $rep: WRONG\" >> $logfile                                                   \n",
    "                else                                                                                                  \n",
    "                        echo \"$y * $x = ?: $rep: CORRECT\" >> $logfile                                                 \n",
    "                fi                                                                                                    \n",
    "        done                                                                                                          \n",
    "done "
   ]
  },
  {
   "cell_type": "code",
   "execution_count": 1,
   "metadata": {},
   "outputs": [
    {
     "name": "stdout",
     "output_type": "stream",
     "text": [
      "./calculator: line 5: /.fcalc-log: Permission denied\n",
      "./calculator: line 6: /bin/true: No such file or directory\n"
     ]
    }
   ],
   "source": [
    "! ./calculator"
   ]
  },
  {
   "cell_type": "markdown",
   "metadata": {},
   "source": [
    "## Sourcing functions"
   ]
  },
  {
   "cell_type": "code",
   "execution_count": null,
   "metadata": {},
   "outputs": [],
   "source": [
    "! . /etc/init.d/functions"
   ]
  },
  {
   "cell_type": "markdown",
   "metadata": {},
   "source": [
    "## Efficient if else scripts"
   ]
  },
  {
   "cell_type": "code",
   "execution_count": 2,
   "metadata": {},
   "outputs": [],
   "source": [
    "# if_else_fi\n",
    "#! /bin/bash\n",
    "\n",
    "if [ -z $1 ]\n",
    "then\n",
    "    echo no argument provided\n",
    "    exit 1\n",
    "elif [ ! -e $1 ]\n",
    "then\n",
    "    echo $1 does not exist\n",
    "    exit 2\n",
    "elif [ -d $1 ]\n",
    "then\n",
    "    echo $1 is a directory\n",
    "elif [ -x $1 ]\n",
    "then\n",
    "    echo $1 is not a directory and not a file\n",
    "elif [ -x $1 ]\n",
    "then\n",
    "    echo $1 is an executable file\n",
    "elif grep '#! /bin/bash' $1\n",
    "then \n",
    "    echo $1 is an non-executable bash script\n",
    "    chmod _x $1\n",
    "else\n",
    "    echo I don\\'t know what this is\n",
    "fid"
   ]
  },
  {
   "cell_type": "code",
   "execution_count": null,
   "metadata": {},
   "outputs": [],
   "source": [
    "# if_else_fi_efficient\n",
    "#! /bin/bash\n",
    "\n",
    "[ -z $1 ] && echo no argument provided && exit 1\n",
    "[ ! -e $1 ] && echo $1 does not exist && exit 2\n",
    "[ -d $1 ] && echo $1 is a directory && exit\n",
    "[ ! -f $1 ] && echo $1 is not a directory or file && exit\n",
    "[ -x $1 ] && echo $1 is executable && exit\n",
    "grep '#! /bin/bash' $1 && echo $1 is a non-executable shell script && chmod +x $1 && exit\n",
    "echo I don\\'t know what this is"
   ]
  },
  {
   "cell_type": "markdown",
   "metadata": {},
   "source": [
    "# Pattern Matching\n",
    "*ba means `ba` preceeding by something<br>\n",
    "\\#\\# means we are looking for the last occurance from left to right<br>\n",
    "\\# means we are looking at the first occurance starting from left to right\n",
    "\n",
    "ba* means `ba` followed by something<br>\n",
    "%% means we are looking at the last occurance from right to left<br>\n",
    "% means we are looking at the first occurance from right to left"
   ]
  },
  {
   "cell_type": "code",
   "execution_count": 12,
   "metadata": {},
   "outputs": [
    {
     "name": "stdout",
     "output_type": "stream",
     "text": [
      "BLAH is rabababarabarabarara\n",
      " the result of ##*ba is rara\n",
      " the result of #*ba is babarabarabarara\n",
      " the result of %%ba* is ra\n",
      " the result of %ba* is rabababarabara\n"
     ]
    }
   ],
   "source": [
    "%%bash\n",
    "\n",
    "BLAH=rabababarabarabarara\n",
    "\n",
    "echo BLAH is $BLAH\n",
    "echo ' the result of ##*ba is' ${BLAH##*ba}\n",
    "echo ' the result of #*ba is' ${BLAH#*ba} \n",
    "echo ' the result of %%ba* is' ${BLAH%%ba*}\n",
    "echo ' the result of %ba* is' ${BLAH%ba*}"
   ]
  },
  {
   "cell_type": "markdown",
   "metadata": {},
   "source": [
    "# Using Command Substitution\n",
    "- cd /lib/modules/\\`uname -r\\`\n",
    "- cd /lib/modules/\\$(uname -r)"
   ]
  },
  {
   "cell_type": "markdown",
   "metadata": {},
   "source": [
    "# Arguments and Variables"
   ]
  },
  {
   "cell_type": "code",
   "execution_count": null,
   "metadata": {},
   "outputs": [],
   "source": [
    "#! /bin/bash\n",
    "#\n",
    "# ask if no arguments are provided\n",
    "# if test -z $1; then\n",
    "if [ -z $1 ]; then\n",
    "    echo please provide an argument\n",
    "    read ARG\n",
    "else\n",
    "    ARG=$1\n",
    "fi\n",
    "\n",
    "echo your argument was $ARG"
   ]
  },
  {
   "cell_type": "markdown",
   "metadata": {},
   "source": [
    "# Command Line Arguments\n",
    "- \\$*: includes all the arguments not including the name of the function call, not separated by delimiter \" \"\n",
    "- \\$#: count of number of arguments separated by delimiter \" \"\n",
    "- \\$@: includes all the arguments not including the name of the function call, as a list separated by delimiter \" \"\n",
    "- \\$0: name of the calling function"
   ]
  },
  {
   "cell_type": "code",
   "execution_count": null,
   "metadata": {},
   "outputs": [],
   "source": [
    "# for_arg\n",
    "#! /bin/bash\n",
    "#\n",
    "# Script that allows you to greet someone\n",
    "# Usage:  /.hello [name]\n",
    "\n",
    "echo \"Hello $1, how are you doing today\"\n",
    "echo \"\\$* gives $*\"\n",
    "echo \"\\$# gives $#\"\n",
    "echo \"\\$@ gives $@\"\n",
    "echo \"\\$0 is $0\"\n",
    "\n",
    "# trying to show every single argument on a separated line\n",
    "echo showing the interpretation of \\$*\n",
    "for i in \"$*\"\n",
    "do\n",
    "    echo $i\n",
    "done\n",
    "\n",
    "echo showing the interpretation of \\$@\n",
    "for i in \"$@\"\n",
    "do\n",
    "    echo $i\n",
    "done\n",
    "exit 0"
   ]
  },
  {
   "cell_type": "code",
   "execution_count": 17,
   "metadata": {},
   "outputs": [
    {
     "name": "stdout",
     "output_type": "stream",
     "text": [
      "Hello hi, how are you doing today\n",
      "$* gives hi hello how are you doing today and what do your see\n",
      "$# gives 12\n",
      "$@ gives hi hello how are you doing today and what do your see\n",
      "$0 is ./for_arg\n",
      "showing the interpretation of $*\n",
      "hi hello how are you doing today and what do your see\n",
      "showing the interpretation of $@\n",
      "hi\n",
      "hello\n",
      "how\n",
      "are\n",
      "you\n",
      "doing\n",
      "today\n",
      "and\n",
      "what\n",
      "do\n",
      "your\n",
      "see\n"
     ]
    }
   ],
   "source": [
    "! ./for_arg hi hello how are you doing today and what do your see"
   ]
  },
  {
   "cell_type": "markdown",
   "metadata": {},
   "source": [
    "## Declaring Variables\n",
    "Declaring Variables is not requiredm but can be useful if you need to make sure that a specific type of input is provided\n",
    "- **declare -r var=1** (readonly)\n",
    "- **declare -i var=1** (number)\n",
    "- **declare -a var** (array)\n",
    "- **declare -f function_name** (function)\n",
    "- **declare -x var=1** (export export to subshell)"
   ]
  },
  {
   "cell_type": "markdown",
   "metadata": {},
   "source": [
    "# Using Arrays\n",
    "Arrays are multi-value variables to which individual variables can be referred\n",
    "- Set using index values: **arr[0]=Hello; arr[1]=World**\n",
    "- Refer to using index values and curly braces **echo \\\\${arr[0]} \\\\${arr[1]}**\n",
    "- - **\\\\${arr[*]}** refers to all the values in the array\n",
    "- - **\\\\${!arr[*]}** shows all index values currently in use\n",
    "- - **\\\\${#arr[*]}** shows how many items there are in the array"
   ]
  },
  {
   "cell_type": "code",
   "execution_count": null,
   "metadata": {},
   "outputs": [],
   "source": [
    "%%bash\n",
    "# array_primer\n",
    "#! /bin/bash\n",
    "\n",
    "array=(one two three four [5]=five)\n",
    "\n",
    "echo \"Array size: ${#array[*]}\"\n",
    "\n",
    "echo \"Array items:\"\n",
    "for item in ${array[*]}\n",
    "do\n",
    "    printf \"   %s\\n\" $item\n",
    "done\n",
    "\n",
    "echo \"Array indexes:\"\n",
    "for index in ${!array[*]}\n",
    "do\n",
    "    printf \"   %d\\n\" $index\n",
    "done\n",
    "\n",
    "echo \"Array items and indexes:\"\n",
    "for index in ${!array[*]}\n",
    "do\n",
    "    printf \"%4d: %s\\n\" $index ${array[$index]}\n",
    "done"
   ]
  },
  {
   "cell_type": "code",
   "execution_count": 19,
   "metadata": {},
   "outputs": [
    {
     "name": "stdout",
     "output_type": "stream",
     "text": [
      "Array size: 5\n",
      "Array items:\n",
      "   one\n",
      "   two\n",
      "   three\n",
      "   four\n",
      "   five\n",
      "Array indexes:\n",
      "   0\n",
      "   1\n",
      "   2\n",
      "   3\n",
      "   5\n",
      "Array items and indexes:\n",
      "   0: one\n",
      "   1: two\n",
      "   2: three\n",
      "   3: four\n",
      "   5: five\n"
     ]
    }
   ],
   "source": [
    "! ./array_primer"
   ]
  },
  {
   "cell_type": "markdown",
   "metadata": {},
   "source": [
    "## Exercise\n",
    "Write a script with the name servicemon. This script should monitor the availability of a service, of which the name has to be sepeecied as a boot argument for the script. The script would run indefinitely, and if the service that it monitors stops, it should do three things:\n",
    "- Restart the service\n",
    "- Write a message to syslog\n",
    "- Send an email message to the root user"
   ]
  },
  {
   "cell_type": "code",
   "execution_count": null,
   "metadata": {},
   "outputs": [],
   "source": [
    "## servicemon Solution\n",
    "#! /bin/bash\n",
    "# script that monnitors availability of a service\n",
    "#\n",
    "##### exit code documentation\n",
    "# 3: no argument provided\n",
    "# 4: something else\n",
    "#####\n",
    "\n",
    "# make sure that service name is provided as an argument\n",
    "if [ -z $1 ]; then\n",
    "    echo you need to provide a service name when starting this script\n",
    "    exit 3\n",
    "else\n",
    "    SERVICE=$1\n",
    "fi\n",
    "\n",
    "# run without stopping to do the monitoring tasks\n",
    "# verify that $SERVICE is running\n",
    "if ps aux | grep $SERVICE | grep -v grep | grep -v servicemon\n",
    "then\n",
    "    echo all good\n",
    "else\n",
    "    echo \\$SERVICE could not be find as a service\n",
    "    echo Make sure that \\$SERVICE is running and try again\n",
    "    echo 'The command ps aux | grep $SERVICE should show service up and running'\n",
    "    exit $4\n",
    "fi    \n",
    "\n",
    "# monitor $SERVICE\n",
    "while ps aux | grep $SERVICE | grep -v grep | grep -v servicemon\n",
    "do \n",
    "    sleep 10\n",
    "done\n",
    "\n",
    "# actions if services is failing\n",
    "# assume that the service processname can be #started with the service command\n",
    "service $SERVICE start\n",
    "logger servicemon: $SERVICE restarted\n",
    "mail -s \"servicemon: $SERVICE restarted at $(date +%d-%m-%Y %H:%M)\" root < ."
   ]
  },
  {
   "cell_type": "markdown",
   "metadata": {},
   "source": [
    "# Include Files\n",
    "Include files can be used to\n",
    "- Separate dynamic code from static code:\n",
    "- Make scripts more portable\n",
    "- Include with *source* or the *.* command\n",
    "\n",
    "include files never starts with shebang"
   ]
  },
  {
   "cell_type": "markdown",
   "metadata": {},
   "source": [
    "## Internal vs. External commands\n",
    "internal command: something that is loaded to the bash shell itself<br>\n",
    "external command is a command living as a file on the hard disc ofthe system that is running\n",
    "\n",
    "It is more efficient to use internal commands in your bare scripts because internal commands are already available in memory\n",
    "\n",
    "- To recognize the type of command, use the **type** command\n",
    "- If you need an external command, use specific path to find it\n",
    "\n",
    "**help** will give you list of internal commands in the system"
   ]
  },
  {
   "cell_type": "code",
   "execution_count": 20,
   "metadata": {},
   "outputs": [
    {
     "name": "stdout",
     "output_type": "stream",
     "text": [
      "GNU bash, version 3.2.57(1)-release (x86_64-apple-darwin18)\n",
      "These shell commands are defined internally.  Type `help' to see this list.\n",
      "Type `help name' to find out more about the function `name'.\n",
      "Use `info bash' to find out more about the shell in general.\n",
      "Use `man -k' or `info' to find out more about commands not in this list.\n",
      "\n",
      "A star (*) next to a name means that the command is disabled.\n",
      "\n",
      " JOB_SPEC [&]                       (( expression ))\n",
      " . filename [arguments]             :\n",
      " [ arg... ]                         [[ expression ]]\n",
      " alias [-p] [name[=value] ... ]     bg [job_spec ...]\n",
      " bind [-lpvsPVS] [-m keymap] [-f fi break [n]\n",
      " builtin [shell-builtin [arg ...]]  caller [EXPR]\n",
      " case WORD in [PATTERN [| PATTERN]. cd [-L|-P] [dir]\n",
      " command [-pVv] command [arg ...]   compgen [-abcdefgjksuv] [-o option\n",
      " complete [-abcdefgjksuv] [-pr] [-o continue [n]\n",
      " declare [-afFirtx] [-p] [name[=val dirs [-clpv] [+N] [-N]\n",
      " disown [-h] [-ar] [jobspec ...]    echo [-neE] [arg ...]\n",
      " enable [-pnds] [-a] [-f filename]  eval [arg ...]\n",
      " exec [-cl] [-a name] file [redirec exit [n]\n",
      " export [-nf] [name[=value] ...] or false\n",
      " fc [-e ename] [-nlr] [first] [last fg [job_spec]\n",
      " for NAME [in WORDS ... ;] do COMMA for (( exp1; exp2; exp3 )); do COM\n",
      " function NAME { COMMANDS ; } or NA getopts optstring name [arg]\n",
      " hash [-lr] [-p pathname] [-dt] [na help [-s] [pattern ...]\n",
      " history [-c] [-d offset] [n] or hi if COMMANDS; then COMMANDS; [ elif\n",
      " jobs [-lnprs] [jobspec ...] or job kill [-s sigspec | -n signum | -si\n",
      " let arg [arg ...]                  local name[=value] ...\n",
      " logout                             popd [+N | -N] [-n]\n",
      " printf [-v var] format [arguments] pushd [dir | +N | -N] [-n]\n",
      " pwd [-LP]                          read [-ers] [-u fd] [-t timeout] [\n",
      " readonly [-af] [name[=value] ...]  return [n]\n",
      " select NAME [in WORDS ... ;] do CO set [--abefhkmnptuvxBCHP] [-o opti\n",
      " shift [n]                          shopt [-pqsu] [-o long-option] opt\n",
      " source filename [arguments]        suspend [-f]\n",
      " test [expr]                        time [-p] PIPELINE\n",
      " times                              trap [-lp] [arg signal_spec ...]\n",
      " true                               type [-afptP] name [name ...]\n",
      " typeset [-afFirtx] [-p] name[=valu ulimit [-SHacdfilmnpqstuvx] [limit\n",
      " umask [-p] [-S] [mode]             unalias [-a] name [name ...]\n",
      " unset [-f] [-v] [name ...]         until COMMANDS; do COMMANDS; done\n",
      " variables - Some variable names an wait [n]\n",
      " while COMMANDS; do COMMANDS; done  { COMMANDS ; }\n"
     ]
    }
   ],
   "source": [
    "!help"
   ]
  },
  {
   "cell_type": "code",
   "execution_count": 21,
   "metadata": {},
   "outputs": [
    {
     "name": "stdout",
     "output_type": "stream",
     "text": [
      "ls is /bin/ls\n"
     ]
    }
   ],
   "source": [
    "!type ls"
   ]
  },
  {
   "cell_type": "code",
   "execution_count": 23,
   "metadata": {},
   "outputs": [
    {
     "name": "stdout",
     "output_type": "stream",
     "text": [
      "cd is a shell builtin\n"
     ]
    }
   ],
   "source": [
    "!type cd"
   ]
  },
  {
   "cell_type": "code",
   "execution_count": 24,
   "metadata": {},
   "outputs": [
    {
     "name": "stdout",
     "output_type": "stream",
     "text": [
      "time is a shell keyword\n"
     ]
    }
   ],
   "source": [
    "!type time"
   ]
  },
  {
   "cell_type": "code",
   "execution_count": 25,
   "metadata": {},
   "outputs": [
    {
     "name": "stdout",
     "output_type": "stream",
     "text": [
      "\u001b[31madmenu\u001b[m\u001b[m                    \u001b[31mdebug_trap_example\u001b[m\u001b[m        log\n",
      "\u001b[31marg_or_read\u001b[m\u001b[m               \u001b[31merror_script\u001b[m\u001b[m              \u001b[31mmath\u001b[m\u001b[m\n",
      "\u001b[31marray_primer\u001b[m\u001b[m              extractuser.sh            \u001b[31mmenu\u001b[m\u001b[m\n",
      "bash.ipynb                \u001b[31mfor_arg\u001b[m\u001b[m                   newmenu\n",
      "\u001b[31mcalculator\u001b[m\u001b[m                \u001b[31mif_then_fi\u001b[m\u001b[m                \u001b[31mservicemon\u001b[m\u001b[m\n",
      "\u001b[31mcountdown\u001b[m\u001b[m                 \u001b[31mif_then_fi_efficient\u001b[m\u001b[m      simple_process_monitoring\n",
      "\u001b[31mcpuusage\u001b[m\u001b[m                  ldapusers\n",
      "\n",
      "real\t0m0.007s\n",
      "user\t0m0.001s\n",
      "sys\t0m0.004s\n"
     ]
    }
   ],
   "source": [
    "! time ls"
   ]
  },
  {
   "cell_type": "code",
   "execution_count": 26,
   "metadata": {},
   "outputs": [
    {
     "name": "stdout",
     "output_type": "stream",
     "text": [
      "/usr/bin/time\n"
     ]
    }
   ],
   "source": [
    "! which time"
   ]
  },
  {
   "cell_type": "code",
   "execution_count": 27,
   "metadata": {},
   "outputs": [
    {
     "name": "stdout",
     "output_type": "stream",
     "text": [
      "\u001b[31madmenu\u001b[m\u001b[m                    \u001b[31mdebug_trap_example\u001b[m\u001b[m        log\n",
      "\u001b[31marg_or_read\u001b[m\u001b[m               \u001b[31merror_script\u001b[m\u001b[m              \u001b[31mmath\u001b[m\u001b[m\n",
      "\u001b[31marray_primer\u001b[m\u001b[m              extractuser.sh            \u001b[31mmenu\u001b[m\u001b[m\n",
      "bash.ipynb                \u001b[31mfor_arg\u001b[m\u001b[m                   newmenu\n",
      "\u001b[31mcalculator\u001b[m\u001b[m                \u001b[31mif_then_fi\u001b[m\u001b[m                \u001b[31mservicemon\u001b[m\u001b[m\n",
      "\u001b[31mcountdown\u001b[m\u001b[m                 \u001b[31mif_then_fi_efficient\u001b[m\u001b[m      simple_process_monitoring\n",
      "\u001b[31mcpuusage\u001b[m\u001b[m                  ldapusers\n",
      "        0.00 real         0.00 user         0.00 sys\n"
     ]
    }
   ],
   "source": [
    "! /usr/bin/time ls"
   ]
  },
  {
   "cell_type": "markdown",
   "metadata": {},
   "source": [
    "# Marking Shell more Secure\n",
    "Using rbash\n",
    "- Start with bash -r\n",
    "- For in /etc/passwd, create a symbolic link\n",
    "- - **ln -s /bin/bash /bin/rbash**\n",
    "- rbash Features\n",
    "- - No **cd** to root\n",
    "- - No modifications of ENV and PATH\n",
    "- - No functions\n",
    "- - No output redirection"
   ]
  },
  {
   "cell_type": "code",
   "execution_count": null,
   "metadata": {},
   "outputs": [],
   "source": [
    "# code injections (2 problems)\n",
    "read FOO\n",
    "read BAR\n",
    "if [ x$FOO = xfoo ]; then\n",
    "    echo $FOO\n",
    "    eval $BAR\n",
    "fi"
   ]
  },
  {
   "cell_type": "markdown",
   "metadata": {},
   "source": [
    "- Enter \"foo = xfoo -o x\" as the value for FOO\n",
    "- Avoid by using quotes: if [ \"x$FOO\" = \"xfoo\" ] then\n",
    "- Never use **eval** on user input because it allows user to open subshell\n",
    "\n",
    "## Security Tips\n",
    "- Design before you write the script\n",
    "- Always quote user input\n",
    "- Nevel use **eval**\n",
    "- Make sure to protect the \\$PATH variable\n",
    "- Use full command names\n",
    "- Don't worry about SUID, it's disabled for shell scripts"
   ]
  },
  {
   "cell_type": "markdown",
   "metadata": {},
   "source": [
    "## Analyzing cd Scripts"
   ]
  },
  {
   "cell_type": "code",
   "execution_count": 28,
   "metadata": {},
   "outputs": [],
   "source": [
    "# there are problems with this cd\n",
    "# script\n",
    "#! /bin/bash\n",
    "# Ask a sue what directory he/she wants to activate and next show a list\n",
    "# of iles in that directory\n",
    "\n",
    "echo What Directory do you want to activate?\n",
    "read DIR\n",
    "cd $DIR\n",
    "\n",
    "for i in *\n",
    "do\n",
    "    echo found file $i\n",
    "    echo Do you want to see it?\n",
    "    read\n",
    "    cat $i\n",
    "done"
   ]
  },
  {
   "cell_type": "markdown",
   "metadata": {},
   "source": [
    "Problems\n",
    "- This script really has a lot to improve\n",
    "- Test if $DIR exists\n",
    "- Implements yes/no functionality on the question in the loop\n",
    "- Check if the file in \\$i is non-text and if that is the case, tell user we can't open it"
   ]
  },
  {
   "cell_type": "code",
   "execution_count": null,
   "metadata": {},
   "outputs": [],
   "source": []
  }
 ],
 "metadata": {
  "kernelspec": {
   "display_name": "Python 3",
   "language": "python",
   "name": "python3"
  },
  "language_info": {
   "codemirror_mode": {
    "name": "ipython",
    "version": 3
   },
   "file_extension": ".py",
   "mimetype": "text/x-python",
   "name": "python",
   "nbconvert_exporter": "python",
   "pygments_lexer": "ipython3",
   "version": "3.7.3"
  }
 },
 "nbformat": 4,
 "nbformat_minor": 2
}
