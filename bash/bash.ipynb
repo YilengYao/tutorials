{
 "cells": [
  {
   "cell_type": "markdown",
   "metadata": {},
   "source": [
    "String Templating"
   ]
  },
  {
   "cell_type": "code",
   "execution_count": null,
   "metadata": {},
   "outputs": [],
   "source": [
    "%%bash\n",
    "for i in {1..5}; \n",
    "do \n",
    "    mkdir \"module-${i}\"; \n",
    "done;"
   ]
  },
  {
   "cell_type": "code",
   "execution_count": null,
   "metadata": {},
   "outputs": [],
   "source": [
    "%%bash\n",
    "for i in {1..5}\n",
    "do\n",
    "    rmdir \"module-${i}\";\n",
    "done;"
   ]
  },
  {
   "cell_type": "markdown",
   "metadata": {},
   "source": [
    "-/bin/sh is the default shell since the very first days of UNIX\n",
    "- Many alternative shells have been developed and are still available and used\n",
    "- /bin/bash is the most common shell in Linux and other Unices\n",
    "Large parts of the operating system and its applications are written in bash\n",
    "- Look for instance in /etc/init.d, /etc/profile and many more\n",
    "\n",
    "<b>What is a Script</b>\n",
    "\n",
    "A script is a simple program that doesn’t have to be compiled\n",
    "A script can be a mare list of commands that are executed sequentially\n",
    "Or more clever things can be accomplished, using smart elements like:\n",
    "- variables\n",
    "- conditional structures\n",
    "- user input processing"
   ]
  },
  {
   "cell_type": "markdown",
   "metadata": {},
   "source": [
    "The “shebang”; `#!/bin/bash`\n",
    "- # is NOT a comment sign in this case\n",
    "An `exit` statement if you don’t want to use the exit status of the last command in the script\n",
    "\n",
    "*Storing and Running the Script*\n",
    "- On linux the current directory is not in the $PATH variable\n",
    "- Consider storing the script in a directory that is in $PATH, such as /usr/local/bin or $USER/bin\n",
    "- or ru the script using ./myscript\n",
    "- notice that running a script without ./ in front may lead to unexpected results\n",
    "- in order to run the script, it musthave thte Execuete permdission applied `chmod +x myscript`\n",
    "- If the script is started as an argument to the bash shell, it doens’t need the execute permission itself `bash myscript`\n",
    "\n",
    "*Bash Internal and external Commands*\n",
    "An internal command is a part of the Bash shell\n",
    "- It does not have to be loaded from disk and therefore faster\n",
    "- User help to get a list of internal command\n",
    "An external command is a command that is loaded from and executable file on disk\n",
    "External commands normally are slower\n",
    "\n",
    "use type to see if it is an external/internal command\n",
    "`type <command>`\n",
    "\n",
    "*Help resources*\n",
    "`man bash`\n",
    "`help <command>`\n",
    "https://www.tldp.org/LDP/abs/html/\n"
   ]
  },
  {
   "cell_type": "markdown",
   "metadata": {},
   "source": [
    "*for statements*\n",
    "for statements are useful to evaluate a range or series\n",
    "```\n",
    "for i in something\n",
    "do\n",
    "   command 1\n",
    "   command 2\n",
    "done\n",
    "```"
   ]
  },
  {
   "cell_type": "code",
   "execution_count": null,
   "metadata": {},
   "outputs": [],
   "source": [
    "%%bash\n",
    "for i in `cat  /etc/hosts`;\n",
    "   do echo $i;\n",
    "done"
   ]
  },
  {
   "cell_type": "code",
   "execution_count": null,
   "metadata": {},
   "outputs": [],
   "source": [
    "%%bash\n",
    "for i in {1..5};                                                                                                                                                        \n",
    "        do echo $i;                                                                                                                                                     \n",
    "done  "
   ]
  },
  {
   "cell_type": "markdown",
   "metadata": {},
   "source": [
    "It is common to use the variable i in a for loop, but any other variable can be used instead"
   ]
  },
  {
   "cell_type": "code",
   "execution_count": null,
   "metadata": {},
   "outputs": [],
   "source": [
    "%%bash\n",
    "#!/bin/bash\n",
    "# script that counts files\n",
    "echo which director do you want to count?\n",
    "read DIR\n",
    "cd $DIR\n",
    "COUNTER=0\n",
    "\n",
    "for i in *;\n",
    "do\n",
    "   COUNTER=$((COUNTER + 1));\n",
    "   echo I have counted $COUNTER files in this directory;\n",
    "done"
   ]
  },
  {
   "cell_type": "markdown",
   "metadata": {},
   "source": [
    "*Case Statements*\n",
    "```\n",
    "#!/bin/bash\n",
    "\n",
    "VAR=$1\n",
    "\n",
    "case $VAR in\n",
    "yes)\n",
    "   echo ok;;\n",
    "no|nee)\n",
    "   echo too bad;;\n",
    "*)\n",
    "   echo try again;;\n",
    "esac\n",
    "```"
   ]
  },
  {
   "cell_type": "markdown",
   "metadata": {},
   "source": [
    "## Exercise\n",
    "- A customer has exported a long list of LDAP user names. These user names are stored in the file ldapusers. In this file, every user has a name in the format cn=lisa, dc=example, dc=com. Write a script that extracts the username only (lisa) from all of these lines and write to a new file. Based on this new file, create a local user account on your Linux box. \n",
    "- Note: while testing it's not a really smart idea to create the user accounts directly. Find a solution that proves the script works withoug polluting your system with many usernames."
   ]
  },
  {
   "cell_type": "markdown",
   "metadata": {},
   "source": [
    "##Solution\n",
    "# pattern matching\n",
    "\n",
    "${string#*,} # remove prefix ending with ,\n",
    "\n",
    "${string%,*} # remove suffix starting with ,\n",
    "\n",
    "${string%%,*} # extract the first term, separated by ,\n",
    "\n",
    "extractuser.sh"
   ]
  },
  {
   "cell_type": "code",
   "execution_count": null,
   "metadata": {},
   "outputs": [],
   "source": [
    "%%bash\n",
    "#!/bin/bash\n",
    "\n",
    "while read i;\n",
    "do\n",
    "    users=${i%%,*}\n",
    "    echo ${users#*=} >> user\n",
    "done < ./ldapusers\n",
    "\n",
    "while read i;\n",
    "do\n",
    "    # don't want to pollute the environment\n",
    "    echo useradd $i\n",
    "done < ./user\n",
    "\n",
    "exit 0"
   ]
  },
  {
   "cell_type": "markdown",
   "metadata": {},
   "source": [
    "## Options\n",
    "`getopts` is a built-in function to parse command line argtuments in your script\n",
    "\n",
    "getopts take in 3 parameters\n",
    "<ol>\n",
    "    <li>First is a sequence of valid options. Ex. '123' which specifies the valid options [-1], [-2], [-3]</li>\n",
    "    <li>Second is the <b>getopts</b> variable that will be populated with the option or grgument to be processed next. <b>opt</b></li>\n",
    "    <li>Third argument to <b>getopts</b> is the list of arguments and options to be processed. When not provided, this defaults to the arguments and options provided to the applications '$\\@'. You can provided this third argument to use getopts to parse any list of arguments and options you provide.</li>   \n",
    "</ol>"
   ]
  },
  {
   "cell_type": "markdown",
   "metadata": {},
   "source": [
    "### Shifting processed options\n",
    "The variable <b>OPTIND</b> holds the number of options parsed by the last call called <b>getopts</b>. It is common practice to call the <b>shift</b> command at the end of your processing loop to remove options that have already handled from <b>$@</b>\n",
    "\n",
    "shift $((OPTIND -1))"
   ]
  },
  {
   "cell_type": "code",
   "execution_count": null,
   "metadata": {},
   "outputs": [],
   "source": [
    "%%bash\n",
    "#/bin/bash\n",
    "\n",
    "while getops \"12\": opt\n",
    "do\n",
    "case $opt in\n",
    "    1 ) VAR1='a';;\n",
    "    2 ) VAR2='b';;\n",
    "    * ) echo 'usage: [-1] [-2]'\n",
    "esac\n",
    "done\n",
    "\n",
    "echo the current arguments are set to $*\n",
    "shift $((OPTIND -1))\n",
    "echo now the current argument are set to $*\n",
    "exit0"
   ]
  },
  {
   "cell_type": "markdown",
   "metadata": {},
   "source": [
    "# Using Functions\n",
    "- Functions must be defined before then can be used\n",
    "- It is good practice to define all functions at the beginning of a script\n",
    "\n",
    "<p>\n",
    "<code>\n",
    "function somefunction    \n",
    "{\n",
    "    statements\n",
    "}\n",
    "</code>\n",
    "</p>\n",
    "\n",
    "<p>\n",
    "<code>\n",
    "help ()\n",
    "{\n",
    "    statements\n",
    "}\n",
    "</code>\n",
    "</p>"
   ]
  },
  {
   "cell_type": "markdown",
   "metadata": {},
   "source": [
    "# Array\n",
    "## Declaring an Array and Assigning values\n",
    "In bash, array is created automatically when a variable is used in the format like, <br>\n",
    "<code>name[index]=value</code>\n",
    "<br>\n",
    "- name is any name for an array\n",
    "- index could be any number or expression that must evaluate a number greater than or equal to zero. You can declare an explicit array using declare -a arrayname"
   ]
  },
  {
   "cell_type": "code",
   "execution_count": 37,
   "metadata": {},
   "outputs": [
    {
     "name": "stdout",
     "output_type": "stream",
     "text": [
      "Debian Redhat Ubuntu Suse\n",
      "Ubuntu\n"
     ]
    }
   ],
   "source": [
    "%%bash\n",
    "#! /bin/bash\n",
    "Unix[0]='Debian'\n",
    "Unix[1]='Redhat'\n",
    "Unix[2]='Ubuntu'\n",
    "Unix[3]='Suse'\n",
    "\n",
    "echo ${Unix[*]}\n",
    "echo ${Unix[2]}"
   ]
  },
  {
   "cell_type": "markdown",
   "metadata": {},
   "source": [
    "## Initializing an array during declaration\n",
    "Instead of initializing each element of an array separately, you can declare and initialize an array by specifying the list of elements (separated by white space) with in a pair of curly braces.\n",
    "\n",
    "<code>declare -a arrayname=(element1 element2 element3)</code>"
   ]
  },
  {
   "cell_type": "code",
   "execution_count": 39,
   "metadata": {},
   "outputs": [
    {
     "name": "stdout",
     "output_type": "stream",
     "text": [
      "Debian Redhat Suse Fedora\n"
     ]
    }
   ],
   "source": [
    "%%bash\n",
    "declare -a unix=('Debian' 'Redhat' 'Suse' 'Fedora')\n",
    "echo ${unix[*]}"
   ]
  },
  {
   "cell_type": "markdown",
   "metadata": {},
   "source": [
    "length of array"
   ]
  },
  {
   "cell_type": "code",
   "execution_count": 43,
   "metadata": {},
   "outputs": [
    {
     "name": "stdout",
     "output_type": "stream",
     "text": [
      "4\n",
      "6\n"
     ]
    }
   ],
   "source": [
    "%%bash\n",
    "declare -a unix=('Debian' 'Redhat' 'Suse' 'Fedora')\n",
    "\n",
    "echo ${#unix[@]} # Number of elements in the array\n",
    "echo ${#unix[3]} # Number of elements of the 4th alement in the array"
   ]
  },
  {
   "cell_type": "markdown",
   "metadata": {},
   "source": [
    "Slicing array"
   ]
  },
  {
   "cell_type": "code",
   "execution_count": 44,
   "metadata": {},
   "outputs": [
    {
     "name": "stdout",
     "output_type": "stream",
     "text": [
      "Suse Fedora\n"
     ]
    }
   ],
   "source": [
    "%%bash\n",
    "Unix=('Debian' 'Red hat' 'Ubuntu' 'Suse' 'Fedora' 'UTS' 'OpenLinux');\n",
    "echo ${Unix[@]:3:2}"
   ]
  },
  {
   "cell_type": "markdown",
   "metadata": {},
   "source": [
    "Search and Replace array elements"
   ]
  },
  {
   "cell_type": "code",
   "execution_count": 45,
   "metadata": {},
   "outputs": [
    {
     "name": "stdout",
     "output_type": "stream",
     "text": [
      "Debian Red hat SCO Unix Suse Fedora UTS OpenLinux\n"
     ]
    }
   ],
   "source": [
    "%%bash\n",
    "Unix=('Debian' 'Red hat' 'Ubuntu' 'Suse' 'Fedora' 'UTS' 'OpenLinux');\n",
    "\n",
    "echo ${Unix[@]/Ubuntu/SCO Unix}\n"
   ]
  },
  {
   "cell_type": "markdown",
   "metadata": {},
   "source": [
    "Append elements to an array"
   ]
  },
  {
   "cell_type": "code",
   "execution_count": 46,
   "metadata": {},
   "outputs": [
    {
     "name": "stdout",
     "output_type": "stream",
     "text": [
      "Debian Red hat Ubuntu Suse Fedora UTS OpenLinux AIX HP-UX\n"
     ]
    }
   ],
   "source": [
    "%%bash\n",
    "Unix=('Debian' 'Red hat' 'Ubuntu' 'Suse' 'Fedora' 'UTS' 'OpenLinux');\n",
    "Unix=(\"${Unix[@]}\" \"AIX\" \"HP-UX\")\n",
    "echo ${Unix[*]}"
   ]
  },
  {
   "cell_type": "markdown",
   "metadata": {},
   "source": [
    "Remove elements from an array"
   ]
  },
  {
   "cell_type": "code",
   "execution_count": 47,
   "metadata": {},
   "outputs": [
    {
     "name": "stdout",
     "output_type": "stream",
     "text": [
      "Debian Red hat Ubuntu Fedora UTS OpenLinux\n"
     ]
    }
   ],
   "source": [
    "%%bash\n",
    "Unix=('Debian' 'Red hat' 'Ubuntu' 'Suse' 'Fedora' 'UTS' 'OpenLinux');\n",
    "\n",
    "unset Unix[3]\n",
    "echo ${Unix[*]}"
   ]
  },
  {
   "cell_type": "markdown",
   "metadata": {},
   "source": [
    "# Creating Menu Interfaces\n",
    "- The select statement can be used to create a menu interface\n",
    "- - select DIR in /bin /usr /etc\n",
    "In this, DIR is the variable that will be filled with the selected choice, and /bin /usr /etc are presented as numbered menu options\n",
    "- Notice the use of break in select, without it the script would run forever\n",
    "\n",
    "test - check file types and compare values \n",
    "- test EXPRESSION\n",
    "- test\n",
    "- [ EXPRESSION ]\n",
    "-n String: the length of STRING is nonzero"
   ]
  },
  {
   "cell_type": "markdown",
   "metadata": {},
   "source": [
    "menu"
   ]
  },
  {
   "cell_type": "code",
   "execution_count": null,
   "metadata": {},
   "outputs": [],
   "source": [
    "%%bash\n",
    "#! /bin/bash\n",
    "# demo script that shows making manus with select\n",
    "\n",
    "echo 'Select a directory: '\n",
    "select DIR in /bin /usr /etc\n",
    "do\n",
    "        # only continue if the user has selected something\n",
    "        if [ -n $DIR ]\n",
    "        then\n",
    "                DIR=$DIR\n",
    "                echo you have selected $DIR\n",
    "                export DIR\n",
    "                break\n",
    "        else\n",
    "                echo invalid choice\n",
    "        fi\n",
    "done"
   ]
  },
  {
   "cell_type": "markdown",
   "metadata": {},
   "source": [
    "admenu"
   ]
  },
  {
   "cell_type": "code",
   "execution_count": null,
   "metadata": {},
   "outputs": [],
   "source": [
    "#! /bin/bash\n",
    "echo 'select a task: '\n",
    "select TASK in 'Check mounts' 'Check disk space' 'Check Memory usage'\n",
    "do        case $REPLY in\n",
    "                1) TASK=mount;;                2) TASK=\"df -h\";;\n",
    "                3) TASK=\"free -m\";;\n",
    "                *) echo ERROR && exit 2;;\n",
    "        esac\n",
    "        if [ -n \"$TASK\" ]\n",
    "        then\n",
    "                clear\n",
    "                $TASK\n",
    "                break\n",
    "        else\n",
    "                echo INVALID CHOICE && exit 3\n",
    "        fi\n",
    "done"
   ]
  },
  {
   "cell_type": "markdown",
   "metadata": {},
   "source": [
    "# Bash Traps and Signals\n",
    "- Signals are software interrupts sent to a program to indicate than an important event has occurred\n",
    "- The events can vary from user requests to illegal memory access errors\n",
    "- Some signals, such as the interrupt siganl, indicate that a user has asked the progrm to do something athat is not in the usual flow of control\n",
    "\n",
    "## Types of Signals\n",
    "|Signal Name|Signal Number| Description|\n",
    "|---|---|---|\n",
    "|SIGHUP|1|Hang up detected on controlling terminal or death controlling process|\n",
    "|SIGINT|2|Issued if the user sends an interrupt signal Ctrl + C)|\n",
    "|SIGQUIT|3|Issued if the user sends a quit signal (Ctrl + D)|\n",
    "|SIGFPE|8|Issued if an illegal mathematical operation is attempted|\n",
    "|SIGKILL|9|If a process gets this signal it must quit immediately and will not perform any clean-up operations|\n",
    "|SIGALRM|14|Alarm clock signal (used for timers)|\n",
    "|SIGTERM|15|Software termination signal (sent by kill by default)|\n",
    "\n",
    "## Traps\n",
    "- traps: can be used to redefine signals\n",
    "- Useful to disallow Ctrl-C or other ways of killing a script\n",
    "- Consult `man 7 signal` for a list of available signals or `trap -l`"
   ]
  },
  {
   "cell_type": "markdown",
   "metadata": {},
   "source": [
    "## Exercise\n",
    "Create a user helpdesk. Write a menu script that is started automatically when this user logs in. The menu script should never terminate, unless the user logs out (which is a menu option as well). From this menu, make at least the following options available:\n",
    "\n",
    "1) Reset Password <br>\n",
    "2) Show disk usage <br>\n",
    "3) Ping a host <br>\n",
    "4) Log out\n",
    "\n",
    "Bonus question: modify this script and related configuration so that the user can use sudo to set passwords for other users as well"
   ]
  },
  {
   "cell_type": "markdown",
   "metadata": {},
   "source": [
    "newmenu"
   ]
  },
  {
   "cell_type": "code",
   "execution_count": null,
   "metadata": {},
   "outputs": [],
   "source": [
    "%%bash\n",
    "#! /bin/bash\n",
    "\n",
    "pinghost ()\n",
    "{\n",
    "    echo which host you wnat to ping?\n",
    "    read HOSTNAME\n",
    "    ping -c -1 $HOSTNAME\n",
    "}\n",
    "\n",
    "while true;\n",
    "do\n",
    "    # user cannot ctrl out ofthe script\n",
    "    trap \"echo NOPE\" INT\n",
    "    \n",
    "    echo'select an option?'\n",
    "    select TASK in 'Reset password' 'Show disk usage' 'Ping a host' 'Log out'\n",
    "    do\n",
    "        case $REPLY in\n",
    "            1) TASK=passwd;;\n",
    "            2) TASK=\"df -h\";;\n",
    "            3) TASK=pinghost;;\n",
    "            4) TASK=exit;;\n",
    "            *) echo ERROR && exit 2;;\n",
    "        esac\n",
    "        if [ -n \"$TASK\" ]\n",
    "        then\n",
    "            clear\n",
    "            $TASK\n",
    "            break\n",
    "        else\n",
    "            echo INVALID CHOICE && exit 3\n",
    "        fi\n",
    "    done\n",
    "done\n",
    "    "
   ]
  },
  {
   "cell_type": "markdown",
   "metadata": {},
   "source": [
    "# Debugging"
   ]
  },
  {
   "cell_type": "code",
   "execution_count": null,
   "metadata": {},
   "outputs": [],
   "source": []
  },
  {
   "cell_type": "code",
   "execution_count": null,
   "metadata": {},
   "outputs": [],
   "source": []
  }
 ],
 "metadata": {
  "kernelspec": {
   "display_name": "Python 3",
   "language": "python",
   "name": "python3"
  },
  "language_info": {
   "codemirror_mode": {
    "name": "ipython",
    "version": 3
   },
   "file_extension": ".py",
   "mimetype": "text/x-python",
   "name": "python",
   "nbconvert_exporter": "python",
   "pygments_lexer": "ipython3",
   "version": "3.7.3"
  }
 },
 "nbformat": 4,
 "nbformat_minor": 2
}
