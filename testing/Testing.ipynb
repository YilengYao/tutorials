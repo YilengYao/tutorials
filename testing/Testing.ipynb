{
 "cells": [
  {
   "cell_type": "markdown",
   "metadata": {},
   "source": [
    "# Test Driven Development\n",
    "\n",
    "### Mock\n",
    "Mocks: A fake implementation of a aclass used for testing\n",
    "- A test double for dependent objects - like a datasource\n",
    "- Can provide expected responses\n",
    "- Can verify expected interactions\n",
    "\n",
    "Spy: Like a mock, but real object is used\n",
    "- Mocks completely replace expected object\n",
    "- Spys are wrappers, but with real object inside"
   ]
  },
  {
   "cell_type": "markdown",
   "metadata": {},
   "source": [
    "## Common Testing Frameworks\n",
    "\n",
    "### JUnit\n",
    "- The most popular testing framework for Java\n",
    "- Currently JUnit 4 is widely used in industry\n",
    "- JUnit 5 is released in September of 2017\n",
    "- - Rapidly gaining popularity\n",
    "- JUnit 5 will be the primary focus here.\n",
    "\n",
    "### TestNG\n",
    "- Created by Cedric Beust in 2004 as an alternative to JUit\n",
    "- Cedric wished to address deficiencies in JUnit\n",
    "- Functionality of TestNG and JUnit have evolved to be very close.\n",
    "- Still popular, but musch smaller base\n",
    "\n",
    "### Spock \n",
    "- Testing Framework in Groovy for testing Java\n",
    "- Does requirre knowledge of Grooby\n",
    "- Follows BDD approach\n",
    "- Includes own Mocking framework\n",
    "- Very popular where Grooby is used\n",
    "\n",
    "### Cucumber\n",
    "- BDD Testing Framework\n",
    "- Available for Java, JAvascript, and Ruby\n",
    "- - Very popular in Ruby community\n",
    "- - Gaining popularity in Java community\n",
    "- Uses Gherkin syntax\n",
    "- - Natural Englush like syntax\n",
    "- - Describe the what, not the how\n",
    "\n",
    "### Mockito\n",
    "- Mocking framework for testing\n",
    "- - Only does mocks\n",
    "- - Need to use with testing frameworks such as JUnit or TestNG\n",
    "- Top 10 Java Library\n",
    "- Very popular for testing Spring applications\n",
    "- Will be covered in this course\n",
    "\n",
    "### Spring MVC Test\n",
    "- Testing module found in the Spring Framework\n",
    "- Very versatile for testing Spring MVC Controllers\n",
    "- Provides mock Servlet environment\n",
    "- Used in conjunction with a testing framework such as JUnit, TestNg, or Spock\n",
    "\n",
    "### REST Assured\n",
    "- Java framework for testing RESTful web services\n",
    "- Provides very powerful DSL for testing Restful interfaces\n",
    "- Can be used with Spring Mock MVC\n",
    "- Tests follow a BDD Syntax\n",
    "\n",
    "### Selenium\n",
    "- Web Browser Automation\n",
    "- Allows you to write functional tests agains web applications\n",
    "- Only Web Browser Automation\n",
    "- - Neeed to use a Testing Framework such as JUnit, TestNG, or Spock\n",
    "\n",
    "### GEB\n",
    "- Grrovy Browser Automation\n",
    "- Uses Selenium under the covers\n",
    "- Has JQuery-ish page element selectors\n",
    "- Needs to be used with a Test Framework\n",
    "- - Very Pipular to use with Spock\n",
    "\n",
    "### Test Containers\n",
    "- Allows you to launch Docker Containers from JUit Test\n",
    "- Allows you to start databases, message brokers, etc for integration and functional tests.\n",
    "- Can be combined with Selenium for testing web applications."
   ]
  },
  {
   "cell_type": "markdown",
   "metadata": {},
   "source": [
    "## CI Continuous Intergration\n",
    "Continuous Integration (CI): is a development practice that requires developers to integrate code into a shared repository several times a day. Each check-in is then verified by an automated build, allowing teams to detect problems early. ThoughWorks\n",
    "\n",
    "\"Continuous Integration doesn't get rid of bugs, but it does make them dramatically easier to find and remove.\" - Martin Fowler, Chief Scientist, ThoughtWorks\n",
    "\n",
    "### CI Practices\n",
    "CI Practices per Martin Fowler:\n",
    "- Maintain a Single Source Repository\n",
    "- Automate Build\n",
    "- Make your build self-testing\n",
    "- Every commit should Build on Integration Server\n",
    "- Fix broken builds immediately\n",
    "- Keep the build fast\n",
    "- Test a Clone of the production environment\n",
    "- Make it Easy for anyone to get the latest execuable version\n",
    "- Everyopne can see what is happending.\n",
    "\n",
    "#### Common CI Build Servers\n",
    "Self-Hosted:\n",
    "- Jenkins, Bamboo, TeamCity, Hudson\n",
    "- - Fun-Fact: Jenkins forked from Hudson in 2010 due to a legal conflict with Oracle\n",
    "\n",
    "Cloud Based:\n",
    "- CircleCI, TravisCI, Codeship, GitLab CI, AWS CodeBuild\n",
    "\n",
    "\n",
    "## CD - Continuous Deployment\n",
    "- Continuous Deployment will automate deploy build artifiacts after all CI tests have run\n",
    "- Should Happend with every Commit\n",
    "- Completely Automated\n",
    "- May include a Staging Area from which Additional Automated Tests are run\n",
    "- Easily confused with Continuous Delivery\n",
    "- Eg: AWS CodePipeline\n",
    "- Process to Automatically Deliver code changes directly to the Production Environment\n",
    "- Involves a High Degree of Automation in Testing and Depl9oyment\n",
    "- Must have a *VERY\"* Mature Process\n",
    "- Can be Difficult in some industries due to regulatory requirements\n",
    "- This area is evolving\n",
    "- - Few Hard \"Rules\" - No Standardd Way\n",
    "- - \"Best Practices\" are maturing, and still a lot of lively debate!"
   ]
  },
  {
   "cell_type": "markdown",
   "metadata": {},
   "source": [
    "# Test Driven Development by Example\n",
    "- Published in 2002 by Kent Beck\n",
    "- Considered as 'iconic' book on testing software\n",
    "- This book helped establish TDD as a modern best practice\n",
    "\n",
    "About Kent Beck\n",
    "- Original 17 Signatory of the Agile Manifesto\n",
    "- Wrote SUnit, the Smalltalk Precursor to JUnit\n",
    "- Helped found the Extreme Programming Movement\n",
    "- Considered the Leading Advocate for TDD\n",
    "- Well Known Keynote Speaker at Conferences"
   ]
  },
  {
   "cell_type": "markdown",
   "metadata": {},
   "source": [
    "## TTD in Action\n",
    "- Made List of Test wwe needed - To-Do List\n",
    "- Told as tory aobut how we wanted to view one operation (in test)\n",
    "- Ignored details of JUnit\n",
    "- Made test compile in stubs (minimal code)\n",
    "- Made test run with awful AWFUL code\n",
    "- Gradually updated working code - replacing Constants with variables"
   ]
  },
  {
   "cell_type": "markdown",
   "metadata": {},
   "source": [
    "## TDD Cycle Review\n",
    "1. Write a Test - Think about how the code should work\n",
    "1. Make it compile\n",
    "1. Make it Run - Quickly get the code working. Make the test \"Green\".\n",
    "1. Make it Right - Refactor the running code to quality, proper code.\n",
    "1. Remove duplication / Make it right\n",
    "\n",
    "Goal: Clean code that works"
   ]
  },
  {
   "cell_type": "markdown",
   "metadata": {},
   "source": [
    "## Making Objects\n",
    "When there are 2 subclasses that are nearly the same\n",
    "- refactor them out of existence in a TDD way\n",
    "- first step is to reduce the direct references to the subclasses\n",
    "- we can use factory method to turn super class to subclasses\n"
   ]
  },
  {
   "cell_type": "code",
   "execution_count": null,
   "metadata": {},
   "outputs": [],
   "source": [
    "public class Money {\n",
    "    protected int amount;\n",
    "\n",
    "    @Override\n",
    "    public boolean equals(Object obj) {\n",
    "        if (this == obj) return true;\n",
    "        if (obj == null) return false;\n",
    "        Money money = (Money) obj;\n",
    "        return this.amount == money.amount && getClass().equals(obj.getClass());\n",
    "    }\n",
    "\n",
    "}"
   ]
  },
  {
   "cell_type": "code",
   "execution_count": null,
   "metadata": {},
   "outputs": [],
   "source": [
    "public class Dollar extends Money {\n",
    "    public Dollar(int amount) { this.amount = amount; }\n",
    "\n",
    "    public Dollar times(int n) { return new Dollar(amount * n); }\n",
    "}"
   ]
  },
  {
   "cell_type": "code",
   "execution_count": null,
   "metadata": {},
   "outputs": [],
   "source": [
    "public class Franc extends Money {\n",
    "    public Franc(int amount) { this.amount = amount; }\n",
    "\n",
    "    public times(int multiplier) { return new Franc(amount * multiplier); }\n",
    "}"
   ]
  },
  {
   "cell_type": "markdown",
   "metadata": {},
   "source": [
    "Factor out references to the times method."
   ]
  },
  {
   "cell_type": "code",
   "execution_count": null,
   "metadata": {},
   "outputs": [],
   "source": [
    "public abstract class Money {\n",
    "    protected int amount;\n",
    "\n",
    "    public static Money dollar(int amount) { return new Dollar(amount); }\n",
    "\n",
    "    public static Money franc(int amount){ return new Franc(amount); }\n",
    "\n",
    "    public abstract Money times(int multipler);\n",
    "\n",
    "    @Override\n",
    "    public boolean equals(Object obj) {\n",
    "        if (this == obj) return true;\n",
    "        if (obj == null) return false;\n",
    "        Money money = (Money) obj;\n",
    "        return this.amount == money.amount && getClass().equals(obj.getClass());\n",
    "    }\n",
    "}"
   ]
  },
  {
   "cell_type": "code",
   "execution_count": null,
   "metadata": {},
   "outputs": [],
   "source": [
    "public class Dollar extends Money {\n",
    "    public Dollar(int amount) { this.amount = amount; }\n",
    "}"
   ]
  },
  {
   "cell_type": "code",
   "execution_count": null,
   "metadata": {},
   "outputs": [],
   "source": [
    "public class Franc extends Money {\n",
    "    public Franc(int amount) { this.amount = amount; }\n",
    "}"
   ]
  },
  {
   "cell_type": "markdown",
   "metadata": {},
   "source": [
    "Factor out references to the subclasses"
   ]
  },
  {
   "cell_type": "code",
   "execution_count": null,
   "metadata": {},
   "outputs": [],
   "source": [
    "public class Money {\n",
    "    protected int amount;\n",
    "    protected String currency;\n",
    "\n",
    "    private Money(int amount, String currency) {\n",
    "        this.amount = amount;\n",
    "        this.currency = currency;\n",
    "    }\n",
    "\n",
    "    public static Money dollar(int amount) { return new Money(amount, \"USD\"); }\n",
    "\n",
    "    public static Money franc(int amount){ return new Money(amount, \"CHF\"); }\n",
    "\n",
    "    public String currency() { return this.currency; }\n",
    "\n",
    "    public Money times(int multiplier) { return new Money(amount * multiplier, this.currency); }\n",
    "\n",
    "    @Override\n",
    "    public boolean equals(Object obj) {\n",
    "        if (this == obj) return true;\n",
    "        if (obj == null) return false;\n",
    "        Money money = (Money) obj;\n",
    "        return this.amount == money.amount && this.currency.equals(money.currency);\n",
    "    }\n",
    "\n",
    "    @Override\n",
    "    public String toString() {\n",
    "        return \"Money{ \"+\n",
    "                \"amount=\" + amount +\n",
    "                \"currency='\" + currency + \"'\" +\n",
    "                \"}\";\n",
    "    }\n",
    "}"
   ]
  },
  {
   "cell_type": "markdown",
   "metadata": {},
   "source": [
    "### Terms\n",
    "- Augend: First value in an addition operation.\n",
    "- Addend: Second value in an addition operation."
   ]
  },
  {
   "cell_type": "markdown",
   "metadata": {},
   "source": [
    "# JUnit\n",
    "\n",
    "## History\n",
    "- Kent Beck - creator of Extreme Programmming and one of the 17 original signers of the Agile Manifesto and known for being a proponent of Test Driven Development:\n",
    "- - \"Write new code only if an automated test has failed.\"\n",
    "- Kent Beck in the 1990's wrote SUnit, a testing framework for Smalltalk.\n",
    "- Using SUnit as a starting point Beck aprtnered with Erich Gamma to write the JUnit in 1998\n",
    "- - Gamma is one of the Gang of Four (aka GoF)\n",
    "- JUnit has become the most popular Java library in history\n",
    "\n",
    "## JUnit4\n",
    "- JUnit4 originally released in February 2006\n",
    "- - Based on Java 5\n",
    "- - Java 6 released in December 2006\n",
    "- ~12 minor Releases since 2006\n",
    "- Considered the de factor standard for Java unit testing\n",
    "- Framework was starting to age considering features added to Java since Java5\n",
    "\n",
    "## JUnit5\n",
    "- Started as a project called JUnit Lambda\n",
    "- - Crowdfunding campaign in 2015 raised €54000\n",
    "- - Corporate Sponsors including Pivotal(Guys behind Spring) and American Express\n",
    "- First GA Released of JUnit5 was on September 10th, 2017\n",
    "- JUnit5 leverage features of Java8\n",
    "- - Lambda expressions\n",
    "- - Streams\n",
    "- - Java8 aor higher is required\n",
    "- Redesigned for better integration and extensibility\n",
    "\n",
    "## JUnit5 Modules\n",
    "- JUnit Platform: The foundation for launching testing frameworks for the JVM. Allows test to be run from a Console Launcher, or build tools such as Maven or Gradle.\n",
    "- JUnit Jupiter: Programming model for writing tests and extensions to JUnit\n",
    "- JUnit Vintage: Provides a test engine for runnnign JUnit3 and Junit4 tests (Backward Compatibility)"
   ]
  },
  {
   "cell_type": "markdown",
   "metadata": {},
   "source": [
    "## JUnit Annotations\n",
    "\n",
    "|Annotation|Descriotion|\n",
    "|--|--|\n",
    "|@Test|Marks a method as a test method|\n",
    "|@ParameterizedTest|Marks methods as a parameterized test|\n",
    "|@RepeatedTest|Repeat test N times|\n",
    "|@TestFactory|Test Factory method for dynamic tests|\n",
    "|@TestInstance|Used to configure test instance lifecycle|\n",
    "|@TestTemplate|Creates a template to be used by multiple test cases|\n",
    "|@DisplayName|Human friendly name for test|\n",
    "|@BeforeEach|Mehtod to run before each test case|\n",
    "|@AfterEach|Method to run after each test case|}\n",
    "|@BeforeAll|Static method to run before all test cases in current class|\n",
    "|@AfterAll|Static method to run after all test cases in current class|\n",
    "|@Nested|Creates a nested test class|\n",
    "|@Tag|Declare 'tags' for filtering tests|\n",
    "|@Disabled|Disable test or test class|\n",
    "|@ExtendWith|Used to register extenstions|\n",
    "\n",
    "## JUnit Test Lifecycle\n",
    "\n",
    "|@BeforeAll| -> |@BeforeEach| -> |@Test| -> |@AfterEach| -> |@AfterAll|\n",
    "|--|--|--|--|--|--|--|--|--|\n",
    "||||<----|-----|----|--------|||"
   ]
  },
  {
   "cell_type": "markdown",
   "metadata": {},
   "source": [
    "## Install JUnit"
   ]
  },
  {
   "cell_type": "code",
   "execution_count": 5,
   "metadata": {},
   "outputs": [],
   "source": [
    "%%loadFromPOM\n",
    "    <properties>\n",
    "        <junit-platform.version>5.3.1</junit-platform.version>\n",
    "    </properties>\n",
    "    <dependencies>\n",
    "        <dependency>\n",
    "            <groupId>org.junit.jupiter</groupId>\n",
    "            <artifactId>junit-jupiter-api</artifactId>\n",
    "            <version>5.3.1</version>\n",
    "        <!--    <scope>test</scope> -->\n",
    "        </dependency>\n",
    "        <dependency>\n",
    "            <groupId>org.junit.jupiter</groupId>\n",
    "            <artifactId>junit-jupiter-engine</artifactId>\n",
    "            <version>${junit-platform.version}</version>\n",
    "        <!--    <scope>test</scope> -->\n",
    "        </dependency>\n",
    "    </dependencies>\n",
    "    <build>\n",
    "        <plugins>\n",
    "            <plugin>\n",
    "                <groupId>org.apache.maven.plugins</groupId>\n",
    "                <artifactId>maven-compiler-plugin</artifactId>\n",
    "                <version>3.8.0</version>\n",
    "            </plugin>\n",
    "            <plugin>\n",
    "                <groupId>org.apache.maven.plugins</groupId>\n",
    "                <artifactId>maven-surefire-plugin</artifactId>\n",
    "                <version>2.22.0</version>\n",
    "                <configuration>\n",
    "                    <argLine>\n",
    "                        --illegal-access=permit\n",
    "                    </argLine>\n",
    "                </configuration>\n",
    "            </plugin>\n",
    "            <plugin>\n",
    "                <groupId>org.apache.maven.plugins</groupId>\n",
    "                <artifactId>maven-failsafe-plugin</artifactId>\n",
    "                <version>2.22.0</version>\n",
    "                <configuration>\n",
    "                    <argLine>\n",
    "                        --illegal-access=permit\n",
    "                    </argLine>\n",
    "                </configuration>\n",
    "            </plugin>\n",
    "        </plugins>\n",
    "    </build>"
   ]
  },
  {
   "cell_type": "markdown",
   "metadata": {},
   "source": [
    "Pluigins\n",
    "- surefire: for Unit tests\n",
    "- failsafe:"
   ]
  },
  {
   "cell_type": "code",
   "execution_count": 11,
   "metadata": {},
   "outputs": [],
   "source": [
    "public class Greeting {\n",
    "\n",
    "    private static final String HELLO = \"Hello\";\n",
    "    private static final String WORLD = \"World\";\n",
    "\n",
    "    public String helloWorld(){\n",
    "        return HELLO + \" \" + WORLD;\n",
    "    }\n",
    "\n",
    "    public String helloWorld(String name){\n",
    "        return HELLO + \" \" + name;\n",
    "    }\n",
    "}"
   ]
  },
  {
   "cell_type": "code",
   "execution_count": 12,
   "metadata": {},
   "outputs": [],
   "source": [
    "private Greeting greeting = new Greeting();"
   ]
  },
  {
   "cell_type": "code",
   "execution_count": 39,
   "metadata": {},
   "outputs": [],
   "source": [
    "import org.junit.jupiter.api.BeforeEach;\n",
    "import org.junit.jupiter.api.Test;\n",
    "import static org.junit.jupiter.api.Assertions.assertEquals;\n",
    "\n",
    "class GreetingTest {\n",
    "\n",
    "    private Greeting greeting;\n",
    "\n",
    "    @BeforeEach\n",
    "    void setUp() {\n",
    "        System.out.println(\"In Before Each....\");\n",
    "        greeting = new Greeting();\n",
    "    }\n",
    "\n",
    "    @Test\n",
    "    void helloWorld() {\n",
    "        assertEquals(1, 2);\n",
    "    }\n",
    "\n",
    "    @Test\n",
    "    void helloWorld1() {\n",
    "        assertEquals(1,1);\n",
    "    }\n",
    "}"
   ]
  },
  {
   "cell_type": "code",
   "execution_count": 40,
   "metadata": {},
   "outputs": [],
   "source": [
    "GreetingTest gt = new GreetingTest();"
   ]
  },
  {
   "cell_type": "code",
   "execution_count": 41,
   "metadata": {},
   "outputs": [
    {
     "name": "stdout",
     "output_type": "stream",
     "text": [
      "In Before Each....\n"
     ]
    }
   ],
   "source": [
    "gt.setUp();"
   ]
  },
  {
   "cell_type": "code",
   "execution_count": 42,
   "metadata": {},
   "outputs": [
    {
     "ename": "EvalException",
     "evalue": "expected: <1> but was: <2>",
     "output_type": "error",
     "traceback": [
      "\u001b[1m\u001b[31m---------------------------------------------------------------------------\u001b[0m",
      "\u001b[1m\u001b[31morg.opentest4j.AssertionFailedError: expected: <1> but was: <2>\u001b[0m",
      "\u001b[1m\u001b[31m\tat org.junit.jupiter.api.AssertionUtils.fail(AssertionUtils.java:54)\u001b[0m",
      "\u001b[1m\u001b[31m\tat org.junit.jupiter.api.AssertEquals.failNotEqual(AssertEquals.java:195)\u001b[0m",
      "\u001b[1m\u001b[31m\tat org.junit.jupiter.api.AssertEquals.assertEquals(AssertEquals.java:152)\u001b[0m",
      "\u001b[1m\u001b[31m\tat org.junit.jupiter.api.AssertEquals.assertEquals(AssertEquals.java:147)\u001b[0m",
      "\u001b[1m\u001b[31m\tat org.junit.jupiter.api.Assertions.assertEquals(Assertions.java:327)\u001b[0m",
      "\u001b[1m\u001b[31m\tat GreetingTest.helloWorld(#24:1)\u001b[0m",
      "\u001b[1m\u001b[31m\tat .(#52:1)\u001b[0m"
     ]
    }
   ],
   "source": [
    "gt.helloWorld();"
   ]
  },
  {
   "cell_type": "code",
   "execution_count": 43,
   "metadata": {},
   "outputs": [],
   "source": [
    "gt.helloWorld1();"
   ]
  },
  {
   "cell_type": "code",
   "execution_count": null,
   "metadata": {},
   "outputs": [],
   "source": []
  }
 ],
 "metadata": {
  "kernelspec": {
   "display_name": "Java",
   "language": "java",
   "name": "java"
  },
  "language_info": {
   "codemirror_mode": "java",
   "file_extension": ".jshell",
   "mimetype": "text/x-java-source",
   "name": "Java",
   "pygments_lexer": "java",
   "version": "11.0.9+11-LTS"
  }
 },
 "nbformat": 4,
 "nbformat_minor": 4
}
