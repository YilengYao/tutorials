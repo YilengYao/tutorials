{
 "cells": [
  {
   "cell_type": "markdown",
   "metadata": {},
   "source": [
    "# Functional Interfaces\n",
    "Java 8 added 2 new packages\n",
    "- java.util.function\n",
    "- java.util.stream\n",
    "\n",
    "\n",
    "Functional Interface\n",
    "- An interface that contains at most one abstract funciton\n",
    "- Represents abstract concepts such as functions, actions, or predicates\n",
    "- For a list of all interfaces, check out the Javadoc.\n",
    "\n",
    "Commonly used Functional Interfaces\n",
    "- Predicate: takes one argument, returns a Boolean\n",
    "- Consumer: accepts single argument with no return value\n",
    "- Function: accepts one argument and prduces a result\n",
    "- Supplier: does not accept arguments and produce result of a defined type\n",
    "- UnaryOperator: singlue argument with a return value\n",
    "- BinaryOperator: takes two arguments and returns one"
   ]
  },
  {
   "cell_type": "code",
   "execution_count": 2,
   "metadata": {},
   "outputs": [
    {
     "name": "stdout",
     "output_type": "stream",
     "text": [
      "true - Apples is less than 10\n",
      "abcdefghijklmnopqrstuvwxyz\n",
      "length of 26: 2\n",
      "Java is fun\n",
      "add 10 + 25: 35\n",
      "THIS IS MY MESSAGE IN UPPER CASE\n"
     ]
    }
   ],
   "source": [
    "import java.util.function.*;\n",
    "\n",
    "//using the test method of Predicate\n",
    "Predicate<String> stringLen  = (s)-> s.length() < 10;\n",
    "System.out.println(stringLen.test(\"Apples\") + \" - Apples is less than 10\");"
   ]
  },
  {
   "cell_type": "code",
   "execution_count": 3,
   "metadata": {},
   "outputs": [
    {
     "name": "stdout",
     "output_type": "stream",
     "text": [
      "abcdefghijklmnopqrstuvwxyz\n"
     ]
    }
   ],
   "source": [
    "//Consumer example uses accept method\n",
    "Consumer<String> consumerStr = (s) -> System.out.println(s.toLowerCase());\n",
    "consumerStr.accept(\"ABCDefghijklmnopQRSTuvWxyZ\");"
   ]
  },
  {
   "cell_type": "code",
   "execution_count": 4,
   "metadata": {},
   "outputs": [
    {
     "name": "stdout",
     "output_type": "stream",
     "text": [
      "length of 26: 2\n"
     ]
    }
   ],
   "source": [
    "//Function example        \n",
    "Function<Integer,String> converter = (num)-> Integer.toString(num);\n",
    "System.out.println(\"length of 26: \" + converter.apply(26).length());"
   ]
  },
  {
   "cell_type": "code",
   "execution_count": 5,
   "metadata": {},
   "outputs": [
    {
     "name": "stdout",
     "output_type": "stream",
     "text": [
      "Java is fun\n"
     ]
    }
   ],
   "source": [
    "//Supplier example\n",
    "Supplier<String> s  = ()-> \"Java is fun\";\n",
    "System.out.println(s.get());"
   ]
  },
  {
   "cell_type": "code",
   "execution_count": 6,
   "metadata": {},
   "outputs": [
    {
     "name": "stdout",
     "output_type": "stream",
     "text": [
      "add 10 + 25: 35\n"
     ]
    }
   ],
   "source": [
    "//Binary Operator example\n",
    "BinaryOperator<Integer> add = (a, b) -> a + b;\n",
    "System.out.println(\"add 10 + 25: \" + add.apply(10, 25));"
   ]
  },
  {
   "cell_type": "code",
   "execution_count": 7,
   "metadata": {},
   "outputs": [
    {
     "name": "stdout",
     "output_type": "stream",
     "text": [
      "THIS IS MY MESSAGE IN UPPER CASE\n"
     ]
    }
   ],
   "source": [
    "//Unary Operator example\n",
    "UnaryOperator<String> str  = (msg)-> msg.toUpperCase();\n",
    "System.out.println(str.apply(\"This is my message in upper case\"));"
   ]
  },
  {
   "cell_type": "markdown",
   "metadata": {},
   "source": [
    "For the binary and unary operators, the input types are inferred, if the output type is string, the input type is string. If the output type is Integer, the input type is Integer."
   ]
  },
  {
   "cell_type": "markdown",
   "metadata": {},
   "source": [
    "## double colon ::\n",
    "The double colon syntax :: allows us to pass static methods or instance method or constructor reference into a lambda function."
   ]
  },
  {
   "cell_type": "code",
   "execution_count": 15,
   "metadata": {},
   "outputs": [
    {
     "name": "stdout",
     "output_type": "stream",
     "text": [
      "expect value 3, actual value: 3\n"
     ]
    }
   ],
   "source": [
    "IntFunction<String> intToString = num -> Integer.toString(num);\n",
    "System.out.println(\"expect value 3, actual value: \" + \n",
    "                  intToString.apply(123).length());"
   ]
  },
  {
   "cell_type": "code",
   "execution_count": 17,
   "metadata": {},
   "outputs": [
    {
     "name": "stdout",
     "output_type": "stream",
     "text": [
      "expected value 4, actual value:  4\n"
     ]
    }
   ],
   "source": [
    "//static method reference using ::\n",
    "IntFunction<String> intToString2 = Integer::toString;\n",
    "System.out.println(\"expected value 4, actual value:  \" +\n",
    "                   intToString2.apply(4567).length());"
   ]
  },
  {
   "cell_type": "code",
   "execution_count": 18,
   "metadata": {},
   "outputs": [
    {
     "name": "stdout",
     "output_type": "stream",
     "text": [
      "expect value: 123456789, actual value: 123456789\n"
     ]
    }
   ],
   "source": [
    "//lambdas made using a constructor\n",
    "Function<String, BigInteger> newBigInt = BigInteger::new;\n",
    "System.out.println(\"expect value: 123456789, actual value: \" +\n",
    "                  newBigInt.apply(\"123456789\"));"
   ]
  },
  {
   "cell_type": "code",
   "execution_count": 21,
   "metadata": {},
   "outputs": [
    {
     "name": "stdout",
     "output_type": "stream",
     "text": [
      "Coming to you directly from a lambda...\n"
     ]
    }
   ],
   "source": [
    "//example of a lambda made from an instance method\n",
    "Consumer<String> print = System.out::println;\n",
    "print.accept(\"Coming to you directly from a lambda...\");"
   ]
  },
  {
   "cell_type": "code",
   "execution_count": 22,
   "metadata": {},
   "outputs": [
    {
     "name": "stdout",
     "output_type": "stream",
     "text": [
      "Hello, Peggy\n"
     ]
    }
   ],
   "source": [
    "UnaryOperator<String> makeGreeting = \"Hello, \"::concat;\n",
    "System.out.println(makeGreeting.apply(\"Peggy\"));"
   ]
  },
  {
   "cell_type": "markdown",
   "metadata": {},
   "source": [
    "# Collections API\n",
    "- The Collections API was introduced in Java 7.\n",
    "- A collection is an object that group multiple elements into a single unit.\n",
    "- Collections are used to store, retrieve, manipulate, and communicate aggregate data.\n",
    "\n",
    "Collections API provides the following interfaces\n",
    "- Set: a collection that does not contain duplicates\n",
    "- List: an ordered collection based on the way the user entered the data\n",
    "- Map: an object that maps keys to values\n",
    "\n",
    "Collections API provides the following methods\n",
    "- int size()\n",
    "- boolean isEmpty()\n",
    "- boolean contains(Object element)\n",
    "- boolean add(E element)\n",
    "- boolean remove(Object element)\n",
    "- Iterator<E> iterator()"
   ]
  },
  {
   "cell_type": "code",
   "execution_count": 26,
   "metadata": {},
   "outputs": [],
   "source": [
    "public class Book {\n",
    "    private String title;\n",
    "    private String authorFName;\n",
    "    private String authorLName;\n",
    "    private int pages;\n",
    "  \n",
    "    public Book(String title, String authorFName, String authorLName, \n",
    "            int pages) {\n",
    "        this.title = title;\n",
    "        this.authorFName = authorFName;\n",
    "        this.authorLName = authorLName;\n",
    "        this.pages = pages;\n",
    "     \n",
    "    }\n",
    "\n",
    "    public String getTitle() {\n",
    "        return title;\n",
    "    }\n",
    "\n",
    "    public void setTitle(String title) {\n",
    "        this.title = title;\n",
    "    }\n",
    "\n",
    "    public String getAuthorFName() {\n",
    "        return authorFName;\n",
    "    }\n",
    "\n",
    "    public void setAuthorFName(String authorFName) {\n",
    "        this.authorFName = authorFName;\n",
    "    }\n",
    "\n",
    "    public String getAuthorLName() {\n",
    "        return authorLName;\n",
    "    }\n",
    "\n",
    "    public void setAuthorLName(String authorLName) {\n",
    "        this.authorLName = authorLName;\n",
    "    }\n",
    "\n",
    "    public int getPages() {\n",
    "        return pages;\n",
    "    }\n",
    "\n",
    "    public void setPages(int pages) {\n",
    "        this.pages = pages;\n",
    "    }\n",
    "    public String toString()\n",
    "    {\n",
    "        return getTitle()+\" Written By: \"+getAuthorFName()+\" \" +getAuthorLName()+\"\\n\";\n",
    "    }\n",
    "}"
   ]
  },
  {
   "cell_type": "code",
   "execution_count": 33,
   "metadata": {},
   "outputs": [
    {
     "name": "stdout",
     "output_type": "stream",
     "text": [
      "838\n",
      "[Riggs, Rowling, Seuss]\n",
      "Before rmoving duplicates: \n",
      "[Miss Peregrine's Home for Perculiar Children Written By: Ranson Riggs\n",
      ", Harry Potter and The Sorcerers Stone Written By: JK Rowling\n",
      ", The Cat in the Hat Written By: Dr Seuss\n",
      ", Miss Peregrine's Home for Perculiar Children Written By: Ranson Riggs\n",
      ", Harry Potter and The Sorcerers Stone Written By: JK Rowling\n",
      "]\n",
      "After removing duplicates: \n",
      "[Harry Potter and The Sorcerers Stone Written By: JK Rowling\n",
      ", Miss Peregrine's Home for Perculiar Children Written By: Ranson Riggs\n",
      ", The Cat in the Hat Written By: Dr Seuss\n",
      "]\n",
      "[1, 2, 3, 4]\n"
     ]
    }
   ],
   "source": [
    "import java.util.Arrays;\n",
    "import static java.util.Arrays.asList;\n",
    "import java.util.Collection;\n",
    "import java.util.Collections;\n",
    "import java.util.Comparator;\n",
    "import java.util.HashSet;\n",
    "import java.util.List;\n",
    "import java.util.Set;\n",
    "import java.util.stream.Collectors;\n",
    "\n",
    "List<String> names = Arrays.asList(\"Paul\", \"Jane\", \"Michaela\", \"Sam\");\n",
    "\n",
    "// way to sort prior to Java 8 lambdas\n",
    "Collections.sort(names, new Comparator<String>() {\n",
    "   @Override\n",
    "    public int compare(String a, String b) {\n",
    "        return b.compareTo(a);\n",
    "    }\n",
    "});\n",
    "\n",
    "//first iteration with lambda\n",
    "Collections.sort(names, (String a, String b) -> {\n",
    "    return b.compareTo(a);\n",
    "});\n",
    "\n",
    "//now remove the data types and allow the compile to infer the type\n",
    "Collections.sort(names, (a, b) -> b.compareTo(a));\n",
    "\n",
    "//total pages in your book collection\n",
    "Book book1 =  new Book(\"Miss Peregrine's Home for Perculiar Children\",\n",
    "                      \"Ranson\", \"Riggs\", 382);\n",
    "Book book2 = new Book(\"Harry Potter and The Sorcerers Stone\",\n",
    "                \"JK\", \"Rowling\", 411);\n",
    "Book book3 = new Book(\"The Cat in the Hat\",\n",
    "                \"Dr\", \"Seuss\", 45);\n",
    "\n",
    "//use .collect to aggregate values\n",
    "List<Book> books = Arrays.asList(book1, book2, book3);\n",
    "int total = books.stream()\n",
    "    .collect(Collectors.summingInt(Book::getPages));\n",
    "System.out.println(total);\n",
    "\n",
    "//use .collect to aggregate author first name into a list\n",
    "//use .map to get the last name of the author\n",
    "List<String> list = books.stream()\n",
    "    .map(Book::getAuthorLName)\n",
    "    .collect(Collectors.toList());\n",
    "System.out.println(list);\n",
    "\n",
    "//create a list with duplicates\n",
    "List<Book> dupBooks = Arrays.asList(book1, book2, book3, book1, book2);\n",
    "System.out.println(\"Before rmoving duplicates: \");\n",
    "System.out.println(dupBooks.toString());\n",
    "\n",
    "//remove duplicates using a Set\n",
    "Collection<Book> noDups = new HashSet<>(dupBooks);\n",
    "System.out.println(\"After removing duplicates: \");\n",
    "System.out.println(noDups.toString());\n",
    "\n",
    "//example of using Set to eliminate dups and sort automatically\n",
    "Set<Integer> numbers = new HashSet<>(asList(4, 3, 3, 3, 2, 1, 1, 1));\n",
    "System.out.println(numbers.toString());"
   ]
  },
  {
   "cell_type": "markdown",
   "metadata": {},
   "source": [
    "# Stream\n",
    "java.util.stream\n",
    "- This package contains interfaces for using streams\n",
    "- A stream represents a sequence of elements\n",
    "- The stream package was added to traverse collections\n",
    "- Most stream operations take a lambda expression as a parameter\n",
    "\n",
    "- Stream operations are either intermediate or terminal\n",
    "- Terminal operations are either void or returns a type\n",
    "- Intermediate operations return the stream itself, it is useful because it can allow us to chain multiple method calls in a row in a stream\n",
    "\n",
    "Common operations include map, filter, forEach, sorted, collect\n",
    "- sorted is an intermediate operation\n",
    "- collect is used as a terminal operation\n",
    "\n",
    "Elements in a stream cannot be changed, but you can save them to a new collection\n"
   ]
  },
  {
   "cell_type": "code",
   "execution_count": 40,
   "metadata": {},
   "outputs": [
    {
     "name": "stdout",
     "output_type": "stream",
     "text": [
      "blue\n",
      "Starts with A: apple\n",
      "Starts with A: apricot\n",
      "[JAVA,  ROCKS]\n"
     ]
    }
   ],
   "source": [
    "import java.util.Arrays;\n",
    "import static java.util.Arrays.asList;\n",
    "import java.util.HashSet;\n",
    "import java.util.List;\n",
    "import java.util.Set;\n",
    "import java.util.function.BinaryOperator;\n",
    "import java.util.stream.Collectors;\n",
    "import static java.util.stream.Collectors.toList;\n",
    "import java.util.stream.Stream;\n",
    "\n",
    "Arrays.asList(\"red\", \"green\", \"blue\")\n",
    "    .stream()\n",
    "    .sorted()\n",
    "    .findFirst()\n",
    "    .ifPresent(System.out::println);\n",
    "\n",
    "//example of Stream.of with a filter\n",
    "Stream.of(\"apple\", \"pear\", \"banana\", \"cherry\", \"apricot\")\n",
    "    .filter(fruit -> {\n",
    "        //System.out.println(\"filter: \" + fruit);\n",
    "        return fruit.startsWith(\"a\"); //predicate\n",
    "    })\n",
    "    //if the foreach is removed, nothing will print,\n",
    "    //the foreach makes it a terminal event\n",
    "    .forEach(fruit -> System.out.println(\"Starts with A: \" + fruit));\n",
    "\n",
    "//using a stream and map operation to create a list of words in caps\n",
    "List<String> collected = Stream.of(\"Java\", \" Rocks\")\n",
    "    .map(string -> string.toUpperCase())\n",
    "    .collect(toList());\n",
    "System.out.println(collected.toString());"
   ]
  },
  {
   "cell_type": "markdown",
   "metadata": {},
   "source": [
    "Special operations for primitives"
   ]
  },
  {
   "cell_type": "code",
   "execution_count": 49,
   "metadata": {},
   "outputs": [
    {
     "name": "stdout",
     "output_type": "stream",
     "text": [
      "1\n",
      "2\n",
      "3\n",
      "7.5\n",
      "1\n",
      "2\n",
      "3\n"
     ]
    }
   ],
   "source": [
    "import java.util.Arrays;\n",
    "import java.util.stream.IntStream;\n",
    "import java.util.stream.Stream;\n",
    "\n",
    "IntStream.range(1, 4)\n",
    "    .forEach(System.out::println);\n",
    "\n",
    "//find the average of the numbers squared\n",
    "Arrays.stream(new int[]{1, 2, 3, 4})\n",
    "    .map(n -> n * n)\n",
    "    .average()\n",
    "    .ifPresent(System.out::println);\n",
    "\n",
    "//map doubles to ints\n",
    "Stream.of(1.5, 2.3, 3.7)\n",
    "    .mapToInt(Double::intValue)\n",
    "    .forEach(System.out::println);"
   ]
  },
  {
   "cell_type": "code",
   "execution_count": null,
   "metadata": {},
   "outputs": [],
   "source": []
  }
 ],
 "metadata": {
  "kernelspec": {
   "display_name": "Java",
   "language": "java",
   "name": "java"
  },
  "language_info": {
   "codemirror_mode": "java",
   "file_extension": ".jshell",
   "mimetype": "text/x-java-source",
   "name": "Java",
   "pygments_lexer": "java",
   "version": "11.0.9+11-LTS"
  }
 },
 "nbformat": 4,
 "nbformat_minor": 4
}
