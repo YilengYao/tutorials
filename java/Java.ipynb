{
 "cells": [
  {
   "cell_type": "markdown",
   "metadata": {},
   "source": [
    "# Java Packages\n",
    "A package is a way to organize your java projects.\n",
    "\n",
    "Som reasons to use packages are:\n",
    "- Programmers can easily determine that the classes are related.\n",
    "- It is easy to know where to find the classes and interfaces that can provide the functions provided by the package\n",
    "- Because the package creates a new namespace, class and interface name conflichs are avoided+\n",
    "\n",
    "\n",
    "Naming conventions\n",
    "- com.example and org.example are reserved and can be used for package that never distribute\n",
    "\n",
    "## Creating JARS in Intellij\n",
    "File -> Project Structure -> Artifacts -> + -> JAR -> From Modules and Dependencies -> Extract to the target Jar\n",
    "\n",
    "a new folder will be created in your out.production folder\n",
    "\n",
    "### To build the JAR\n",
    "Build -> Build Artifact -> Build\n",
    "\n",
    "a new jar file will be created in your out.artifacts folder\n",
    "\n",
    "### Import JAR dependence from another project\n",
    "Once the artifact is created, open new project. To import the jar to the new project.\n",
    "\n",
    "File -> Project Structure -> Libraries -> + -> JAR -> find the jar file in the out.artifact folder in the project you are importing from.\n"
   ]
  },
  {
   "cell_type": "markdown",
   "metadata": {},
   "source": [
    "# OOP\n",
    "## Constructors\n",
    "In Java you can call constructor from another constructor using *this* keyword"
   ]
  },
  {
   "cell_type": "code",
   "execution_count": 121,
   "metadata": {},
   "outputs": [],
   "source": [
    "public class Person {\n",
    "    \n",
    "    String firstName;\n",
    "    String lastName;\n",
    "    int age;\n",
    "    \n",
    "    public Person(String firstname, String lastName, int age) {\n",
    "        this.firstName = firstname;\n",
    "        this.lastName = lastName;\n",
    "        this.age = age;\n",
    "    }\n",
    "    \n",
    "    public Person() {\n",
    "        this(\"\", \"\", 0);\n",
    "    }\n",
    "    \n",
    "    public String getFirstName() {\n",
    "        return this.firstName;\n",
    "    }\n",
    "    \n",
    "    public String getLastName() {\n",
    "        return this.lastName;\n",
    "    }\n",
    "    \n",
    "    public int getAge() {\n",
    "        return this.age;\n",
    "    }\n",
    "    \n",
    "}"
   ]
  },
  {
   "cell_type": "code",
   "execution_count": 122,
   "metadata": {},
   "outputs": [
    {
     "name": "stdout",
     "output_type": "stream",
     "text": [
      "First Name: \n",
      "Last Name: \n",
      "Age: 0\n"
     ]
    }
   ],
   "source": [
    "Person noname = new Person();\n",
    "System.out.println(\"First Name: \" + noname.getFirstName());\n",
    "System.out.println(\"Last Name: \" + noname.getLastName());\n",
    "System.out.println(\"Age: \" + noname.getAge());"
   ]
  },
  {
   "cell_type": "markdown",
   "metadata": {},
   "source": [
    "# Inheritence\n",
    "## Keywords this vs super\n",
    "The *super* keyword is used to access/call the parent class.\n",
    "\n",
    "The *this* keyword is used to call varioble and method of the current class.\n",
    "\n",
    "We can use *super* and *this* anywhere except for static block and methods(compile-time) errors.\n",
    "\n",
    "*this* is commonly used for constructors and setters.\n",
    "\n",
    "*super* is commonly used for method overriding, when a method call has the same name as a method from the parent clas."
   ]
  },
  {
   "cell_type": "markdown",
   "metadata": {},
   "source": [
    "## this() vs super() call\n",
    "*this()* can be used to call a contructer from another overloaded constructor in the same class\n",
    "*this()* can be used only in a constructor, and it must be used in the first statement in a constructor. It's used with constructor chaining, when one constructor calls another constructor to reduce duplicated code.\n",
    "\n",
    "*super* is the only way to call the parent constructor.\n",
    "\n",
    "The Java Compiler puts a default call to *super()* if we don't add it, and it is always the no-args *super* which is inserted by compiler (constructor without arguments).\n",
    "The call to *super()* must be the first statement in each constructor.\n",
    "Even Abstract classes have constructors, although you can never instantiate an abstract class using the new keyword.\n",
    "An abstract class is still a *super* class, so its constructor run when someone makes an instance of a concrete subclass.\n",
    "Note: A constructor can have a call to *super* or *this*."
   ]
  },
  {
   "cell_type": "markdown",
   "metadata": {},
   "source": [
    "# Instance vs Static\n",
    "\n",
    "Static methods can't access instance methods and instance variables directly (done through getters and setters).\n",
    "They are usually used for operations that don't require any data from an instance of the class (from 'this')\n",
    ".\n",
    "Static methods can't use the *this* keyword.\n",
    "Whenever you see a method that does use use instance variables that method should be declared as a static method.\n",
    "For example main is a static method adn it is called by the JVM when it starts an application.\n",
    "\n",
    "Instance methods can access instance methods and instance variables directly\n",
    "Instance methods can also access static methods and static variables directly."
   ]
  },
  {
   "cell_type": "markdown",
   "metadata": {},
   "source": [
    "# Interface vs Abstract Class\n",
    "## Abstract Class\n",
    "- Abstract classes are similar to Interfaces. You cannot instantiate them, and they may contian a mix of methods declared with or without an implementation.\n",
    "- However, with Abstract classes, you can declare fields that are not static and final and define public, protected and private concrete methods.\n",
    "- When an Abstract class can extend only one parent class but it can implement multiple interfaces.\n",
    "- When an Abstract class is sublassed, the subclass usually provides implementations for all of the abstract methods in its parent class.\n",
    "- However, if it does not, then the subclass must also be declared abstract.\n",
    "\n",
    "A concrete class is a class that has an implementation for all of its methods. They cannot have any unimplemented methods. It can also extend an abstract class or implement an interface as long as it implements all their methods. It is a complete class and can be instantiated.\n",
    "\n",
    "### Use an Abstract class when ...\n",
    "- You want to share code amound several closely related classes (Animal - with fields name, age...)\n",
    "- You expect classes that extend your abstract class to have many common methods or fields or require access modifiers other than public (protected, private).\n",
    "- You wnat to declare non static or non final fields Ufor example name, age), this enables you to define methods that can access and modify the state of an object (getName, setName).\n",
    "- When you have a requirement for your base class to provide a default implementation of certain methods but other methods should be open to being overriden by child classes.\n",
    "- Summary: The purpose of an Abstract class is to provide a common definition of a base class that multiple derived classes can share.\n",
    "\n",
    "## Interface\n",
    "- An interface is jsut the declaration of methods of an Class, it's not the implementation.\n",
    "- In an interface, we define what kind of operation an object can perform. These operations are defined by the classes that implement the Interface.\n",
    "- Interfaces form a contract between the class and the outside world, and this contract is enfoced at build time by the compiler.\n",
    "- You cannot instantiate them, and they may contain a mix of methods declared with or without an implementation. All mentods in interfaces are automatically public and abstract. \n",
    "- An interface can extend another interface.\n",
    "- Interfaces are more flexible and can dea with a lot more stress on the design of your program than the implementation.\n",
    "- By introducing interfaces into your program, you are really intruducing points of variation at which you can plug in different implemnatations for tha interface. An Interfaces primary purpose is abstraction, decoupling the \"what\" from the \"how\".\n",
    "- NOTE: Since Java 8 interfactes can contain default methods. In other words method with implementation. The keyward default is used (mostly for backwards compatibility_, and static methods as well before Java 8 that was not possible.\n",
    "- NOTE: Since Java 9 an Interface can also contain private methods (commonly used when 2 default methods in an Interface share common code).\n",
    "\n",
    "### Use an Interface when...\n",
    "- You expect ath unrelated classes will implement your interface. For example, the interfaces Comparable and Cloneable are implmented by many unrelated classes.\n",
    "- You want to specify the behaviour of a particular data type, but you are not concerned about who implements its behaviour.\n",
    "- You want to separate different behaviour.\n",
    "- The Collections Api is an excellent example, we have the List interface and implementations ArrayList and LinkedList \n",
    "- The JDBC API is another excellent example. It exist of almost only interfaces. The concrete implementations are provided as \"JDBC drivers\". This enables you to write all the JDBC conde independent of the database (DB) vendor. You will learn more aobut JDBC later in the course."
   ]
  },
  {
   "cell_type": "markdown",
   "metadata": {},
   "source": [
    "# Immutable Objects\n",
    "An object is considered *immutable* if its state cannot change ofter it is constructed. Maximum reliance on immutable objects is widely accepted as a sound strategy for creating simple, reliable code.\n",
    "\n",
    "Immutable objects are (threadsafe) which is particularly useful in concurrent applications. Since they cannot change state, they cannot be corrupted by thread interface or obserbed in an inconsistent state.\n",
    "\n",
    "Programmers are often reluctant to employ immutable objects, because they worry about the cost of creating a new object as oppose to updating an object in place. The impact of object creation is often overestimated, and can be offset by some of the efficiencies associated with immutable objects. These include decrease overhead due to decrease overhead due to garbage collection, and the elimination of code needed to protect mutable objects from corruption.\n",
    "\n",
    "## Strategy for Defining Immutable Objects\n",
    "https://docs.oracle.com/javase/tutorial/essential/concurrency/imstrat.html\n",
    "\n",
    "The following rules define a simple strategy for creating immutable objecst, Not all classes documented as\"immutable\" following these rules. This does not necessarily mean the creator of these classes were sloppy -- they may have good reason for believing that instances of their classes never change after construction. However, such strategies require sophisticated analysis and are not for beginners.\n",
    "\n",
    "1. Don't provide \"setter\" methods -- methods modify fields of object referred by fields.\n",
    "1. Make all fields *final* and *private*.\n",
    "1. Don't allow subclasses to override methods. The simplest way to do this is to decalre the class as *final*. A more sophisticated approach is to makde the constructor private and construct instances in factory methods.\n",
    "1. If the instance fields include references to mutable objects, don't allow these objects to be changed:\n",
    " - Don't provide methods that modify the mutable objects.\n",
    " - Don't share references to the mutable objects. Never store references to external, mutable objects passed to the constructor; if necessary, create copies, and store references to the copies. Similarly, create copies of your internal mutable objecst when necessary to aboid returning the orginals to your methods.\n",
    " \n",
    "Applying this strategy to SynchronizedRGB results in the following steps:\n",
    "1. There are two setter methods in this class. The first one, set, arbitrarily transforms the object, and has no place in an immutable version of the class. The second one, *invert*, can be adapted by having it create a new object instead of modifying the existing one.\n",
    "2. All fields are already private; they are further qualified as *final*.\n",
    "3. The class itself is declared *final*.\n",
    "4. Only one field refers to an object, and that object is itself immutable. Therefore, no safegards against changing the state of \"contained\" mutable objects are necessary.\n",
    "\n",
    "ImmutableRGB:\n",
    " "
   ]
  },
  {
   "cell_type": "code",
   "execution_count": null,
   "metadata": {},
   "outputs": [],
   "source": [
    "final class ImmutableRGB() {\n",
    "    \n",
    "   final public class ImmutableRGB {\n",
    "\n",
    "    // Values must be between 0 and 255.\n",
    "    final private int red;\n",
    "    final private int green;\n",
    "    final private int blue;\n",
    "    final private String name;\n",
    "\n",
    "    private void check(int red,\n",
    "                       int green,\n",
    "                       int blue) {\n",
    "        if (red < 0 || red > 255\n",
    "            || green < 0 || green > 255\n",
    "            || blue < 0 || blue > 255) {\n",
    "            throw new IllegalArgumentException();\n",
    "        }\n",
    "    }\n",
    "\n",
    "    public ImmutableRGB(int red,\n",
    "                        int green,\n",
    "                        int blue,\n",
    "                        String name) {\n",
    "        check(red, green, blue);\n",
    "        this.red = red;\n",
    "        this.green = green;\n",
    "        this.blue = blue;\n",
    "        this.name = name;\n",
    "    }\n",
    "\n",
    "\n",
    "    public int getRGB() {\n",
    "        return ((red << 16) | (green << 8) | blue);\n",
    "    }\n",
    "\n",
    "    public String getName() {\n",
    "        return name;\n",
    "    }\n",
    "\n",
    "    public ImmutableRGB invert() {\n",
    "        return new ImmutableRGB(255 - red,\n",
    "                       255 - green,\n",
    "                       255 - blue,\n",
    "                       \"Inverse of \" + name);\n",
    "    }\n",
    "}"
   ]
  },
  {
   "cell_type": "markdown",
   "metadata": {},
   "source": [
    "Example of object immutability. https://www.youtube.com/watch?v=-Tydziij7s4"
   ]
  },
  {
   "cell_type": "markdown",
   "metadata": {},
   "source": [
    "# Packages\n",
    "Things you will name in Java are:\n",
    "- Packages\n",
    "- Classes\n",
    "- Interfaces CamelCase\n",
    "- Methods mixedCase\n",
    "- Constants Uppercase separate with underscore_ declare with final keyword\n",
    "- Variables mixedCase\n",
    "- Type Parameters, single charagers, capital letters\n",
    "\n",
    "Packages are:\n",
    "- Always lower case\n",
    "- Package names should be unique\n",
    "- Use your internet domain name, reverse, as a prefix for the package name\n",
    "- Orecle naming convention\n",
    " https://docs.oracle.com/javase/tutorial/java/package/namingpkgs.html\n",
    "\n",
    "Invalid domain name components\n",
    "- Replace invalid characters (i.e. -) in domain name with an underscore\n",
    "- Domain name components starting with a number should instead start with an underscore_\n",
    "- Domain name components that are java keywords should have that component startt with an underscore\n",
    "\n",
    "Class names\n",
    "- CamelCase\n",
    "- Class names should be nowns (they represents things).\n",
    "- Should start with a capital letter\n",
    "- Each word in the name should start with a capital (e.g. LinkedList)\n",
    "\n",
    "Packages\n",
    "- Millions Java developers worldwide\n",
    "- Class or intervace name conflicts are inevitable\n",
    "- Mechanism is needed to fully specify class\n",
    "- Allow use of classes with the same name in the same project(or, even, the same class)\n",
    "\n",
    "## Packages\n",
    "- Are a mechanism for grouping related classes and interfaces together\n",
    "- Manage namespace of object types and extends access protection\n",
    "\n",
    "Some reason to use packages are:\n",
    "- Programmers can easily determine what the classes are related\n",
    "- It is easy to know where to find the classes and interfaces that can provide the functions provided by the package\n",
    "- Because the package creates new namespace, class and interface name conflicts are avoided.\n",
    "- Classes within the package can have unrestricted accesss to one another while still restricting access for classes outside the package."
   ]
  },
  {
   "cell_type": "markdown",
   "metadata": {},
   "source": [
    "# Data Structures\n",
    "## Arrays and Lists\n",
    "\n",
    "Declare array with []"
   ]
  },
  {
   "cell_type": "code",
   "execution_count": 129,
   "metadata": {},
   "outputs": [],
   "source": [
    "int[] myArray;"
   ]
  },
  {
   "cell_type": "markdown",
   "metadata": {},
   "source": [
    "Instantiating array with *new*, and setting the length of the array."
   ]
  },
  {
   "cell_type": "code",
   "execution_count": 130,
   "metadata": {},
   "outputs": [],
   "source": [
    "myArray = new int[10];"
   ]
  },
  {
   "cell_type": "code",
   "execution_count": 131,
   "metadata": {},
   "outputs": [
    {
     "data": {
      "text/plain": [
       "0"
      ]
     },
     "execution_count": 131,
     "metadata": {},
     "output_type": "execute_result"
    }
   ],
   "source": [
    "myArray[1];"
   ]
  },
  {
   "cell_type": "markdown",
   "metadata": {},
   "source": [
    "Instantiating array with curly braces and comma separated list."
   ]
  },
  {
   "cell_type": "code",
   "execution_count": 2,
   "metadata": {},
   "outputs": [
    {
     "data": {
      "text/plain": [
       "3"
      ]
     },
     "execution_count": 2,
     "metadata": {},
     "output_type": "execute_result"
    }
   ],
   "source": [
    "int[] anotherArray = {1, 2, 3, 4};\n",
    "anotherArray[2];"
   ]
  },
  {
   "cell_type": "code",
   "execution_count": 3,
   "metadata": {},
   "outputs": [
    {
     "data": {
      "text/plain": [
       "[1, 2, 3, 4]"
      ]
     },
     "execution_count": 3,
     "metadata": {},
     "output_type": "execute_result"
    }
   ],
   "source": [
    "Arrays.toString(anotherArray);"
   ]
  },
  {
   "cell_type": "markdown",
   "metadata": {},
   "source": [
    "- Arrays is a datastructure that allows you to store multiple values of the same type into a single variable\n",
    "- The default valused of numeric array elements are set to zero.\n",
    "- Arrays are zero indexed: an array with n elements is indexed from 0 to n-1, for example 10 elements index range is from 0 to 9.\n",
    "- If we try to access index that is out of range Java will give us an *ArrayIndexOutOfBoundsException*, which indicates that the index is out of range in other words out of bounds.\n",
    "-To access array elements we use the square braces [ and ], known as the array access operator.\n",
    "\n",
    "creating new array"
   ]
  },
  {
   "cell_type": "code",
   "execution_count": 1,
   "metadata": {},
   "outputs": [],
   "source": [
    "int[] array = new int[5];"
   ]
  },
  {
   "cell_type": "markdown",
   "metadata": {},
   "source": [
    "The new operator is used to create the array and initialize the array elements to their default values.\n",
    "\n",
    "For int array, elements are array elements are initialzed to zero.\n",
    "For boolean array, array elements are initialzed to false.\n",
    "For string or other projects it will be initialized to null.\n",
    "\n",
    "Array.toString(array), prints comma separated list of array. "
   ]
  },
  {
   "cell_type": "code",
   "execution_count": 4,
   "metadata": {},
   "outputs": [
    {
     "data": {
      "text/plain": [
       "[1, 0, 2, 0, 0]"
      ]
     },
     "execution_count": 4,
     "metadata": {},
     "output_type": "execute_result"
    }
   ],
   "source": [
    "array[0] = 1;\n",
    "array[2] = 2;\n",
    "Arrays.toString(array);"
   ]
  },
  {
   "cell_type": "markdown",
   "metadata": {},
   "source": [
    "# DiffMerge and Meld\n",
    "DiffMerge is a program that will help you to visually compare and merge files on any operating system.\n",
    "With DiffMerge you can compare a single file or even the whole folder and visually see the differences side by side.\n",
    "\n",
    "Since diffmerge is not available on newer version of ubuntu we use meld instead\n",
    "To install meld"
   ]
  },
  {
   "cell_type": "code",
   "execution_count": null,
   "metadata": {},
   "outputs": [],
   "source": [
    "%%bash\n",
    "sudo apt update\n",
    "sudo apt install meld"
   ]
  },
  {
   "cell_type": "markdown",
   "metadata": {},
   "source": [
    "## Wrapper classes\n",
    "Java uses the concep of Wrapper class for all 8 primitive types - in the case of an int we can use Integer, and by doing so it gives us ways ot perform operations on an int."
   ]
  },
  {
   "cell_type": "code",
   "execution_count": 2,
   "metadata": {},
   "outputs": [
    {
     "name": "stdout",
     "output_type": "stream",
     "text": [
      "Integer Minimum Value = -2147483648\n",
      "Integer Maximum Value = 2147483647\n"
     ]
    }
   ],
   "source": [
    "int myMinIntValue = Integer.MIN_VALUE;\n",
    "int myMaxIntValue = Integer.MAX_VALUE;\n",
    "System.out.println(\"Integer Minimum Value = \" + myMinIntValue);\n",
    "System.out.println(\"Integer Maximum Value = \" + myMaxIntValue);"
   ]
  },
  {
   "cell_type": "markdown",
   "metadata": {},
   "source": [
    "In this case, we are using the MAX_VALUE and MIN_VALUE to get Java to tell us the maximum and minimum ranges of numbers that can be stored."
   ]
  },
  {
   "cell_type": "markdown",
   "metadata": {},
   "source": [
    "L declaration for long.\n",
    "Java will fit integer in long, if we don't declare the number a long."
   ]
  },
  {
   "cell_type": "code",
   "execution_count": 6,
   "metadata": {},
   "outputs": [
    {
     "ename": "CompilationException",
     "evalue": "",
     "output_type": "error",
     "traceback": [
      "\u001b[1m\u001b[30m|   \u001b[1m\u001b[30mlong bigLongLiteralValue = \u001b[0m\u001b[1m\u001b[30m\u001b[41m\u001b[0m\u001b[1m\u001b[30m2_147_483_648;\u001b[0m",
      "\u001b[1m\u001b[31minteger number too large\u001b[0m",
      ""
     ]
    }
   ],
   "source": [
    "long bigLongLiteralValue = 2_147_483_648;\n",
    "System.out.println(bigLongLiteralValue);"
   ]
  },
  {
   "cell_type": "markdown",
   "metadata": {},
   "source": [
    "So for a long we need to declare the number a long"
   ]
  },
  {
   "cell_type": "code",
   "execution_count": 7,
   "metadata": {},
   "outputs": [
    {
     "name": "stdout",
     "output_type": "stream",
     "text": [
      "2147483648\n"
     ]
    }
   ],
   "source": [
    "long bigLongLiteralValue = 2_147_483_648L;\n",
    "System.out.println(bigLongLiteralValue);"
   ]
  },
  {
   "cell_type": "markdown",
   "metadata": {},
   "source": [
    "## Floating Point Number Precision Tips\n",
    "In general *float* and *double* are great for general floating point operations. But both are not great to use where precision calculations are required - this is due to a limitation with how floating point numbers are stored, and not a Java problem.\n",
    "\n",
    "Java has a class called *BigDecimal* that overcomes this. When precise calculations are necessary, such as when performing currency calculations, floating-point types should not be used."
   ]
  },
  {
   "cell_type": "markdown",
   "metadata": {},
   "source": [
    "## Strings in Java are Immutable\n",
    "We cann't delete characters out of a *String*. Because *Strings* in Java are immutable. That means you can't change a *String* after it's created. Instead, what happens is a new *String* is created.\n",
    "\n",
    "### String Buffers\n",
    "The code we used to append strings with \"+\" was inefficient.\n",
    "As a resule of a *String* being created, appending values like this is inefficient and not recommended. A better way of doing it is using a *StringBuffer*."
   ]
  },
  {
   "cell_type": "markdown",
   "metadata": {},
   "source": [
    "# Testing\n",
    "## Installling junit on Ubuntu"
   ]
  },
  {
   "cell_type": "code",
   "execution_count": null,
   "metadata": {},
   "outputs": [],
   "source": [
    "%%bash\n",
    "sudo apt update\n",
    "sudo apt install junit"
   ]
  },
  {
   "cell_type": "markdown",
   "metadata": {},
   "source": [
    "## Adding junit to Intellij"
   ]
  },
  {
   "cell_type": "code",
   "execution_count": null,
   "metadata": {},
   "outputs": [],
   "source": [
    "import org.junit.jupiter.api.Test;"
   ]
  },
  {
   "cell_type": "markdown",
   "metadata": {},
   "source": [
    "Click on red lightbulb -> Add \"junit 5.*\" to classpath \n",
    "press Ok"
   ]
  },
  {
   "cell_type": "markdown",
   "metadata": {},
   "source": [
    "# Functional Interfaces\n",
    "\n",
    "java.util.function contains standard java functional interfaces\n",
    "\n",
    "\n",
    "There are 4 Types of functional intefaces\n",
    "- Consumer\n",
    "- Supplier\n",
    "- Function\n",
    "- Predicate\n",
    "\n",
    "## Consumer\n",
    "A functional interface that takes in a single argument and returns no result\n",
    "eg. void consume(obj)\n",
    "```\n",
    "public interface Printer {\n",
    "    void print(String message);\n",
    "}\n",
    "```\n",
    "\n",
    "## Supplier\n",
    "An operation that takes no input and returns a value\n",
    "eg. obj supply()\n",
    "\n",
    "## Function\n",
    "A functional interface that maps a value to another value\n",
    "eg. obj map(obj)\n",
    "\n",
    "## Predicate\n",
    "An operation that takes an object and determines if that object satisfies a criteria.\n",
    "eg. bool test(condition)\n",
    "\n",
    "\n",
    "### BiConsumer\n",
    "variation of consumer interface that takes in 2 arguments \n",
    "\n"
   ]
  }
 ],
 "metadata": {
  "kernelspec": {
   "display_name": "Java",
   "language": "java",
   "name": "java"
  },
  "language_info": {
   "codemirror_mode": "java",
   "file_extension": ".jshell",
   "mimetype": "text/x-java-source",
   "name": "Java",
   "pygments_lexer": "java",
   "version": "11.0.9+11-LTS"
  }
 },
 "nbformat": 4,
 "nbformat_minor": 4
}
