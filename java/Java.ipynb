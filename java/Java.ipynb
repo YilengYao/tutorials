{
 "cells": [
  {
   "cell_type": "markdown",
   "metadata": {},
   "source": [
    "# Java Packages\n",
    "A package is a way to organize your java projects."
   ]
  },
  {
   "cell_type": "markdown",
   "metadata": {},
   "source": [
    "# OOP\n",
    "## Constructors\n",
    "In Java you can call constructor from another constructor using *this* keyword"
   ]
  },
  {
   "cell_type": "code",
   "execution_count": 121,
   "metadata": {},
   "outputs": [],
   "source": [
    "public class Person {\n",
    "    \n",
    "    String firstName;\n",
    "    String lastName;\n",
    "    int age;\n",
    "    \n",
    "    public Person(String firstname, String lastName, int age) {\n",
    "        this.firstName = firstname;\n",
    "        this.lastName = lastName;\n",
    "        this.age = age;\n",
    "    }\n",
    "    \n",
    "    public Person() {\n",
    "        this(\"\", \"\", 0);\n",
    "    }\n",
    "    \n",
    "    public String getFirstName() {\n",
    "        return this.firstName;\n",
    "    }\n",
    "    \n",
    "    public String getLastName() {\n",
    "        return this.lastName;\n",
    "    }\n",
    "    \n",
    "    public int getAge() {\n",
    "        return this.age;\n",
    "    }\n",
    "    \n",
    "}"
   ]
  },
  {
   "cell_type": "code",
   "execution_count": 122,
   "metadata": {},
   "outputs": [
    {
     "name": "stdout",
     "output_type": "stream",
     "text": [
      "First Name: \n",
      "Last Name: \n",
      "Age: 0\n"
     ]
    }
   ],
   "source": [
    "Person noname = new Person();\n",
    "System.out.println(\"First Name: \" + noname.getFirstName());\n",
    "System.out.println(\"Last Name: \" + noname.getLastName());\n",
    "System.out.println(\"Age: \" + noname.getAge());"
   ]
  },
  {
   "cell_type": "markdown",
   "metadata": {},
   "source": [
    "# Inheritence\n",
    "## Keywords this vs super\n",
    "The *super* keyword is used to access/call the parent class.\n",
    "\n",
    "The *this* keyword is used to call varioble and method of the current class.\n",
    "\n",
    "We can use *super* and *this* anywhere except for static block and methods(compile-time) errors.\n",
    "\n",
    "*this* is commonly used for constructors and setters.\n",
    "\n",
    "*super* is commonly used for method overriding, when a method call has the same name as a method from the parent clas."
   ]
  },
  {
   "cell_type": "markdown",
   "metadata": {},
   "source": [
    "## this() vs super() call\n",
    "*this()* can be used to call a contructer from another overloaded constructor in the same class\n",
    "*this()* can be used only in a constructor, and it must be used in the first statement in a constructor. It's used with constructor chaining, when one constructor calls another constructor to reduce duplicated code.\n",
    "\n",
    "*super* is the only way to call the parent constructor.\n",
    "\n",
    "The Java Compiler puts a default call to *super()* if we don't add it, and it is always the no-args *super* which is inserted by compiler (constructor without arguments).\n",
    "The call to *super()* must be the first statement in each constructor.\n",
    "Even Abstract classes have constructors, although you can never instantiate an abstract class using the new keyword.\n",
    "An abstract class is still a *super* class, so its constructor run when someone makes an instance of a concrete subclass.\n",
    "Note: A constructor can have a call to *super* or *this*."
   ]
  },
  {
   "cell_type": "markdown",
   "metadata": {},
   "source": [
    "# Instance vs Static\n",
    "\n",
    "Static methods can't access instance methods and instance variables directly (done through getters and setters).\n",
    "They are usually used for operations that don't require any data from an instance of the class (from 'this')\n",
    ".\n",
    "Static methods can't use the *this* keyword.\n",
    "Whenever you see a method that does use use instance variables that method should be declared as a static method.\n",
    "For example main is a static method adn it is called by the JVM when it starts an application.\n",
    "\n",
    "Instance methods can access instance methods and instance variables directly\n",
    "Instance methods can also access static methods and static variables directly."
   ]
  },
  {
   "cell_type": "markdown",
   "metadata": {},
   "source": [
    "# Data Structures\n",
    "## Arrays and Lists\n",
    "\n",
    "Declare array with []"
   ]
  },
  {
   "cell_type": "code",
   "execution_count": 129,
   "metadata": {},
   "outputs": [],
   "source": [
    "int[] myArray;"
   ]
  },
  {
   "cell_type": "markdown",
   "metadata": {},
   "source": [
    "Instantiating array with *new*, and setting the length of the array."
   ]
  },
  {
   "cell_type": "code",
   "execution_count": 130,
   "metadata": {},
   "outputs": [],
   "source": [
    "myArray = new int[10];"
   ]
  },
  {
   "cell_type": "code",
   "execution_count": 131,
   "metadata": {},
   "outputs": [
    {
     "data": {
      "text/plain": [
       "0"
      ]
     },
     "execution_count": 131,
     "metadata": {},
     "output_type": "execute_result"
    }
   ],
   "source": [
    "myArray[1];"
   ]
  },
  {
   "cell_type": "markdown",
   "metadata": {},
   "source": [
    "Instantiating array with curly braces and comma separated list."
   ]
  },
  {
   "cell_type": "code",
   "execution_count": 132,
   "metadata": {},
   "outputs": [
    {
     "data": {
      "text/plain": [
       "3"
      ]
     },
     "execution_count": 132,
     "metadata": {},
     "output_type": "execute_result"
    }
   ],
   "source": [
    "int[] anotherArray = {1, 2, 3, 4};\n",
    "anotherArray[2];"
   ]
  },
  {
   "cell_type": "markdown",
   "metadata": {},
   "source": [
    "- Arrays is a datastructure that allows you to store multiple values of the same type into a single variable\n",
    "- The default valused of numeric array elements are set to zero.\n",
    "- Arrays are zero indexed: an array with n elements is indexed from 0 to n-1, for example 10 elements index range is from 0 to 9.\n",
    "- If we try to access index that is out of range Java will give us an *ArrayIndexOutOfBoundsException*, which indicates that the index is out of range in other words out of bounds.\n",
    "-To access array elements we use the square braces [ and ], known as the array access operator.\n",
    "\n",
    "creating new array"
   ]
  },
  {
   "cell_type": "code",
   "execution_count": 1,
   "metadata": {},
   "outputs": [],
   "source": [
    "int[] array = new int[5];"
   ]
  },
  {
   "cell_type": "markdown",
   "metadata": {},
   "source": [
    "The new operator is sued to createthe array and initialize the array elements to their default values.\n",
    "\n",
    "For int array, elements are array elements are initialzed to zero.\n",
    "For boolean array, array elements are initialzed to false.\n",
    "For string or other projects it will be initialized to null."
   ]
  },
  {
   "cell_type": "markdown",
   "metadata": {},
   "source": [
    "# DiffMerge and Meld\n",
    "DiffMerge is a program that will help you to visually compare and merge files on any operating system.\n",
    "With DiffMerge you can compare a single file or even the whole folder and visually see the differences side by side.\n",
    "\n",
    "Since diffmerge is not available on newer version of ubuntu we use meld instead\n",
    "To install meld"
   ]
  },
  {
   "cell_type": "code",
   "execution_count": null,
   "metadata": {},
   "outputs": [],
   "source": [
    "%%bash\n",
    "sudo apt update\n",
    "sudo apt install meld"
   ]
  },
  {
   "cell_type": "markdown",
   "metadata": {},
   "source": [
    "## Wrapper classes\n",
    "Java uses the concep of Wrapper class for all 8 primitive types - in the case of an int we can use Integer, and by doing so it gives us ways ot perform operations on an int."
   ]
  },
  {
   "cell_type": "code",
   "execution_count": 2,
   "metadata": {},
   "outputs": [
    {
     "name": "stdout",
     "output_type": "stream",
     "text": [
      "Integer Minimum Value = -2147483648\n",
      "Integer Maximum Value = 2147483647\n"
     ]
    }
   ],
   "source": [
    "int myMinIntValue = Integer.MIN_VALUE;\n",
    "int myMaxIntValue = Integer.MAX_VALUE;\n",
    "System.out.println(\"Integer Minimum Value = \" + myMinIntValue);\n",
    "System.out.println(\"Integer Maximum Value = \" + myMaxIntValue);"
   ]
  },
  {
   "cell_type": "markdown",
   "metadata": {},
   "source": [
    "In this case, we are using the MAX_VALUE and MIN_VALUE to get Java to tell us the maximum and minimum ranges of numbers that can be stored."
   ]
  },
  {
   "cell_type": "markdown",
   "metadata": {},
   "source": [
    "L declaration for long.\n",
    "Java will fit integer in long, if we don't declare the number a long."
   ]
  },
  {
   "cell_type": "code",
   "execution_count": 6,
   "metadata": {},
   "outputs": [
    {
     "ename": "CompilationException",
     "evalue": "",
     "output_type": "error",
     "traceback": [
      "\u001b[1m\u001b[30m|   \u001b[1m\u001b[30mlong bigLongLiteralValue = \u001b[0m\u001b[1m\u001b[30m\u001b[41m\u001b[0m\u001b[1m\u001b[30m2_147_483_648;\u001b[0m",
      "\u001b[1m\u001b[31minteger number too large\u001b[0m",
      ""
     ]
    }
   ],
   "source": [
    "long bigLongLiteralValue = 2_147_483_648;\n",
    "System.out.println(bigLongLiteralValue);"
   ]
  },
  {
   "cell_type": "markdown",
   "metadata": {},
   "source": [
    "So for a long we need to declare the number a long"
   ]
  },
  {
   "cell_type": "code",
   "execution_count": 7,
   "metadata": {},
   "outputs": [
    {
     "name": "stdout",
     "output_type": "stream",
     "text": [
      "2147483648\n"
     ]
    }
   ],
   "source": [
    "long bigLongLiteralValue = 2_147_483_648L;\n",
    "System.out.println(bigLongLiteralValue);"
   ]
  },
  {
   "cell_type": "markdown",
   "metadata": {},
   "source": [
    "## Floating Point Number Precision Tips\n",
    "In general *float* and *double* are great for general floating point operations. But both are not great to use where precision calculations are required - this is due to a limitation with how floating point numbers are stored, and not a Java problem.\n",
    "\n",
    "Java has a class called *BigDecimal* that overcomes this. When precise calculations are necessary, such as when performing currency calculations, floating-point types should not be used."
   ]
  },
  {
   "cell_type": "markdown",
   "metadata": {},
   "source": [
    "## Strings in Java are Immutable\n",
    "We cann't delete characters out of a *String*. Because *Strings* in Java are immutable. That means you can't change a *String* after it's created. Instead, what happens is a new *String* is created.\n",
    "\n",
    "### String Buffers\n",
    "The code we used to append strings with \"+\" was inefficient.\n",
    "As a resule of a *String* being created, appending values like this is inefficient and not recommended. A better way of doing it is using a *StringBuffer*."
   ]
  },
  {
   "cell_type": "markdown",
   "metadata": {},
   "source": [
    "# Testing\n",
    "## Installling junit on Ubuntu"
   ]
  },
  {
   "cell_type": "code",
   "execution_count": null,
   "metadata": {},
   "outputs": [],
   "source": [
    "%%bash\n",
    "sudo apt update\n",
    "sudo apt install junit"
   ]
  },
  {
   "cell_type": "markdown",
   "metadata": {},
   "source": [
    "## Adding junit to Intellij"
   ]
  },
  {
   "cell_type": "code",
   "execution_count": null,
   "metadata": {},
   "outputs": [],
   "source": [
    "import org.junit.jupiter.api.Test;"
   ]
  },
  {
   "cell_type": "markdown",
   "metadata": {},
   "source": [
    "Click on red lightbulb -> Add \"junit 5.*\" to classpath \n",
    "press Ok"
   ]
  },
  {
   "cell_type": "markdown",
   "metadata": {},
   "source": [
    "# Functional Interfaces\n",
    "\n",
    "java.util.function contains standard java functional interfaces\n",
    "\n",
    "\n",
    "There are 4 Types of functional intefaces\n",
    "- Consumer\n",
    "- Supplier\n",
    "- Function\n",
    "- Predicate\n",
    "\n",
    "## Consumer\n",
    "A functional interface that takes in a single argument and returns no result\n",
    "eg. void consume(obj)\n",
    "```\n",
    "public interface Printer {\n",
    "    void print(String message);\n",
    "}\n",
    "```\n",
    "\n",
    "## Supplier\n",
    "An operation that takes no input and returns a value\n",
    "eg. obj supply()\n",
    "\n",
    "## Function\n",
    "A functional interface that maps a value to another value\n",
    "eg. obj map(obj)\n",
    "\n",
    "## Predicate\n",
    "An operation that takes an object and determines if that object satisfies a criteria.\n",
    "eg. bool test(condition)\n",
    "\n",
    "\n",
    "### BiConsumer\n",
    "variation of consumer interface that takes in 2 arguments \n",
    "\n"
   ]
  }
 ],
 "metadata": {
  "kernelspec": {
   "display_name": "Java",
   "language": "java",
   "name": "java"
  },
  "language_info": {
   "codemirror_mode": "java",
   "file_extension": ".jshell",
   "mimetype": "text/x-java-source",
   "name": "Java",
   "pygments_lexer": "java",
   "version": "11.0.8+10-LTS"
  }
 },
 "nbformat": 4,
 "nbformat_minor": 4
}
