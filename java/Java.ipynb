{
 "cells": [
  {
   "cell_type": "markdown",
   "metadata": {},
   "source": [
    "# Functional Interfaces\n",
    "\n",
    "java.util.function contains standard java functional interfaces\n",
    "\n",
    "\n",
    "There are 4 Types of functional intefaces\n",
    "- Consumer\n",
    "- Supplier\n",
    "- Function\n",
    "- Predicate\n",
    "\n",
    "## Consumer\n",
    "A functional interface that takes in a single argument and returns no result\n",
    "eg. void consume(obj)\n",
    "```\n",
    "public interface Printer {\n",
    "    void print(String message);\n",
    "}\n",
    "```\n",
    "\n",
    "## Supplier\n",
    "An operation that takes no input and returns a value\n",
    "eg. obj supply()\n",
    "\n",
    "## Function\n",
    "A functional interface that maps a value to another value\n",
    "eg. obj map(obj)\n",
    "\n",
    "## Predicate\n",
    "An operation that takes an object and determines if that object satisfies a criteria.\n",
    "eg. bool test(condition)\n",
    "\n",
    "\n",
    "### BiConsumer\n",
    "variation of consumer interface that takes in 2 arguments \n",
    "\n"
   ]
  },
  {
   "cell_type": "code",
   "execution_count": null,
   "metadata": {},
   "outputs": [],
   "source": []
  }
 ],
 "metadata": {
  "kernelspec": {
   "display_name": "Python 3",
   "language": "python",
   "name": "python3"
  },
  "language_info": {
   "codemirror_mode": {
    "name": "ipython",
    "version": 3
   },
   "file_extension": ".py",
   "mimetype": "text/x-python",
   "name": "python",
   "nbconvert_exporter": "python",
   "pygments_lexer": "ipython3",
   "version": "3.7.4"
  }
 },
 "nbformat": 4,
 "nbformat_minor": 4
}
