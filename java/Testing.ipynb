{
 "cells": [
  {
   "cell_type": "markdown",
   "metadata": {},
   "source": [
    "# Junit Testing of Print from a Void Method\n",
    "Read more https://www.baeldung.com/java-testing-system-out-println"
   ]
  },
  {
   "cell_type": "markdown",
   "metadata": {},
   "source": [
    "Method we are testing"
   ]
  },
  {
   "cell_type": "code",
   "execution_count": null,
   "metadata": {},
   "outputs": [],
   "source": [
    "public class MegaBytesConverter {\n",
    "    public static void printMegaBytesAndKiloBytes(int kiloBytes) {\n",
    "\n",
    "        int megaBytes = kiloBytes / 1024;\n",
    "        int remainingKilobytes = kiloBytes % 1024;\n",
    "\n",
    "        String result = kiloBytes < 0 ? \"Invalid Value\" : kiloBytes + \" KB = \" + megaBytes + \" MB and \" + remainingKilobytes + \" KB\";\n",
    "        System.out.println(result);\n",
    "    }\n",
    "}"
   ]
  },
  {
   "cell_type": "markdown",
   "metadata": {},
   "source": [
    "Method testing the printMegaBytesAndKiloBytes"
   ]
  },
  {
   "cell_type": "code",
   "execution_count": null,
   "metadata": {},
   "outputs": [],
   "source": [
    "import org.junit.jupiter.api.BeforeEach;\n",
    "import java.io.ByteArrayOutputStream;\n",
    "import java.io.PrintStream;\n",
    "\n",
    "import org.junit.Test;\n",
    "import static org.junit.Assert.assertEquals;\n",
    "\n",
    "public class MetaBytesConverterTest {\n",
    "    private final ByteArrayOutputStream outputStreamCaptor = new ByteArrayOutputStream();\n",
    "\n",
    "    @BeforeEach\n",
    "    public void setUp() {\n",
    "        System.setOut(new PrintStream(outputStreamCaptor));\n",
    "    }\n",
    "\n",
    "    @Test\n",
    "    public void test1() {\n",
    "        MegaBytesConverter.printMegaBytesAndKiloBytes(2500);\n",
    "        assertEquals(\"2500 KB = 2 MB and 452 KB\", outputStreamCaptor.toString().trim());\n",
    "    }\n",
    "\n",
    "    @Test\n",
    "    public void test2() {\n",
    "        MegaBytesConverter.printMegaBytesAndKiloBytes(-1024);\n",
    "        assertEquals(\"Invalid Value\", outputStreamCaptor.toString().trim());\n",
    "    }\n",
    "\n",
    "    @Test\n",
    "    public void test3() {\n",
    "        MegaBytesConverter.printMegaBytesAndKiloBytes(5000);\n",
    "        assertEquals(\"5000 KB = 4 MB and 904 KB\", outputStreamCaptor.toString().trim());\n",
    "    }\n",
    "}\n"
   ]
  }
 ],
 "metadata": {
  "kernelspec": {
   "display_name": "Java",
   "language": "java",
   "name": "java"
  },
  "language_info": {
   "codemirror_mode": "java",
   "file_extension": ".jshell",
   "mimetype": "text/x-java-source",
   "name": "Java",
   "pygments_lexer": "java",
   "version": "11.0.8+10-LTS"
  }
 },
 "nbformat": 4,
 "nbformat_minor": 2
}
