{
 "cells": [
  {
   "cell_type": "markdown",
   "metadata": {},
   "source": [
    "# Maven\n",
    "Maven is\n",
    "- Jave Dependency management system: will pull jar that you depend on for you from internet if it isn't cached locally\n",
    "- Java build/test management system: will build your artifacts and run test for you"
   ]
  },
  {
   "cell_type": "markdown",
   "metadata": {},
   "source": [
    "## Standard Directory Structure\n",
    "\n",
    "|Directory|Description\n",
    "|-|-|\n",
    "|src/main/java|Your Java source code|\n",
    "|src/main/resources|Properties / config files used by you app|\n",
    "|src/main/webapp|JSP files and web config files other web assets (images, css, js, etc)|\n",
    "|src/test|Unit testing code and properties|\n",
    "|target|Destination directory for compiled code. Automatically created by Maven|"
   ]
  },
  {
   "cell_type": "markdown",
   "metadata": {},
   "source": [
    "## pom.xml\n",
    "Project Object Model file: configuratin file for your project\n",
    "- Located in root of maven project\n",
    "\n",
    "|POM File Structure||\n",
    "|-|-|\n",
    "|project meta data|Project name, version etc, output file type and name: jar, war, ...|\n",
    "|dependencies|List of projects we depend on Spring, Hibernate, etc...|\n",
    "|plug ins|Additional custom tasks to run: generate JUnit test reports etc...|\n",
    "\n",
    "Project Cordinates\n",
    "\n",
    "Uniquely identifies a project\n",
    "- groupId: Name of company, group or organisation. Convention is to use reverse domain name: \n",
    "- artifactId: Name for this project: myapp\n",
    "- version: A specific release version like: 1.0, 1.6 ..., If project is under active development then : 1.0-SNAPSHOT\n"
   ]
  },
  {
   "cell_type": "markdown",
   "metadata": {},
   "source": [
    "## Adding Dependencies\n",
    "Put inside \\< dependencies\\> tag\n",
    "\n",
    "To add a given dependency project, we need\n",
    "- Group ID, Artifact ID\n",
    "- Version is optional\n",
    "- May see this referred to as GAV: Group Id, Artifact ID, and Version\n",
    "\n",
    "### How find Dependencies coordinate\n",
    "1. Vision the project page, website that hosts the dependency\n",
    "2. Maven official page http://search.maven.org or third party search page http://mvnrepository.com"
   ]
  },
  {
   "cell_type": "markdown",
   "metadata": {},
   "source": [
    "## Properties\n",
    "Inside the \\< properties\\> tag we can:\n",
    "\n",
    "Add new Maven compiler properties\n",
    "eg."
   ]
  },
  {
   "cell_type": "raw",
   "metadata": {},
   "source": [
    "<properties>\n",
    " <project.build.sourceEncoding>UTF-8</project.build.sourceEncoding>\n",
    " <maven.compiler.target>1.8</maven.compiler.target>\n",
    " <maven.compiler.source>1.8</maven.compiler.source>"
   ]
  },
  {
   "cell_type": "markdown",
   "metadata": {},
   "source": [
    "- maven.compiler.target: Generates class files that will work on a given Java version\n",
    "- maven.compiler.source: Ther Java version of source code accepted"
   ]
  },
  {
   "cell_type": "markdown",
   "metadata": {},
   "source": [
    "## Maven Architecture\n",
    "### Repository Types\n",
    "- Local Repository\n",
    "- Central Repository\n",
    "\n",
    "#### Local Repository\n",
    "Located on developer's computer\n",
    "- MS Windows: c:\\\\Users\\\\< users-home-dir \\> \\\\.m2\\\\repository\n",
    "- Mac and Linux: ~/.m2/repository\n",
    "\n",
    "Maven will search this local repository first before going to Maven Central Repository, it is oyour local cache \n",
    "\n",
    "#### Central Repository\n",
    "By default Maven will search Maven's Central Repository\n",
    "- requires internet connection\n",
    "- Once files are downloaded, they are stored in local repository\n",
    "\n",
    "#### Other Repositories\n",
    "Fonfigure Additional Repositories\n",
    "1. Add atlassian-mail dependency to our project\n",
    "- This is only available in the Atlassian repository\n",
    "2. Add the Atlassian repository to our pom.xml file\n",
    "\n",
    "#### Private Repositories\n",
    "Use Case\n",
    "- Your company has created super-top-secret code modules\n",
    "- Would like to share with other development teams at your compny\n",
    "- But let's keep it private\n",
    "\n",
    "- You can set up your own private Maven Repository\n",
    "- - Secure it with credentials: id//password\n",
    "- Create you osuper-top-secret projects and publish on private repository\n",
    "- Your development teams can access your private repository \n",
    "\n",
    "|Product|Website|\n",
    "|-|-|\n",
    "|Achiva|archiva.apache.org|\n",
    "|Artifactory|www.jfrog.com|\n",
    "|Nexus|www.sonatype.com|\n",
    "\n",
    "<img src=\"./Media/Maven_Architecture.png\">"
   ]
  },
  {
   "cell_type": "markdown",
   "metadata": {},
   "source": [
    "How to set up settings.xml for private repo\n",
    "https://help.sonatype.com/repomanager3/formats/maven-repositories"
   ]
  }
 ],
 "metadata": {
  "kernelspec": {
   "display_name": "Java",
   "language": "java",
   "name": "java"
  },
  "language_info": {
   "codemirror_mode": "java",
   "file_extension": ".jshell",
   "mimetype": "text/x-java-source",
   "name": "Java",
   "pygments_lexer": "java",
   "version": "11.0.8+10-LTS"
  }
 },
 "nbformat": 4,
 "nbformat_minor": 2
}
