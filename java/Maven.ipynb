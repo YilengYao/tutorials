{
 "cells": [
  {
   "cell_type": "markdown",
   "metadata": {},
   "source": [
    "# Maven\n",
    "Maven is\n",
    "- Jave Dependency management system: will pull jar that you depend on for you from internet if it isn't cached locally\n",
    "- Java build/test management system: will build your artifacts and run test for you"
   ]
  },
  {
   "cell_type": "markdown",
   "metadata": {},
   "source": [
    "## Standard Directory Structure\n",
    "\n",
    "|Directory|Description\n",
    "|-|-|\n",
    "|src/main/java|Your Java source code|\n",
    "|src/main/resources|Properties / config files used by you app|\n",
    "|src/main/webapp|JSP files and web config files other web assets (images, css, js, etc)|\n",
    "|src/test|Unit testing code and properties|\n",
    "|target|Destination directory for compiled code. Automatically created by Maven|"
   ]
  },
  {
   "cell_type": "markdown",
   "metadata": {},
   "source": [
    "## pom.xml\n",
    "Project Object Model file: configuratin file for your project\n",
    "- Located in root of maven project\n",
    "\n",
    "|POM File Structure||\n",
    "|-|-|\n",
    "|project meta data|Project name, version etc, output file type and name: jar, war, ...|\n",
    "|dependencies|List of projects we depend on Spring, Hibernate, etc...|\n",
    "|plug ins|Additional custom tasks to run: generate JUnit test reports etc...|\n",
    "\n",
    "Project Cordinates\n",
    "\n",
    "Uniquely identifies a project\n",
    "- groupId: Name of company, group or organisation. Convention is to use reverse domain name: \n",
    "- artifactId: Name for this project: myapp\n",
    "- version: A specific release version like: 1.0, 1.6 ..., If project is under active development then : 1.0-SNAPSHOT\n"
   ]
  },
  {
   "cell_type": "markdown",
   "metadata": {},
   "source": [
    "## Adding Dependencies\n",
    "Put inside \\\\<dependencies\\\\> tag\n",
    "\n",
    "To add a given dependency project, we need\n",
    "- Group ID, Artifact ID\n",
    "- Version is optional\n",
    "- May see this referred to as GAV: Group Id, Artifact ID, and Version\n",
    "\n",
    "### How find Dependencies coordinate\n",
    "1. Vision the project page, website that hosts the dependency\n",
    "2. Maven official page http://search.maven.org or third party search page http://mvnrepository.com"
   ]
  },
  {
   "cell_type": "code",
   "execution_count": null,
   "metadata": {},
   "outputs": [],
   "source": []
  }
 ],
 "metadata": {
  "kernelspec": {
   "display_name": "Java",
   "language": "java",
   "name": "java"
  },
  "language_info": {
   "codemirror_mode": "java",
   "file_extension": ".jshell",
   "mimetype": "text/x-java-source",
   "name": "Java",
   "pygments_lexer": "java",
   "version": "11.0.8+10-LTS"
  }
 },
 "nbformat": 4,
 "nbformat_minor": 2
}
