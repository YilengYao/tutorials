{
 "cells": [
  {
   "cell_type": "markdown",
   "metadata": {},
   "source": [
    "# Maven\n",
    "Maven is\n",
    "- Jave Dependency management system: will pull jar that you depend on for you from internet if it isn't cached locally\n",
    "- Java build/test management system: will build your artifacts and run test for you"
   ]
  },
  {
   "cell_type": "markdown",
   "metadata": {},
   "source": [
    "## Standard Directory Structure\n",
    "\n",
    "|Directory|Description\n",
    "|-|-|\n",
    "|src/main/java|Your Java source code|\n",
    "|src/main/resources|Properties / config files used by you app|\n",
    "|src/main/webapp|JSP files and web config files other web assets (images, css, js, etc)|\n",
    "|src/test|Unit testing code and properties|\n",
    "|target|Destination directory for compiled code. Automatically created by Maven|"
   ]
  },
  {
   "cell_type": "code",
   "execution_count": null,
   "metadata": {},
   "outputs": [],
   "source": []
  }
 ],
 "metadata": {
  "kernelspec": {
   "display_name": "Java",
   "language": "java",
   "name": "java"
  },
  "language_info": {
   "codemirror_mode": "java",
   "file_extension": ".jshell",
   "mimetype": "text/x-java-source",
   "name": "Java",
   "pygments_lexer": "java",
   "version": "11.0.8+10-LTS"
  }
 },
 "nbformat": 4,
 "nbformat_minor": 2
}
