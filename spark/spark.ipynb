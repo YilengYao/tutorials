{
 "cells": [
  {
   "cell_type": "markdown",
   "metadata": {},
   "source": [
    "# Spark\n",
    "Spark is a framework for serving web applications.\n",
    "\n",
    "Spark webpage http://sparkjava.com/\n",
    "\n",
    "Minimalist Microframework for WebApps\n",
    "- Easy to set up\n",
    "- Fast to start up\n",
    "- Serve static resources or REST requests\n",
    "- Request and response object\n",
    "\n",
    "Spark maps verb and route\n",
    "\n",
    "|Verb|Route|\n",
    "|-|-|\n",
    "|get|/home|\n",
    "|put|/document/id|\n",
    "|post|...|\n",
    "delete|...|\n",
    "\n",
    "And Handler to handle business logic"
   ]
  },
  {
   "cell_type": "markdown",
   "metadata": {},
   "source": [
    "Lets set up spark with maven, by defining the dependency in the pom file."
   ]
  },
  {
   "cell_type": "code",
   "execution_count": 1,
   "metadata": {},
   "outputs": [],
   "source": [
    "%%loadFromPOM\n",
    "<dependency>\n",
    "    <groupId>com.sparkjava</groupId>\n",
    "    <artifactId>spark-core</artifactId>\n",
    "    <version>2.5</version>\n",
    "</dependency>"
   ]
  },
  {
   "cell_type": "markdown",
   "metadata": {},
   "source": [
    "Lets start a spark server."
   ]
  },
  {
   "cell_type": "code",
   "execution_count": 21,
   "metadata": {},
   "outputs": [],
   "source": [
    "import static spark.Spark.*;\n",
    "\n",
    "public class HelloWorld {\n",
    "    public static void spark() {\n",
    "        get(\"/hello\", (req, res) -> \"Hello World\");\n",
    "    }\n",
    "}"
   ]
  },
  {
   "cell_type": "code",
   "execution_count": 22,
   "metadata": {},
   "outputs": [],
   "source": [
    "HelloWorld.spark()"
   ]
  },
  {
   "cell_type": "markdown",
   "metadata": {},
   "source": [
    "port 4567 is the default port in spark if you don't specify a port. Spark leverage Java 8 Lambdas.\n",
    "\n",
    "You can see \"Hello World\" being served on http://localhost:4567/hello"
   ]
  },
  {
   "cell_type": "code",
   "execution_count": 23,
   "metadata": {},
   "outputs": [],
   "source": [
    "stop();"
   ]
  },
  {
   "cell_type": "markdown",
   "metadata": {},
   "source": [
    "Spark under the hood runs Jetty server. Jetty is the default server for Spark."
   ]
  },
  {
   "cell_type": "markdown",
   "metadata": {},
   "source": [
    "## Configurations\n",
    "Common options are easy to tune\n",
    "- Port\n",
    "- Threads\n",
    "- Timeout"
   ]
  },
  {
   "cell_type": "code",
   "execution_count": null,
   "metadata": {},
   "outputs": [],
   "source": [
    "public class HelloWorld {\n",
    "    public static void main(String[] args) {\n",
    "        port(8080);\n",
    "        threadPool(100, 10, 30000);\n",
    "        get(\"/hello\", (request, response) -> \"World\");\n",
    "    }\n",
    "}"
   ]
  },
  {
   "cell_type": "markdown",
   "metadata": {},
   "source": [
    "Building a jar that runs Spark application using Maven."
   ]
  },
  {
   "cell_type": "code",
   "execution_count": null,
   "metadata": {},
   "outputs": [],
   "source": [
    "%%bash\n",
    "mvn clean install"
   ]
  },
  {
   "cell_type": "code",
   "execution_count": null,
   "metadata": {},
   "outputs": [],
   "source": [
    "<?xml version=\"1.0\" encoding=\"UTF-8\"?>\n",
    "<project xmlns=\"http://maven.apache.org/POM/4.0.0\"\n",
    "         xmlns:xsi=\"http://www.w3.org/2001/XMLSchema-instance\"\n",
    "         xsi:schemaLocation=\"http://maven.apache.org/POM/4.0.0 http://maven.apache.org/xsd/maven-4.0.0.xsd\">\n",
    "    <modelVersion>4.0.0</modelVersion>\n",
    "\n",
    "    <groupId>org.example</groupId>\n",
    "    <artifactId>SparkProject</artifactId>\n",
    "    <version>1.0-SNAPSHOT</version>\n",
    "    <properties>\n",
    "        <maven.compiler.source>1.8</maven.compiler.source>\n",
    "        <maven.compiler.target>1.8</maven.compiler.target>\n",
    "        <maven-jar-plugin.version>3.1.1</maven-jar-plugin.version>\n",
    "    </properties>\n",
    "    <build>\n",
    "        <plugins>\n",
    "            <plugin>\n",
    "                <groupId>org.apache.maven.plugins</groupId>\n",
    "                <artifactId>maven-compiler-plugin</artifactId>\n",
    "                <version>3.6.0</version>\n",
    "                <configuration>\n",
    "                    <source>1.8</source>\n",
    "                    <target>1.8</target>\n",
    "                </configuration>\n",
    "            </plugin>\n",
    "            <!-- Maven Shade Plugin -->\n",
    "            <plugin>\n",
    "                <groupId>org.apache.maven.plugins</groupId>\n",
    "                <artifactId>maven-shade-plugin</artifactId>\n",
    "                <version>2.4.3</version>\n",
    "                <configuration>\n",
    "                    <filters>\n",
    "                        <filter>\n",
    "                            <artifact>*:*</artifact>\n",
    "                            <excludes>\n",
    "                                <exclude>META-INF/*.SF</exclude>\n",
    "                                <exclude>META-INF/*.DSA</exclude>\n",
    "                                <exclude>META-INF/*.RSA</exclude>\n",
    "                            </excludes>\n",
    "                        </filter>\n",
    "                    </filters>\n",
    "                    <!-- Additional configuration. -->\n",
    "                </configuration>\n",
    "                <executions>\n",
    "                    <!-- Run shade goal on package phase -->\n",
    "                    <execution>\n",
    "                        <phase>package</phase>\n",
    "                        <goals>\n",
    "                            <goal>shade</goal>\n",
    "                        </goals>\n",
    "                        <configuration>\n",
    "                            <transformers>\n",
    "                                <!-- add Main-Class to manifest file -->\n",
    "                                <transformer implementation=\"org.apache.maven.plugins.shade.resource.ManifestResourceTransformer\">\n",
    "                                    <mainClass>com.helloworld.HelloWorld</mainClass>\n",
    "                                </transformer>\n",
    "                            </transformers>\n",
    "                        </configuration>\n",
    "                    </execution>\n",
    "                </executions>\n",
    "            </plugin>\n",
    "        </plugins>\n",
    "    </build>\n",
    "\n",
    "    <dependencies>\n",
    "        <dependency>\n",
    "            <groupId>com.sparkjava</groupId>\n",
    "            <artifactId>spark-core</artifactId>\n",
    "            <version>2.9.3</version>\n",
    "        </dependency>\n",
    "    </dependencies>\n",
    "</project>"
   ]
  },
  {
   "cell_type": "code",
   "execution_count": null,
   "metadata": {},
   "outputs": [],
   "source": [
    "java  -jar $(pwd)/target/SparkProject-1.0-SNAPSHOT.jar\n"
   ]
  }
 ],
 "metadata": {
  "kernelspec": {
   "display_name": "Java",
   "language": "java",
   "name": "java"
  },
  "language_info": {
   "codemirror_mode": "java",
   "file_extension": ".jshell",
   "mimetype": "text/x-java-source",
   "name": "Java",
   "pygments_lexer": "java",
   "version": "11.0.8+10-LTS"
  }
 },
 "nbformat": 4,
 "nbformat_minor": 2
}
