{
 "cells": [
  {
   "cell_type": "markdown",
   "metadata": {},
   "source": [
    "## What is Typescript\n",
    "- A JavaScript Superset\n",
    "- A Language building up on Javascript\n",
    "- Adds new Features + Advantages of Javascript\n",
    "- Cannot execute TypeScript in browser and node \n",
    "- A compiler compiles Typescript to Javascript\n",
    "\n",
    "Typescript = Javascript + A type system\n",
    "\n",
    "In short typescript is extra syntax we added to our code, that will help us catch errors. Our typescript will ultimately be compiled to javascript and run as javascript.\n",
    "\n",
    "The TS Type System\n",
    "1. Helps us scatch errors during development (by giving us error messages in our IDE during development)\n",
    "1. Uses 'type annotations' to analyze our code\n",
    "1. Only active during deployment\n",
    "1. Doesn't provide any performance optimization"
   ]
  },
  {
   "cell_type": "markdown",
   "metadata": {},
   "source": [
    "#### Developement lifecycle\n",
    "Typescript Code (Javascript with type annotations) -> Typescript Compiler -> Plain old Javascript -> Browser \n",
    "\n",
    "Summary\n",
    "- Writing Typescript is the same as writing Javascript with some \"extra documentation\"\n",
    "- Typescript has no effect on how our code gets executed by the browser or Node\n",
    "- It is best to think of Typescript as being like as friend sitting behind you while you are coding."
   ]
  },
  {
   "cell_type": "markdown",
   "metadata": {},
   "source": [
    "## Why use Typescript\n",
    "- Prevent fiendish bugs\n",
    "- Prevent unwanted runtime behaviors, by catching them in development\n",
    "- Powerful features: classes and modules\n",
    "- Integrate with Grunt or Gulp\n",
    "\n",
    "Grunt: A javascript tak runner that is poppular for managing the flow of developing projects. You can compule your typescript to javascript whenever you run it.\n",
    "\n",
    "Gulp: Another library that can do the same thing as Grunt.\n"
   ]
  },
  {
   "cell_type": "markdown",
   "metadata": {},
   "source": [
    "### Typescript adds\n",
    "- Types!\n",
    "- Non-JavaScript Features like Interfaces or Generics\n",
    "- Rich Configuration Options\n",
    "- Next-gen JavaScirpt Features (compiled down for older Browser)\n",
    "- Meta-Programming Features like Decorators\n",
    "- Modern Tooling that helps even in non-TypeScript Projects"
   ]
  },
  {
   "cell_type": "markdown",
   "metadata": {},
   "source": [
    "## Installing Typescript\n",
    "Installing typescript compiler\n",
    "\n",
    "ts-node is a command line tool that allows us to compile and execute typescript with one command on the terminal."
   ]
  },
  {
   "cell_type": "code",
   "execution_count": 13,
   "metadata": {},
   "outputs": [
    {
     "name": "stdout",
     "output_type": "stream",
     "text": [
      "\u001b[K\u001b[?25h              \u001b[27m⸩ ⠇ reify:typescript: \u001b[32;40mtiming\u001b[0m \u001b[35mreifyNode:node_modules/ts-node\u001b[0m\u001b[0m\u001b[Kmjs\u001b[0m\u001b[K\n",
      "added 9 packages, changed 1 package, and audited 10 packages in 1s\n",
      "\n",
      "found \u001b[32m\u001b[1m0\u001b[22m\u001b[39m vulnerabilities\n"
     ]
    }
   ],
   "source": [
    "npm install -g typescript ts-node"
   ]
  },
  {
   "cell_type": "markdown",
   "metadata": {},
   "source": [
    "## Typescript Compiler\n",
    "Typescript Compiler, tsc"
   ]
  },
  {
   "cell_type": "code",
   "execution_count": 3,
   "metadata": {},
   "outputs": [
    {
     "name": "stdout",
     "output_type": "stream",
     "text": [
      "Version 4.1.3\n",
      "Syntax:   tsc [options] [file...]\n",
      "\n",
      "Examples: tsc hello.ts\n",
      "          tsc --outFile file.js file.ts\n",
      "          tsc @args.txt\n",
      "          tsc --build tsconfig.json\n",
      "\n",
      "Options:\n",
      " -h, --help                                         Print this message.\n",
      " -w, --watch                                        Watch input files.\n",
      " --pretty                                           Stylize errors and messages using color and context (experimental).\n",
      " --all                                              Show all compiler options.\n",
      " -v, --version                                      Print the compiler's version.\n",
      " --init                                             Initializes a TypeScript project and creates a tsconfig.json file.\n",
      " -p FILE OR DIRECTORY, --project FILE OR DIRECTORY  Compile the project given the path to its configuration file, or to a folder with a 'tsconfig.json'.\n",
      " -b, --build                                        Build one or more projects and their dependencies, if out of date\n",
      " -t VERSION, --target VERSION                       Specify ECMAScript target version: 'ES3' (default), 'ES5', 'ES2015', 'ES2016', 'ES2017', 'ES2018', 'ES2019', 'ES2020', or 'ESNEXT'.\n",
      " -m KIND, --module KIND                             Specify module code generation: 'none', 'commonjs', 'amd', 'system', 'umd', 'es2015', 'es2020', or 'ESNext'.\n",
      " --lib                                              Specify library files to be included in the compilation.\n",
      "                                                      'es5' 'es6' 'es2015' 'es7' 'es2016' 'es2017' 'es2018' 'es2019' 'es2020' 'esnext' 'dom' 'dom.iterable' 'webworker' 'webworker.importscripts' 'webworker.iterable' 'scripthost' 'es2015.core' 'es2015.collection' 'es2015.generator' 'es2015.iterable' 'es2015.promise' 'es2015.proxy' 'es2015.reflect' 'es2015.symbol' 'es2015.symbol.wellknown' 'es2016.array.include' 'es2017.object' 'es2017.sharedmemory' 'es2017.string' 'es2017.intl' 'es2017.typedarrays' 'es2018.asyncgenerator' 'es2018.asynciterable' 'es2018.intl' 'es2018.promise' 'es2018.regexp' 'es2019.array' 'es2019.object' 'es2019.string' 'es2019.symbol' 'es2020.bigint' 'es2020.promise' 'es2020.sharedmemory' 'es2020.string' 'es2020.symbol.wellknown' 'es2020.intl' 'esnext.array' 'esnext.symbol' 'esnext.asynciterable' 'esnext.intl' 'esnext.bigint' 'esnext.string' 'esnext.promise' 'esnext.weakref' \n",
      " --allowJs                                          Allow javascript files to be compiled.\n",
      " --jsx KIND                                         Specify JSX code generation: 'preserve', 'react-native', or 'react'.\n",
      " -d, --declaration                                  Generates corresponding '.d.ts' file.\n",
      " --declarationMap                                   Generates a sourcemap for each corresponding '.d.ts' file.\n",
      " --sourceMap                                        Generates corresponding '.map' file.\n",
      " --outFile FILE                                     Concatenate and emit output to single file.\n",
      " --outDir DIRECTORY                                 Redirect output structure to the directory.\n",
      " --removeComments                                   Do not emit comments to output.\n",
      " --noEmit                                           Do not emit outputs.\n",
      " --strict                                           Enable all strict type-checking options.\n",
      " --noImplicitAny                                    Raise error on expressions and declarations with an implied 'any' type.\n",
      " --strictNullChecks                                 Enable strict null checks.\n",
      " --strictFunctionTypes                              Enable strict checking of function types.\n",
      " --strictBindCallApply                              Enable strict 'bind', 'call', and 'apply' methods on functions.\n",
      " --strictPropertyInitialization                     Enable strict checking of property initialization in classes.\n",
      " --noImplicitThis                                   Raise error on 'this' expressions with an implied 'any' type.\n",
      " --alwaysStrict                                     Parse in strict mode and emit \"use strict\" for each source file.\n",
      " --noUnusedLocals                                   Report errors on unused locals.\n",
      " --noUnusedParameters                               Report errors on unused parameters.\n",
      " --noImplicitReturns                                Report error when not all code paths in function return a value.\n",
      " --noFallthroughCasesInSwitch                       Report errors for fallthrough cases in switch statement.\n",
      " --types                                            Type declaration files to be included in compilation.\n",
      " --esModuleInterop                                  Enables emit interoperability between CommonJS and ES Modules via creation of namespace objects for all imports. Implies 'allowSyntheticDefaultImports'.\n",
      " @<file>                                            Insert command line options and files from a file.\n"
     ]
    },
    {
     "ename": "",
     "evalue": "1",
     "output_type": "error",
     "traceback": []
    }
   ],
   "source": [
    "tsc"
   ]
  },
  {
   "cell_type": "markdown",
   "metadata": {},
   "source": [
    "### Compiling typescript to javascript\n",
    "Lets compile our helloWorld.ts file to helloWorld.js"
   ]
  },
  {
   "cell_type": "code",
   "execution_count": 11,
   "metadata": {},
   "outputs": [],
   "source": [
    "tsc HelloWorld/helloWorld.ts"
   ]
  },
  {
   "cell_type": "code",
   "execution_count": 6,
   "metadata": {},
   "outputs": [
    {
     "name": "stdout",
     "output_type": "stream",
     "text": [
      "HelloWorld\t\tTypescript.ipynb\n"
     ]
    }
   ],
   "source": [
    "ls Hello"
   ]
  },
  {
   "cell_type": "code",
   "execution_count": 12,
   "metadata": {},
   "outputs": [
    {
     "name": "stdout",
     "output_type": "stream",
     "text": [
      "Hello Jon\n"
     ]
    }
   ],
   "source": [
    "node HelloWorld/helloWorld.js"
   ]
  },
  {
   "cell_type": "markdown",
   "metadata": {},
   "source": [
    "### Compile and execute Typescript using ts-node"
   ]
  },
  {
   "cell_type": "code",
   "execution_count": 2,
   "metadata": {},
   "outputs": [
    {
     "name": "stdout",
     "output_type": "stream",
     "text": [
      "Hello Jon\n"
     ]
    }
   ],
   "source": [
    "ts-node HelloWorld/helloWorld.ts"
   ]
  },
  {
   "cell_type": "markdown",
   "metadata": {},
   "source": [
    "# Build Process"
   ]
  },
  {
   "cell_type": "markdown",
   "metadata": {},
   "source": [
    "## Typescript Compiler Configuration\n",
    "\n",
    "Create a `build` folder and a `src` folder. Move your typescript files to the src folder.\n",
    "\n",
    "generate **tsconfig.json** file using the following command"
   ]
  },
  {
   "cell_type": "code",
   "execution_count": null,
   "metadata": {},
   "outputs": [],
   "source": [
    "tsc --init"
   ]
  },
  {
   "cell_type": "markdown",
   "metadata": {},
   "source": [
    "In the **tsconfig.json** file, the field\n",
    "- rootDir: tells the typescript compiler where the typescript files that needs to be compiled to javascript files are.\n",
    "- outDir: tells the typescript compiler where to output the compiled javascript files \n",
    "\n",
    "Edit **tsconfig.json** to point the outDir to the build folder and the rootDir to the src folder."
   ]
  },
  {
   "cell_type": "code",
   "execution_count": null,
   "metadata": {},
   "outputs": [],
   "source": [
    "//tsconfig.json\n",
    "{\n",
    "  \"compilerOptions\": {\n",
    "    /* Visit https://aka.ms/tsconfig.json to read more about this file */\n",
    "    /* Basic Options */\n",
    "    \"target\": \"es5\",                          /* Specify ECMAScript target version: 'ES3' (default), 'ES5', 'ES2015', 'ES2016', 'ES2017', 'ES2018', 'ES2019', 'ES2020', or 'ESNEXT'. */\n",
    "    \"module\": \"commonjs\",                     /* Specify module code generation: 'none', 'commonjs', 'amd', 'system', 'umd', 'es2015', 'es2020', or 'ESNext'. */\n",
    "\n",
    "    \"outDir\": \"./build\",                        /* Redirect output structure to the directory. */\n",
    "    \"rootDir\": \"./src\",                       /* Specify the root directory of input files. Use to control the output directory structure with --outDir. */\n",
    "\n",
    "    /* Strict Type-Checking Options */\n",
    "    \"strict\": true,                           /* Enable all strict type-checking options. */\n",
    "\n",
    "    \"esModuleInterop\": true,                  /* Enables emit interoperability between CommonJS and ES Modules via creation of namespace objects for all imports. Implies 'allowSyntheticDefaultImports'. */\n",
    "\n",
    "    /* Advanced Options */\n",
    "    \"skipLibCheck\": true,                     /* Skip type checking of declaration files. */\n",
    "    \"forceConsistentCasingInFileNames\": true  /* Disallow inconsistently-cased references to the same file. */\n",
    "  }\n",
    "}"
   ]
  },
  {
   "cell_type": "markdown",
   "metadata": {},
   "source": [
    "You can compile the typescript files into javascript files by just running tsc"
   ]
  },
  {
   "cell_type": "code",
   "execution_count": null,
   "metadata": {},
   "outputs": [],
   "source": [
    "tsc"
   ]
  },
  {
   "cell_type": "markdown",
   "metadata": {},
   "source": [
    "`tsc -w` starts a process that auto-compiles typescript files to javascript files on save"
   ]
  },
  {
   "cell_type": "code",
   "execution_count": null,
   "metadata": {},
   "outputs": [],
   "source": [
    "tsc -w"
   ]
  },
  {
   "cell_type": "markdown",
   "metadata": {},
   "source": [
    "## Automating the build process\n",
    "To automate the build and run process we need the following npm packages\n",
    "- nodemon\n",
    "- concurrently\n",
    "\n",
    "To install run the following command."
   ]
  },
  {
   "cell_type": "code",
   "execution_count": null,
   "metadata": {},
   "outputs": [],
   "source": [
    "npm init -y\n",
    "npm install nodemon concurrently"
   ]
  },
  {
   "cell_type": "markdown",
   "metadata": {},
   "source": [
    "A **package.json** file is generate, edit the scripts section of the file to include the following script\n",
    "- \"start:build\": \"tsc -w\"\n",
    "- \"start:run\": \"nodemon build/index.js\"\n",
    "- \"start\": \"concurrently npm:start:*\"\n",
    "\n",
    "which starts the tsc compiler as a process, run nodemon to run the compiled javascript file."
   ]
  },
  {
   "cell_type": "code",
   "execution_count": null,
   "metadata": {},
   "outputs": [],
   "source": [
    "//package.json\n",
    "{\n",
    "  \"name\": \"sort\",\n",
    "  \"version\": \"1.0.0\",\n",
    "  \"description\": \"\",\n",
    "  \"main\": \"index.js\",\n",
    "  \"scripts\": {\n",
    "    \"start:build\": \"tsc -w\",\n",
    "    \"start:run\": \"nodemon build/index.js\",\n",
    "    \"start\": \"concurrently npm:start:*\"\n",
    "  },\n",
    "  \"keywords\": [],\n",
    "  \"author\": \"\",\n",
    "  \"license\": \"ISC\",\n",
    "  \"dependencies\": {\n",
    "    \"concurrently\": \"^5.3.0\",\n",
    "    \"nodemon\": \"^2.0.7\"\n",
    "  }\n",
    "}"
   ]
  },
  {
   "cell_type": "markdown",
   "metadata": {},
   "source": [
    "## IDE Installation\n",
    "\n",
    "1. Download VSVode<br>\n",
    "https://code.visualstudio.com/\n",
    "\n",
    "Optional\n",
    "- Add 'code' to path `cmd + p` -> `>Shell command 'code' successfully installed in PATH.`\n",
    "- Install Prettier Extension\n",
    "- Run prettier on save `cmd + ,` -> `Format On Save` check the checkbox\n",
    "- Use single quotes with prettier (optional)\n",
    "- Use two spaces for indentation (optional) `Tab Size` enter 2\n",
    "- Set theme to 'Solarize Light' (optional)"
   ]
  },
  {
   "cell_type": "markdown",
   "metadata": {},
   "source": [
    "### Create a node project"
   ]
  },
  {
   "cell_type": "code",
   "execution_count": null,
   "metadata": {},
   "outputs": [],
   "source": [
    "npm init -y"
   ]
  },
  {
   "cell_type": "markdown",
   "metadata": {},
   "source": [
    "Install axios"
   ]
  },
  {
   "cell_type": "code",
   "execution_count": null,
   "metadata": {},
   "outputs": [],
   "source": [
    "npm install axios"
   ]
  },
  {
   "cell_type": "markdown",
   "metadata": {},
   "source": [
    "# Types\n",
    "Type is a easy way to refer to the different properties and functions that a value has.\n",
    "\n",
    "### Why do we care about types\n",
    "1. Types are used by the Typescript compiler to analyze our code for errors\n",
    "1. Types allow other engineers to understand what values are flowing around our codebase\n",
    "\n",
    "## Core Types\n",
    "\n",
    "|Types|Example|Description|\n",
    "|--|--|--|\n",
    "|number|1, 5.3, -10|All numbers, no differentiations between integers or floats|\n",
    "|string|\"Hi', \"Hi\", \\`hi\\`|All text values|\n",
    "|boolean|true, false|Just these two, no \"truthy\" or \"falsy\" values|\n",
    "|object|{age: 30}|Any JavaScript object, more specific types (type of object are possible)|\n",
    "|Array|[1, 2, 3]|Any JavaScript array, type can be flexible or strictd (regarding the element types)|\n",
    "|Tuble|[1, 2]|Added by TypeScript: Fixed-length array|\n",
    "|Enum|enum{NEW, OLD}|Added by TypeScript: automatically enumerated global constant idendtifiers|\n",
    "|Any|*|Any kind of value, no specific type assignment|\n",
    "|Void||Opposity of any, the absence of having any type, commonly does not return a balue|\n",
    "\n",
    "## Interface\n",
    "A blueprint for an object, the defines the properties and methods that describe an object but does not provide implementation or initialize the object. It is a powerful of defining contracts within your code as well as contracts with code outside your code."
   ]
  },
  {
   "cell_type": "markdown",
   "metadata": {},
   "source": [
    "## Type Annotations and Inference\n",
    "- Type annotations: Code we add to tell Typescript what type of value a variable will refer to\n",
    "- Type inference: Typescript tries to figure out what type of value a variable refers to\n",
    "\n",
    "|Type annotations|Type inference|\n",
    "|--|--|\n",
    "|we (develoeprs) tell Typescript the type|Typescript guesses the type|\n",
    "\n",
    "### Type Inference\n",
    "\n",
    "|Variable Declaration|Variable Declaration||Variable Initialization|\n",
    "|--|--|--|--|\n",
    "|const|color|=|\"red\";|\n",
    "\n",
    "If declaration and initialization are on the same line, Typescript will figure out the type of 'color' for us"
   ]
  },
  {
   "cell_type": "markdown",
   "metadata": {},
   "source": [
    "|Type annotations|&#8592;&#8594;|Type inference|\n",
    "|--|--|--|\n",
    "|We (developers) tell Typescript the type||Typescript guesses the type|\n",
    "|&#8595; When to use ...||&#8595; When to use ...|\n",
    "|When we declare a variable on one line then initialize it later||Always!|\n",
    "|When we want a variabe to have a type that can't be inferred|||\n",
    "|When a function returns the 'any' type and we need to clarify the value|||"
   ]
  },
  {
   "cell_type": "markdown",
   "metadata": {},
   "source": [
    "### Any type\n",
    "any type\n",
    "- A type, just as 'string' or 'boolean' are\n",
    "- Means TS has no idea what this is - can't check for property references\n",
    "- Avoid variables with 'any' at all costs\n",
    "\n",
    "### 1) function returns 'any' type\n",
    "ex JSON.parse in typescript returns any type, we need to clarify the value"
   ]
  },
  {
   "cell_type": "code",
   "execution_count": null,
   "metadata": {},
   "outputs": [],
   "source": [
    "// 1) Function(JSON.parse) that returns the 'any' type\n",
    "// coordinates is an any type\n",
    "const json = '{\"x\": 10, \"y\":20}';\n",
    "const coordinates = JSON.parse(json);\n",
    "console.log(coordinates); //{x:10, y:20};"
   ]
  },
  {
   "cell_type": "markdown",
   "metadata": {},
   "source": [
    "Work around is to use type annotations"
   ]
  },
  {
   "cell_type": "code",
   "execution_count": null,
   "metadata": {},
   "outputs": [],
   "source": [
    "const json = '{\"x\": 10, \"y\":20}';\n",
    "const coordinates: { x: number; y:number} = JSON.parse(json);\n",
    "console.log(coordinates); //{x:10, y:20};"
   ]
  },
  {
   "cell_type": "markdown",
   "metadata": {},
   "source": [
    "### 2) When we declare a variable and initialize it later"
   ]
  },
  {
   "cell_type": "code",
   "execution_count": null,
   "metadata": {},
   "outputs": [],
   "source": [
    "// Declare foundWord and initialize it later\n",
    "let words = [\"red\", \"green\", \"blue\"];\n",
    "let foundWord;\n",
    "\n",
    "for (let word of words) {\n",
    "  if (word === \"green\") {\n",
    "    foundWord = true;\n",
    "  }\n",
    "}"
   ]
  },
  {
   "cell_type": "markdown",
   "metadata": {},
   "source": [
    "Typescript will complain that found word is any type.\n",
    "\n",
    "workaround is to add type annotation when declaring a variable."
   ]
  },
  {
   "cell_type": "code",
   "execution_count": null,
   "metadata": {},
   "outputs": [],
   "source": [
    "// foundWord is annotated with type boolean at declaration\n",
    "let words = [\"red\", \"green\", \"blue\"];\n",
    "let foundWord: boolean;\n",
    "\n",
    "for (let word of words) {\n",
    "  if (word === \"green\") {\n",
    "    foundWord = true;\n",
    "  }\n",
    "}"
   ]
  },
  {
   "cell_type": "markdown",
   "metadata": {},
   "source": [
    "### 3) Variable whose type cannot be inferred correctly"
   ]
  },
  {
   "cell_type": "code",
   "execution_count": null,
   "metadata": {},
   "outputs": [],
   "source": [
    "// Variable whose type cannot be inferred correctly\n",
    "let numbers = [ -10, -1, 12];\n",
    "let numberAboveZero = false;\n",
    "\n",
    "for (let number of numbers) {\n",
    "  if (number > 0) {\n",
    "    numberAboveZero = number;\n",
    "  }\n",
    "}"
   ]
  },
  {
   "cell_type": "markdown",
   "metadata": {},
   "source": [
    "we inferred numberAboveZero as Boolean because we set numberAboveZero as false during intialization, typescript will complain it is a number when we assign it a number.\n",
    "\n",
    "Workaraound is to annotate numberAboveZero as either boolean or number"
   ]
  },
  {
   "cell_type": "code",
   "execution_count": null,
   "metadata": {},
   "outputs": [],
   "source": [
    "let numbers = [ -10, -1, 12];\n",
    "let numberAboveZero: boolean | number = false;\n",
    "\n",
    "for (let number of numbers) {\n",
    "  if (number > 0) {\n",
    "    numberAboveZero = number;\n",
    "  }\n",
    "}"
   ]
  },
  {
   "cell_type": "markdown",
   "metadata": {},
   "source": [
    "# Annotations for Functions\n",
    "- Type annotations for functions: Code we add to tell Typescript what type of arguments a function will receive and what type of values it will return\n",
    "- Type inference for functions: Typescript tries to figure out what type of value a function will return\n",
    "\n",
    "The following add and subtract functions, the arguments and return value is annotated with type number"
   ]
  },
  {
   "cell_type": "code",
   "execution_count": null,
   "metadata": {},
   "outputs": [],
   "source": [
    "const add = (a: number, b: number): number => {\n",
    "  return a + b;\n",
    "};\n",
    "\n",
    "const subtract = (a: number, b: number): number => {\n",
    "  return a - b;\n",
    "};"
   ]
  },
  {
   "cell_type": "markdown",
   "metadata": {},
   "source": [
    "Annotating functions using `function` keyword"
   ]
  },
  {
   "cell_type": "code",
   "execution_count": null,
   "metadata": {},
   "outputs": [],
   "source": [
    "function divide(a: number, b: number): number {\n",
    "  return a / b;\n",
    "};"
   ]
  },
  {
   "cell_type": "markdown",
   "metadata": {},
   "source": [
    "Annotating anonymous functions"
   ]
  },
  {
   "cell_type": "code",
   "execution_count": null,
   "metadata": {},
   "outputs": [],
   "source": [
    "const multiply = function(a: number, b: number): number {\n",
    "  return a * b;\n",
    "};"
   ]
  },
  {
   "cell_type": "markdown",
   "metadata": {},
   "source": [
    "Destructuring Annotations"
   ]
  },
  {
   "cell_type": "code",
   "execution_count": null,
   "metadata": {},
   "outputs": [],
   "source": [
    "const todaysWeather = {\n",
    "  date: new Date(),\n",
    "  weather: \"sunny\"\n",
    "};\n",
    "\n",
    "const logWeather = ({date, weather}: { date: Date, weather: string}): void => {\n",
    "  console.log(date);\n",
    "  console.log(weather);\n",
    "};\n",
    "\n",
    "logWeather(todaysWeather);"
   ]
  },
  {
   "cell_type": "markdown",
   "metadata": {},
   "source": [
    "Annotations and Destructuring Objects"
   ]
  },
  {
   "cell_type": "code",
   "execution_count": null,
   "metadata": {},
   "outputs": [],
   "source": [
    "const profile = {\n",
    "  name: 'alex',\n",
    "  age: 20,\n",
    "  coords: {\n",
    "    lat: 0,\n",
    "    lng: 15\n",
    "  },\n",
    "  setAge(age: number): void {\n",
    "    this.age = age;\n",
    "  }\n",
    "};\n",
    "\n",
    "const { age }: { age: number } = profile;\n",
    "const {coords}: { coords: { lat: number, lng: number } }  = profile;"
   ]
  },
  {
   "cell_type": "markdown",
   "metadata": {},
   "source": [
    "# Arrays\n",
    "Typed Arrays: Arrays where each element is some consistent type of value\n",
    "\n",
    "Why Typed Arrays\n",
    "- TS can do type inference when extracting values from an array\n",
    "- TS can prevent us form adding incompatible values to the array\n",
    "- We can get help with 'map', 'forEach', 'reduce' functions\n",
    "- Flexible: arrays can still contain multiple different types\n",
    "\n",
    "Where to use typed arrays? -> Anytime we need to represent a collection of records with some arbitrary sort order\n",
    "\n",
    "Help with inference when extracting values"
   ]
  },
  {
   "cell_type": "code",
   "execution_count": null,
   "metadata": {},
   "outputs": [],
   "source": [
    "const car = carMakers[0];\n",
    "const myCar = carMakers.pop();\n",
    "console.log(car);"
   ]
  },
  {
   "cell_type": "markdown",
   "metadata": {},
   "source": [
    "Prevent incompatible values"
   ]
  },
  {
   "cell_type": "code",
   "execution_count": null,
   "metadata": {},
   "outputs": [],
   "source": [
    "carMakers.push(100);"
   ]
  },
  {
   "cell_type": "markdown",
   "metadata": {},
   "source": [
    "Help with 'map'"
   ]
  },
  {
   "cell_type": "code",
   "execution_count": null,
   "metadata": {},
   "outputs": [],
   "source": [
    "carMakers.map((car: string) => {\n",
    "  return car;\n",
    "});"
   ]
  },
  {
   "cell_type": "markdown",
   "metadata": {},
   "source": [
    "Flexible types, you can specify multiple types for arrays"
   ]
  },
  {
   "cell_type": "code",
   "execution_count": null,
   "metadata": {},
   "outputs": [],
   "source": [
    "const importantDates: (Date | string)[] = [];\n",
    "importantDates.push('2020-10-10');\n",
    "importantDates.push(new Date);"
   ]
  },
  {
   "cell_type": "markdown",
   "metadata": {},
   "source": [
    "## Tuple\n",
    "Tuple: Array like structure were each element represents some property of a record\n",
    "\n",
    "For example object representing a 'drink'\n",
    "\n",
    "|Property|Value|\n",
    "|--|--|\n",
    "|color|brown|\n",
    "|carbonated|true|\n",
    "|sugar|40|\n",
    "\n",
    "Trying to represent the Properties in an array\n",
    "\n",
    "[brown, value, 40]\n",
    "\n",
    "But by using an array to represent the Property of the 'drink' object we lose information of the property labels.\n"
   ]
  },
  {
   "cell_type": "code",
   "execution_count": null,
   "metadata": {},
   "outputs": [],
   "source": [
    "// object drink\n",
    "const drink = {\n",
    "  color: \"brown\",\n",
    "  carbonated: true,\n",
    "  sugar: 40\n",
    "};"
   ]
  },
  {
   "cell_type": "markdown",
   "metadata": {},
   "source": [
    "Using a tuple"
   ]
  },
  {
   "cell_type": "code",
   "execution_count": null,
   "metadata": {},
   "outputs": [],
   "source": [
    "const pepsi: [string, boolean, number] = ['brown', true, 40];"
   ]
  },
  {
   "cell_type": "markdown",
   "metadata": {},
   "source": [
    "Annotating tuples with alias"
   ]
  },
  {
   "cell_type": "code",
   "execution_count": null,
   "metadata": {},
   "outputs": [],
   "source": [
    "type Drink = [string, boolean, number];\n",
    "\n",
    "const coke: Drink = [\"brown\", true, 40];\n",
    "const sprite: Drink = [\"clear\", true, 40];\n",
    "const tea: Drink = [\"brown\", false, 0];"
   ]
  },
  {
   "cell_type": "markdown",
   "metadata": {},
   "source": [
    "## Enums\n",
    "- Follow near-identical syntax rules as normal objects\n",
    "- Creates an object wth the same keys and values when converted from TS to JS\n",
    "- Primary goal is to signal to other engineers that these are all closely related values\n",
    "- Whenever we have a small fixed set of values that are all closely related and known at compile time."
   ]
  },
  {
   "cell_type": "markdown",
   "metadata": {},
   "source": [
    "## Function type\n",
    "To annotate a function type"
   ]
  },
  {
   "cell_type": "code",
   "execution_count": null,
   "metadata": {},
   "outputs": [],
   "source": [
    "someFunction: () => {};\n",
    "someFunction: () => void;"
   ]
  },
  {
   "cell_type": "markdown",
   "metadata": {},
   "source": [
    "## Type Alias\n",
    "or you can use type alias"
   ]
  },
  {
   "cell_type": "markdown",
   "metadata": {},
   "source": [
    "someFunction: () => {};\n",
    "someFunction: () => void;\n",
    "\n",
    "someFunction: Fcn;"
   ]
  },
  {
   "cell_type": "markdown",
   "metadata": {},
   "source": [
    "# Interfaces\n",
    "Interfaces: Creates a new type, describing the property names and value types of an object\n",
    "\n",
    "Interface + Class = Allows us to reuse code in TS\n",
    "\n",
    "## Why use Interfaces\n",
    "A motivation is to shorten long annotation as shown in the code below"
   ]
  },
  {
   "cell_type": "code",
   "execution_count": null,
   "metadata": {},
   "outputs": [],
   "source": [
    "const oldCivic = {\n",
    "  name: \"civic\",\n",
    "  year: 2000,\n",
    "  broken: true\n",
    "};\n",
    "\n",
    "const printVehicle = (vehicle: {name: string; year: number; broken: boolean }): void => {\n",
    "  console.log(`\n",
    "    Name: ${vehicle.name}\n",
    "    Year: ${vehicle.year}\n",
    "    Broken? ${vehicle.broken}\n",
    "  `)\n",
    "} ;\n",
    "\n",
    "printVehicle(oldCivic);"
   ]
  },
  {
   "cell_type": "markdown",
   "metadata": {},
   "source": [
    "Code reuse using interfaces"
   ]
  },
  {
   "cell_type": "code",
   "execution_count": null,
   "metadata": {},
   "outputs": [],
   "source": [
    "interface Vehicle {\n",
    "  name: string,\n",
    "  year: number,\n",
    "  broken: boolean\n",
    "}\n",
    "\n",
    "const printVehicle = (vehicle: Vehicle): void => {\n",
    "  console.log(`\n",
    "    Name: ${vehicle.name}\n",
    "    Year: ${vehicle.year}\n",
    "    Broken? ${vehicle.broken}\n",
    "  `)\n",
    "} ;\n",
    "\n",
    "const oldCivic = {\n",
    "  name: \"civic\",\n",
    "  year: 2000,\n",
    "  broken: true\n",
    "};\n",
    "\n",
    "printVehicle(oldCivic);"
   ]
  },
  {
   "cell_type": "markdown",
   "metadata": {},
   "source": [
    "We can express functions as a property of an interface"
   ]
  },
  {
   "cell_type": "code",
   "execution_count": null,
   "metadata": {},
   "outputs": [],
   "source": [
    "interface Vehicle {\n",
    "  name: string,\n",
    "  year: number,\n",
    "  broken: boolean,\n",
    "  summary(): string\n",
    "}\n",
    "\n",
    "const printVehicle = (vehicle: Vehicle): void => {\n",
    "  console.log(vehicle.summary());\n",
    "} ;\n",
    "\n",
    "const oldCivic = {\n",
    "  name: \"civic\",\n",
    "  year: 2000,\n",
    "  broken: true,\n",
    "  summary(): string  {\n",
    "    return `\n",
    "    Name: ${this.name}\n",
    "    Year: ${this.year}\n",
    "    Broken? ${this.broken}\n",
    "  `;\n",
    "  }\n",
    "};\n",
    "\n",
    "printVehicle(oldCivic);"
   ]
  },
  {
   "cell_type": "markdown",
   "metadata": {},
   "source": [
    "## Type Guard\n",
    "Allows you to have differnt implementations for differnet types by allowing you to narrow down the type of an ibject within a conditional block.\n",
    "\n",
    "- typeof: Narrow type of a value to a primitive type\n",
    "- instanceof: Narow down every other type of value, every other value that is created with a constructor function"
   ]
  },
  {
   "cell_type": "code",
   "execution_count": null,
   "metadata": {},
   "outputs": [],
   "source": [
    "function doSomething(x: number | string) {\n",
    "    if (typeof x === 'string') { // Within the block TypeScript knows that `x` must be a string\n",
    "        x = x.toLowerCase();\n",
    "    }\n",
    "}"
   ]
  },
  {
   "cell_type": "markdown",
   "metadata": {},
   "source": [
    "## Code Reuse with Interfaces\n",
    "General Strategy for Reusable Code in TS\n",
    "- Create functions that accept arguments that are typed with interfaces\n",
    "- Objects/classes can decide to 'implement' a given interface to work with a function\n",
    "\n",
    "<img src=\"Media/CodeReuseInterface.png\" width=\"50%\" height=\"50%\">"
   ]
  },
  {
   "cell_type": "markdown",
   "metadata": {},
   "source": [
    "# Classes\n",
    "Blueprint to create an object with some *fields (values)* and *methods (functions)* to represent a 'thing'.\n",
    "\n",
    "Creating a class"
   ]
  },
  {
   "cell_type": "code",
   "execution_count": null,
   "metadata": {},
   "outputs": [],
   "source": [
    "class Vehicle {\n",
    "  color: string;\n",
    "  \n",
    "  constructor(color: string) {\n",
    "    this.color = color;\n",
    "  }\n",
    "  \n",
    "  drive(): void {\n",
    "    console.log('hello world');\n",
    "  }\n",
    "\n",
    "  honk(): void {\n",
    "    console.log('beep');\n",
    "  }\n",
    "}\n",
    "\n",
    "const vehicle = new Vehicle(); \n",
    "vehicle.drive();\n",
    "vehicle.honk();\n",
    "console.log(vehicle.color);"
   ]
  },
  {
   "cell_type": "markdown",
   "metadata": {},
   "source": [
    "### Inheritence using `extends`"
   ]
  },
  {
   "cell_type": "code",
   "execution_count": null,
   "metadata": {},
   "outputs": [],
   "source": [
    "class Car extends Vehicle {\n",
    "\n",
    "  constructor(color: string) {\n",
    "    super(color);\n",
    "  }\n",
    "}\n",
    "\n",
    "const car = new Car('red');\n",
    "car.drive();\n",
    "car.honk();\n",
    "console.log(car.color)"
   ]
  },
  {
   "cell_type": "markdown",
   "metadata": {},
   "source": [
    "Overwrite a method from parent class"
   ]
  },
  {
   "cell_type": "code",
   "execution_count": null,
   "metadata": {},
   "outputs": [],
   "source": [
    "class Car extends Vehicle {\n",
    "\n",
    "  wheel: number;\n",
    "\n",
    "  constructor(color: string, wheel: number) {\n",
    "    super(color);\n",
    "    this.wheel =wheel;\n",
    "  }\n",
    "\n",
    "  drive(): void {\n",
    "    console.log('bienvenue');\n",
    "  }\n",
    "}\n",
    "\n",
    "const car = new Car('red', 15);\n",
    "car.drive();\n",
    "car.honk();\n",
    "console.log(car.wheel)"
   ]
  },
  {
   "cell_type": "markdown",
   "metadata": {},
   "source": [
    "## Inheritence vs Compositon\n",
    "\n",
    "|Inheritance|Composition|\n",
    "|--|--|\n",
    "|Characterized by an 'is a' relationship between two classes|Characterized by a 'has a' relationship between two classes|"
   ]
  },
  {
   "cell_type": "markdown",
   "metadata": {},
   "source": [
    "## Implement Interface\n",
    "A class can implements interface"
   ]
  },
  {
   "cell_type": "code",
   "execution_count": null,
   "metadata": {},
   "outputs": [],
   "source": [
    "interface Identity {\n",
    "  firstName: string;\n",
    "  lastName: string;\n",
    "  getFirstName(): string;\n",
    "  getLastName(): string;\n",
    "}"
   ]
  },
  {
   "cell_type": "code",
   "execution_count": null,
   "metadata": {},
   "outputs": [],
   "source": [
    "class Person implements Identity {\n",
    "  firstName: string;\n",
    "  lastName: string;\n",
    "\n",
    "  constructor(firstName: string, lastName: string) {\n",
    "    this.firstName = firstName;\n",
    "    this.lastName = lastName;\n",
    "  }\n",
    "  \n",
    "  getFirstName(): string {\n",
    "    return this.firstName;\n",
    "  }\n",
    "  \n",
    "  getLastName(): string {\n",
    "    return this.lastName;\n",
    "  }\n",
    "}"
   ]
  },
  {
   "cell_type": "markdown",
   "metadata": {},
   "source": [
    "### Modifiers\n",
    "The purpose of modifiers is to restrict access to different functions and variables in a class.\n",
    "\n",
    "|Modifiers|Description|\n",
    "|--|--|\n",
    "|public|This method can be called anywhere, anytime|\n",
    "|private|This mehtod can only be called by other methods in this class|\n",
    "|protected|This method can be called by other methods in this class, or by other methods in child classes|\n",
    "\n",
    "Public is the default method.\n"
   ]
  },
  {
   "cell_type": "markdown",
   "metadata": {},
   "source": [
    "### Setters of a Class\n",
    "You can update an attribute using `Object.assign`"
   ]
  },
  {
   "cell_type": "code",
   "execution_count": null,
   "metadata": {},
   "outputs": [],
   "source": [
    "interface UserProps {\n",
    "  name?: string;\n",
    "  age?: number\n",
    "}\n",
    "\n",
    "export class User {\n",
    "  private data: UserProps;\n",
    "\n",
    "  constructor(data: UserProps) {\n",
    "    this.data = data;\n",
    "  }\n",
    "\n",
    "  get(propName: string): (number | string) {\n",
    "    return this.data[propName];\n",
    "  }\n",
    "\n",
    "  set(update: UserProps): void {\n",
    "    Object.assign(this.data, update);\n",
    "  }\n",
    "}"
   ]
  },
  {
   "cell_type": "markdown",
   "metadata": {},
   "source": [
    "## Abstract Classes\n",
    "- Can't be used to create an object directly\n",
    "- Only used as a parent class\n",
    "- Can contain real implementation for some methods\n",
    "- The implemented methods can refer to other methods that don't actually exist yet (we still have to provide signatures(names and types) for the un-implemented methods)\n",
    "- Can make child classes promise to implement some other methods"
   ]
  },
  {
   "cell_type": "code",
   "execution_count": null,
   "metadata": {},
   "outputs": [],
   "source": [
    "abstract class Animal {\n",
    "  abstract makeSound(): void;\n",
    "\n",
    "  move(): void {\n",
    "    console.log(\"roaming the earth...\");\n",
    "  }\n",
    "}"
   ]
  },
  {
   "cell_type": "code",
   "execution_count": null,
   "metadata": {},
   "outputs": [],
   "source": [
    "class Cat extends Animal {\n",
    "  makeSound(): void {\n",
    "    console.log(\"meow\");\n",
    "  }\n",
    "}"
   ]
  },
  {
   "cell_type": "markdown",
   "metadata": {},
   "source": [
    "## Interfaces vs Abstract Classes\n",
    "\n",
    "|Interfaces|Inheritance / Abstract Classes|\n",
    "|--|--|\n",
    "|Sets up a contract between difffernet classes|Sets up a contract between different classes|\n",
    "|Use when we have very different objects that we want to work together|Use when we are trying to build up a definition of an object|\n",
    "|Promotes loose coupling|Strongly couples classes together|"
   ]
  },
  {
   "cell_type": "markdown",
   "metadata": {},
   "source": [
    "## Generics\n",
    "- Like function arguments, but for types in class/function definitions\n",
    "- Allows us to define the type of a property/argument/return value at a future point\n",
    "- Used heavily when writing reusable code"
   ]
  },
  {
   "cell_type": "markdown",
   "metadata": {},
   "source": [
    "for example, instead of separate array classes for numbers and strings datatype"
   ]
  },
  {
   "cell_type": "code",
   "execution_count": null,
   "metadata": {},
   "outputs": [],
   "source": [
    "class ArrayOfNumbers {\n",
    "  collection: number[];\n",
    "\n",
    "  constructor(collection: number[]) {\n",
    "    this.collection = collection;\n",
    "  }\n",
    "\n",
    "  get(index: number): number {\n",
    "    return this.collection[index];\n",
    "  }\n",
    "}\n",
    "\n",
    "class ArrayOfStrings {\n",
    "  collection: string[];\n",
    "\n",
    "  constructor(collection: string[]) {\n",
    "    this.collection = collection;\n",
    "  }\n",
    "\n",
    "  get(index: number): string {\n",
    "    return this.collection[index];\n",
    "  }\n",
    "}\n"
   ]
  },
  {
   "cell_type": "markdown",
   "metadata": {},
   "source": [
    "We can have a single class with a generic datatype for collections"
   ]
  },
  {
   "cell_type": "code",
   "execution_count": null,
   "metadata": {},
   "outputs": [],
   "source": [
    "class ArrayOfAnything<T> {\n",
    "  collection: T[]\n",
    "\n",
    "  constructor(collection: T[]) {\n",
    "    this.collection =  collection;\n",
    "  }\n",
    "\n",
    "  get(index: number): T {\n",
    "    return this.collection[index];\n",
    "  }\n",
    "}\n",
    "\n",
    "const strings = new ArrayOfAnything<string>(['a', 'b', 'c']);\n",
    "\n",
    "console.log(strings.get(1));"
   ]
  },
  {
   "cell_type": "markdown",
   "metadata": {},
   "source": [
    "## Generic Constraints"
   ]
  },
  {
   "cell_type": "code",
   "execution_count": null,
   "metadata": {},
   "outputs": [],
   "source": [
    "class Car {\n",
    "  print() {\n",
    "    console.log('I am a car');\n",
    "  }\n",
    "}\n",
    "\n",
    "class House {\n",
    "  print() {\n",
    "    console.log('I am a house');\n",
    "  }\n",
    "}\n",
    "\n",
    "interface Printable {\n",
    "  print(): void;\n",
    "}\n",
    "\n",
    "function printHousesOrCars<T extends Printable> (arr: T[]): void {\n",
    "  for (let i of arr) {\n",
    "    i.print();\n",
    "  }\n",
    "}\n",
    "\n",
    "printHousesOrCars([new Car(), new House(), new Car(), new House()]);"
   ]
  },
  {
   "cell_type": "markdown",
   "metadata": {},
   "source": [
    "## Advance Generics\n",
    "- In typescript, strings can be types\n",
    "- In JS (and therefore TS), all object keys are strings\n",
    "\n",
    "Variable return types"
   ]
  },
  {
   "cell_type": "code",
   "execution_count": null,
   "metadata": {},
   "outputs": [],
   "source": [
    "export class Attributes<T> {\n",
    "  private data: T;\n",
    "\n",
    "  constructor(data: T) {\n",
    "    this.data = data;\n",
    "  }\n",
    "\n",
    "  get<K extends keyof T>(key: K): T[K] {\n",
    "    return this.data[key];\n",
    "  }\n",
    "}"
   ]
  },
  {
   "cell_type": "markdown",
   "metadata": {},
   "source": [
    "## Running typescript in the browser with Parcel\n",
    "first install parcel"
   ]
  },
  {
   "cell_type": "code",
   "execution_count": null,
   "metadata": {},
   "outputs": [],
   "source": [
    "npm install -g parcel-bundler"
   ]
  },
  {
   "cell_type": "markdown",
   "metadata": {},
   "source": [
    "create an html file with a script tag that points to your typescript file"
   ]
  },
  {
   "cell_type": "code",
   "execution_count": null,
   "metadata": {},
   "outputs": [],
   "source": [
    "//index.html\n",
    "<!DOCTYPE html>\n",
    "<html lang=\"en\">\n",
    "<head>\n",
    "  <meta charset=\"UTF-8\">\n",
    "  <meta name=\"viewport\" content=\"width=device-width, initial-scale=1.0\">\n",
    "  <title>Document</title>\n",
    "</head>\n",
    "<body>\n",
    "  <script src=\"./src/index.ts\"></script>\n",
    "</body>\n",
    "</html>"
   ]
  },
  {
   "cell_type": "code",
   "execution_count": null,
   "metadata": {},
   "outputs": [],
   "source": [
    "// ./src/index.ts\n",
    "console.log(\"hello world\");"
   ]
  },
  {
   "cell_type": "markdown",
   "metadata": {},
   "source": [
    "Run the following command in terminal which will run typescript on one of your ports in your browser."
   ]
  },
  {
   "cell_type": "code",
   "execution_count": null,
   "metadata": {},
   "outputs": [],
   "source": [
    "parcel index.html"
   ]
  },
  {
   "cell_type": "markdown",
   "metadata": {},
   "source": [
    "## Importing Modules\n",
    "\n",
    "### Type definition files\n",
    "When importing a javascript module into typescript, the functions in the js module does not have type. So we have to import the type definition file.\n",
    "\n",
    "importing the typedefinition file for the module follows the following convention"
   ]
  },
  {
   "cell_type": "code",
   "execution_count": null,
   "metadata": {},
   "outputs": [],
   "source": [
    "npm install @types/{library name}"
   ]
  },
  {
   "cell_type": "markdown",
   "metadata": {},
   "source": [
    "you can navagate the type definition files by typing into the command pallete `cmd + shift + p` fold *fold level n* eg *fold level 2*"
   ]
  },
  {
   "cell_type": "markdown",
   "metadata": {},
   "source": [
    "### Type definition files of node standard library\n",
    "anytime we want to install the type definition file in node standard library we run the following command"
   ]
  },
  {
   "cell_type": "code",
   "execution_count": null,
   "metadata": {},
   "outputs": [],
   "source": [
    "npm install @types/node"
   ]
  },
  {
   "cell_type": "markdown",
   "metadata": {},
   "source": [
    "## Importing builtin modules\n",
    "\n",
    "use the export keyword in your file to "
   ]
  },
  {
   "cell_type": "code",
   "execution_count": null,
   "metadata": {},
   "outputs": [],
   "source": [
    "// Person.ts\n",
    "export class Person {\n",
    "  name: string;\n",
    "\n",
    "  constructor(name: string) {\n",
    "    this.name = name\n",
    "  }\n",
    "}\n",
    "\n",
    "export class Parent {\n",
    "  child: string;\n",
    "  \n",
    "  constructor(child: string) {\n",
    "    this.child = chile;\n",
    "  }\n",
    "}"
   ]
  },
  {
   "cell_type": "markdown",
   "metadata": {},
   "source": [
    "Import the classes in Person.ts uing {}"
   ]
  },
  {
   "cell_type": "code",
   "execution_count": null,
   "metadata": {},
   "outputs": [],
   "source": [
    "//index.ts\n",
    "import {Person, Parent} from './Person.ts';"
   ]
  },
  {
   "cell_type": "markdown",
   "metadata": {},
   "source": [
    "## NodeJS API\n",
    "https://nodejs.org/api/"
   ]
  },
  {
   "cell_type": "markdown",
   "metadata": {},
   "source": [
    "# Framework\n",
    "\n",
    "|Model Classes|View Classes|\n",
    "|--|--|\n",
    "|Handle data, used to represent Users, blog posts, Images, etc|Handle HTML and events caused by the user (like clicks)|"
   ]
  },
  {
   "cell_type": "markdown",
   "metadata": {},
   "source": [
    "## Axios with Json Server\n",
    "\n",
    "<img src='./Media/Axios-JsonServer.png' height='30%' width='30%'>"
   ]
  },
  {
   "cell_type": "code",
   "execution_count": null,
   "metadata": {},
   "outputs": [],
   "source": [
    "npm install -g json-server"
   ]
  },
  {
   "cell_type": "markdown",
   "metadata": {},
   "source": [
    "Create a **db.json** file in root directory."
   ]
  },
  {
   "cell_type": "code",
   "execution_count": null,
   "metadata": {},
   "outputs": [],
   "source": [
    "// db.json\n",
    "{\n",
    "  \"users\": []\n",
    "}"
   ]
  },
  {
   "cell_type": "markdown",
   "metadata": {},
   "source": [
    "Start json server run the following command on another terminal"
   ]
  },
  {
   "cell_type": "code",
   "execution_count": null,
   "metadata": {},
   "outputs": [],
   "source": [
    "json-server -w db.json"
   ]
  },
  {
   "cell_type": "markdown",
   "metadata": {},
   "source": [
    "Install Axios run the following command"
   ]
  },
  {
   "cell_type": "code",
   "execution_count": null,
   "metadata": {},
   "outputs": [],
   "source": [
    "npm install axios"
   ]
  },
  {
   "cell_type": "markdown",
   "metadata": {},
   "source": [
    "Start parcel"
   ]
  },
  {
   "cell_type": "code",
   "execution_count": null,
   "metadata": {},
   "outputs": [],
   "source": [
    "parcel index.html"
   ]
  },
  {
   "cell_type": "markdown",
   "metadata": {},
   "source": [
    "You can run these procecess at run by installin `npm-run-all` and adding the following scripts to package.json"
   ]
  },
  {
   "cell_type": "code",
   "execution_count": null,
   "metadata": {},
   "outputs": [],
   "source": [
    "npm install npm-run-all"
   ]
  },
  {
   "cell_type": "code",
   "execution_count": null,
   "metadata": {},
   "outputs": [],
   "source": [
    "// package.json\n",
    "{\n",
    "  \"devDependencies\": {\n",
    "    \"typescript\": \"^4.1.3\"\n",
    "  },\n",
    "  \"dependencies\": {\n",
    "    \"axios\": \"^0.21.1\"\n",
    "  },\n",
    "  \"scripts\": {\n",
    "    \"start:db\": \"json-server -w db.json\",\n",
    "    \"start:parcel\": \"parcel index.html\",\n",
    "    \"start\": \"npm-run-all -p -r start:db start:parcel\"\n",
    "  }\n",
    "}"
   ]
  },
  {
   "cell_type": "markdown",
   "metadata": {},
   "source": [
    "To start the process"
   ]
  },
  {
   "cell_type": "code",
   "execution_count": null,
   "metadata": {},
   "outputs": [],
   "source": [
    "npm start"
   ]
  },
  {
   "cell_type": "markdown",
   "metadata": {},
   "source": [
    "## Restful Conventions\n",
    "\n",
    "|HTTP Request|Endpoint|Description|\n",
    "|--|--|--|\n",
    "|GET|/posts|Retrieve all posts|\n",
    "|GET|/posts/:id|Retrieve post with the given ID|\n",
    "|POST|/posts|Create a new post|\n",
    "|PUT|/posts/:id|Update a post|\n",
    "|DELETE|/posts/:id|Delete a post|"
   ]
  },
  {
   "cell_type": "markdown",
   "metadata": {},
   "source": [
    "### HTTP Request to Json Server using Axios\n",
    "\n",
    "The following code persists a record to **db.json**"
   ]
  },
  {
   "cell_type": "code",
   "execution_count": null,
   "metadata": {},
   "outputs": [],
   "source": [
    "// index.ts\n",
    "import axios from 'axios';\n",
    "\n",
    "axios.post(' http://localhost:3000/users', {\n",
    "  name: 'users',\n",
    "  age: 20\n",
    "});"
   ]
  },
  {
   "cell_type": "markdown",
   "metadata": {},
   "source": [
    "The following code retrieves record **db.json**"
   ]
  },
  {
   "cell_type": "code",
   "execution_count": null,
   "metadata": {},
   "outputs": [],
   "source": [
    "import axios, { AxiosResponse } from 'axios';\n",
    "\n",
    "axios.get(' http://localhost:3000/users/1')\n",
    "     .then((response: axiosResponse): void => {\n",
    "       console.log(response.data);\n",
    "     });"
   ]
  },
  {
   "cell_type": "markdown",
   "metadata": {},
   "source": [
    "### Data Conversion\n",
    "\n",
    "|Process|Description|\n",
    "|--|--|\n",
    "|Serialize|Convert data from an object into some save-able format(json)|\n",
    "|Deserialize|Put data on an object using some previously saved data (json)|"
   ]
  },
  {
   "cell_type": "markdown",
   "metadata": {},
   "source": [
    "# Typescript Integration with Existing Javascript libraries\n",
    "\n",
    "Issues with integrating Typescript with existing Javascript libraries\n",
    "- Typescript has a distinct OOP style\n",
    "- Many popular JS libs were written before JS had any solid idea of 'classes'\n",
    "- Integrating TS with popular JS libs can be tough\n",
    "\n",
    "Approaches to integrate Typescript with existing JS libraries\n",
    "1. Use the lib normally, adding in basic type annotations where possible\n",
    "2. Use a TS adapter library that has helpers for using you library with TS\n",
    "3. Twist your library to work with TS classes\n",
    "\n"
   ]
  },
  {
   "cell_type": "markdown",
   "metadata": {},
   "source": [
    "## Integration issues\n",
    "\n",
    "Cons\n",
    "- Type definition files alone can't express what is going on in the JS world accurately (example: middleware)\n",
    "- Type definition files provided to us aren't always accurate\n",
    "- EXACERBATED BY THE TYPE DEFINITION FILE Inputs to a server (or any program with external inputs) are not guaranteed to exist, or be of the correct type\n",
    "\n",
    "Pros\n",
    "- Addressing these type issue with typescript can force us to write better code"
   ]
  },
  {
   "cell_type": "markdown",
   "metadata": {},
   "source": [
    "# Decorators\n",
    "- Functions that can be used to modify/change/anything different properties/methods in the class\n",
    "- Not the same as Javascript decorators\n",
    "- Used inside/on classes only\n",
    "- Understanding the order in which decorators are ran are the key to understanding them\n",
    "- Experimental!\n",
    "\n",
    "\n",
    "To allow use for decorator go to tsconfig.json file and enable decorators\n",
    "\n",
    "uncomment the lines\n",
    "\n",
    "    \"experimentalDecorators\": true,        /* Enables experimental support for ES7 decorators. */\n",
    "    \"emitDecoratorMetadata\": true,         /* Enables experimental support for emitting type metadata for decorators. */"
   ]
  },
  {
   "cell_type": "code",
   "execution_count": null,
   "metadata": {},
   "outputs": [],
   "source": [
    "// tsconfig.json\n",
    "{\n",
    "  \"compilerOptions\": {\n",
    "    /* Visit https://aka.ms/tsconfig.json to read more about this file */\n",
    "\n",
    "    /* Basic Options */\n",
    "    // \"incremental\": true,                   /* Enable incremental compilation */\n",
    "    \"target\": \"es5\",                          /* Specify ECMAScript target version: 'ES3' (default), 'ES5', 'ES2015', 'ES2016', 'ES2017', 'ES2018', 'ES2019', 'ES2020', or 'ESNEXT'. */\n",
    "    \"module\": \"commonjs\",                     /* Specify module code generation: 'none', 'commonjs', 'amd', 'system', 'umd', 'es2015', 'es2020', or 'ESNext'. */\n",
    "    // \"lib\": [],                             /* Specify library files to be included in the compilation. */\n",
    "    // \"allowJs\": true,                       /* Allow javascript files to be compiled. */\n",
    "    // \"checkJs\": true,                       /* Report errors in .js files. */\n",
    "    // \"jsx\": \"preserve\",                     /* Specify JSX code generation: 'preserve', 'react-native', or 'react'. */\n",
    "    // \"declaration\": true,                   /* Generates corresponding '.d.ts' file. */\n",
    "    // \"declarationMap\": true,                /* Generates a sourcemap for each corresponding '.d.ts' file. */\n",
    "    // \"sourceMap\": true,                     /* Generates corresponding '.map' file. */\n",
    "    // \"outFile\": \"./\",                       /* Concatenate and emit output to single file. */\n",
    "    // \"outDir\": \"./\",                        /* Redirect output structure to the directory. */\n",
    "    // \"rootDir\": \"./\",                       /* Specify the root directory of input files. Use to control the output directory structure with --outDir. */\n",
    "    // \"composite\": true,                     /* Enable project compilation */\n",
    "    // \"tsBuildInfoFile\": \"./\",               /* Specify file to store incremental compilation information */\n",
    "    // \"removeComments\": true,                /* Do not emit comments to output. */\n",
    "    // \"noEmit\": true,                        /* Do not emit outputs. */\n",
    "    // \"importHelpers\": true,                 /* Import emit helpers from 'tslib'. */\n",
    "    // \"downlevelIteration\": true,            /* Provide full support for iterables in 'for-of', spread, and destructuring when targeting 'ES5' or 'ES3'. */\n",
    "    // \"isolatedModules\": true,               /* Transpile each file as a separate module (similar to 'ts.transpileModule'). */\n",
    "\n",
    "    /* Experimental Options */\n",
    "    \"experimentalDecorators\": true,        /* Enables experimental support for ES7 decorators. */\n",
    "    \"emitDecoratorMetadata\": true,         /* Enables experimental support for emitting type metadata for decorators. */\n",
    "\n",
    "    /* Advanced Options */\n",
    "    \"skipLibCheck\": true,                     /* Skip type checking of declaration files. */\n",
    "    \"forceConsistentCasingInFileNames\": true  /* Disallow inconsistently-cased references to the same file. */\n",
    "  }\n",
    "}"
   ]
  },
  {
   "cell_type": "markdown",
   "metadata": {},
   "source": [
    "Example of decorator"
   ]
  },
  {
   "cell_type": "code",
   "execution_count": null,
   "metadata": {},
   "outputs": [],
   "source": [
    "class Boat {\n",
    "  color: string = 'red';\n",
    "\n",
    "  get formattedColor(): string {\n",
    "    return `This boats color is ${this.color}`;\n",
    "  }\n",
    "\n",
    "  @testDecorator\n",
    "  pilot(): void {\n",
    "    console.log('swish');\n",
    "  }\n",
    "}\n",
    "\n",
    "function testDecorator(target: any, key: string): void {\n",
    "  console.log('Target:', target);\n",
    "  console.log('Key:', key);\n",
    "}"
   ]
  },
  {
   "cell_type": "markdown",
   "metadata": {},
   "source": [
    "Decorators on a property, method, accessor\n",
    "- First argument is the prototype of the object\n",
    "- Second argument is the key of the property/method/accessor on the object\n",
    "- Third argument is the property descriptor\n",
    "- Decorators are applied when the code for this class is ran (not when an instance is created)\n",
    "\n",
    "\n",
    "Property Descriptor is an objct that is ment to configure a property on another object.\n",
    "\n",
    "|Property Descriptors for Methods||\n",
    "|--|--|\n",
    "|writable|Whether or not this property can be changed|\n",
    "|enumerable|Whether or not this property get looped over by a 'for...in'|\n",
    "|value|Current value|\n",
    "|configurable|Property definition can be changed and property can be deleted|"
   ]
  },
  {
   "cell_type": "markdown",
   "metadata": {},
   "source": [
    "## Metadata\n",
    "- Proposed feature to be added to Javascript (and this, TS)\n",
    "- Snippets of info that can be tied to a method, property, or class definition\n",
    "- Can be used for super custom stuff\n",
    "- Typescript will (optionally) provide type information as matadata\n",
    "- Read and written usin the reflect-metadata package\n",
    "\n",
    "Make sure that experimentalDecorators, and emitDecoratorMetadata are uncommented and set to true in tsconfig.json file"
   ]
  },
  {
   "cell_type": "code",
   "execution_count": null,
   "metadata": {},
   "outputs": [],
   "source": [
    "// tsconfig.json\n",
    "{\n",
    "\n",
    "    /* Experimental Options */\n",
    "    \"experimentalDecorators\": true,        /* Enables experimental support for ES7 decorators. */\n",
    "    \"emitDecoratorMetadata\": true,         /* Enables experimental support for emitting type metadata for decorators. */\n",
    "\n",
    "}"
   ]
  },
  {
   "cell_type": "markdown",
   "metadata": {},
   "source": [
    "install the reflect-metadata package"
   ]
  },
  {
   "cell_type": "code",
   "execution_count": null,
   "metadata": {},
   "outputs": [],
   "source": [
    "npm init -y\n",
    "npm install reflect-metadata"
   ]
  },
  {
   "cell_type": "markdown",
   "metadata": {},
   "source": [
    "### reflect-metadata package\n",
    "\n",
    "- `Reflect.defineMetadata(\"custom:annotation\", options, Example);`: allows us to attach metadata to an object or property of an object\n",
    "- `Reflect.getMetadata(\"custom:annotation\", Example);`: allows us to retrieve metatdata from an object or a property of an object\n",
    "\n",
    "metadata is hidden data, you can attach metadata to an object but it cannot be retrieved."
   ]
  },
  {
   "cell_type": "code",
   "execution_count": null,
   "metadata": {},
   "outputs": [],
   "source": [
    "import 'reflect-metadata';\n",
    "\n",
    "const plane = {\n",
    "  color: 'red'\n",
    "};\n",
    "\n",
    "Reflect.defineMetadata('note', 'hi there', plane);\n",
    "\n",
    "\n",
    "console.log(plane);"
   ]
  },
  {
   "cell_type": "markdown",
   "metadata": {},
   "source": [
    "the property note in plane will not show up, but can be retrieved using getMetadata"
   ]
  },
  {
   "cell_type": "code",
   "execution_count": null,
   "metadata": {},
   "outputs": [],
   "source": [
    "import 'reflect-metadata';\n",
    "\n",
    "const plane = {\n",
    "  color: 'red'\n",
    "};\n",
    "\n",
    "Reflect.defineMetadata('note', 'hi there', plane);\n",
    "\n",
    "const note = Reflect.getMetadata('note', plane);\n",
    "\n",
    "console.log(note);"
   ]
  },
  {
   "cell_type": "markdown",
   "metadata": {},
   "source": [
    "<img src='Media/Metadata.png' height=\"30%\" width=\"30%\">"
   ]
  },
  {
   "cell_type": "markdown",
   "metadata": {},
   "source": [
    "# Using Typescript for React and Redux\n",
    "\n",
    "Pros\n",
    "- Far, far easier to avoid extremely common typos, like incorrect action types\n",
    "- Gives dev's a far better understanding of the type of data flowing around\n",
    "- Much easier to refactor just about anything\n",
    "\n",
    "Cons\n",
    "- Not the best type definition files (especially around redux)\n",
    "- Tons of generics flying around\n",
    "- Tons of imports, as just about everything (action creator, action, reducer, store, component) need to be aware of different types\n",
    "- Redux inherently functional in nature, tough integration with TS classes\n",
    "\n",
    "create react redux app with typescript"
   ]
  },
  {
   "cell_type": "code",
   "execution_count": null,
   "metadata": {},
   "outputs": [],
   "source": [
    "npx create-react-app <appname> --typescript"
   ]
  }
 ],
 "metadata": {
  "kernelspec": {
   "display_name": "Bash",
   "language": "bash",
   "name": "bash"
  },
  "language_info": {
   "codemirror_mode": "shell",
   "file_extension": ".sh",
   "mimetype": "text/x-sh",
   "name": "bash"
  }
 },
 "nbformat": 4,
 "nbformat_minor": 4
}
