{
 "cells": [
  {
   "cell_type": "markdown",
   "metadata": {},
   "source": [
    "## What is Typescript\n",
    "- A JavaScript Superset\n",
    "- A Language building up on Javascript\n",
    "- Adds new Features + Advantages of Javascript\n",
    "- Cannot execute TypeScript in browser and node \n",
    "- A compiler compiles Typescript to Javascript\n",
    "\n",
    "Typescript = Javascript + A type system\n",
    "\n",
    "In short typescript is extra syntax we added to our code, that will help us catch errors. Our typescript will ultimately be compiled to javascript and run as javascript.\n",
    "\n",
    "The TS Type System\n",
    "1. Helps us scatch errors during development (by giving us error messages in our IDE during development)\n",
    "1. Uses 'type annotations' to analyze our code\n",
    "1. Only active during deployment\n",
    "1. Doesn't provide any performance optimization"
   ]
  },
  {
   "cell_type": "markdown",
   "metadata": {},
   "source": [
    "#### Developement lifecycle\n",
    "Typescript Code (Javascript with type annotations) -> Typescript Compiler -> Plain old Javascript -> Browser \n",
    "\n",
    "Summary\n",
    "- Writing Typescript is the same as writing Javascript with some \"extra documentation\"\n",
    "- Typescript has no effect on how our code gets executed by the browser or Node\n",
    "- It is best to think of Typescript as being like as friend sitting behind you while you are coding."
   ]
  },
  {
   "cell_type": "markdown",
   "metadata": {},
   "source": [
    "## Why use Typescript\n",
    "- Prevent fiendish bugs\n",
    "- Prevent unwanted runtime behaviors, by catching them in development\n",
    "- Powerful features: classes and modules\n",
    "- Integrate with Grunt or Gulp\n",
    "\n",
    "Grunt: A javascript tak runner that is poppular for managing the flow of developing projects. You can compule your typescript to javascript whenever you run it.\n",
    "\n",
    "Gulp: Another library that can do the same thing as Grunt.\n"
   ]
  },
  {
   "cell_type": "markdown",
   "metadata": {},
   "source": [
    "### Typescript adds\n",
    "- Types!\n",
    "- Non-JavaScript Features like Interfaces or Generics\n",
    "- Rich Configuration Options\n",
    "- Next-gen JavaScirpt Features (compiled down for older Browser)\n",
    "- Meta-Programming Features like Decorators\n",
    "- Modern Tooling that helps even in non-TypeScript Projects"
   ]
  },
  {
   "cell_type": "markdown",
   "metadata": {},
   "source": [
    "## Installing Typescript\n",
    "Installing typescript compiler\n",
    "\n",
    "ts-node is a command line tool that allows us to compile and execute typescript with one command on the terminal."
   ]
  },
  {
   "cell_type": "code",
   "execution_count": 13,
   "metadata": {},
   "outputs": [
    {
     "name": "stdout",
     "output_type": "stream",
     "text": [
      "\u001b[K\u001b[?25h              \u001b[27m⸩ ⠇ reify:typescript: \u001b[32;40mtiming\u001b[0m \u001b[35mreifyNode:node_modules/ts-node\u001b[0m\u001b[0m\u001b[Kmjs\u001b[0m\u001b[K\n",
      "added 9 packages, changed 1 package, and audited 10 packages in 1s\n",
      "\n",
      "found \u001b[32m\u001b[1m0\u001b[22m\u001b[39m vulnerabilities\n"
     ]
    }
   ],
   "source": [
    "npm install -g typescript ts-node"
   ]
  },
  {
   "cell_type": "markdown",
   "metadata": {},
   "source": [
    "## Typescript Compiler\n",
    "Typescript Compiler, tsc"
   ]
  },
  {
   "cell_type": "code",
   "execution_count": 3,
   "metadata": {},
   "outputs": [
    {
     "name": "stdout",
     "output_type": "stream",
     "text": [
      "Version 4.1.3\n",
      "Syntax:   tsc [options] [file...]\n",
      "\n",
      "Examples: tsc hello.ts\n",
      "          tsc --outFile file.js file.ts\n",
      "          tsc @args.txt\n",
      "          tsc --build tsconfig.json\n",
      "\n",
      "Options:\n",
      " -h, --help                                         Print this message.\n",
      " -w, --watch                                        Watch input files.\n",
      " --pretty                                           Stylize errors and messages using color and context (experimental).\n",
      " --all                                              Show all compiler options.\n",
      " -v, --version                                      Print the compiler's version.\n",
      " --init                                             Initializes a TypeScript project and creates a tsconfig.json file.\n",
      " -p FILE OR DIRECTORY, --project FILE OR DIRECTORY  Compile the project given the path to its configuration file, or to a folder with a 'tsconfig.json'.\n",
      " -b, --build                                        Build one or more projects and their dependencies, if out of date\n",
      " -t VERSION, --target VERSION                       Specify ECMAScript target version: 'ES3' (default), 'ES5', 'ES2015', 'ES2016', 'ES2017', 'ES2018', 'ES2019', 'ES2020', or 'ESNEXT'.\n",
      " -m KIND, --module KIND                             Specify module code generation: 'none', 'commonjs', 'amd', 'system', 'umd', 'es2015', 'es2020', or 'ESNext'.\n",
      " --lib                                              Specify library files to be included in the compilation.\n",
      "                                                      'es5' 'es6' 'es2015' 'es7' 'es2016' 'es2017' 'es2018' 'es2019' 'es2020' 'esnext' 'dom' 'dom.iterable' 'webworker' 'webworker.importscripts' 'webworker.iterable' 'scripthost' 'es2015.core' 'es2015.collection' 'es2015.generator' 'es2015.iterable' 'es2015.promise' 'es2015.proxy' 'es2015.reflect' 'es2015.symbol' 'es2015.symbol.wellknown' 'es2016.array.include' 'es2017.object' 'es2017.sharedmemory' 'es2017.string' 'es2017.intl' 'es2017.typedarrays' 'es2018.asyncgenerator' 'es2018.asynciterable' 'es2018.intl' 'es2018.promise' 'es2018.regexp' 'es2019.array' 'es2019.object' 'es2019.string' 'es2019.symbol' 'es2020.bigint' 'es2020.promise' 'es2020.sharedmemory' 'es2020.string' 'es2020.symbol.wellknown' 'es2020.intl' 'esnext.array' 'esnext.symbol' 'esnext.asynciterable' 'esnext.intl' 'esnext.bigint' 'esnext.string' 'esnext.promise' 'esnext.weakref' \n",
      " --allowJs                                          Allow javascript files to be compiled.\n",
      " --jsx KIND                                         Specify JSX code generation: 'preserve', 'react-native', or 'react'.\n",
      " -d, --declaration                                  Generates corresponding '.d.ts' file.\n",
      " --declarationMap                                   Generates a sourcemap for each corresponding '.d.ts' file.\n",
      " --sourceMap                                        Generates corresponding '.map' file.\n",
      " --outFile FILE                                     Concatenate and emit output to single file.\n",
      " --outDir DIRECTORY                                 Redirect output structure to the directory.\n",
      " --removeComments                                   Do not emit comments to output.\n",
      " --noEmit                                           Do not emit outputs.\n",
      " --strict                                           Enable all strict type-checking options.\n",
      " --noImplicitAny                                    Raise error on expressions and declarations with an implied 'any' type.\n",
      " --strictNullChecks                                 Enable strict null checks.\n",
      " --strictFunctionTypes                              Enable strict checking of function types.\n",
      " --strictBindCallApply                              Enable strict 'bind', 'call', and 'apply' methods on functions.\n",
      " --strictPropertyInitialization                     Enable strict checking of property initialization in classes.\n",
      " --noImplicitThis                                   Raise error on 'this' expressions with an implied 'any' type.\n",
      " --alwaysStrict                                     Parse in strict mode and emit \"use strict\" for each source file.\n",
      " --noUnusedLocals                                   Report errors on unused locals.\n",
      " --noUnusedParameters                               Report errors on unused parameters.\n",
      " --noImplicitReturns                                Report error when not all code paths in function return a value.\n",
      " --noFallthroughCasesInSwitch                       Report errors for fallthrough cases in switch statement.\n",
      " --types                                            Type declaration files to be included in compilation.\n",
      " --esModuleInterop                                  Enables emit interoperability between CommonJS and ES Modules via creation of namespace objects for all imports. Implies 'allowSyntheticDefaultImports'.\n",
      " @<file>                                            Insert command line options and files from a file.\n"
     ]
    },
    {
     "ename": "",
     "evalue": "1",
     "output_type": "error",
     "traceback": []
    }
   ],
   "source": [
    "tsc"
   ]
  },
  {
   "cell_type": "markdown",
   "metadata": {},
   "source": [
    "### Compiling typescript to javascript\n",
    "Lets compile our helloWorld.ts file to helloWorld.js"
   ]
  },
  {
   "cell_type": "code",
   "execution_count": 11,
   "metadata": {},
   "outputs": [],
   "source": [
    "tsc HelloWorld/helloWorld.ts"
   ]
  },
  {
   "cell_type": "code",
   "execution_count": 6,
   "metadata": {},
   "outputs": [
    {
     "name": "stdout",
     "output_type": "stream",
     "text": [
      "HelloWorld\t\tTypescript.ipynb\n"
     ]
    }
   ],
   "source": [
    "ls Hello"
   ]
  },
  {
   "cell_type": "code",
   "execution_count": 12,
   "metadata": {},
   "outputs": [
    {
     "name": "stdout",
     "output_type": "stream",
     "text": [
      "Hello Jon\n"
     ]
    }
   ],
   "source": [
    "node HelloWorld/helloWorld.js"
   ]
  },
  {
   "cell_type": "markdown",
   "metadata": {},
   "source": [
    "### Compile and execute Typescript using ts-node"
   ]
  },
  {
   "cell_type": "code",
   "execution_count": 2,
   "metadata": {},
   "outputs": [
    {
     "name": "stdout",
     "output_type": "stream",
     "text": [
      "Hello Jon\n"
     ]
    }
   ],
   "source": [
    "ts-node HelloWorld/helloWorld.ts"
   ]
  },
  {
   "cell_type": "markdown",
   "metadata": {},
   "source": [
    "## IDE Installation\n",
    "\n",
    "1. Download VSVode<br>\n",
    "https://code.visualstudio.com/\n",
    "\n",
    "Optional\n",
    "- Add 'code' to path `cmd + p` -> `>Shell command 'code' successfully installed in PATH.`\n",
    "- Install Prettier Extension\n",
    "- Run prettier on save `cmd + ,` -> `Format On Save` check the checkbox\n",
    "- Use single quotes with prettier (optional)\n",
    "- Use two spaces for indentation (optional) `Tab Size` enter 2\n",
    "- Set theme to 'Solarize Light' (optional)"
   ]
  },
  {
   "cell_type": "markdown",
   "metadata": {},
   "source": [
    "### Create a node project"
   ]
  },
  {
   "cell_type": "code",
   "execution_count": null,
   "metadata": {},
   "outputs": [],
   "source": [
    "npm init -y"
   ]
  },
  {
   "cell_type": "markdown",
   "metadata": {},
   "source": [
    "Install axios"
   ]
  },
  {
   "cell_type": "code",
   "execution_count": null,
   "metadata": {},
   "outputs": [],
   "source": [
    "npm install axios"
   ]
  },
  {
   "cell_type": "markdown",
   "metadata": {},
   "source": [
    "# Types\n",
    "Type is a easy way to refer to the different properties and functions that a value has.\n",
    "\n",
    "### Why do we care about types\n",
    "1. Types are used by the Typescript compiler to analyze our code for errors\n",
    "1. Types allow other engineers to understand what values are flowing around our codebase\n",
    "\n",
    "## Core Types\n",
    "\n",
    "|Types|Example|Description|\n",
    "|--|--|--|\n",
    "|number|1, 5.3, -10|All numbers, no differentiations between integers or floats|\n",
    "|string|\"Hi', \"Hi\", \\`hi\\`|All text values|\n",
    "|boolean|true, false|Just these two, no \"truthy\" or \"falsy\" values|\n",
    "|object|{age: 30}|Any JavaScript object, more specific types (type of object are possible)|\n",
    "|Array|[1, 2, 3]|Any JavaScript array, type can be flexible or strictd (regarding the element types)|\n",
    "|Tuble|[1, 2]|Added by TypeScript: Fixed-length array|\n",
    "|Enum|enum{NEW, OLD}|Added by TypeScript: automatically enumerated global constant idendtifiers|\n",
    "|Any|*|Any kind of value, no specific type assignment|\n",
    "|Void||Opposity of any, the absence of having any type, commonly does not return a balue|\n",
    "\n",
    "## Interface\n",
    "A blueprint for an object, the defines the properties and methods that describe an object but does not provide implementation or initialize the object. It is a powerful of defining contracts within your code as well as contracts with cod outside your code."
   ]
  },
  {
   "cell_type": "markdown",
   "metadata": {},
   "source": [
    "## Type Annotations and Inference\n",
    "- Type annotations: Code we add to tell Typescript what type of value a variable will refer to\n",
    "- Type inference: Typescript tries to figure out what type of value a variable refers to\n",
    "\n",
    "|Type annotations|Type inference|\n",
    "|--|--|\n",
    "|we (develoeprs) tell Typescript the type|Typescript guesses the type|\n",
    "\n",
    "### Type Inference\n",
    "\n",
    "|Variable Declaration|Variable Declaration||Variable Initialization|\n",
    "|--|--|--|--|\n",
    "|const|color|=|\"red\";|\n",
    "\n",
    "If declaration and initialization are on the same line, Typescript will figure out the type of 'color' for us"
   ]
  },
  {
   "cell_type": "markdown",
   "metadata": {},
   "source": [
    "|Type annotations|&#8592;&#8594;|Type inference|\n",
    "|--|--|--|\n",
    "|We (developers) tell Typescript the type||Typescript guesses the type|\n",
    "|&#8595; When to use ...||&#8595; When to use ...|\n",
    "|When we declare a variable on one line then initialize it later||Always!|\n",
    "|When we want a variabe to have a type that can't be inferred|||\n",
    "|When a function returns the 'any' type and we need to clarify the value|||"
   ]
  },
  {
   "cell_type": "markdown",
   "metadata": {},
   "source": [
    "### Any type\n",
    "any type\n",
    "- A type, just as 'string' or 'boolean' are\n",
    "- Means TS has no idea what this is - can't check for property references\n",
    "- Avoid variables with 'any' at all costs\n",
    "\n",
    "### 1) function returns 'any' type\n",
    "ex JSON.parse in typescript returns any type, we need to clarify the value"
   ]
  },
  {
   "cell_type": "code",
   "execution_count": null,
   "metadata": {},
   "outputs": [],
   "source": [
    "// 1) Function(JSON.parse) that returns the 'any' type\n",
    "// coordinates is an any type\n",
    "const json = '{\"x\": 10, \"y\":20}';\n",
    "const coordinates = JSON.parse(json);\n",
    "console.log(coordinates); //{x:10, y:20};"
   ]
  },
  {
   "cell_type": "markdown",
   "metadata": {},
   "source": [
    "Work around is to use type annotations"
   ]
  },
  {
   "cell_type": "code",
   "execution_count": null,
   "metadata": {},
   "outputs": [],
   "source": [
    "const json = '{\"x\": 10, \"y\":20}';\n",
    "const coordinates: { x: number; y:number} = JSON.parse(json);\n",
    "console.log(coordinates); //{x:10, y:20};"
   ]
  },
  {
   "cell_type": "markdown",
   "metadata": {},
   "source": [
    "### 2) When we declare a variable and initialize it later"
   ]
  },
  {
   "cell_type": "code",
   "execution_count": null,
   "metadata": {},
   "outputs": [],
   "source": [
    "// Declare foundWord and initialize it later\n",
    "let words = [\"red\", \"green\", \"blue\"];\n",
    "let foundWord;\n",
    "\n",
    "for (let word of words) {\n",
    "  if (word === \"green\") {\n",
    "    foundWord = true;\n",
    "  }\n",
    "}"
   ]
  },
  {
   "cell_type": "markdown",
   "metadata": {},
   "source": [
    "Typescript will complain that found word is any type.\n",
    "\n",
    "workaround is to add type annotation when declaring a variable."
   ]
  },
  {
   "cell_type": "code",
   "execution_count": null,
   "metadata": {},
   "outputs": [],
   "source": [
    "// foundWord is annotated with type boolean at declaration\n",
    "let words = [\"red\", \"green\", \"blue\"];\n",
    "let foundWord: boolean;\n",
    "\n",
    "for (let word of words) {\n",
    "  if (word === \"green\") {\n",
    "    foundWord = true;\n",
    "  }\n",
    "}"
   ]
  },
  {
   "cell_type": "markdown",
   "metadata": {},
   "source": [
    "### 3) Variable whose type cannot be inferred correctly"
   ]
  },
  {
   "cell_type": "code",
   "execution_count": null,
   "metadata": {},
   "outputs": [],
   "source": [
    "// Variable whose type cannot be inferred correctly\n",
    "let numbers = [ -10, -1, 12];\n",
    "let numberAboveZero = false;\n",
    "\n",
    "for (let number of numbers) {\n",
    "  if (number > 0) {\n",
    "    numberAboveZero = number;\n",
    "  }\n",
    "}"
   ]
  },
  {
   "cell_type": "markdown",
   "metadata": {},
   "source": [
    "we inferred numberAboveZero as Boolean because we set numberAboveZero as false during intialization, typescript will complain it is a number when we assign it a number.\n",
    "\n",
    "Workaraound is to annotate numberAboveZero as either boolean or number"
   ]
  },
  {
   "cell_type": "code",
   "execution_count": null,
   "metadata": {},
   "outputs": [],
   "source": [
    "let numbers = [ -10, -1, 12];\n",
    "let numberAboveZero: boolean | number = false;\n",
    "\n",
    "for (let number of numbers) {\n",
    "  if (number > 0) {\n",
    "    numberAboveZero = number;\n",
    "  }\n",
    "}"
   ]
  },
  {
   "cell_type": "markdown",
   "metadata": {},
   "source": [
    "# Annotations for Functions\n",
    "- Type annotations for functions: Code we add to tell Typescript what type of arguments a function will receive and what type of values it will return\n",
    "- Type inference for functions: Typescript tries to figure out what type of value a function will return\n",
    "\n",
    "The following add and subtract functions, the arguments and return value is annotated with type number"
   ]
  },
  {
   "cell_type": "code",
   "execution_count": null,
   "metadata": {},
   "outputs": [],
   "source": [
    "const add = (a: number, b: number): number => {\n",
    "  return a + b;\n",
    "};\n",
    "\n",
    "const subtract = (a: number, b: number): number => {\n",
    "  return a - b;\n",
    "};"
   ]
  },
  {
   "cell_type": "markdown",
   "metadata": {},
   "source": [
    "Annotating functions using `function` keyword"
   ]
  },
  {
   "cell_type": "code",
   "execution_count": null,
   "metadata": {},
   "outputs": [],
   "source": [
    "function divide(a: number, b: number): number {\n",
    "  return a / b;\n",
    "};"
   ]
  },
  {
   "cell_type": "markdown",
   "metadata": {},
   "source": [
    "Annotating anonymous funcitons"
   ]
  },
  {
   "cell_type": "code",
   "execution_count": null,
   "metadata": {},
   "outputs": [],
   "source": [
    "const multiply = function(a: number, b: number): number {\n",
    "  return a * b;\n",
    "};"
   ]
  },
  {
   "cell_type": "markdown",
   "metadata": {},
   "source": [
    "Destructuring Annotations"
   ]
  },
  {
   "cell_type": "code",
   "execution_count": null,
   "metadata": {},
   "outputs": [],
   "source": [
    "const todaysWeather = {\n",
    "  date: new Date(),\n",
    "  weather: \"sunny\"\n",
    "};\n",
    "\n",
    "const logWeather = ({date, weather}: { date: Date, weather: string}): void => {\n",
    "  console.log(date);\n",
    "  console.log(weather);\n",
    "};\n",
    "\n",
    "logWeather(todaysWeather);"
   ]
  },
  {
   "cell_type": "markdown",
   "metadata": {},
   "source": [
    "Annotations and Destructuring Objects"
   ]
  },
  {
   "cell_type": "code",
   "execution_count": null,
   "metadata": {},
   "outputs": [],
   "source": [
    "const profile = {\n",
    "  name: 'alex',\n",
    "  age: 20,\n",
    "  coords: {\n",
    "    lat: 0,\n",
    "    lng: 15\n",
    "  },\n",
    "  setAge(age: number): void {\n",
    "    this.age = age;\n",
    "  }\n",
    "};\n",
    "\n",
    "const { age }: { age: number } = profile;\n",
    "const {coords}: { coords: { lat: number, lng: number } }  = profile;"
   ]
  },
  {
   "cell_type": "markdown",
   "metadata": {},
   "source": [
    "# Arrays\n",
    "Typed Arrays: Arrays where each element is some consistent type of value\n",
    "\n",
    "Why Typed Arrays\n",
    "- TS can do type inference when extracting values from an array\n",
    "- TS can prevent us form adding incompatible values to the array\n",
    "- We can get help with 'map', 'forEach', 'reduce' functions\n",
    "- Flexible: arrays can still contain multiple different types\n",
    "\n",
    "Where to use typed arrays? -> Anytime we need to represent a collection of records with some arbitrary sort order\n",
    "\n",
    "Help with inference when extracting values"
   ]
  },
  {
   "cell_type": "code",
   "execution_count": null,
   "metadata": {},
   "outputs": [],
   "source": [
    "const car = carMakers[0];\n",
    "const myCar = carMakers.pop();\n",
    "console.log(car);"
   ]
  },
  {
   "cell_type": "markdown",
   "metadata": {},
   "source": [
    "Prevent incompatible values"
   ]
  },
  {
   "cell_type": "code",
   "execution_count": null,
   "metadata": {},
   "outputs": [],
   "source": [
    "carMakers.push(100);"
   ]
  },
  {
   "cell_type": "markdown",
   "metadata": {},
   "source": [
    "Help with 'map'"
   ]
  },
  {
   "cell_type": "code",
   "execution_count": null,
   "metadata": {},
   "outputs": [],
   "source": [
    "carMakers.map((car: string) => {\n",
    "  return car;\n",
    "});"
   ]
  },
  {
   "cell_type": "markdown",
   "metadata": {},
   "source": [
    "Flexible types, you can specify multiple types for arrays"
   ]
  },
  {
   "cell_type": "code",
   "execution_count": null,
   "metadata": {},
   "outputs": [],
   "source": [
    "const importantDates: (Date | string)[] = [];\n",
    "importantDates.push('2020-10-10');\n",
    "importantDates.push(new Date);"
   ]
  },
  {
   "cell_type": "markdown",
   "metadata": {},
   "source": [
    "# Tuple\n",
    "Tuple: Array like structure were each element represents some property of a record\n",
    "\n",
    "For example object representing a 'drink'\n",
    "\n",
    "|Property|Value|\n",
    "|--|--|\n",
    "|color|brown|\n",
    "|carbonated|true|\n",
    "|sugar|40|\n",
    "\n",
    "Trying to represent the Properties in an array\n",
    "\n",
    "[brown, value, 40]\n",
    "\n",
    "But by using an array to represent the Property of the 'drink' object we lose information of the property labels.\n"
   ]
  },
  {
   "cell_type": "code",
   "execution_count": null,
   "metadata": {},
   "outputs": [],
   "source": [
    "// object drink\n",
    "const drink = {\n",
    "  color: \"brown\",\n",
    "  carbonated: true,\n",
    "  sugar: 40\n",
    "};"
   ]
  },
  {
   "cell_type": "markdown",
   "metadata": {},
   "source": [
    "Using a tuple"
   ]
  },
  {
   "cell_type": "code",
   "execution_count": null,
   "metadata": {},
   "outputs": [],
   "source": [
    "const pepsi: [string, boolean, number] = ['brown', true, 40];"
   ]
  },
  {
   "cell_type": "markdown",
   "metadata": {},
   "source": [
    "Annotating tuples with alias"
   ]
  },
  {
   "cell_type": "code",
   "execution_count": null,
   "metadata": {},
   "outputs": [],
   "source": [
    "type Drink = [string, boolean, number];\n",
    "\n",
    "const coke: Drink = [\"brown\", true, 40];\n",
    "const sprite: Drink = [\"clear\", true, 40];\n",
    "const tea: Drink = [\"brown\", false, 0];"
   ]
  },
  {
   "cell_type": "markdown",
   "metadata": {},
   "source": [
    "# Interfaces\n",
    "Interfaces: Creates a new type, describing the property names and value types of an object\n",
    "\n",
    "Interface + Class = Allows us to reuse code in TS\n",
    "\n",
    "## Why use Interfaces\n",
    "A motivation is to shorten long annotation as shown in the code below"
   ]
  },
  {
   "cell_type": "code",
   "execution_count": null,
   "metadata": {},
   "outputs": [],
   "source": [
    "const oldCivic = {\n",
    "  name: \"civic\",\n",
    "  year: 2000,\n",
    "  broken: true\n",
    "};\n",
    "\n",
    "const printVehicle = (vehicle: {name: string; year: number; broken: boolean }): void => {\n",
    "  console.log(`\n",
    "    Name: ${vehicle.name}\n",
    "    Year: ${vehicle.year}\n",
    "    Broken? ${vehicle.broken}\n",
    "  `)\n",
    "} ;\n",
    "\n",
    "printVehicle(oldCivic);"
   ]
  },
  {
   "cell_type": "markdown",
   "metadata": {},
   "source": [
    "Code reuse using interfaces"
   ]
  },
  {
   "cell_type": "code",
   "execution_count": null,
   "metadata": {},
   "outputs": [],
   "source": [
    "interface Vehicle {\n",
    "  name: string,\n",
    "  year: number,\n",
    "  broken: boolean\n",
    "}\n",
    "\n",
    "const printVehicle = (vehicle: Vehicle): void => {\n",
    "  console.log(`\n",
    "    Name: ${vehicle.name}\n",
    "    Year: ${vehicle.year}\n",
    "    Broken? ${vehicle.broken}\n",
    "  `)\n",
    "} ;\n",
    "\n",
    "const oldCivic = {\n",
    "  name: \"civic\",\n",
    "  year: 2000,\n",
    "  broken: true\n",
    "};\n",
    "\n",
    "printVehicle(oldCivic);"
   ]
  },
  {
   "cell_type": "markdown",
   "metadata": {},
   "source": [
    "We can express functions as a property of an interface"
   ]
  },
  {
   "cell_type": "code",
   "execution_count": null,
   "metadata": {},
   "outputs": [],
   "source": [
    "interface Vehicle {\n",
    "  name: string,\n",
    "  year: number,\n",
    "  broken: boolean,\n",
    "  summary(): string\n",
    "}\n",
    "\n",
    "const printVehicle = (vehicle: Vehicle): void => {\n",
    "  console.log(vehicle.summary());\n",
    "} ;\n",
    "\n",
    "const oldCivic = {\n",
    "  name: \"civic\",\n",
    "  year: 2000,\n",
    "  broken: true,\n",
    "  summary(): string  {\n",
    "    return `\n",
    "    Name: ${this.name}\n",
    "    Year: ${this.year}\n",
    "    Broken? ${this.broken}\n",
    "  `;\n",
    "  }\n",
    "};\n",
    "\n",
    "printVehicle(oldCivic);"
   ]
  },
  {
   "cell_type": "markdown",
   "metadata": {},
   "source": [
    "## Code Reuse with Interfaces\n",
    "General Strategy for Reusable Code in TS\n",
    "- Create functions that accept arguments that are typed with interfaces\n",
    "- Objects/classes can decide to 'implement' a given interface to work with a function\n",
    "\n",
    "<img src=\"Media/CodeReuseInterface.png\" width=\"50%\" height=\"50%\">"
   ]
  }
 ],
 "metadata": {
  "kernelspec": {
   "display_name": "Bash",
   "language": "bash",
   "name": "bash"
  },
  "language_info": {
   "codemirror_mode": "shell",
   "file_extension": ".sh",
   "mimetype": "text/x-sh",
   "name": "bash"
  }
 },
 "nbformat": 4,
 "nbformat_minor": 4
}
