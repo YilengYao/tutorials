{
 "cells": [
  {
   "cell_type": "markdown",
   "metadata": {},
   "source": [
    "## Why use Typescript\n",
    "- Prevent fiendish bugs\n",
    "- Powerful features: classes and modules\n",
    "- Integrate with Grunt or Gulp\n",
    "\n",
    "Grunt: A javascript tak runner that is poppular for managing the flow of developing projects. You can compule your typescript to javascript whenever you run it.\n",
    "\n",
    "Gulp: Another library that can do the same thing as Grunt.\n"
   ]
  },
  {
   "cell_type": "code",
   "execution_count": null,
   "metadata": {},
   "outputs": [],
   "source": []
  }
 ],
 "metadata": {
  "kernelspec": {
   "display_name": "Typescript 3.9",
   "language": "typescript",
   "name": "typescript"
  },
  "language_info": {
   "name": ""
  }
 },
 "nbformat": 4,
 "nbformat_minor": 4
}
