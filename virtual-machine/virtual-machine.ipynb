{
 "cells": [
  {
   "cell_type": "markdown",
   "metadata": {},
   "source": [
    "# Install Virtual Machine for CentOS 7.3\n",
    "- Install VirtualBox\n",
    "- Download image for CentOS 7.3\n",
    "\n",
    "## Create Virtual Machine\n",
    "- On VirtualBox click the \"New\" icon\n",
    "- Give a name, Type \"Linux\"\n",
    "- Version \"RedHat 64\""
   ]
  }
 ],
 "metadata": {
  "kernelspec": {
   "display_name": "Python 3",
   "language": "python",
   "name": "python3"
  },
  "language_info": {
   "codemirror_mode": {
    "name": "ipython",
    "version": 3
   },
   "file_extension": ".py",
   "mimetype": "text/x-python",
   "name": "python",
   "nbconvert_exporter": "python",
   "pygments_lexer": "ipython3",
   "version": "3.7.3"
  }
 },
 "nbformat": 4,
 "nbformat_minor": 2
}
