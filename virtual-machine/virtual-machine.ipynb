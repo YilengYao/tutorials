{
 "cells": [
  {
   "cell_type": "markdown",
   "metadata": {},
   "source": [
    "# Install Virtual Machine for CentOS 7.3\n",
    "- Install VirtualBox\n",
    "- Download image for CentOS 7.3\n",
    "\n",
    "## Create Virtual Machine\n",
    "- On VirtualBox click the \"New\" icon\n",
    "- Give a name, Type \"Linux\"\n",
    "- Version \"RedHat 64\"\n",
    "- Memory \"2 Gig\"\n",
    "- Storage \"16 Gigs\"\n",
    "\n",
    "## Configure Settings\n",
    "- On Virtual Box click the \"Setting Icon\"\n",
    "- Storage, Controller, Load your CentOS 7.3 image\n",
    "- Network, Adapter 1 Attach to \"NAT\", Port Forwarding\n",
    "- - Create new Rule, Protocol \"TCP\", Host Port \"2282\" (your choice as long as it is not used by other processes), Guest Port \"22\" (Port for VirtualBox)\n",
    "- Click Ok,\n",
    "- Click Ok\n",
    "\n",
    "## Install CentOS\n",
    "- Click Start \"Green Arrow\"\n",
    "- Click \"Software Selection\n",
    "- - Choose \"Server with GUI\"\n",
    "- - - Choose \"DNS Name Server\", \"Loadbalancer\", \"Development Tools\"\n",
    "- Click Installation Destination\n",
    "- Click Network & Hostname\n",
    "- - Enable the Networks\n",
    "\n",
    "agree to usage argeements"
   ]
  },
  {
   "cell_type": "code",
   "execution_count": null,
   "metadata": {},
   "outputs": [],
   "source": [
    "%%bash\n",
    "ssh <usename>@localhost -p 2282"
   ]
  }
 ],
 "metadata": {
  "kernelspec": {
   "display_name": "Python 3",
   "language": "python",
   "name": "python3"
  },
  "language_info": {
   "codemirror_mode": {
    "name": "ipython",
    "version": 3
   },
   "file_extension": ".py",
   "mimetype": "text/x-python",
   "name": "python",
   "nbconvert_exporter": "python",
   "pygments_lexer": "ipython3",
   "version": "3.7.3"
  }
 },
 "nbformat": 4,
 "nbformat_minor": 2
}
