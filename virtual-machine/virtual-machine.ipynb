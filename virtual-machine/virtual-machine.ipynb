{
 "cells": [
  {
   "cell_type": "markdown",
   "metadata": {},
   "source": [
    "# Install Virtual Machine for CentOS 7.3, RHEL\n",
    "- Install VirtualBox\n",
    "- Download image for CentOS 7.3\n",
    "\n",
    "## Create Virtual Machine\n",
    "- On VirtualBox click the \"New\" icon\n",
    "- Give a name, Type \"Linux\"\n",
    "- Version \"RedHat 64\"\n",
    "- Memory \"2 Gig\"\n",
    "- Storage \"16 Gigs\"\n",
    "\n",
    "## Configure Settings\n",
    "- On Virtual Box click the \"Setting Icon\"\n",
    "- Storage, Controller, Load your CentOS 7.3 image\n",
    "- Network, Adapter 1 Attach to \"NAT\", Port Forwarding\n",
    "- - Create new Rule, Protocol \"TCP\", Host Port \"2282\" (your choice as long as it is not used by other processes), Guest Port \"22\" (Port for VirtualBox)\n",
    "- Click Ok,\n",
    "- Click Ok\n",
    "\n",
    "## Install CentOS\n",
    "- Click Start \"Green Arrow\"\n",
    "- Click \"Software Selection\n",
    "- - Choose \"Server with GUI\"\n",
    "- - - Choose \"DNS Name Server\", \"Loadbalancer\", \"Development Tools\"\n",
    "- Click Installation Destination\n",
    "- Click Network & Hostname\n",
    "- - Enable the Networks\n",
    "\n",
    "agree to usage argeements"
   ]
  },
  {
   "cell_type": "code",
   "execution_count": null,
   "metadata": {},
   "outputs": [],
   "source": [
    "%%bash\n",
    "ssh <usename>@localhost -p 2282"
   ]
  },
  {
   "cell_type": "markdown",
   "metadata": {},
   "source": [
    "# Setting Up Static IP for RHEL, CEntOS, Fedora\n",
    "Initialize NAT Network\n",
    "- On Virtual Box, select one of your VMs, click \"Settings\"\n",
    "- - Click \"Network\"\n",
    "- - - Select \"Adaptor 2\", then click \"Enable Network Adaptor\", Attach to \"NAT Network\"\n",
    "\n",
    "On Your CEntOS or RHEL VM\n",
    "- create a user name controller"
   ]
  },
  {
   "cell_type": "code",
   "execution_count": null,
   "metadata": {},
   "outputs": [],
   "source": [
    "%%bash\n",
    "su -\n",
    "useradd controller\n",
    "passwd controller"
   ]
  },
  {
   "cell_type": "markdown",
   "metadata": {},
   "source": [
    "- run **ip a**\n",
    "- if your one of your up network interfaces is enp0s8\n",
    "- then edit your **/etc/sysconfig/network-scripts/ifcfg-enp0s8** file"
   ]
  },
  {
   "cell_type": "code",
   "execution_count": null,
   "metadata": {},
   "outputs": [],
   "source": [
    "%%bash\n",
    "vi /etc/sysconfig/network-scripts/"
   ]
  },
  {
   "cell_type": "raw",
   "metadata": {},
   "source": [
    "// ifcfg-enp0s8\n",
    "TYPE=Ethernet\n",
    "PROXY_METHOD=none\n",
    "BROWSER_ONLY=no\n",
    "BOOTPROTO=static\n",
    "DEFROUTE=yes\n",
    "IPV4_FAILURE_FATAL=no\n",
    "IPV6INIT=yes\n",
    "IPV6_AUTOCONF=yes\n",
    "IPV6_DEFROUTE=yes\n",
    "IPV6_FAILURE_FATAL=no\n",
    "IPV6_ADDR_GEN_MODE=stable-privacy\n",
    "NAME=enp0s8\n",
    "UUID=6490da33-2511-464a-a800-066079446dc5\n",
    "DEVICE=enp0s8\n",
    "ONBOOT=yes\n",
    "NM_CONTROLLED=yes\n",
    "IPADDR=192.168.56.101\n",
    "NETMASK=255.255.255.0"
   ]
  },
  {
   "cell_type": "code",
   "execution_count": null,
   "metadata": {},
   "outputs": [],
   "source": [
    "%%bash\n",
    "vi /etc/sysconfig/network"
   ]
  },
  {
   "cell_type": "raw",
   "metadata": {},
   "source": [
    "// network\n",
    "NETWORKING=yes\n",
    "HOSTNAME=controller\n",
    "GATEWAY=192.168.56.1"
   ]
  },
  {
   "cell_type": "code",
   "execution_count": null,
   "metadata": {},
   "outputs": [],
   "source": [
    "%%bash\n",
    "vi /etc/resolv.conf"
   ]
  },
  {
   "cell_type": "raw",
   "metadata": {},
   "source": [
    "// resolv.conf append\n",
    "nameserver 8.8.8.8\n",
    "nameserver 8.8.4.4"
   ]
  },
  {
   "cell_type": "code",
   "execution_count": null,
   "metadata": {},
   "outputs": [],
   "source": [
    "%%bash\n",
    "system network restart\n",
    "ifup enp0s8"
   ]
  },
  {
   "cell_type": "markdown",
   "metadata": {},
   "source": [
    "Check if the address is added"
   ]
  },
  {
   "cell_type": "code",
   "execution_count": null,
   "metadata": {},
   "outputs": [],
   "source": [
    "%%bash\n",
    "ip a"
   ]
  },
  {
   "cell_type": "markdown",
   "metadata": {},
   "source": [
    "Now on another VM ssh into controller using"
   ]
  },
  {
   "cell_type": "code",
   "execution_count": null,
   "metadata": {},
   "outputs": [],
   "source": [
    "%%bash\n",
    "ssh controller@192.168.56.101"
   ]
  },
  {
   "cell_type": "markdown",
   "metadata": {},
   "source": [
    "## Create static IP multiple VMs\n",
    "use the above method to create VM with users\n",
    "- user: node1, static ip: 192.168.56.102\n",
    "- user: node2, static ip: 192.168.56.103"
   ]
  },
  {
   "cell_type": "code",
   "execution_count": null,
   "metadata": {},
   "outputs": [],
   "source": []
  }
 ],
 "metadata": {
  "kernelspec": {
   "display_name": "Python 3",
   "language": "python",
   "name": "python3"
  },
  "language_info": {
   "codemirror_mode": {
    "name": "ipython",
    "version": 3
   },
   "file_extension": ".py",
   "mimetype": "text/x-python",
   "name": "python",
   "nbconvert_exporter": "python",
   "pygments_lexer": "ipython3",
   "version": "3.7.3"
  }
 },
 "nbformat": 4,
 "nbformat_minor": 2
}
