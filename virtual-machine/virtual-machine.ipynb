{
 "cells": [
  {
   "cell_type": "markdown",
   "metadata": {},
   "source": [
    "# Install Virtual Machine for CentOS 7.3, RHEL\n",
    "- Install VirtualBox\n",
    "- Download image for CentOS 7.3\n",
    "\n",
    "## Create Virtual Machine\n",
    "- On VirtualBox click the \"New\" icon\n",
    "- Give a name, Type \"Linux\"\n",
    "- Version \"RedHat 64\"\n",
    "- Memory \"2 Gig\"\n",
    "- Storage \"16 Gigs\"\n",
    "\n",
    "## Configure Settings\n",
    "- On Virtual Box click the \"Setting Icon\"\n",
    "- Storage, Controller, Load your CentOS 7.3 image\n",
    "- Network, Adapter 1 Attach to \"NAT\", Port Forwarding\n",
    "- - Create new Rule, Protocol \"TCP\", Host Port \"2282\" (your choice as long as it is not used by other processes), Guest Port \"22\" (Port for VirtualBox)\n",
    "- Click Ok,\n",
    "- Click Ok\n",
    "\n",
    "## Install CentOS\n",
    "- Click Start \"Green Arrow\"\n",
    "- Click \"Software Selection\n",
    "- - Choose \"Server with GUI\"\n",
    "- - - Choose \"DNS Name Server\", \"Loadbalancer\", \"Development Tools\"\n",
    "- Click Installation Destination\n",
    "- Click Network & Hostname\n",
    "- - Enable the Networks\n",
    "\n",
    "agree to usage argeements"
   ]
  },
  {
   "cell_type": "code",
   "execution_count": null,
   "metadata": {},
   "outputs": [],
   "source": [
    "%%bash\n",
    "ssh <usename>@localhost -p 2282"
   ]
  },
  {
   "cell_type": "markdown",
   "metadata": {},
   "source": [
    "# Setting Up Static IP for RHEL, CEntOS, Fedora\n",
    "Initialize NAT Network\n",
    "- On Virtual Box, select one of your VMs, click \"Settings\"\n",
    "- - Click \"Network\"\n",
    "- - - Select \"Adaptor 2\", then click \"Enable Network Adaptor\", Attach to \"NAT Network\"\n",
    "\n",
    "On Your CEntOS or RHEL VM\n",
    "- create a user name controller"
   ]
  },
  {
   "cell_type": "code",
   "execution_count": null,
   "metadata": {},
   "outputs": [],
   "source": [
    "%%bash\n",
    "su -\n",
    "useradd controller\n",
    "passwd controller"
   ]
  },
  {
   "cell_type": "markdown",
   "metadata": {},
   "source": [
    "- run **ip a**\n",
    "- if your one of your up network interfaces is enp0s8\n",
    "- then edit your **/etc/sysconfig/network-scripts/ifcfg-enp0s8** file"
   ]
  },
  {
   "cell_type": "code",
   "execution_count": null,
   "metadata": {},
   "outputs": [],
   "source": [
    "%%bash\n",
    "vi /etc/sysconfig/network-scripts/"
   ]
  },
  {
   "cell_type": "raw",
   "metadata": {},
   "source": [
    "// ifcfg-enp0s8\n",
    "TYPE=Ethernet\n",
    "PROXY_METHOD=none\n",
    "BROWSER_ONLY=no\n",
    "BOOTPROTO=static\n",
    "DEFROUTE=yes\n",
    "IPV4_FAILURE_FATAL=no\n",
    "IPV6INIT=yes\n",
    "IPV6_AUTOCONF=yes\n",
    "IPV6_DEFROUTE=yes\n",
    "IPV6_FAILURE_FATAL=no\n",
    "IPV6_ADDR_GEN_MODE=stable-privacy\n",
    "NAME=enp0s8\n",
    "UUID=6490da33-2511-464a-a800-066079446dc5\n",
    "DEVICE=enp0s8\n",
    "ONBOOT=yes\n",
    "NM_CONTROLLED=yes\n",
    "IPADDR=192.168.56.101\n",
    "NETMASK=255.255.255.0"
   ]
  },
  {
   "cell_type": "code",
   "execution_count": null,
   "metadata": {},
   "outputs": [],
   "source": [
    "%%bash\n",
    "vi /etc/sysconfig/network"
   ]
  },
  {
   "cell_type": "raw",
   "metadata": {},
   "source": [
    "// network\n",
    "NETWORKING=yes\n",
    "HOSTNAME=controller\n",
    "GATEWAY=192.168.56.1"
   ]
  },
  {
   "cell_type": "code",
   "execution_count": null,
   "metadata": {},
   "outputs": [],
   "source": [
    "%%bash\n",
    "vi /etc/resolv.conf"
   ]
  },
  {
   "cell_type": "raw",
   "metadata": {},
   "source": [
    "// resolv.conf append\n",
    "nameserver 8.8.8.8\n",
    "nameserver 8.8.4.4Set up SSH communication between Virtual Machines"
   ]
  },
  {
   "cell_type": "code",
   "execution_count": null,
   "metadata": {},
   "outputs": [],
   "source": [
    "%%bash\n",
    "system network restart\n",
    "ifup enp0s8"
   ]
  },
  {
   "cell_type": "markdown",
   "metadata": {},
   "source": [
    "Check if the address is added"
   ]
  },
  {
   "cell_type": "code",
   "execution_count": null,
   "metadata": {},
   "outputs": [],
   "source": [
    "%%bash\n",
    "ip a"
   ]
  },
  {
   "cell_type": "markdown",
   "metadata": {},
   "source": [
    "Now on another VM ssh into controller using"
   ]
  },
  {
   "cell_type": "code",
   "execution_count": null,
   "metadata": {},
   "outputs": [],
   "source": [
    "%%bash\n",
    "ssh controller@192.168.56.101"
   ]
  },
  {
   "cell_type": "markdown",
   "metadata": {},
   "source": [
    "## Create static IP multiple VMs\n",
    "use the above method to create VM with users\n",
    "- user: node1, static ip: 192.168.56.102\n",
    "- user: node2, static ip: 192.168.56.103"
   ]
  },
  {
   "cell_type": "markdown",
   "metadata": {},
   "source": [
    "# Set up SSH communication between Virtual Machines\n",
    "- First add the Hostnames and IP address of our virtual machines, to the local DNS of our virtual machine by editing the **/etc/hosts** file\n",
    "\n",
    "### Configuring SSH\n",
    "- Set up SSH Key-based authentication \n",
    "- - **ssh-keygen**\n",
    "- This creates a public key as well as a private key\n",
    "- - The server that has the public key sends a challenge that can only be answered with the private key\n",
    "- - Keey the private key in the local user account on the control node\n",
    "- - Send the publkic key to the **~/.ssh/authorized_keys** file in the target user home directory\n",
    "- - - Use **ssh-copy-id user@remotehost**\n",
    "- - - Notice that the lodcal user name and the remote user name do NOT have to be the same\n",
    "- Don't forget to include the controller host as well if you want to manage that also\n",
    "\n",
    "Add the user to wheel, in every VM run"
   ]
  },
  {
   "cell_type": "code",
   "execution_count": null,
   "metadata": {},
   "outputs": [],
   "source": [
    "%%bash\n",
    "su -\n",
    "visudo # check if wheel in enabled\n",
    "usermod -aG wheel controller # run in controller vm\n",
    "usermod -aG wheel node1 # run in node1 "
   ]
  },
  {
   "cell_type": "markdown",
   "metadata": {},
   "source": [
    "Restart all the VMs\n",
    "\n",
    "Now make sure that all the VMs are up\n",
    "- SSH into the controller VM"
   ]
  },
  {
   "cell_type": "code",
   "execution_count": null,
   "metadata": {},
   "outputs": [],
   "source": [
    "%%bash\n",
    "su -\n",
    "vi /etc/hosts"
   ]
  },
  {
   "cell_type": "markdown",
   "metadata": {},
   "source": [
    "Enter the configurations in the hosts file"
   ]
  },
  {
   "cell_type": "raw",
   "metadata": {},
   "source": [
    "// /etc/hosts\n",
    "127.0.0.1   localhost localhost.localdomain localhost4 localhost4.localdomain4\n",
    "::1         localhost localhost.localdomain localhost6 localhost6.localdomain6\n",
    "192.168.56.101   controller.example.com controller\n",
    "192.168.56.102   node1.example.com node1\n",
    "192.168.56.103   node2.example.com node2"
   ]
  },
  {
   "cell_type": "markdown",
   "metadata": {},
   "source": [
    " Copy the hosts file to other vms"
   ]
  },
  {
   "cell_type": "code",
   "execution_count": null,
   "metadata": {},
   "outputs": [],
   "source": [
    "%%bash\n",
    "scp /etc/hosts node1:/etc/\n",
    "scp /etc/hosts node2:/etc/"
   ]
  },
  {
   "cell_type": "markdown",
   "metadata": {},
   "source": [
    "Setup SSH"
   ]
  },
  {
   "cell_type": "code",
   "execution_count": null,
   "metadata": {},
   "outputs": [],
   "source": [
    "%%bash\n",
    "su controller\n",
    "ssh-keygen # just use default settings\n",
    "ssh-copy-id node1@node1.example.com\n",
    "ssh-copy-id node2@node2.example.com"
   ]
  },
  {
   "cell_type": "markdown",
   "metadata": {},
   "source": [
    "### Now we can ssh into node1 and node2 from controller without being prompt for password or passphrase"
   ]
  },
  {
   "cell_type": "code",
   "execution_count": null,
   "metadata": {},
   "outputs": [],
   "source": [
    "%%bash\n",
    "ssh node1@node1\n",
    "ssh node2@node2"
   ]
  }
 ],
 "metadata": {
  "kernelspec": {
   "display_name": "Python 3",
   "language": "python",
   "name": "python3"
  },
  "language_info": {
   "codemirror_mode": {
    "name": "ipython",
    "version": 3
   },
   "file_extension": ".py",
   "mimetype": "text/x-python",
   "name": "python",
   "nbconvert_exporter": "python",
   "pygments_lexer": "ipython3",
   "version": "3.7.3"
  }
 },
 "nbformat": 4,
 "nbformat_minor": 2
}
