{
 "cells": [
  {
   "cell_type": "markdown",
   "metadata": {},
   "source": [
    "# RabbitMQ\n",
    "A message queue is a form of service to service asynchronous communication\n",
    "\n",
    "It is common and very popular in microservices and serverless architecture\n",
    "\n",
    "Messaging queue is important under the context of asynchronous messaging.\n",
    "\n",
    "\n",
    "\n",
    "Service A ---TCP ---> Service B\n",
    "\n",
    "Service A is coupled to Service B \n",
    "\n",
    "With Async messageing, Service A send a message to Service B and continues with it's life\n",
    "\n",
    "Async Messaging is achieve through message queue\n",
    "\n",
    "With message queue, one service is not directly dependent on another service."
   ]
  },
  {
   "cell_type": "markdown",
   "metadata": {},
   "source": [
    "RabbitMQ is an open source message broker software (sometimes called message-oriented middleware) that implements Advanced Message Queueing Protocol (AMQP)\n",
    "\n",
    "<img src=\"media/RabbitMQArchitecture.png\" width=\"50%\" height=\"50%\">\n",
    "\n",
    "AMQP standardize messaging using Producer, Broker and consumers.\n",
    "\n",
    "Messaging increase loose coupling and scalability.\n",
    "\n",
    "## Core Concepts\n",
    "- Producer: emits message to exchange \n",
    "- Consumer: receives messages from queue\n",
    "- Binding: connects an exchange with a queue using binding key\n",
    "- Exchange: compares routing key with binding key\n",
    "\n",
    "Exchange won't make sense if we have 1 queue.\n",
    "\n",
    "Messages distrubution depends on exchange types.\n",
    "\n",
    "Exchange types: fanout direct, topics and headers\n",
    "\n",
    "Default (nameless) exchange\n",
    "- Special created by RabbitMQ, copares routing key with queue name, indirectly allows sending directly to queues.\n",
    "\n",
    "RabbitMQ servier is written in Erland programming language and is built on the Open Telecom Platform framework for clustering and failover.\n",
    "\n",
    "Client libraries to interface with the broker are available for all major programming languages.\n"
   ]
  },
  {
   "cell_type": "code",
   "execution_count": null,
   "metadata": {},
   "outputs": [],
   "source": []
  }
 ],
 "metadata": {
  "kernelspec": {
   "display_name": "Python 3",
   "language": "python",
   "name": "python3"
  },
  "language_info": {
   "codemirror_mode": {
    "name": "ipython",
    "version": 3
   },
   "file_extension": ".py",
   "mimetype": "text/x-python",
   "name": "python",
   "nbconvert_exporter": "python",
   "pygments_lexer": "ipython3",
   "version": "3.8.3"
  }
 },
 "nbformat": 4,
 "nbformat_minor": 4
}
