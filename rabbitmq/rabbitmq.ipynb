{
 "cells": [
  {
   "cell_type": "markdown",
   "metadata": {},
   "source": [
    "# RabbitMQ\n",
    "A distrubuted message queue is a form of service to service asynchronous communication\n",
    "\n",
    "It is common and very popular in microservices and serverless architecture\n",
    "\n",
    "Messaging queue is important under the context of asynchronous messaging.\n",
    "\n",
    "\n",
    "\n",
    "Service A ---TCP ---> Service B\n",
    "\n",
    "Service A is coupled to Service B \n",
    "\n",
    "With Async messageing, Service A send a message to Service B and continues with it's life\n",
    "\n",
    "Async Messaging is achieve through message queue\n",
    "\n",
    "With message queue, one service is not directly dependent on another service."
   ]
  },
  {
   "cell_type": "markdown",
   "metadata": {},
   "source": [
    "RabbitMQ is an open source message broker software (sometimes called message-oriented middleware) that implements Advanced Message Queueing Protocol (AMQP)\n",
    "\n",
    "<img src=\"media/RabbitMQArchitecture.png\" width=\"50%\" height=\"50%\">\n",
    "\n",
    "AMQP standardize messaging using Producer, Broker and consumers.\n",
    "\n",
    "Messaging increase loose coupling and scalability.\n",
    "\n",
    "## Core Concepts\n",
    "- Producer: emits message to exchange \n",
    "- Consumer: receives messages from queue\n",
    "- Binding: connects an exchange with a queue using binding key\n",
    "- Exchange: compares routing key with binding key\n",
    "\n",
    "Exchange won't make sense if we have 1 queue.\n",
    "\n",
    "Messages distrubution depends on exchange types.\n",
    "\n",
    "Exchange types: fanout, direct, topics, headers and default\n",
    "\n",
    "fanout exchange\n",
    "- exchange send message to all queues\n",
    "\n",
    "direct\n",
    "- routing key = binding key\n",
    "- routing key of message is equal to binding key of queue\n",
    "\n",
    "topics\n",
    "- partial match of keys\n",
    "- routing key \"red.green\" <-> binding key \"red.*\"\n",
    "\n",
    "header\n",
    "- usues message header instead of routing key\n",
    "\n",
    "Default (nameless) exchange\n",
    "- Special created by RabbitMQ, compares routing key with queue name, indirectly allows sending directly to queues.\n",
    "\n",
    "RabbitMQ servier is written in Erland programming language and is built on the Open Telecom Platform framework for clustering and failover.\n",
    "\n",
    "Client libraries to interface with the broker are available for all major programming languages.\n",
    "\n",
    "\n",
    "## Echanges\n",
    "- Messages are not published directly to a queue; instead, the producer sends messages to an exchange\n",
    "- An exchange is responsible for routing the messages to different queues with the help of bindings and routing keys\n",
    "- A binding is a link between a queue and an exchange\n",
    "\n",
    "<img src=\"media/TypesOfExchanges.png\" height=\"50%\" width=\"50%\">"
   ]
  },
  {
   "cell_type": "markdown",
   "metadata": {},
   "source": [
    "## Installation\n",
    "- One of the most important things tonote about RabbitMQ is that it stores data based on what it calls the \"Node Name\", which defaults to the hostname\n",
    "- What this means for usage in Docker is that we should specify -h/ --hostname explictly for each daemon so that we don't get a randome hostname and can keep track of our data"
   ]
  },
  {
   "cell_type": "markdown",
   "metadata": {},
   "source": [
    "# Setting up RabbitMQ using Docker"
   ]
  },
  {
   "cell_type": "code",
   "execution_count": null,
   "metadata": {},
   "outputs": [],
   "source": [
    "%%bash\n",
    "docker-compose up"
   ]
  },
  {
   "cell_type": "markdown",
   "metadata": {},
   "source": [
    "Go to\n",
    "- http://localhost:15672/\n",
    "\n",
    "default username and password\n",
    "- username: guest\n",
    "- password: guest\n",
    "\n",
    "To check on the images running"
   ]
  },
  {
   "cell_type": "code",
   "execution_count": null,
   "metadata": {},
   "outputs": [],
   "source": [
    "%%bash\n",
    "docker ps"
   ]
  },
  {
   "cell_type": "markdown",
   "metadata": {},
   "source": [
    "Docker compose will start a RabbitMQ containier listenting on the default port of 5672. \n",
    "\n",
    "Run the following to see the logs:"
   ]
  },
  {
   "cell_type": "code",
   "execution_count": null,
   "metadata": {},
   "outputs": [],
   "source": [
    "%%bash\n",
    "docker logs rabbitmq_rabbitmq3_1"
   ]
  },
  {
   "cell_type": "markdown",
   "metadata": {},
   "source": [
    "The image in docker-compose.yml\n",
    "\n",
    "rabbitmq:3-managment\n",
    "\n",
    "- is a RabbitMQ instance with management plugin, it provide an HTTP-base API for management and monitoring of RabbitMQ nodes and lcuster along witha a browser-based UI and a command line tool, rabbitmqadmin\n",
    "- It periodically collects and aggregates data about how many aspects of the system. Those metrics are exposed to both operators in the UI and monitoring systems for long term storage, alerting, visualisation, chart analysis and so on\n",
    "- The ui is accerible throught http:container-ip:15672 in the browser, in our case container-ip is localhost"
   ]
  },
  {
   "cell_type": "code",
   "execution_count": null,
   "metadata": {},
   "outputs": [],
   "source": []
  }
 ],
 "metadata": {
  "kernelspec": {
   "display_name": "Python 3",
   "language": "python",
   "name": "python3"
  },
  "language_info": {
   "codemirror_mode": {
    "name": "ipython",
    "version": 3
   },
   "file_extension": ".py",
   "mimetype": "text/x-python",
   "name": "python",
   "nbconvert_exporter": "python",
   "pygments_lexer": "ipython3",
   "version": "3.8.3"
  }
 },
 "nbformat": 4,
 "nbformat_minor": 4
}
