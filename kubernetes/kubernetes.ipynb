{
 "cells": [
  {
   "cell_type": "markdown",
   "metadata": {},
   "source": [
    "# Container Orchestration\n",
    "\n",
    "## What is Kubernetes\n",
    "- Kubernetes, also referred to as K8s, is Greek and means helmsman or pilot\n",
    "- - So it's the captain of the ship with all the dcontainers\n",
    "- Kubernetes is an extensive open-source platform for managing containerized workloads and services\n",
    "- It comes from Google Borgn a system that Google has been useing since 2002 to run its applications\n",
    "\n",
    "## What Else is Kubernetes?\n",
    "- It's open-source software for automating deployment, scaling, and orchestration of containerized applications\n",
    "- - Instead of running containers with the **docker** command, you'll use the **kubernetes** command to run them\n",
    "- It is about running multiple connected containers, organized in Pods, or deployments runnimg on different hosts, where community of service is guaranteed\n",
    "- It has become the de factor standard for orchestration of containers\n",
    "- With a new release every 3 months, it is rapidly evolving\n",
    "\n",
    "<img src='screenshots/Simple-Kubernetes-Architecture.png'>\n",
    "\n",
    "## Kubernetes Architecture\n",
    "<img src='screenshots/Kubernetes-Architecture.png'>\n"
   ]
  },
  {
   "cell_type": "markdown",
   "metadata": {},
   "source": [
    "## Cloud Native Computing Foundation\n",
    "- Google donated Kubernetes to the Cloud Native Computing Foundation (CNCF), which is a foundation in Linux Foundation\n",
    "- CNCF is a governing body that solves issues faced by any cloud native allications (so not just Kubernetes)\n",
    "- CNCF owns the copyright to Kubernetes\n",
    "- Kubernetes itself uses an Apache license\n",
    "- Developers need to sign a Contributor License Agreement with CNCF"
   ]
  },
  {
   "cell_type": "markdown",
   "metadata": {},
   "source": [
    "# Containers\n",
    "\n",
    "## What is a Container?\n",
    "- A container is a solution that bundles an application and all of its dependencies in a box\n",
    "- - Kernel is not included\n",
    "- This box can run on virtually any platform, as long as that platform runs a container engine\n",
    "- Containers are based on an image, from the idmage you can spin multiple containers\n",
    "- - When the container is crete it runs a process on the host kernel. The host kernel isolates resources belonging to each container\n",
    "- - For resource isolation, namespaces are used\n",
    "- - To dedicate resources, cgroups are used\n",
    "\n",
    "## Container Filesystems\n",
    "- Container images consist of different layers\n",
    "- These layers are joined in the union filesystem\n",
    "- By overlaying these layers, a new virtual filesystem is created\n",
    "- The layers are joined in images, and by default are read-only\n",
    "- When a container is started, the ephemeral read-write layer is added\n",
    "\n",
    "## Why Containers are Successful\n",
    "- Very fast deployment\n",
    "- Flexible, as they run anywhere\n",
    "- Easy to scale up and down\n",
    "- Very resource-efficient\n",
    "- Little footprint\n",
    "- Portable"
   ]
  },
  {
   "cell_type": "markdown",
   "metadata": {},
   "source": [
    "# Installing Docker\n",
    "## On Ubuntu\n",
    "### 1. Prerequisites\n",
    "The very first step is to remove any default Docker packages from the system before installation Docker on a Linux VPS. Execute commands to remove unnecessary Docker versions"
   ]
  },
  {
   "cell_type": "code",
   "execution_count": null,
   "metadata": {},
   "outputs": [],
   "source": [
    "%%bash\n",
    "sudo apt-get purge docker lxc-docker docker-engine docker.io"
   ]
  },
  {
   "cell_type": "markdown",
   "metadata": {},
   "source": [
    "Now install some required packages on your system for installing Docker on Ubuntu system. Run the below commands to do this:"
   ]
  },
  {
   "cell_type": "code",
   "execution_count": null,
   "metadata": {},
   "outputs": [],
   "source": [
    "%%bash\n",
    "sudo apt-get install  curl  apt-transport-https ca-certificates software-properties-common"
   ]
  },
  {
   "cell_type": "markdown",
   "metadata": {},
   "source": [
    "### 2. Setup Docker Repository\n",
    "Now import dockers official GPG key to verify packages signature before installing them with apt-get. Run the below command on terminal."
   ]
  },
  {
   "cell_type": "code",
   "execution_count": null,
   "metadata": {},
   "outputs": [],
   "source": [
    "%%bash\n",
    "curl -fsSL https://download.docker.com/linux/ubuntu/gpg | sudo apt-key add "
   ]
  },
  {
   "cell_type": "markdown",
   "metadata": {},
   "source": [
    "After that add the Docker repository on your Ubuntu system which contains Docker packages including its dependencies. You must have to enable this repository to install Docker on Ubuntu."
   ]
  },
  {
   "cell_type": "code",
   "execution_count": null,
   "metadata": {},
   "outputs": [],
   "source": [
    "%%bash\n",
    "sudo add-apt-repository \"deb [arch=amd64] https://download.docker.com/linux/ubuntu $(lsb_release -cs) stable\""
   ]
  },
  {
   "cell_type": "markdown",
   "metadata": {},
   "source": [
    "### 3. Install Docker on Ubuntu\n",
    "Your system is now ready for Docker installation. Run the following commands to upgrade apt index and then install Docker community edition on Ubuntu."
   ]
  },
  {
   "cell_type": "code",
   "execution_count": null,
   "metadata": {},
   "outputs": [],
   "source": [
    "%%bash\n",
    "sudo apt-get update\n",
    "sudo apt-get install docker-ce\n",
    "sudo systemctl status docker"
   ]
  },
  {
   "cell_type": "markdown",
   "metadata": {},
   "source": [
    "## On Red Hat\n",
    "### 1. Install yum-utils and epel-release"
   ]
  },
  {
   "cell_type": "code",
   "execution_count": null,
   "metadata": {},
   "outputs": [],
   "source": [
    "%%bash\n",
    "yum install -y yum-utils\n",
    "wget http://dl.fedoraproject.org/pub/epel/epel-release-latest-7.noarch.rpm"
   ]
  },
  {
   "cell_type": "markdown",
   "metadata": {},
   "source": [
    "### 2. Add Docker CE to yum repos"
   ]
  },
  {
   "cell_type": "code",
   "execution_count": null,
   "metadata": {},
   "outputs": [],
   "source": [
    "%%bash\n",
    "yum-config-manager --add-repo https://download.docker.com/linux/centos/docker-ce.repo"
   ]
  },
  {
   "cell_type": "markdown",
   "metadata": {},
   "source": [
    "### 3. Install container-selinux package"
   ]
  },
  {
   "cell_type": "code",
   "execution_count": null,
   "metadata": {},
   "outputs": [],
   "source": [
    "%%bash\n",
    "yum install -y http://mirror.centos.org/centos/7/extras/x86_64/Packages/container-selinux-2.33-1.git86f33cd.el7.noarch.rpm"
   ]
  },
  {
   "cell_type": "markdown",
   "metadata": {},
   "source": [
    "### 4. Install Docker CE\n",
    "The container-selinux package is available from the rhel-7-server-extras-rpms channel. you can enable it using."
   ]
  },
  {
   "cell_type": "code",
   "execution_count": null,
   "metadata": {},
   "outputs": [],
   "source": [
    "%%bash\n",
    "subscription-manager repos --enable=rhel-7-server-extras-rpms"
   ]
  },
  {
   "cell_type": "code",
   "execution_count": null,
   "metadata": {},
   "outputs": [],
   "source": [
    "%%bash\n",
    "yum install -y docker-ce\n",
    "docker --version"
   ]
  },
  {
   "cell_type": "markdown",
   "metadata": {},
   "source": [
    "### 5. Restart docker service and enable it"
   ]
  },
  {
   "cell_type": "code",
   "execution_count": null,
   "metadata": {},
   "outputs": [],
   "source": [
    "%%bash\n",
    "systemctl restart docker\n",
    "systemctl enable docker"
   ]
  },
  {
   "cell_type": "markdown",
   "metadata": {},
   "source": [
    "## Mac OS\n",
    "Download docker desktop from docker hub\n",
    "\n",
    "https://hub.docker.com/editions/community/docker-ce-desktop-mac\n"
   ]
  },
  {
   "cell_type": "markdown",
   "metadata": {},
   "source": [
    "## Container Architecture\n",
    "Docker enginge\n",
    "- Docker engine runs containers and consists of the following parts\n",
    "- - A server implemented by the **dockerd** service\n",
    "- - A REST API which specifies interfaces that can be used by client commands\n",
    "- - The **docker** command\n",
    "\n",
    "<img src='screenshots/Container-Architecture.png'>\n",
    "\n",
    "### Docker Registry\n",
    "- Docker registries are used to store Docker images\n",
    "- Docker hub is publicly available and used as the defualt\n",
    "- Docker cloud is also publicly available\n",
    "- Administrators can create private registries\n",
    "- When using **docker pull** or **docker run** as image is pulled from the registry\n",
    "- You can upload images using **docker push**\n",
    "\n",
    "## Docker Objects\n",
    "- **image**: a read-only template with instructions to crate docker container\n",
    "- - Images are often based on their images\n",
    "- - Default images are pulled from Docker registry, you can build yoru own images using Docekrile\n",
    "- - - Each instruction in Dockerfile creates a layer in the image\n",
    "- - - When rebuilding an image, only those layers that are changed are rebuilt\n",
    "- **container**: a runnable instance of an image\n",
    "- - Containers need persistent storage to keep modifications\n",
    "- **services**: used in Docker swarm to scale containers accross multiple Docker daemons\n",
    "\n",
    "## Operational Container Mangement\n",
    "Working with Containers\n",
    "- Show Docker version information: **docker version**\n",
    "- Show current usage information: **docker info**\n",
    "- Search containers: **docker search wordpress**\n",
    "- Download an image: **docker pull wordpress**\n",
    "- Verify: **docker images**\n",
    "- Remove images: **docker rmi wordpress**\n",
    "- Run a container in interactive mode: **docker run -dit --name centos --hostname=\"centos\" centos /bin/bash**\n",
    "- Verify running container: **docker ps -a**\n",
    "- Connect to a container: **docker attach centos**\n",
    "- Run a command in a container: **docker run centos /usr/bin/free -m**\n",
    "- - After running the command, the container stops, but is still available on the system\n",
    "- Run a command in a container and remove the container after doing so: **docker run --rm centos /usr/bin/df/ -h**\n",
    "- - After running the command, the container stops, but is still available on the system\n",
    "- Run a command in a container and remove the container after doing so: **docker run --rm centos /usr/bin/df -h**\n",
    "- Show information about a running contianer: **docker top centos**\n",
    "- Show top-like information about a container: **docker stats centos**\n",
    "- Copy something from the container to localhost: **docker cp centos:/etc/hosts /root/**\n",
    "- Run a command inside a container: **docker exec centos cat /etc/hostname**\n",
    "- Kill a container: **docker kill centos**\n",
    "\n",
    "\n",
    "## When Does Container Stop?\n",
    "- Typically, when a container is started, a specific command is executed. When this command stops, the container stops as well\n",
    "- **docker run --name demo1 centos:latest dd if=/dev/zero of=/dev/null**\n",
    "- - This will start the container, and use the terminal to run the **dd** command\n",
    "- - Use **docker ps** to see the active container\n",
    "- - Use **ps aux**, you'll notice the dd process shows in the current process tree\n",
    "- - Use **docker exec -it demo1 /bin/bash** and type ps aux. You'll see the dd process runnning as PID 1\n",
    "- Type **docker stop domo-container**\n",
    "- Now type **docker run --name demo2 centos:latest sleep 30**\n",
    "- From another terminal, type **docker ps**\n",
    "- Obsrever that the container will stop after executing its task\n",
    "- Type **docker ps -a**, this will show a list of all containers that have been activated in the past\n",
    "- Type **docker rm \\< containername \\>** to remove these containers\n",
    "- - User **docker rm \\$(docker ps -aq)** to delete all containers\n",
    "\n",
    "## Run command on stopped container"
   ]
  },
  {
   "cell_type": "code",
   "execution_count": null,
   "metadata": {},
   "outputs": [],
   "source": [
    "%%bash\n",
    "# docker commit <container id>\n",
    "# docker run -it <newcontainer id> bash"
   ]
  },
  {
   "cell_type": "markdown",
   "metadata": {},
   "source": [
    "## get IP of running container"
   ]
  },
  {
   "cell_type": "code",
   "execution_count": null,
   "metadata": {},
   "outputs": [],
   "source": [
    "%%bash\n",
    "# docker ps\n",
    "# docker inspect -f '{{ .NetworkSettings.IPAddress }}' <container name>"
   ]
  },
  {
   "cell_type": "markdown",
   "metadata": {},
   "source": [
    "## Docker Architecture\n",
    "<img src='screenshots/Docker-Architecture.png'>"
   ]
  },
  {
   "cell_type": "markdown",
   "metadata": {},
   "source": [
    "# Docker Networking\n",
    "<img src='screenshots/Docker-Networking.png'>\n",
    "\n",
    "Docker Networking\n",
    "- Default netowrking uses Linux bridges\n",
    "- - Different containers on othe same host can communicate; communications with containers on theor hosts is not possible\n",
    "- - As the bridge runs NAT, containers are not directly accessible from the outside\n",
    "- Overlay networking: using overlay networking technologies allows containers to communicate if they're running on different hosts\n",
    "- Other technologies do exist, but are irrelevant if you're going to use Kubernetes\n",
    "\n",
    "## Exposing Container Ports\n",
    "- By default, container ports are not accessible from the outside\n",
    "- Use port mapping to make them accessible\n",
    "- - **docker run -d --name httpd -p 8080:80 httpd**\n",
    "- - **curl http://localhost:8080**\n",
    "- Alternatively, you can specify an IP address for the port forward\n",
    "- - **docker run -d --name httpd2 192.168.1.150:8090:80 httpd**"
   ]
  },
  {
   "cell_type": "markdown",
   "metadata": {},
   "source": [
    "# Docker Storage\n",
    "## Default Storage\n",
    "- Containers are based on different filesystem layers\n",
    "- You can modify contents of a running container, but storage by default is ephemeral: it's gone after a restart\n",
    "- All modifications in running containers are written to a read/write filesystem layer that by default is removed when the container is stopped\n",
    "- Notice taht this R/W filesystem layer should not be used for persistent storage, as it doesn't perform well\n",
    "- Also notice that Docker keeps the ephemeral storage around for some time after the container is stopped, making it easier to troubleshoot based on information in logs\n",
    "\n",
    "## Host Directory Storage\n",
    "- Persistent storage can be offered by using a host directory\n",
    "- The container will bind-mount to this host directory to write and access persistent data\n",
    "- - Notice aht RHEL, this host directory should have the svirt_sandbox_file_t context label\n",
    "- On the host directory, use **chown** to set the appropriate UID and GID as owner\n",
    "- - Note that this refers to the UID and GID of a user in the container, which may not exist on othe host. For instance, on a mariadb container, the users that mariadb is using are UID 27 and GID 27. Apply these using **chown -R 27:27 /var/local/mysql**\n",
    "\n",
    "code to configure persistent storage using mariadb"
   ]
  },
  {
   "cell_type": "code",
   "execution_count": null,
   "metadata": {},
   "outputs": [],
   "source": [
    "%%bash\n",
    "mkdir -p /var/local/mysql\n",
    "apt install selinux-utils\n",
    "setenforce 0\n",
    "chown -R 27:27 /var/local/mysql\n",
    "docker pull mariadb\n",
    "docker run --name mariadb -d -v /var/local/mysql:/var/lib/mysql -e MYSQL_USER=user -e MYSQL_PASSWORD=password -e MYSQL_DATABASE=addresses -e MYSQL_ROOT_PASSWORD=password mariadb\n"
   ]
  },
  {
   "cell_type": "markdown",
   "metadata": {},
   "source": [
    "## Lab: Operating Docker Containers\n",
    "1. Start a container that runs the latest version of nginx\n",
    "2. Verify that the container is available\n",
    "3. Open a shell on the container and look which process currently are running\n",
    "4. Expose your containers webserver port on the Docker host port 8088"
   ]
  },
  {
   "cell_type": "code",
   "execution_count": null,
   "metadata": {},
   "outputs": [],
   "source": [
    "%%bash\n",
    "docker pull nginx\n",
    "docker run -dit --name mynginx -p 8088:80 nginx bash\n",
    "docker ps\n",
    "docker attach mynginx"
   ]
  },
  {
   "cell_type": "markdown",
   "metadata": {},
   "source": [
    "# kubectl\n",
    "- **kubectl** is the generic Kubernetes management command\n",
    "- It uses the ~/.kube/config file to find information on what to connect to\n",
    "- It is available for all platforms to allow you to manage Kubernetes\n",
    "- **kubectl** is the management command that needs to be available on the managemnet workstation\n",
    "- You'll use it to interface the Kubernetes cluster, no matter where it will be running\n",
    "- There are differetn ways to install it\n",
    "- - From a cloud client\n",
    "- - Run from a cloud shell\n",
    "- - Compile form source\n",
    "- - Run from the release binaries\n",
    "- We'll install it from the release binaries on linux, and show how to use it on MacOS"
   ]
  },
  {
   "cell_type": "markdown",
   "metadata": {},
   "source": [
    "## Installing kubectl on Linux from Release Binaries\n",
    "\n",
    "1. Download the latest release with the command"
   ]
  },
  {
   "cell_type": "code",
   "execution_count": null,
   "metadata": {},
   "outputs": [],
   "source": [
    "%%bash\n",
    "curl -LO https://storage.googleapis.com/kubernetes-release/release/$(curl -s https://storage.googleapis.com/kubernetes-release/release/stable.txt)/bin/linux/amd64/kubectl"
   ]
  },
  {
   "cell_type": "markdown",
   "metadata": {},
   "source": [
    "2. Make the kubectl binary executable"
   ]
  },
  {
   "cell_type": "code",
   "execution_count": null,
   "metadata": {},
   "outputs": [],
   "source": [
    "%%bash\n",
    "chmod -x kubectl"
   ]
  },
  {
   "cell_type": "markdown",
   "metadata": {},
   "source": [
    "3. Move kubectl to /usr/local/bin so that it can be executable from command line"
   ]
  },
  {
   "cell_type": "code",
   "execution_count": null,
   "metadata": {},
   "outputs": [],
   "source": [
    "%%bash\n",
    "mv kubectl /usr/local/bin"
   ]
  },
  {
   "cell_type": "markdown",
   "metadata": {},
   "source": [
    "Check kubectl version, you might see a warning regarding server port forwarding, or localhost:port is not set. This is because we haven't set up minikube yet"
   ]
  },
  {
   "cell_type": "code",
   "execution_count": 1,
   "metadata": {},
   "outputs": [
    {
     "name": "stdout",
     "output_type": "stream",
     "text": [
      "Client Version: version.Info{Major:\"1\", Minor:\"15\", GitVersion:\"v1.15.3\", GitCommit:\"2d3c76f9091b6bec110a5e63777c332469e0cba2\", GitTreeState:\"clean\", BuildDate:\"2019-08-19T11:13:54Z\", GoVersion:\"go1.12.9\", Compiler:\"gc\", Platform:\"linux/amd64\"}\n",
      "Server Version: version.Info{Major:\"1\", Minor:\"15\", GitVersion:\"v1.15.2\", GitCommit:\"f6278300bebbb750328ac16ee6dd3aa7d3549568\", GitTreeState:\"clean\", BuildDate:\"2019-08-05T09:15:22Z\", GoVersion:\"go1.12.5\", Compiler:\"gc\", Platform:\"linux/amd64\"}\n"
     ]
    }
   ],
   "source": [
    "%%bash\n",
    "kubectl version"
   ]
  },
  {
   "cell_type": "markdown",
   "metadata": {},
   "source": [
    "# Minikube\n",
    "- Minikube is a single-VM demo environment that runs on top of VirtualBox\n",
    "- The **minikube start** command will run a VirtualBox VM with a single-node Kubernetes deployment as well as a Docker engine\n",
    "- It's not for porduction, but it's excellent for learning Kubernetes!\n",
    "\n",
    "## Minikube Requirements\n",
    "- Physical machine\n",
    "- 2 GB of RAM (4GB recommended)\n",
    "- Hardware assested virtualization\n",
    "- No other virtualization stack\n",
    "\n",
    "the ~/.kube file will give you the information about certificate in which you can configure your other machines to connect to your minikube environment\n"
   ]
  },
  {
   "cell_type": "markdown",
   "metadata": {},
   "source": [
    "# Working with Kubectl\n",
    "## Connecting to a Cluster\n",
    "- Kubernetes uses a **config** file in ~/.kube to specify details about the cluster you want to connect to\n",
    "- When setting up a cluster, this config file is automatically created, you may modify it manually\n",
    "- Use **kubectl config view** to show current configurations\n",
    "\n",
    "## Understanding the Kubernetes config file\n",
    "- Config file is used to define 3 different elements:\n",
    "- - cluster: the kubernetes cluster\n",
    "- - user: the authorized user\n",
    "- - context the part of the cluster the user wants to access, typically a namespace\n",
    "- Multiple clusters, users and contexts can be referred to from one config file\n",
    "\n",
    "## Connecting to a Remote Cluster\n",
    "- When setting up a cluster, the config file is created automatically\n",
    "- To connect to a remote cluster, you'll need to set up appropriate credentials, consisting of a client certificate and a client key\n",
    "- User **kubectl config set-cluster mycluster --server=http://ip:port --api-version=-v1** to connect to the cluster\n",
    "- Next, use **kubectl use-context mycluster** to start fusing it\n",
    "- When working with multiple configuration files, set the KUBECONFIG variable with as the argument a list of config files where each file is separated by a \":\"\n",
    "\n",
    "link to kubernetes document to config multiple clusters\n",
    "https://kubernetes.io/docs/tasks/access-application-cluster/configure-access-multiple-clusters/"
   ]
  },
  {
   "cell_type": "markdown",
   "metadata": {},
   "source": [
    "# Importing Images into Kubernetes\n",
    "## Workflow Overview\n",
    "- Use Docker images to create pods\n",
    "- Kubernetes uses Pods as the smallest managed items\n",
    "- Easily create basic Pods using the dashboard\n",
    "- Or use YAML files for increased scalability\n",
    "- To start using Kubernetes, you'll need to pull container images into the pods\n",
    "- To use custom images, create your own Docker images and push them to the registry\n",
    "- Alternatively, pull images from public containers\n",
    "- - Use Docker Hub or any private container registry\n",
    "- - Using Docker Hub images makes sense in a small private deployment\n",
    "- Use the Kubernetes Dashboard for an easy way to get started\n",
    "- - Start through **minkube dahboard**\n",
    "- - Or by addressing port 30000 on the Kubernetes Master node"
   ]
  },
  {
   "cell_type": "code",
   "execution_count": null,
   "metadata": {},
   "outputs": [],
   "source": []
  }
 ],
 "metadata": {
  "kernelspec": {
   "display_name": "Python 3",
   "language": "python",
   "name": "python3"
  },
  "language_info": {
   "codemirror_mode": {
    "name": "ipython",
    "version": 3
   },
   "file_extension": ".py",
   "mimetype": "text/x-python",
   "name": "python",
   "nbconvert_exporter": "python",
   "pygments_lexer": "ipython3",
   "version": "3.7.3"
  }
 },
 "nbformat": 4,
 "nbformat_minor": 2
}
