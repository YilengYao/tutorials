{
 "cells": [
  {
   "cell_type": "markdown",
   "metadata": {},
   "source": [
    "# Container Orchestration\n",
    "\n",
    "## What is Kubernetes\n",
    "- Kubernetes, also referred to as K8s, is Greek and means helmsman or pilot\n",
    "- - So it's the captain of the ship with all the dcontainers\n",
    "- Kubernetes is an extensive open-source platform for managing containerized workloads and services\n",
    "- It comes from Google Borgn a system that Google has been useing since 2002 to run its applications\n",
    "\n",
    "## What Else is Kubernetes?\n",
    "- It's open-source software for automating deployment, scaling, and orchestration of containerized applications\n",
    "- - Instead of running containers with the **docker** command, you'll use the **kubernetes** command to run them\n",
    "- It is about running multiple connected containers, organized in Pods, or deployments runnimg on different hosts, where community of service is guaranteed\n",
    "- It has become the de factor standard for orchestration of containers\n",
    "- With a new release every 3 months, it is rapidly evolving\n",
    "\n",
    "<img src='screenshots/Simple-Kubernetes-Architecture.png'>\n",
    "\n",
    "## Kubernetes Architecture\n",
    "<img src='screenshots/Kubernetes-Architecture.png'>\n"
   ]
  },
  {
   "cell_type": "markdown",
   "metadata": {},
   "source": [
    "## Cloud Native Computing Foundation\n",
    "- Google donated Kubernetes to the Cloud Native Computing Foundation (CNCF), which is a foundation in Linux Foundation\n",
    "- CNCF is a governing body that solves issues faced by any cloud native allications (so not just Kubernetes)\n",
    "- CNCF owns the copyright to Kubernetes\n",
    "- Kubernetes itself uses an Apache license\n",
    "- Developers need to sign a Contributor License Agreement with CNCF"
   ]
  },
  {
   "cell_type": "markdown",
   "metadata": {},
   "source": [
    "# Containers\n",
    "\n",
    "## What is a Container?\n",
    "- A container is a solution that bundles an application and all of its dependencies in a box\n",
    "- - Kernel is not included\n",
    "- This box can run on virtually any platform, as long as that platform runs a container engine\n",
    "- Containers are based on an image, from the idmage you can spin multiple containers\n",
    "- - When the container is crete it runs a process on the host kernel. The host kernel isolates resources belonging to each container\n",
    "- - For resource isolation, namespaces are used\n",
    "- - To dedicate resources, cgroups are used\n",
    "\n",
    "## Container Filesystems\n",
    "- Container images consist of different layers\n",
    "- These layers are joined in the union filesystem\n",
    "- By overlaying these layers, a new virtual filesystem is created\n",
    "- The layers are joined in images, and by default are read-only\n",
    "- When a container is started, the ephemeral read-write layer is added\n",
    "\n",
    "## Why Containers are Successful\n",
    "- Very fast deployment\n",
    "- Flexible, as they run anywhere\n",
    "- Easy to scale up and down\n",
    "- Very resource-efficient\n",
    "- Little footprint\n",
    "- Portable"
   ]
  },
  {
   "cell_type": "markdown",
   "metadata": {},
   "source": [
    "# Installing Docker\n",
    "## On Ubuntu\n",
    "### 1. Prerequisites\n",
    "The very first step is to remove any default Docker packages from the system before installation Docker on a Linux VPS. Execute commands to remove unnecessary Docker versions"
   ]
  },
  {
   "cell_type": "code",
   "execution_count": null,
   "metadata": {},
   "outputs": [],
   "source": [
    "%%bash\n",
    "sudo apt-get purge docker lxc-docker docker-engine docker.io"
   ]
  },
  {
   "cell_type": "markdown",
   "metadata": {},
   "source": [
    "Now install some required packages on your system for installing Docker on Ubuntu system. Run the below commands to do this:"
   ]
  },
  {
   "cell_type": "code",
   "execution_count": null,
   "metadata": {},
   "outputs": [],
   "source": [
    "%%bash\n",
    "sudo apt-get install  curl  apt-transport-https ca-certificates software-properties-common"
   ]
  },
  {
   "cell_type": "markdown",
   "metadata": {},
   "source": [
    "### 2. Setup Docker Repository\n",
    "Now import dockers official GPG key to verify packages signature before installing them with apt-get. Run the below command on terminal."
   ]
  },
  {
   "cell_type": "code",
   "execution_count": null,
   "metadata": {},
   "outputs": [],
   "source": [
    "%%bash\n",
    "curl -fsSL https://download.docker.com/linux/ubuntu/gpg | sudo apt-key add "
   ]
  },
  {
   "cell_type": "markdown",
   "metadata": {},
   "source": [
    "After that add the Docker repository on your Ubuntu system which contains Docker packages including its dependencies. You must have to enable this repository to install Docker on Ubuntu."
   ]
  },
  {
   "cell_type": "code",
   "execution_count": null,
   "metadata": {},
   "outputs": [],
   "source": [
    "%%bash\n",
    "sudo add-apt-repository \"deb [arch=amd64] https://download.docker.com/linux/ubuntu $(lsb_release -cs) stable\""
   ]
  },
  {
   "cell_type": "markdown",
   "metadata": {},
   "source": [
    "### 3. Install Docker on Ubuntu\n",
    "Your system is now ready for Docker installation. Run the following commands to upgrade apt index and then install Docker community edition on Ubuntu."
   ]
  },
  {
   "cell_type": "code",
   "execution_count": null,
   "metadata": {},
   "outputs": [],
   "source": [
    "%%bash\n",
    "sudo apt-get update\n",
    "sudo apt-get install docker-ce\n",
    "sudo systemctl status docker"
   ]
  },
  {
   "cell_type": "markdown",
   "metadata": {},
   "source": [
    "## On Red Hat\n",
    "### 1. Install yum-utils and epel-release"
   ]
  },
  {
   "cell_type": "code",
   "execution_count": null,
   "metadata": {},
   "outputs": [],
   "source": [
    "%%bash\n",
    "yum install -y yum-utils\n",
    "wget http://dl.fedoraproject.org/pub/epel/epel-release-latest-7.noarch.rpm"
   ]
  },
  {
   "cell_type": "markdown",
   "metadata": {},
   "source": [
    "### 2. Add Docker CE to yum repos"
   ]
  },
  {
   "cell_type": "code",
   "execution_count": null,
   "metadata": {},
   "outputs": [],
   "source": [
    "%%bash\n",
    "yum-config-manager --add-repo https://download.docker.com/linux/centos/docker-ce.repo"
   ]
  },
  {
   "cell_type": "markdown",
   "metadata": {},
   "source": [
    "### 3. Install container-selinux package"
   ]
  },
  {
   "cell_type": "code",
   "execution_count": null,
   "metadata": {},
   "outputs": [],
   "source": [
    "%%bash\n",
    "yum install -y http://mirror.centos.org/centos/7/extras/x86_64/Packages/container-selinux-2.33-1.git86f33cd.el7.noarch.rpm"
   ]
  },
  {
   "cell_type": "markdown",
   "metadata": {},
   "source": [
    "### 4. Install Docker CE\n",
    "The container-selinux package is available from the rhel-7-server-extras-rpms channel. you can enable it using."
   ]
  },
  {
   "cell_type": "code",
   "execution_count": null,
   "metadata": {},
   "outputs": [],
   "source": [
    "%%bash\n",
    "subscription-manager repos --enable=rhel-7-server-extras-rpms"
   ]
  },
  {
   "cell_type": "code",
   "execution_count": null,
   "metadata": {},
   "outputs": [],
   "source": [
    "%%bash\n",
    "yum install -y docker-ce\n",
    "docker --version"
   ]
  },
  {
   "cell_type": "markdown",
   "metadata": {},
   "source": [
    "### 5. Restart docker service and enable it"
   ]
  },
  {
   "cell_type": "code",
   "execution_count": null,
   "metadata": {},
   "outputs": [],
   "source": [
    "%%bash\n",
    "systemctl restart docker\n",
    "systemctl enable docker"
   ]
  },
  {
   "cell_type": "markdown",
   "metadata": {},
   "source": [
    "## Mac OS\n",
    "Download docker desktop from docker hub\n",
    "\n",
    "https://hub.docker.com/editions/community/docker-ce-desktop-mac\n"
   ]
  },
  {
   "cell_type": "markdown",
   "metadata": {},
   "source": [
    "## Container Architecture\n",
    "Docker enginge\n",
    "- Docker engine runs containers and consists of the following parts\n",
    "- - A server implemented by the **dockerd** service\n",
    "- - A REST API which specifies interfaces that can be used by client commands\n",
    "- - The **docker** command\n",
    "\n",
    "<img src='screenshots/Container-Architecture.png'>\n",
    "\n",
    "### Docker Registry\n",
    "- Docker registries are used to store Docker images\n",
    "- Docker hub is publicly available and used as the defualt\n",
    "- Docker cloud is also publicly available\n",
    "- Administrators can create private registries\n",
    "- When using **docker pull** or **docker run** as image is pulled from the registry\n",
    "- You can upload images using **docker push**\n",
    "\n",
    "## Docker Objects\n",
    "- **image**: a read-only template with instructions to crate docker container\n",
    "- - Images are often based on their images\n",
    "- - Default images are pulled from Docker registry, you can build yoru own images using Docekrile\n",
    "- - - Each instruction in Dockerfile creates a layer in the image\n",
    "- - - When rebuilding an image, only those layers that are changed are rebuilt\n",
    "- **container**: a runnable instance of an image\n",
    "- - Containers need persistent storage to keep modifications\n",
    "- **services**: used in Docker swarm to scale containers accross multiple Docker daemons\n",
    "\n",
    "## Operational Container Mangement\n",
    "Working with Containers\n",
    "- Show Docker version information: **docker version**\n",
    "- Show current usage information: **docker info**\n",
    "- Search containers: **docker search wordpress**\n",
    "- Download an image: **docker pull wordpress**\n",
    "- Verify: **docker images**\n",
    "- Remove images: **docker rmi wordpress**\n",
    "- Run a container in interactive mode: **docker run -dit --name centos --hostname=\"centos\" centos /bin/bash**\n",
    "- Verify running container: **docker ps -a**\n",
    "- Connect to a container: **docker attach centos**\n",
    "- Run a command in a container: **docker run centos /usr/bin/free -m**\n",
    "- - After running the command, the container stops, but is still available on the system\n",
    "- Run a command in a container and remove the container after doing so: **docker run --rm centos /usr/bin/df/ -h**\n",
    "- - After running the command, the container stops, but is still available on the system\n",
    "- Run a command in a container and remove the container after doing so: **docker run --rm centos /usr/bin/df -h**\n",
    "- Show information about a running contianer: **docker top centos**\n",
    "- Show top-like information about a container: **docker stats centos**\n",
    "- Copy something from the container to localhost: **docker cp centos:/etc/hosts /root/**\n",
    "- Run a command inside a container: **docker exec centos cat /etc/hostname**\n",
    "- Kill a container: **docker kill centos**\n",
    "\n",
    "\n",
    "## When Does Container Stop?\n",
    "- Typically, when a container is started, a specific command is executed. When this command stops, the container stops as well\n",
    "- **docker run --name demo1 centos:latest dd if=/dev/zero of=/dev/null**\n",
    "- - This will start the container, and use the terminal to run the **dd** command\n",
    "- - Use **docker ps** to see the active container\n",
    "- - Use **ps aux**, you'll notice the dd process shows in the current process tree\n",
    "- - Use **docker exec -it demo1 /bin/bash** and type ps aux. You'll see the dd process runnning as PID 1\n",
    "- Type **docker stop domo-container**\n",
    "- Now type **docker run --name demo2 centos:latest sleep 30**\n",
    "- From another terminal, type **docker ps**\n",
    "- Obsrever that the container will stop after executing its task\n",
    "- Type **docker ps -a**, this will show a list of all containers that have been activated in the past\n",
    "- Type **docker rm \\< containername \\>** to remove these containers\n",
    "- - User **docker rm \\$(docker ps -aq)** to delete all containers\n",
    "\n",
    "## Run command on stopped container"
   ]
  },
  {
   "cell_type": "code",
   "execution_count": null,
   "metadata": {},
   "outputs": [],
   "source": [
    "%%bash\n",
    "# docker commit <container id>\n",
    "# docker run -it <newcontainer id> bash"
   ]
  },
  {
   "cell_type": "markdown",
   "metadata": {},
   "source": [
    "## get IP of running container"
   ]
  },
  {
   "cell_type": "code",
   "execution_count": null,
   "metadata": {},
   "outputs": [],
   "source": [
    "%%bash\n",
    "# docker ps\n",
    "# docker inspect -f '{{ .NetworkSettings.IPAddress }}' <container name>"
   ]
  },
  {
   "cell_type": "markdown",
   "metadata": {},
   "source": [
    "## Docker Architecture\n",
    "<img src='screenshots/Docker-Architecture.png'>"
   ]
  },
  {
   "cell_type": "markdown",
   "metadata": {},
   "source": [
    "# Docker Networking\n",
    "<img src='screenshots/Docker-Networking.png'>\n",
    "\n",
    "Docker Networking\n",
    "- Default netowrking uses Linux bridges\n",
    "- - Different containers on othe same host can communicate; communications with containers on theor hosts is not possible\n",
    "- - As the bridge runs NAT, containers are not directly accessible from the outside\n",
    "- Overlay networking: using overlay networking technologies allows containers to communicate if they're running on different hosts\n",
    "- Other technologies do exist, but are irrelevant if you're going to use Kubernetes\n",
    "\n",
    "## Exposing Container Ports\n",
    "- By default, container ports are not accessible from the outside\n",
    "- Use port mapping to make them accessible\n",
    "- - **docker run -d --name httpd -p 8080:80 httpd**\n",
    "- - **curl http://localhost:8080**\n",
    "- Alternatively, you can specify an IP address for the port forward\n",
    "- - **docker run -d --name httpd2 192.168.1.150:8090:80 httpd**"
   ]
  },
  {
   "cell_type": "markdown",
   "metadata": {},
   "source": [
    "# Docker Storage\n",
    "## Default Storage\n",
    "- Containers are based on different filesystem layers\n",
    "- You can modify contents of a running container, but storage by default is ephemeral: it's gone after a restart\n",
    "- All modifications in running containers are written to a read/write filesystem layer that by default is removed when the container is stopped\n",
    "- Notice taht this R/W filesystem layer should not be used for persistent storage, as it doesn't perform well\n",
    "- Also notice that Docker keeps the ephemeral storage around for some time after the container is stopped, making it easier to troubleshoot based on information in logs\n",
    "\n",
    "## Host Directory Storage\n",
    "- Persistent storage can be offered by using a host directory\n",
    "- The container will bind-mount to this host directory to write and access persistent data\n",
    "- - Notice aht RHEL, this host directory should have the svirt_sandbox_file_t context label\n",
    "- On the host directory, use **chown** to set the appropriate UID and GID as owner\n",
    "- - Note that this refers to the UID and GID of a user in the container, which may not exist on othe host. For instance, on a mariadb container, the users that mariadb is using are UID 27 and GID 27. Apply these using **chown -R 27:27 /var/local/mysql**\n",
    "\n",
    "code to configure persistent storage using mariadb"
   ]
  },
  {
   "cell_type": "code",
   "execution_count": null,
   "metadata": {},
   "outputs": [],
   "source": [
    "%%bash\n",
    "mkdir -p /var/local/mysql\n",
    "apt install selinux-utils\n",
    "setenforce 0\n",
    "chown -R 27:27 /var/local/mysql\n",
    "docker pull mariadb\n",
    "docker run --name mariadb -d -v /var/local/mysql:/var/lib/mysql -e MYSQL_USER=user -e MYSQL_PASSWORD=password -e MYSQL_DATABASE=addresses -e MYSQL_ROOT_PASSWORD=password mariadb\n"
   ]
  },
  {
   "cell_type": "markdown",
   "metadata": {},
   "source": [
    "## Lab: Operating Docker Containers\n",
    "1. Start a container that runs the latest version of nginx\n",
    "2. Verify that the container is available\n",
    "3. Open a shell on the container and look which process currently are running\n",
    "4. Expose your containers webserver port on the Docker host port 8088"
   ]
  },
  {
   "cell_type": "code",
   "execution_count": null,
   "metadata": {},
   "outputs": [],
   "source": [
    "%%bash\n",
    "docker pull nginx\n",
    "docker run -dit --name mynginx -p 8088:80 nginx bash\n",
    "docker ps\n",
    "docker attach mynginx"
   ]
  },
  {
   "cell_type": "markdown",
   "metadata": {},
   "source": [
    "# kubectl\n",
    "- **kubectl** is the generic Kubernetes management command\n",
    "- It uses the ~/.kube/config file to find information on what to connect to\n",
    "- It is available for all platforms to allow you to manage Kubernetes\n",
    "- **kubectl** is the management command that needs to be available on the managemnet workstation\n",
    "- You'll use it to interface the Kubernetes cluster, no matter where it will be running\n",
    "- There are differetn ways to install it\n",
    "- - From a cloud client\n",
    "- - Run from a cloud shell\n",
    "- - Compile form source\n",
    "- - Run from the release binaries\n",
    "- We'll install it from the release binaries on linux, and show how to use it on MacOS"
   ]
  },
  {
   "cell_type": "markdown",
   "metadata": {},
   "source": [
    "## Installing kubectl on Linux from Release Binaries\n",
    "\n",
    "1. Download the latest release with the command"
   ]
  },
  {
   "cell_type": "code",
   "execution_count": null,
   "metadata": {},
   "outputs": [],
   "source": [
    "%%bash\n",
    "curl -LO https://storage.googleapis.com/kubernetes-release/release/$(curl -s https://storage.googleapis.com/kubernetes-release/release/stable.txt)/bin/linux/amd64/kubectl"
   ]
  },
  {
   "cell_type": "markdown",
   "metadata": {},
   "source": [
    "2. Make the kubectl binary executable"
   ]
  },
  {
   "cell_type": "code",
   "execution_count": null,
   "metadata": {},
   "outputs": [],
   "source": [
    "%%bash\n",
    "chmod -x kubectl"
   ]
  },
  {
   "cell_type": "markdown",
   "metadata": {},
   "source": [
    "3. Move kubectl to /usr/local/bin so that it can be executable from command line"
   ]
  },
  {
   "cell_type": "code",
   "execution_count": null,
   "metadata": {},
   "outputs": [],
   "source": [
    "%%bash\n",
    "mv kubectl /usr/local/bin"
   ]
  },
  {
   "cell_type": "markdown",
   "metadata": {},
   "source": [
    "Check kubectl version, you might see a warning regarding server port forwarding, or localhost:port is not set. This is because we haven't set up minikube yet"
   ]
  },
  {
   "cell_type": "code",
   "execution_count": null,
   "metadata": {},
   "outputs": [],
   "source": [
    "%%bash\n",
    "kubectl version"
   ]
  },
  {
   "cell_type": "markdown",
   "metadata": {},
   "source": [
    "Setting up port forwarding"
   ]
  },
  {
   "cell_type": "code",
   "execution_count": 2,
   "metadata": {},
   "outputs": [
    {
     "name": "stdout",
     "output_type": "stream",
     "text": [
      "public (active)\n",
      "  target: default\n",
      "  icmp-block-inversion: no\n",
      "  interfaces: wlp2s0\n",
      "  sources: \n",
      "  services: ssh dhcpv6-client\n",
      "  ports: \n",
      "  protocols: \n",
      "  masquerade: yes\n",
      "  forward-ports: port=8433:proto=tcp:toport=8433:toaddr=192.168.99.100\n",
      "  source-ports: \n",
      "  icmp-blocks: \n",
      "  rich rules: \n",
      "\t\n"
     ]
    }
   ],
   "source": [
    "%%bash\n",
    "firewall-cmd --list-all\n",
    "# to get the firewall, mine is public, so I set my zone to be public\n",
    "firewall-cmd --permanent --zone=public --add-masquerade\n",
    "firewall-cmd --permenant --zone=public --add-forward-port=port=8433:proto=tcp:toport=8433:toaddress=192.168.99.100"
   ]
  },
  {
   "cell_type": "markdown",
   "metadata": {},
   "source": [
    "## Installing kubectl on MacOS from Release Binaries"
   ]
  },
  {
   "cell_type": "code",
   "execution_count": null,
   "metadata": {},
   "outputs": [],
   "source": [
    "%%bash\n",
    "# install homebrew\n",
    "/usr/bin/rube -e \"$(curl -fsSL https://raw.githubusercontent.com/Homebrew/install/master/install)\"\n",
    "brew install kubectl\n",
    "kubectl version"
   ]
  },
  {
   "cell_type": "markdown",
   "metadata": {},
   "source": [
    "# Minikube\n",
    "- Minikube is a single-VM demo environment that runs on top of VirtualBox\n",
    "- The **minikube start** command will run a VirtualBox VM with a single-node Kubernetes deployment as well as a Docker engine\n",
    "- It's not for production, but it's excellent for learning Kubernetes!\n",
    "\n",
    "## Minikube Requirements\n",
    "- Physical machine\n",
    "- 2 GB of RAM (4GB recommended)\n",
    "- Hardware assested virtualization\n",
    "- No other virtualization stack\n",
    "\n",
    "the ~/.kube file will give you the information about certificate in which you can configure your other machines to connect to your minikube environment\n"
   ]
  },
  {
   "cell_type": "markdown",
   "metadata": {},
   "source": [
    "## Installing Minikube"
   ]
  },
  {
   "cell_type": "code",
   "execution_count": null,
   "metadata": {},
   "outputs": [],
   "source": [
    "%%bash\n",
    "# to check if virtualization is supported\n",
    "grep -E --color 'vmx|svm' /proc/cpuinfo"
   ]
  },
  {
   "cell_type": "markdown",
   "metadata": {},
   "source": [
    "Install virtualbox"
   ]
  },
  {
   "cell_type": "code",
   "execution_count": null,
   "metadata": {},
   "outputs": [],
   "source": [
    "%%bash\n",
    "curl -Lo minikube https://storage.googleapis.com/minikube/releases/latest/minikube-linux-amd64 \\\n",
    "  && chmod +x minikube"
   ]
  },
  {
   "cell_type": "code",
   "execution_count": null,
   "metadata": {},
   "outputs": [],
   "source": [
    "%%bash\n",
    "sudo install minikube /usr/local/bin"
   ]
  },
  {
   "cell_type": "code",
   "execution_count": null,
   "metadata": {},
   "outputs": [],
   "source": [
    "%%bash\n",
    "minikube start"
   ]
  },
  {
   "cell_type": "markdown",
   "metadata": {},
   "source": [
    "One reason for failure if that happens is when minikube don't like your network. Try your home network.\n",
    "\n",
    "Sometimes it can remedied with minikube stop, minikube delete and minikube start"
   ]
  },
  {
   "cell_type": "code",
   "execution_count": 4,
   "metadata": {},
   "outputs": [
    {
     "name": "stdout",
     "output_type": "stream",
     "text": [
      "\u001b[0;32mKubernetes master\u001b[0m is running at \u001b[0;33mhttps://192.168.99.103:8443\u001b[0m\n",
      "\u001b[0;32mKubeDNS\u001b[0m is running at \u001b[0;33mhttps://192.168.99.103:8443/api/v1/namespaces/kube-system/services/kube-dns:dns/proxy\u001b[0m\n",
      "\n",
      "To further debug and diagnose cluster problems, use 'kubectl cluster-info dump'.\n"
     ]
    }
   ],
   "source": [
    "%%bash\n",
    "kubectl cluster-info"
   ]
  },
  {
   "cell_type": "code",
   "execution_count": 5,
   "metadata": {},
   "outputs": [
    {
     "name": "stdout",
     "output_type": "stream",
     "text": [
      "NAME       STATUS   ROLES    AGE   VERSION\n",
      "minikube   Ready    master   24h   v1.15.2\n"
     ]
    }
   ],
   "source": [
    "%%bash\n",
    "kubectl get nodes"
   ]
  },
  {
   "cell_type": "markdown",
   "metadata": {},
   "source": [
    "# Working with Kubectl\n",
    "## Connecting to a Cluster\n",
    "- Kubernetes uses a **config** file in ~/.kube to specify details about the cluster you want to connect to\n",
    "- When setting up a cluster, this config file is automatically created, you may modify it manually\n",
    "- Use **kubectl config view** to show current configurations"
   ]
  },
  {
   "cell_type": "code",
   "execution_count": 8,
   "metadata": {},
   "outputs": [
    {
     "name": "stdout",
     "output_type": "stream",
     "text": [
      "apiVersion: v1\n",
      "clusters:\n",
      "- cluster:\n",
      "    certificate-authority: /home/yi/.minikube/ca.crt\n",
      "    server: https://192.168.99.103:8443\n",
      "  name: minikube\n",
      "contexts:\n",
      "- context:\n",
      "    cluster: minikube\n",
      "    user: minikube\n",
      "  name: minikube\n",
      "current-context: minikube\n",
      "kind: Config\n",
      "preferences: {}\n",
      "users:\n",
      "- name: minikube\n",
      "  user:\n",
      "    client-certificate: /home/yi/.minikube/client.crt\n",
      "    client-key: /home/yi/.minikube/client.key\n"
     ]
    }
   ],
   "source": [
    "%%bash\n",
    "cd ~/.kube\n",
    "cat config"
   ]
  },
  {
   "cell_type": "markdown",
   "metadata": {},
   "source": [
    "The ~/.kube/config file gives us the server, the certificate authority. The client certificate and client key.\n",
    "\n",
    "You will copy over the client certificate and client key in which you copy to other machines that you want to connect to"
   ]
  },
  {
   "cell_type": "code",
   "execution_count": 9,
   "metadata": {},
   "outputs": [
    {
     "name": "stdout",
     "output_type": "stream",
     "text": [
      "\u001b[0;32mKubernetes master\u001b[0m is running at \u001b[0;33mhttps://192.168.99.103:8443\u001b[0m\n",
      "\u001b[0;32mKubeDNS\u001b[0m is running at \u001b[0;33mhttps://192.168.99.103:8443/api/v1/namespaces/kube-system/services/kube-dns:dns/proxy\u001b[0m\n",
      "\n",
      "To further debug and diagnose cluster problems, use 'kubectl cluster-info dump'.\n",
      "NAME       STATUS   ROLES    AGE   VERSION\n",
      "minikube   Ready    master   24h   v1.15.2\n"
     ]
    }
   ],
   "source": [
    "%%bash\n",
    "kubectl cluster-info\n",
    "kubectl get nodes"
   ]
  },
  {
   "cell_type": "markdown",
   "metadata": {},
   "source": [
    "To ssh into minikube"
   ]
  },
  {
   "cell_type": "code",
   "execution_count": null,
   "metadata": {},
   "outputs": [],
   "source": [
    "%%bash\n",
    "minikube ssh"
   ]
  },
  {
   "cell_type": "markdown",
   "metadata": {},
   "source": [
    "Show ip of minikube"
   ]
  },
  {
   "cell_type": "code",
   "execution_count": null,
   "metadata": {},
   "outputs": [],
   "source": [
    "%%bash\n",
    "minikube ip"
   ]
  },
  {
   "cell_type": "markdown",
   "metadata": {},
   "source": [
    "Minikube dashboard"
   ]
  },
  {
   "cell_type": "code",
   "execution_count": null,
   "metadata": {},
   "outputs": [],
   "source": [
    "%%bash\n",
    "minikube dashboard"
   ]
  },
  {
   "cell_type": "markdown",
   "metadata": {},
   "source": [
    "minikube log information"
   ]
  },
  {
   "cell_type": "code",
   "execution_count": null,
   "metadata": {},
   "outputs": [],
   "source": [
    "%%bash\n",
    "minikube logs"
   ]
  },
  {
   "cell_type": "markdown",
   "metadata": {},
   "source": [
    "### kubectl run"
   ]
  },
  {
   "cell_type": "code",
   "execution_count": 3,
   "metadata": {},
   "outputs": [
    {
     "name": "stdout",
     "output_type": "stream",
     "text": [
      "Create and run a particular image, possibly replicated.\n",
      "\n",
      " Creates a deployment or job to manage the created container(s).\n",
      "\n",
      "Examples:\n",
      "  # Start a single instance of nginx.\n",
      "  kubectl run nginx --image=nginx\n",
      "  \n",
      "  # Start a single instance of hazelcast and let the container expose port 5701 .\n",
      "  kubectl run hazelcast --image=hazelcast --port=5701\n",
      "  \n",
      "  # Start a single instance of hazelcast and set environment variables \"DNS_DOMAIN=cluster\" and \"POD_NAMESPACE=default\" in the container.\n",
      "  kubectl run hazelcast --image=hazelcast --env=\"DNS_DOMAIN=cluster\" --env=\"POD_NAMESPACE=default\"\n",
      "  \n",
      "  # Start a single instance of hazelcast and set labels \"app=hazelcast\" and \"env=prod\" in the container.\n",
      "  kubectl run hazelcast --image=hazelcast --labels=\"app=hazelcast,env=prod\"\n",
      "  \n",
      "  # Start a replicated instance of nginx.\n",
      "  kubectl run nginx --image=nginx --replicas=5\n",
      "  \n"
     ]
    }
   ],
   "source": [
    "%%bash\n",
    "kubectl run --help | head -20"
   ]
  },
  {
   "cell_type": "code",
   "execution_count": null,
   "metadata": {},
   "outputs": [],
   "source": [
    "%%bash\n",
    "kubectl run nginx -- image=nginx"
   ]
  },
  {
   "cell_type": "markdown",
   "metadata": {},
   "source": [
    "### kubectl get"
   ]
  },
  {
   "cell_type": "code",
   "execution_count": null,
   "metadata": {},
   "outputs": [],
   "source": [
    "%%bash\n",
    "kubectl get --help | head -15"
   ]
  },
  {
   "cell_type": "code",
   "execution_count": 6,
   "metadata": {},
   "outputs": [
    {
     "name": "stdout",
     "output_type": "stream",
     "text": [
      "NAME                       READY   STATUS    RESTARTS   AGE\n",
      "mynginx-8567cfb87c-892xw   1/1     Running   0          19h\n",
      "mynginx-8567cfb87c-8mxhw   1/1     Running   0          19h\n",
      "nginx-7bb7cd8db5-glkr6     1/1     Running   0          20h\n",
      "NAME         ENDPOINTS             AGE\n",
      "kubernetes   192.168.99.103:8443   25h\n"
     ]
    }
   ],
   "source": [
    "%%bash\n",
    "kubectl get pods\n",
    "kubectl get endpoints"
   ]
  },
  {
   "cell_type": "markdown",
   "metadata": {},
   "source": [
    "## Understanding the Kubernetes config file\n",
    "- Config file is used to define 3 different elements:\n",
    "- - cluster: the kubernetes cluster\n",
    "- - user: the authorized user\n",
    "- - context the part of the cluster the user wants to access, typically a namespace\n",
    "- Multiple clusters, users and contexts can be referred to from one config file\n",
    "\n"
   ]
  },
  {
   "cell_type": "code",
   "execution_count": 7,
   "metadata": {},
   "outputs": [
    {
     "name": "stdout",
     "output_type": "stream",
     "text": [
      "apiVersion: v1\n",
      "clusters:\n",
      "- cluster:\n",
      "    certificate-authority: /home/yi/.minikube/ca.crt\n",
      "    server: https://192.168.99.103:8443\n",
      "  name: minikube\n",
      "contexts:\n",
      "- context:\n",
      "    cluster: minikube\n",
      "    user: minikube\n",
      "  name: minikube\n",
      "current-context: minikube\n",
      "kind: Config\n",
      "preferences: {}\n",
      "users:\n",
      "- name: minikube\n",
      "  user:\n",
      "    client-certificate: /home/yi/.minikube/client.crt\n",
      "    client-key: /home/yi/.minikube/client.key\n"
     ]
    }
   ],
   "source": [
    "%%bash\n",
    "cat ~/.kube/config"
   ]
  },
  {
   "cell_type": "markdown",
   "metadata": {},
   "source": [
    "## Connecting to a Remote Cluster\n",
    "- When setting up a cluster, the config file is created automatically\n",
    "- To connect to a remote cluster, you'll need to set up appropriate credentials, consisting of a client certificate and a client key\n",
    "- User **kubectl config set-cluster mycluster --server=http://ip:port --api-version=-v1** to connect to the cluster\n",
    "- Next, use **kubectl use-context mycluster** to start fusing it\n",
    "- When working with multiple configuration files, set the KUBECONFIG variable with as the argument a list of config files where each file is separated by a \":\"\n",
    "\n",
    "link to kubernetes document to config multiple clusters\n",
    "https://kubernetes.io/docs/tasks/access-application-cluster/configure-access-multiple-clusters/"
   ]
  },
  {
   "cell_type": "markdown",
   "metadata": {},
   "source": [
    "# Importing Images into Kubernetes\n",
    "## Workflow Overview\n",
    "- Use Docker images to create pods\n",
    "- Kubernetes uses Pods as the smallest managed items\n",
    "- - Kubernetes doesn't manage containers, it manages pods\n",
    "- Easily create basic Pods using the dashboard\n",
    "- Or use YAML files for increased scalability\n",
    "- To start using Kubernetes, you'll need to pull container images into the pods\n",
    "- To use custom images, create your own Docker images and push them to the registry\n",
    "- Alternatively, pull images from public containers\n",
    "- - Use Docker Hub or any private container registry\n",
    "- - Using Docker Hub images makes sense in a small private deployment\n",
    "- Use the Kubernetes Dashboard for an easy way to get started\n",
    "- - Start through **minkube dahboard**\n",
    "- - Or by addressing port 30000 on the Kubernetes Master node"
   ]
  },
  {
   "cell_type": "markdown",
   "metadata": {},
   "source": [
    "# Creating Pods with YAML Files\n",
    "- use **kubectl** with a YAML file to make creating pods easy\n",
    "- **kubectl create -f /< name />.yaml --validate=false**\n",
    "- **kubectl get pods** will show the new pod\n",
    "- **kubectl describe pods** shows all details about pods, including the information about its containers\n",
    "- - **kubectl describe pods busybox**\n",
    "- - **kubectl describe pods busybox -o yaml**\n",
    "- - **kubectl describe pods busybox -o json**\n",
    "\n",
    "The following is the script for busybox.yaml"
   ]
  },
  {
   "cell_type": "raw",
   "metadata": {},
   "source": [
    "// busybox.yaml\n",
    "apiVersion: v1\n",
    "kind: Pod\n",
    "metadata:\n",
    "  name: busybox\n",
    "  namespace: default\n",
    "spec:\n",
    "  containers:\n",
    "  - name: busybox\n",
    "    image: busybox\n",
    "    command:\n",
    "      - sleep\n",
    "      - \"3600\""
   ]
  },
  {
   "cell_type": "markdown",
   "metadata": {},
   "source": [
    "To create pods using busybox.yaml"
   ]
  },
  {
   "cell_type": "code",
   "execution_count": 4,
   "metadata": {},
   "outputs": [
    {
     "name": "stdout",
     "output_type": "stream",
     "text": [
      "pod/busybox created\n"
     ]
    }
   ],
   "source": [
    "%%bash\n",
    "cd yaml-files\n",
    "kubectl create -f busybox.yaml --validate=false"
   ]
  },
  {
   "cell_type": "code",
   "execution_count": 8,
   "metadata": {},
   "outputs": [
    {
     "name": "stdout",
     "output_type": "stream",
     "text": [
      "NAME                       READY   STATUS    RESTARTS   AGE\n",
      "busybox                    1/1     Running   0          63s\n",
      "mynginx-8567cfb87c-892xw   1/1     Running   2          3d8h\n",
      "mynginx-8567cfb87c-8mxhw   1/1     Running   2          3d8h\n",
      "nginx-7bb7cd8db5-glkr6     1/1     Running   2          3d9h\n",
      "Name:         busybox\n",
      "Namespace:    default\n",
      "Priority:     0\n",
      "Node:         minikube/10.0.2.15\n",
      "Start Time:   Wed, 18 Sep 2019 20:46:13 -0700\n",
      "Labels:       <none>\n",
      "Annotations:  <none>\n",
      "Status:       Running\n",
      "IP:           172.17.0.8\n",
      "Containers:\n",
      "  busybox:\n",
      "    Container ID:  docker://22d8b9de343d961e8c9f2bbc17597392bd25fd07472b9f2e1b2471fc21e9d1b5\n",
      "    Image:         busybox\n",
      "    Image ID:      docker-pullable://busybox@sha256:fe301db49df08c384001ed752dff6d52b4305a73a7f608f21528048e8a08b51e\n",
      "    Port:          <none>\n",
      "    Host Port:     <none>\n",
      "    Command:\n",
      "      sleep\n",
      "      3600\n",
      "    State:          Running\n"
     ]
    }
   ],
   "source": [
    "%%bash\n",
    "kubectl get pods\n",
    "kubectl describe pods busybox | head -20"
   ]
  },
  {
   "cell_type": "markdown",
   "metadata": {},
   "source": [
    "## Lab: Running a Kubernetes Application\n",
    "Instructions\n",
    "- Lookup the images that are available to deploy an Apache web server as kubernetes application\n",
    "- Write a YAML file that runs the Apache web server\n",
    "- Verify its operations"
   ]
  },
  {
   "cell_type": "code",
   "execution_count": null,
   "metadata": {},
   "outputs": [],
   "source": [
    "%%bash\n",
    "docker search apache"
   ]
  },
  {
   "cell_type": "raw",
   "metadata": {},
   "source": [
    "// apache.yaml\n",
    "apiVersion: v1\n",
    "kind: Pod\n",
    "metadata:\n",
    "  name: apache\n",
    "  namespace: default\n",
    "spec:\n",
    "  containers:\n",
    "  - name: apache\n",
    "    image: httpd\n",
    "    command:\n",
    "      - sleep\n",
    "      - \"3600\""
   ]
  },
  {
   "cell_type": "code",
   "execution_count": 12,
   "metadata": {},
   "outputs": [
    {
     "name": "stdout",
     "output_type": "stream",
     "text": [
      "pod/apache created\n"
     ]
    }
   ],
   "source": [
    "%%bash\n",
    "cd yaml-files\n",
    "kubectl create -f apache.yaml"
   ]
  },
  {
   "cell_type": "code",
   "execution_count": 13,
   "metadata": {},
   "outputs": [
    {
     "name": "stdout",
     "output_type": "stream",
     "text": [
      "NAME                       READY   STATUS              RESTARTS   AGE\n",
      "apache                     0/1     ContainerCreating   0          13s\n",
      "busybox                    1/1     Running             0          17m\n",
      "mynginx-8567cfb87c-892xw   1/1     Running             2          3d8h\n",
      "mynginx-8567cfb87c-8mxhw   1/1     Running             2          3d8h\n",
      "nginx-7bb7cd8db5-glkr6     1/1     Running             2          3d10h\n"
     ]
    }
   ],
   "source": [
    "%%bash\n",
    "kubectl get pods"
   ]
  },
  {
   "cell_type": "markdown",
   "metadata": {},
   "source": [
    "# Kubernetes Components\n",
    "## Kubernetes Resource\n",
    "<img src='screenshots/Kubernetes-Resource.png'>\n",
    "\n",
    "\n",
    "namespace: restrict isolation between resources\n",
    "\n",
    "<img src='screenshots/Namespace.png'>\n",
    "\n",
    "## Pod\n",
    "- A group of one or more containers, share storage and networking, and a specification of how to run these containers\n",
    "- All containers in the pod are always co-located and co-scheduled\n",
    "- Everything within a pod runs within a shared context\n",
    "- You can see a pod as an application or logical host\n",
    "- Pods are considered to be ephemeral, if a pod is stopped it to go away\n",
    "- If the node running a pod crashes, the pod will be schedule to go somewhere else\n",
    "- Pods implement the application you want to offer to end users\n",
    "- Everything within a pod needs to work together, so you don't want to work at a container level\n",
    "- Containers in the pod have the following requirements which make sense running them in he same pod\n",
    "- - deployment: it all belong together\n",
    "- - co-location\n",
    "- - shared fate, as containers depends on one another\n",
    "- - resource sharing\n",
    "- - dependency management\n",
    "\n",
    "## Pod Networking\n",
    "- Applications in a pod all use the same network namespace\n",
    "- - One IP address for the pod\n",
    "- - One range of ports that needs to be shared by all containers in the pod\n",
    "- Therefore, containers in a pod must coordinate their usage of ports\n",
    "- Each pod has one IP address\n",
    "- The hostname to that IP address is set to the pods name\n",
    "\n",
    "## Starting Pods\n",
    "- Individual Pods can be started using **kubectl create -f /< name />.yaml**\n",
    "- Alternatively, use the Dashboard running on port 30000\n",
    "- After starting a pod, use **kubectl get pods** to get an overview of all running pods\n",
    "- **kubectl describe pods** showsd all details about a pod\n",
    "- Use **kubectl delete pod podname** to delete it"
   ]
  },
  {
   "cell_type": "markdown",
   "metadata": {},
   "source": [
    "# Namespaces\n",
    "- A namespace is a strict isolation that occurs on Linux kernel level\n",
    "- - It is like building datacenters in a kubernetes environment\n",
    "- - One namespace is not visible from another namespace\n",
    "- Every **kubectl** request uses namespaces to ensure that resources are strictly separated and names don't have to be unique\n",
    "- Namespaces can be added when creating a pod, thus ensuring that a pod is available in a specific namespace only\n",
    "- Before adding a pod to a namespace, ensure that the namespace exists\n",
    "- Use namespaces in cluster environments with many users that are spread across multiple teams and projects\n",
    "\n",
    "## Default Namespaces\n",
    "- By default, Kubernetes has 3 namespaces\n",
    "- - default\n",
    "- - kube-public\n",
    "- - kube-system\n",
    "\n",
    "## Working with namespace\n",
    "- **kubectl get ns** will list all the namespaces"
   ]
  },
  {
   "cell_type": "code",
   "execution_count": 14,
   "metadata": {},
   "outputs": [
    {
     "name": "stdout",
     "output_type": "stream",
     "text": [
      "NAME              STATUS   AGE\n",
      "default           Active   3d23h\n",
      "kube-node-lease   Active   3d23h\n",
      "kube-public       Active   3d23h\n",
      "kube-system       Active   3d23h\n"
     ]
    }
   ],
   "source": [
    "%%bash\n",
    "kubectl get ns"
   ]
  },
  {
   "cell_type": "markdown",
   "metadata": {},
   "source": [
    "specifying namespace of a pod in a yaml file"
   ]
  },
  {
   "cell_type": "raw",
   "metadata": {},
   "source": [
    "// busybox-ns.yaml\n",
    "apiVersion: v1\n",
    "kind: Pod\n",
    "metadata:\n",
    "  name: busybox2\n",
    "  namespace: secret\n",
    "spec:\n",
    "  containers:\n",
    "  - image: busybox\n",
    "    name: busy\n",
    "    command:\n",
    "      - sleep\n",
    "      - \"3600\""
   ]
  },
  {
   "cell_type": "markdown",
   "metadata": {},
   "source": [
    "You must first create the namespace before creating a pod that belongs to that namespace.\n",
    "\n",
    "To create a namespace us\n",
    "- **kubectl create ns /< name of namespace />"
   ]
  },
  {
   "cell_type": "code",
   "execution_count": 16,
   "metadata": {},
   "outputs": [
    {
     "name": "stdout",
     "output_type": "stream",
     "text": [
      "namespace/secret created\n"
     ]
    }
   ],
   "source": [
    "%%bash\n",
    "kubectl create ns secret"
   ]
  },
  {
   "cell_type": "code",
   "execution_count": 18,
   "metadata": {},
   "outputs": [
    {
     "name": "stdout",
     "output_type": "stream",
     "text": [
      "pod/busybox2 created\n"
     ]
    }
   ],
   "source": [
    "%%bash\n",
    "cd yaml-files\n",
    "kubectl create -f busybox-ns.yaml"
   ]
  },
  {
   "cell_type": "code",
   "execution_count": 20,
   "metadata": {},
   "outputs": [
    {
     "name": "stdout",
     "output_type": "stream",
     "text": [
      "apiVersion: v1\n",
      "kind: Namespace\n",
      "metadata:\n",
      "  creationTimestamp: \"2019-09-19T13:29:16Z\"\n",
      "  name: secret\n",
      "  resourceVersion: \"165156\"\n",
      "  selfLink: /api/v1/namespaces/secret\n",
      "  uid: 7d49d16a-33d0-4d1f-b818-a866f79f69d9\n",
      "spec:\n",
      "  finalizers:\n",
      "  - kubernetes\n",
      "status:\n",
      "  phase: Active\n",
      "{\n",
      "    \"apiVersion\": \"v1\",\n",
      "    \"kind\": \"Namespace\",\n",
      "    \"metadata\": {\n",
      "        \"creationTimestamp\": \"2019-09-19T13:29:16Z\",\n",
      "        \"name\": \"secret\",\n",
      "        \"resourceVersion\": \"165156\",\n",
      "        \"selfLink\": \"/api/v1/namespaces/secret\",\n",
      "        \"uid\": \"7d49d16a-33d0-4d1f-b818-a866f79f69d9\"\n",
      "    },\n",
      "    \"spec\": {\n",
      "        \"finalizers\": [\n",
      "            \"kubernetes\"\n",
      "        ]\n",
      "    },\n",
      "    \"status\": {\n",
      "        \"phase\": \"Active\"\n",
      "    }\n",
      "}\n"
     ]
    }
   ],
   "source": [
    "%%bash\n",
    "kubectl get ns secret -o yaml\n",
    "kubectl get ns secret -o json"
   ]
  },
  {
   "cell_type": "markdown",
   "metadata": {},
   "source": [
    "# Replica Sets\n",
    "- The pod is the most basic entity in Kubernetes\n",
    "- Replica sets come next and are used to determine the number of instances that are needed of a pod\n",
    "- Replica sets replace replication controllers  that were used in previous versions of Kubernetes\n",
    "- - Replication controller-based commands like **kubectl get rc** won't work anymore\n",
    "- Replication sets can be created directly, buit shouldn't use deployments instead\n",
    "- Applications that are launched through a deployment automatically create replica sets"
   ]
  },
  {
   "cell_type": "code",
   "execution_count": 23,
   "metadata": {},
   "outputs": [
    {
     "name": "stdout",
     "output_type": "stream",
     "text": [
      "deployment.apps/nginx-1 created\n"
     ]
    },
    {
     "name": "stderr",
     "output_type": "stream",
     "text": [
      "kubectl run --generator=deployment/apps.v1 is DEPRECATED and will be removed in a future version. Use kubectl run --generator=run-pod/v1 or kubectl create instead.\n"
     ]
    }
   ],
   "source": [
    "%%bash\n",
    "kubectl run nginx-1 --image=nginx"
   ]
  },
  {
   "cell_type": "code",
   "execution_count": 24,
   "metadata": {},
   "outputs": [
    {
     "name": "stdout",
     "output_type": "stream",
     "text": [
      "NAME      READY   UP-TO-DATE   AVAILABLE   AGE\n",
      "mynginx   2/2     2            2           3d19h\n",
      "nginx     1/1     1            1           74s\n",
      "nginx-1   1/1     1            1           35s\n"
     ]
    }
   ],
   "source": [
    "%%bash\n",
    "kubectl get deployments"
   ]
  },
  {
   "cell_type": "code",
   "execution_count": 25,
   "metadata": {},
   "outputs": [
    {
     "name": "stdout",
     "output_type": "stream",
     "text": [
      "NAME                 DESIRED   CURRENT   READY   AGE\n",
      "mynginx-8567cfb87c   2         2         2       3d19h\n",
      "nginx-1-75ff6fd8c7   1         1         1       45s\n",
      "nginx-7bb7cd8db5     1         1         1       84s\n"
     ]
    }
   ],
   "source": [
    "%%bash\n",
    "kubectl get rs"
   ]
  },
  {
   "cell_type": "markdown",
   "metadata": {},
   "source": [
    "Scaling up replica set using scale"
   ]
  },
  {
   "cell_type": "code",
   "execution_count": 26,
   "metadata": {},
   "outputs": [
    {
     "name": "stdout",
     "output_type": "stream",
     "text": [
      "Set a new size for a Deployment, ReplicaSet, Replication Controller, or StatefulSet.\n",
      "\n",
      " Scale also allows users to specify one or more preconditions for the scale action.\n",
      "\n",
      " If --current-replicas or --resource-version is specified, it is validated before the scale is attempted, and it is guaranteed that the precondition holds true when the scale is sent to the server.\n",
      "\n",
      "Examples:\n",
      "  # Scale a replicaset named 'foo' to 3.\n",
      "  kubectl scale --replicas=3 rs/foo\n",
      "  \n",
      "  # Scale a resource identified by type and name specified in \"foo.yaml\" to 3.\n",
      "  kubectl scale --replicas=3 -f foo.yaml\n",
      "  \n",
      "  # If the deployment named mysql's current size is 2, scale mysql to 3.\n",
      "  kubectl scale --current-replicas=2 --replicas=3 deployment/mysql\n",
      "  \n",
      "  # Scale multiple replication controllers.\n",
      "  kubectl scale --replicas=5 rc/foo rc/bar rc/baz\n",
      "  \n",
      "  # Scale statefulset named 'web' to 3.\n"
     ]
    }
   ],
   "source": [
    "%%bash\n",
    "kubectl scale --help | head -20 "
   ]
  },
  {
   "cell_type": "code",
   "execution_count": 29,
   "metadata": {},
   "outputs": [
    {
     "name": "stdout",
     "output_type": "stream",
     "text": [
      "replicaset.extensions/nginx-1-75ff6fd8c7 scaled\n"
     ]
    }
   ],
   "source": [
    "%%bash\n",
    "kubectl scale rs nginx-1-75ff6fd8c7 --replicas=3"
   ]
  },
  {
   "cell_type": "code",
   "execution_count": 32,
   "metadata": {},
   "outputs": [
    {
     "name": "stdout",
     "output_type": "stream",
     "text": [
      "NAME                 DESIRED   CURRENT   READY   AGE\n",
      "mynginx-8567cfb87c   2         2         2       3d19h\n",
      "nginx-1-75ff6fd8c7   1         1         1       4m44s\n",
      "nginx-7bb7cd8db5     1         1         1       5m23s\n"
     ]
    }
   ],
   "source": [
    "%%bash\n",
    "kubectl get rs"
   ]
  },
  {
   "cell_type": "markdown",
   "metadata": {},
   "source": [
    "This doens't work because scaling occurs at deployment level not replica level"
   ]
  },
  {
   "cell_type": "code",
   "execution_count": 33,
   "metadata": {},
   "outputs": [
    {
     "name": "stdout",
     "output_type": "stream",
     "text": [
      "deployment.extensions/nginx-1 scaled\n"
     ]
    }
   ],
   "source": [
    "%%bash\n",
    "kubectl scale --replicas=3 deployment nginx-1"
   ]
  },
  {
   "cell_type": "code",
   "execution_count": 34,
   "metadata": {},
   "outputs": [
    {
     "name": "stdout",
     "output_type": "stream",
     "text": [
      "NAME                 DESIRED   CURRENT   READY   AGE\n",
      "mynginx-8567cfb87c   2         2         2       3d19h\n",
      "nginx-1-75ff6fd8c7   3         3         3       6m42s\n",
      "nginx-7bb7cd8db5     1         1         1       7m21s\n"
     ]
    }
   ],
   "source": [
    "%%bash\n",
    "kubectl get rs"
   ]
  },
  {
   "cell_type": "markdown",
   "metadata": {},
   "source": [
    "# Deployments\n",
    "- Deployments are used to create and automate replica sets\n",
    "- Deployments instruct the cluster how to create and scale applications\n",
    "- Deployment controller will monitor instances of an application\n",
    "- Deployments allow for the creation of multiple replica sets for rolling updates or rollbacks"
   ]
  },
  {
   "cell_type": "code",
   "execution_count": 35,
   "metadata": {},
   "outputs": [
    {
     "name": "stdout",
     "output_type": "stream",
     "text": [
      "NAME                           READY   STATUS    RESTARTS   AGE\n",
      "pod/apache                     1/1     Running   10         10h\n",
      "pod/busybox                    1/1     Running   10         11h\n",
      "pod/mynginx-8567cfb87c-892xw   1/1     Running   2          3d19h\n",
      "pod/mynginx-8567cfb87c-8mxhw   1/1     Running   2          3d19h\n",
      "pod/nginx-1-75ff6fd8c7-2zf4f   1/1     Running   0          19m\n",
      "pod/nginx-1-75ff6fd8c7-4p6ch   1/1     Running   0          19m\n",
      "pod/nginx-1-75ff6fd8c7-6cdvb   1/1     Running   0          25m\n",
      "pod/nginx-7bb7cd8db5-s59kh     1/1     Running   0          26m\n",
      "NAME                 TYPE        CLUSTER-IP   EXTERNAL-IP   PORT(S)   AGE\n",
      "service/kubernetes   ClusterIP   10.96.0.1    <none>        443/TCP   4d1h\n",
      "NAME                      READY   UP-TO-DATE   AVAILABLE   AGE\n",
      "deployment.apps/mynginx   2/2     2            2           3d19h\n",
      "deployment.apps/nginx     1/1     1            1           26m\n",
      "deployment.apps/nginx-1   3/3     3            3           25m\n",
      "NAME                                 DESIRED   CURRENT   READY   AGE\n",
      "replicaset.apps/mynginx-8567cfb87c   2         2         2       3d19h\n",
      "replicaset.apps/nginx-1-75ff6fd8c7   3         3         3       25m\n",
      "replicaset.apps/nginx-7bb7cd8db5     1         1         1       26m\n"
     ]
    },
    {
     "name": "stderr",
     "output_type": "stream",
     "text": [
      "\n",
      "\n",
      "\n",
      "\n",
      "\n",
      "\n",
      "\n",
      "\n",
      "\n"
     ]
    }
   ],
   "source": [
    "%%bash\n",
    "kubectl get all"
   ]
  },
  {
   "cell_type": "code",
   "execution_count": 36,
   "metadata": {},
   "outputs": [
    {
     "name": "stdout",
     "output_type": "stream",
     "text": [
      "NAME      READY   UP-TO-DATE   AVAILABLE   AGE\n",
      "mynginx   2/2     2            2           3d19h\n",
      "nginx     1/1     1            1           27m\n",
      "nginx-1   3/3     3            3           26m\n"
     ]
    }
   ],
   "source": [
    "%%bash\n",
    "kubectl get deployments"
   ]
  },
  {
   "cell_type": "code",
   "execution_count": 55,
   "metadata": {},
   "outputs": [
    {
     "name": "stdout",
     "output_type": "stream",
     "text": [
      "nginx-1-75ff6fd8c7-2zf4f   1/1     Running   0          26m\n",
      "nginx-1-75ff6fd8c7-4p6ch   1/1     Running   0          26m\n",
      "nginx-1-75ff6fd8c7-6cdvb   1/1     Running   0          33m\n"
     ]
    }
   ],
   "source": [
    "%%bash\n",
    "kubectl get pods | grep nginx-1"
   ]
  },
  {
   "cell_type": "code",
   "execution_count": 57,
   "metadata": {},
   "outputs": [
    {
     "name": "stdout",
     "output_type": "stream",
     "text": [
      "deployment.extensions \"nginx-1\" deleted\n"
     ]
    }
   ],
   "source": [
    "%%bash\n",
    "kubectl delete deployments nginx-1"
   ]
  },
  {
   "cell_type": "markdown",
   "metadata": {},
   "source": [
    "## Lab: Running a Deployment\n",
    "- Start a deployment that runs any application you like\n",
    "- Use the appropriate commands to verify the availability of the deployment, replica sets as well as pods\n",
    "- Analyze the YAML code that was used to generate the deployment\n",
    "- Open the web dashboard and see which objects have been created\n",
    "- Use kubectl logs to show all logs from the deployment you've created in the last hour"
   ]
  },
  {
   "cell_type": "raw",
   "metadata": {},
   "source": [
    "// apache-deployment.yaml\n",
    "spec:\n",
    "  replicas: 3\n",
    "  selector:\n",
    "    matchLabels:\n",
    "      app: apache\n",
    "  template:\n",
    "    metadata:\n",
    "      name: apache\n",
    "      labels:\n",
    "        app: apache\n",
    "    spec:\n",
    "      containers:\n",
    "      - name: apache\n",
    "        image: httpd\n",
    "        command:\n",
    "          - sleep\n",
    "          - \"3600\""
   ]
  },
  {
   "cell_type": "code",
   "execution_count": 68,
   "metadata": {},
   "outputs": [
    {
     "name": "stdout",
     "output_type": "stream",
     "text": [
      "deployment.apps/apache created\n"
     ]
    }
   ],
   "source": [
    "%%bash\n",
    "cd yaml-files\n",
    "kubectl apply -f apache-deployment.yaml"
   ]
  },
  {
   "cell_type": "code",
   "execution_count": 69,
   "metadata": {},
   "outputs": [
    {
     "name": "stdout",
     "output_type": "stream",
     "text": [
      "NAME      READY   UP-TO-DATE   AVAILABLE   AGE\n",
      "apache    3/3     3            3           22s\n",
      "mynginx   2/2     2            2           3d20h\n",
      "nginx     1/1     1            1           66m\n",
      "NAME                       READY   STATUS    RESTARTS   AGE\n",
      "apache                     1/1     Running   11         11h\n",
      "apache-74484f7fc4-659bt    1/1     Running   0          22s\n",
      "apache-74484f7fc4-69l4r    1/1     Running   0          22s\n",
      "apache-74484f7fc4-xqqx5    1/1     Running   0          22s\n",
      "busybox                    1/1     Running   11         11h\n",
      "mynginx-8567cfb87c-892xw   1/1     Running   2          3d20h\n",
      "mynginx-8567cfb87c-8mxhw   1/1     Running   2          3d20h\n",
      "nginx-7bb7cd8db5-s59kh     1/1     Running   0          66m\n"
     ]
    }
   ],
   "source": [
    "%%bash\n",
    "kubectl get deployments\n",
    "kubectl get pods"
   ]
  },
  {
   "cell_type": "code",
   "execution_count": 81,
   "metadata": {},
   "outputs": [],
   "source": [
    "%%bash\n",
    "kubectl logs -lapp=apache --all-containers=true"
   ]
  },
  {
   "cell_type": "markdown",
   "metadata": {},
   "source": [
    "# Object Properties\n",
    "- When creating a pod or deployment, different properties are set\n",
    "- Use **kubectl describe pods /< name />** to see properties of a specific pod\n",
    "- Use **kubectl get {deployments|rs|pods} -o yaml** for an overview of all properties\n",
    "\n",
    "## Object Properties Section\n",
    "- The object properites are shown in different sections, which are listed under the items:\n",
    "- **apiVersion**: the most recetn version of the API that allows us to use this type\n",
    "- **kind**: the type of object\n",
    "- **metadata**: current object metadata, may include items not shown here such as **podAffinity** and **nodeAffinity**\n",
    "- **spec**: run-time parameters used by this object\n",
    "- **status**: current status information\n",
    "\n",
    "## Common Object Properties\n",
    "- **apiVersion**: the current version of the API\n",
    "- **list**: declaration of the list of items\n",
    "- **annotations**: additional information about the object\n",
    "- **creationTimestamp**: indicates when the object was created\n",
    "- **generation**: how many times this object has been edited\n",
    "- **labels**: strings that can bes used for further identification\n",
    "- **name**: anme of this object, set from the command line\n",
    "- **resourceVersion**: version of this object as maintained in the etcd database\n",
    "- **selfLink**: link to the location of this information in the API\n",
    "- **uid**: unique UID\n",
    "- **replicas**: number of replicas that is expected\n",
    "- **selector**: a collection of values that is used for determining availability of replicas\n",
    "- **matchLabels**: label that is used internally to determine where the resource should be scheduled\n",
    "- **strategy**: contains values about how to update pods\n",
    "- **maxSurge**: maximum additional number of pods that can be created. Can be higher than the desired number of pods to guarantee continued access before deleting old pods\n",
    "- **maxUnavailable**: the maximum number of pods that may be in an unavailable dstate\n",
    "- **type**: type of resource\n",
    "- ### **template**: data for the replicaset to determine how to deploy the object\n",
    "- ### **containers**: specifications for the econtainers that should be used\n",
    "- **resources**: may be used to set resource restrictions, such as limit on the number of CPUs or memory\n",
    "- **terminationMessagePath**: where to send log messages to\n",
    "- **terminationMessagePolicy**: how to deal with termination messages, defaults to \"file\"\n",
    "- **dnsPolicy**: determines how to deal with DNS messages. By default these will dbe handled by Kubernetes DNS and not local resolver\n",
    "- **restartPolicy**: what happens if the container gets killed\n",
    "- **schedulerName**: allows Kubernetes to use something else than the default Kubernetes schedduler\n",
    "- **securityContext**: allows for specification of security properties, such as SELinux context, suer or UID that the containers should use\n",
    "- **terminationGracePeriodSeconds**: how long it takes for a SIGKILL to kick in if the container is not terminated properly\n",
    "\n",
    "**(status parameters)**\n",
    "- **availableReplicas**: default number of replicas that has been specified\n",
    "- **observedGeneration**: shows how often the object has been updated"
   ]
  },
  {
   "cell_type": "code",
   "execution_count": 83,
   "metadata": {},
   "outputs": [
    {
     "name": "stdout",
     "output_type": "stream",
     "text": [
      "apiVersion: extensions/v1beta1\n",
      "kind: Deployment\n",
      "metadata:\n",
      "  annotations:\n",
      "    deployment.kubernetes.io/revision: \"1\"\n",
      "  creationTimestamp: \"2019-09-19T14:29:57Z\"\n",
      "  generation: 1\n",
      "  labels:\n",
      "    run: nginx\n",
      "  name: nginx\n",
      "  namespace: default\n",
      "  resourceVersion: \"168069\"\n",
      "  selfLink: /apis/extensions/v1beta1/namespaces/default/deployments/nginx\n",
      "  uid: c1806755-8f98-45c6-a22d-884a03d31edd\n",
      "spec:\n",
      "  progressDeadlineSeconds: 600\n",
      "  replicas: 1\n",
      "  revisionHistoryLimit: 10\n",
      "  selector:\n",
      "    matchLabels:\n",
      "      run: nginx\n",
      "  strategy:\n",
      "    rollingUpdate:\n",
      "      maxSurge: 25%\n",
      "      maxUnavailable: 25%\n",
      "    type: RollingUpdate\n",
      "  template:\n",
      "    metadata:\n",
      "      creationTimestamp: null\n",
      "      labels:\n",
      "        run: nginx\n",
      "    spec:\n",
      "      containers:\n",
      "      - image: nginx\n",
      "        imagePullPolicy: Always\n",
      "        name: nginx\n",
      "        resources: {}\n",
      "        terminationMessagePath: /dev/termination-log\n",
      "        terminationMessagePolicy: File\n",
      "      dnsPolicy: ClusterFirst\n",
      "      restartPolicy: Always\n",
      "      schedulerName: default-scheduler\n",
      "      securityContext: {}\n",
      "      terminationGracePeriodSeconds: 30\n",
      "status:\n",
      "  availableReplicas: 1\n",
      "  conditions:\n",
      "  - lastTransitionTime: \"2019-09-19T14:30:00Z\"\n",
      "    lastUpdateTime: \"2019-09-19T14:30:00Z\"\n",
      "    message: Deployment has minimum availability.\n",
      "    reason: MinimumReplicasAvailable\n",
      "    status: \"True\"\n",
      "    type: Available\n",
      "  - lastTransitionTime: \"2019-09-19T14:29:57Z\"\n",
      "    lastUpdateTime: \"2019-09-19T14:30:00Z\"\n",
      "    message: ReplicaSet \"nginx-7bb7cd8db5\" has successfully progressed.\n",
      "    reason: NewReplicaSetAvailable\n",
      "    status: \"True\"\n",
      "    type: Progressing\n",
      "  observedGeneration: 1\n",
      "  readyReplicas: 1\n",
      "  replicas: 1\n",
      "  updatedReplicas: 1\n"
     ]
    }
   ],
   "source": [
    "%%bash\n",
    "kubectl get deployments nginx -o yaml"
   ]
  },
  {
   "cell_type": "markdown",
   "metadata": {},
   "source": [
    "# Labels\n",
    "- A label is an arbitrary string that administrators can use to select or exclude objects\n",
    "- It is a convenient filtering tool\n",
    "- They can be used to group objects which do not have an obvious relation by themselves\n",
    "- Example labels:\n",
    "- - release: stable, release: beta\n",
    "- - environment: dev, environment: production\n",
    "- Labels can be used from the command line, or from YAML files to use nodeSelectors\n",
    "\n",
    "## nodeSelectors\n",
    "- **nodeSelector** can be used to identify nodes where a Pod is allowed to run\n",
    "- To use them, set labels to nodes, using **kubectl label node mynode disktype=hdd**\n",
    "- Verify using **kubectl get nodes --show-labels**\n",
    "- Add **nodeSelector** to your Pod specification"
   ]
  },
  {
   "cell_type": "raw",
   "metadata": {},
   "source": [
    "// example yaml file\n",
    "apiVersion: v1\n",
    "kind: Pod\n",
    "metadata:\n",
    "  name: cuda-test\n",
    "spec:\n",
    "  containers:\n",
    "    - name: cuda-test\n",
    "      image: \"k8s.gcr.io/cuda-vector-add:v0.1\n",
    "      resources:\n",
    "        limits:\n",
    "          nvidia.com/gpu:1\n",
    "  nodeSelector:\n",
    "    accelerator: nvidia-p100"
   ]
  },
  {
   "cell_type": "markdown",
   "metadata": {},
   "source": [
    "Since the nodeSelector is nvidia-p100, the node will one run on hardware with nvidia-p100\n",
    "\n",
    "## Setting Labels\n",
    "- **kubectl label pods \\< name \\> foo=bar**\n",
    "- **kubectl get pods --show-labels**\n",
    "- Set the label in the metadata section when creating an object"
   ]
  },
  {
   "cell_type": "raw",
   "metadata": {},
   "source": [
    "metadata:\n",
    "  name: frontend\n",
    "  labels:\n",
    "    app: guestbook\n",
    "    tier: frontend"
   ]
  },
  {
   "cell_type": "markdown",
   "metadata": {},
   "source": [
    "to get all the pods along with their labels **kubectl get pods -Lrun**"
   ]
  },
  {
   "cell_type": "code",
   "execution_count": 84,
   "metadata": {},
   "outputs": [
    {
     "name": "stdout",
     "output_type": "stream",
     "text": [
      "NAME                       READY   STATUS    RESTARTS   AGE     RUN\n",
      "apache                     1/1     Running   13         14h     \n",
      "apache-74484f7fc4-659bt    1/1     Running   2          176m    \n",
      "apache-74484f7fc4-69l4r    1/1     Running   2          176m    \n",
      "apache-74484f7fc4-xqqx5    1/1     Running   2          176m    \n",
      "busybox                    1/1     Running   13         14h     \n",
      "mynginx-8567cfb87c-892xw   1/1     Running   2          3d23h   \n",
      "mynginx-8567cfb87c-8mxhw   1/1     Running   2          3d23h   \n",
      "nginx-7bb7cd8db5-s59kh     1/1     Running   0          4h3m    nginx\n"
     ]
    }
   ],
   "source": [
    "%%bash\n",
    "kubectl get pods -Lrun"
   ]
  },
  {
   "cell_type": "code",
   "execution_count": 85,
   "metadata": {},
   "outputs": [
    {
     "name": "stdout",
     "output_type": "stream",
     "text": [
      "NAME                     READY   STATUS    RESTARTS   AGE\n",
      "nginx-7bb7cd8db5-s59kh   1/1     Running   0          4h3m\n"
     ]
    }
   ],
   "source": [
    "%%bash\n",
    "kubectl get pods -l run=nginx"
   ]
  },
  {
   "cell_type": "code",
   "execution_count": 88,
   "metadata": {},
   "outputs": [
    {
     "name": "stdout",
     "output_type": "stream",
     "text": [
      "apiVersion: v1\n",
      "items:\n",
      "- apiVersion: v1\n",
      "  kind: Pod\n",
      "  metadata:\n",
      "    creationTimestamp: \"2019-09-19T14:29:57Z\"\n",
      "    generateName: nginx-7bb7cd8db5-\n",
      "    labels:\n",
      "      pod-template-hash: 7bb7cd8db5\n",
      "      run: nginx\n",
      "    name: nginx-7bb7cd8db5-s59kh\n",
      "    namespace: default\n",
      "    ownerReferences:\n",
      "    - apiVersion: apps/v1\n",
      "      blockOwnerDeletion: true\n",
      "      controller: true\n",
      "      kind: ReplicaSet\n",
      "      name: nginx-7bb7cd8db5\n",
      "      uid: 060d00cb-c69d-44e8-9130-31a5e97f862a\n",
      "    resourceVersion: \"168067\"\n"
     ]
    }
   ],
   "source": [
    "%%bash\n",
    "kubectl get pods -l run=nginx -o yaml | head -20"
   ]
  },
  {
   "cell_type": "markdown",
   "metadata": {},
   "source": [
    "# Scaling Deployments\n",
    "- **kubectl scale deployment nginx --replicas=3**\n",
    "- - Notice that scaling deployments may fail because of limited availability of resources\n",
    "- **kubectl get deployment nginx -o json**\n",
    "- - Notice that different output formats are available, use **-o yaml** if you prefer seeing it in yaml, or **-o json** for json\n",
    "- - In the output, look for the labels; a run label is automatically added\n",
    "- **kubectl get pods -Lrun** filters on pods with the label running\n",
    "- - The run label is used to determine if sufficient replicas are available\n",
    "- - Remove one \"run\" label and you'll notice that a new pod will be created immediately\n",
    "- - User **kubectl label pods /< name /> run-** to remove the label run"
   ]
  },
  {
   "cell_type": "code",
   "execution_count": 89,
   "metadata": {},
   "outputs": [
    {
     "name": "stdout",
     "output_type": "stream",
     "text": [
      "deployment.extensions/nginx scaled\n"
     ]
    }
   ],
   "source": [
    "%%bash\n",
    "kubectl scale deployment nginx --replicas=3"
   ]
  },
  {
   "cell_type": "code",
   "execution_count": 90,
   "metadata": {},
   "outputs": [
    {
     "name": "stdout",
     "output_type": "stream",
     "text": [
      "NAME                     READY   STATUS    RESTARTS   AGE\n",
      "nginx-7bb7cd8db5-6vlgd   1/1     Running   0          24s\n",
      "nginx-7bb7cd8db5-kqmqq   1/1     Running   0          24s\n",
      "nginx-7bb7cd8db5-s59kh   1/1     Running   0          4h19m\n"
     ]
    }
   ],
   "source": [
    "%%bash\n",
    "kubectl get pods -l run=nginx"
   ]
  },
  {
   "cell_type": "code",
   "execution_count": 91,
   "metadata": {},
   "outputs": [
    {
     "name": "stdout",
     "output_type": "stream",
     "text": [
      "pod/nginx-7bb7cd8db5-s59kh labeled\n"
     ]
    }
   ],
   "source": [
    "%%bash\n",
    "kubectl label pods nginx-7bb7cd8db5-s59kh run-"
   ]
  },
  {
   "cell_type": "code",
   "execution_count": 93,
   "metadata": {},
   "outputs": [
    {
     "name": "stdout",
     "output_type": "stream",
     "text": [
      "NAME                       READY   STATUS    RESTARTS   AGE     RUN\n",
      "apache                     1/1     Running   13         14h     \n",
      "apache-74484f7fc4-659bt    1/1     Running   2          3h14m   \n",
      "apache-74484f7fc4-69l4r    1/1     Running   2          3h14m   \n",
      "apache-74484f7fc4-xqqx5    1/1     Running   2          3h14m   \n",
      "busybox                    1/1     Running   14         15h     \n",
      "mynginx-8567cfb87c-892xw   1/1     Running   2          3d23h   \n",
      "mynginx-8567cfb87c-8mxhw   1/1     Running   2          3d23h   \n",
      "nginx-7bb7cd8db5-6vlgd     1/1     Running   0          102s    nginx\n",
      "nginx-7bb7cd8db5-ct2d2     1/1     Running   0          33s     nginx\n",
      "nginx-7bb7cd8db5-kqmqq     1/1     Running   0          102s    nginx\n",
      "nginx-7bb7cd8db5-s59kh     1/1     Running   0          4h20m   \n"
     ]
    }
   ],
   "source": [
    "%%bash\n",
    "kubectl get pods -Lrun"
   ]
  },
  {
   "cell_type": "code",
   "execution_count": 95,
   "metadata": {},
   "outputs": [
    {
     "name": "stdout",
     "output_type": "stream",
     "text": [
      "pod/nginx-7bb7cd8db5-kqmqq labeled\n",
      "NAME                       READY   STATUS    RESTARTS   AGE     RUN\n",
      "apache                     1/1     Running   13         14h     \n",
      "apache-74484f7fc4-659bt    1/1     Running   2          3h16m   \n",
      "apache-74484f7fc4-69l4r    1/1     Running   2          3h16m   \n",
      "apache-74484f7fc4-xqqx5    1/1     Running   2          3h16m   \n",
      "busybox                    1/1     Running   14         15h     \n",
      "mynginx-8567cfb87c-892xw   1/1     Running   2          3d23h   \n",
      "mynginx-8567cfb87c-8mxhw   1/1     Running   2          3d23h   \n",
      "nginx-7bb7cd8db5-6vlgd     1/1     Running   0          3m17s   nginx\n",
      "nginx-7bb7cd8db5-9m92s     0/1     Pending   0          0s      nginx\n",
      "nginx-7bb7cd8db5-ct2d2     1/1     Running   0          2m8s    nginx\n",
      "nginx-7bb7cd8db5-kqmqq     1/1     Running   0          3m17s   \n",
      "nginx-7bb7cd8db5-s59kh     1/1     Running   0          4h22m   \n"
     ]
    }
   ],
   "source": [
    "%%bash\n",
    "kubectl label pods nginx-7bb7cd8db5-kqmqq run-; kubectl get pods -Lrun"
   ]
  },
  {
   "cell_type": "markdown",
   "metadata": {},
   "source": [
    "# Rolling Upgrades\n",
    "- A rolling update is a change of properties in a deployment that needs to be pushed to the pods\n",
    "- - Current number of replicas\n",
    "- - Any other property, like version of the image to use\n",
    "- Updates are rolling by nature, they will be applied pod after pos so the continuity of service can be guaranteed\n",
    "- Rolling Upgrades can be triggered by editing an object and changing a value"
   ]
  },
  {
   "cell_type": "markdown",
   "metadata": {},
   "source": [
    "# DaemonSet\n",
    "- DaemonSet is a controller that ensures that a single pod exists on each node in the cluster\n",
    "- - If a new ndoe is added, the DaemonSet controller will add a pod automatically\n",
    "- Rolling out a daemonset works like starting a deployment, just set **kind: DaemonSet** in the application YAML file"
   ]
  },
  {
   "cell_type": "markdown",
   "metadata": {},
   "source": [
    "# Rollback\n",
    "- Actions are stored in the object, so it's possible to perform rollbacks if that is required\n",
    "- Use **kubectl rollout history** for an overview of past activity\n",
    "- Failback using **kubectl rollout undo**\n",
    "- How rollback is applied, depends on the update strategy\n",
    "- - if set to OnDelete, it will be applied on deletion\n",
    "- - if set to RollingUpdate, it will be applied imediately"
   ]
  },
  {
   "cell_type": "code",
   "execution_count": 102,
   "metadata": {},
   "outputs": [
    {
     "name": "stdout",
     "output_type": "stream",
     "text": [
      "deployment.extensions/nginx \n",
      "REVISION  CHANGE-CAUSE\n",
      "1         <none>\n",
      "\n"
     ]
    }
   ],
   "source": [
    "%%bash\n",
    "kubectl rollout history deployment nginx"
   ]
  },
  {
   "cell_type": "code",
   "execution_count": 106,
   "metadata": {},
   "outputs": [
    {
     "name": "stdout",
     "output_type": "stream",
     "text": [
      "  strategy:\n",
      "    rollingUpdate:\n",
      "      maxSurge: 25%\n",
      "      maxUnavailable: 25%\n",
      "    type: RollingUpdate\n"
     ]
    }
   ],
   "source": [
    "%%bash\n",
    "kubectl get deployments nginx -o yaml | grep -i -A 4 strategy"
   ]
  },
  {
   "cell_type": "markdown",
   "metadata": {},
   "source": [
    "### performming rollout\n",
    "Change the image of our 'nginx' deployment to nginx:1.8.1-alpine"
   ]
  },
  {
   "cell_type": "code",
   "execution_count": 108,
   "metadata": {},
   "outputs": [
    {
     "name": "stdout",
     "output_type": "stream",
     "text": [
      "deployment.extensions/nginx image updated\n"
     ]
    }
   ],
   "source": [
    "%%bash\n",
    "kubectl set image deployment nginx nginx=nginx:1.8.1-alpine"
   ]
  },
  {
   "cell_type": "code",
   "execution_count": 109,
   "metadata": {},
   "outputs": [
    {
     "name": "stdout",
     "output_type": "stream",
     "text": [
      "    Image:          nginx:1.8.1-alpine\n",
      "    Image ID:       docker-pullable://nginx@sha256:c2a5ac30408999baabdc9b8e1d1aa2c404b6f441fab99b70d7aa1091144a2846\n",
      "  Normal  Pulling    2m33s  kubelet, minikube  Pulling image \"nginx:1.8.1-alpine\"\n",
      "  Normal  Pulled     2m32s  kubelet, minikube  Successfully pulled image \"nginx:1.8.1-alpine\"\n",
      "    Image:          nginx:1.8.1-alpine\n",
      "    Image ID:       docker-pullable://nginx@sha256:c2a5ac30408999baabdc9b8e1d1aa2c404b6f441fab99b70d7aa1091144a2846\n",
      "  Normal  Pulling    2m39s  kubelet, minikube  Pulling image \"nginx:1.8.1-alpine\"\n",
      "  Normal  Pulled     2m38s  kubelet, minikube  Successfully pulled image \"nginx:1.8.1-alpine\"\n",
      "    Image:          nginx:1.8.1-alpine\n",
      "    Image ID:       docker-pullable://nginx@sha256:c2a5ac30408999baabdc9b8e1d1aa2c404b6f441fab99b70d7aa1091144a2846\n",
      "  Normal  Pulling    2m48s  kubelet, minikube  Pulling image \"nginx:1.8.1-alpine\"\n",
      "  Normal  Pulled     2m42s  kubelet, minikube  Successfully pulled image \"nginx:1.8.1-alpine\"\n",
      "    Image:          nginx\n",
      "    Image ID:       docker-pullable://nginx@sha256:9688d0dae8812dd2437947b756393eb0779487e361aa2ffbc3a529dca61f102c\n",
      "    Image:          nginx\n",
      "    Image ID:       docker-pullable://nginx@sha256:9688d0dae8812dd2437947b756393eb0779487e361aa2ffbc3a529dca61f102c\n"
     ]
    }
   ],
   "source": [
    "%%bash\n",
    "kubectl describe pods nginx | grep -i image"
   ]
  },
  {
   "cell_type": "markdown",
   "metadata": {},
   "source": [
    "### Monitoring rollout history"
   ]
  },
  {
   "cell_type": "code",
   "execution_count": 110,
   "metadata": {},
   "outputs": [
    {
     "name": "stdout",
     "output_type": "stream",
     "text": [
      "deployment.extensions/nginx \n",
      "REVISION  CHANGE-CAUSE\n",
      "1         <none>\n",
      "2         <none>\n",
      "\n"
     ]
    }
   ],
   "source": [
    "%%bash\n",
    "kubectl rollout history deployment nginx"
   ]
  },
  {
   "cell_type": "code",
   "execution_count": 111,
   "metadata": {},
   "outputs": [
    {
     "name": "stdout",
     "output_type": "stream",
     "text": [
      "deployment.extensions/nginx with revision #1\n",
      "Pod Template:\n",
      "  Labels:\tpod-template-hash=7bb7cd8db5\n",
      "\trun=nginx\n",
      "  Containers:\n",
      "   nginx:\n",
      "    Image:\tnginx\n",
      "    Port:\t<none>\n",
      "    Host Port:\t<none>\n",
      "    Environment:\t<none>\n",
      "    Mounts:\t<none>\n",
      "  Volumes:\t<none>\n",
      "\n"
     ]
    }
   ],
   "source": [
    "%%bash\n",
    "kubectl rollout history deployment nginx --revision=1"
   ]
  },
  {
   "cell_type": "markdown",
   "metadata": {},
   "source": [
    "### Performing Rollback"
   ]
  },
  {
   "cell_type": "code",
   "execution_count": 112,
   "metadata": {},
   "outputs": [
    {
     "name": "stdout",
     "output_type": "stream",
     "text": [
      "deployment.extensions/nginx rolled back\n"
     ]
    }
   ],
   "source": [
    "%%bash\n",
    "kubectl rollout undo deployment nginx --to-revision=1"
   ]
  },
  {
   "cell_type": "code",
   "execution_count": 113,
   "metadata": {},
   "outputs": [
    {
     "name": "stdout",
     "output_type": "stream",
     "text": [
      "    Image:          nginx\n",
      "    Image ID:       docker-pullable://nginx@sha256:9688d0dae8812dd2437947b756393eb0779487e361aa2ffbc3a529dca61f102c\n",
      "  Normal  Pulling    22s   kubelet, minikube  Pulling image \"nginx\"\n",
      "  Normal  Pulled     21s   kubelet, minikube  Successfully pulled image \"nginx\"\n",
      "    Image:          nginx\n",
      "    Image ID:       docker-pullable://nginx@sha256:9688d0dae8812dd2437947b756393eb0779487e361aa2ffbc3a529dca61f102c\n",
      "  Normal  Pulling    26s   kubelet, minikube  Pulling image \"nginx\"\n",
      "  Normal  Pulled     25s   kubelet, minikube  Successfully pulled image \"nginx\"\n",
      "    Image:          nginx\n",
      "    Image ID:       docker-pullable://nginx@sha256:9688d0dae8812dd2437947b756393eb0779487e361aa2ffbc3a529dca61f102c\n",
      "    Image:          nginx\n",
      "    Image ID:       docker-pullable://nginx@sha256:9688d0dae8812dd2437947b756393eb0779487e361aa2ffbc3a529dca61f102c\n",
      "  Normal  Pulling    30s   kubelet, minikube  Pulling image \"nginx\"\n",
      "  Normal  Pulled     28s   kubelet, minikube  Successfully pulled image \"nginx\"\n",
      "    Image:          nginx\n",
      "    Image ID:       docker-pullable://nginx@sha256:9688d0dae8812dd2437947b756393eb0779487e361aa2ffbc3a529dca61f102c\n"
     ]
    }
   ],
   "source": [
    "%%bash\n",
    "kubectl describe pods nginx | grep -i image"
   ]
  },
  {
   "cell_type": "markdown",
   "metadata": {},
   "source": [
    "# Kubernetes Networking\n",
    "- Networking between containers within a Pod\n",
    "- Networking between pods\n",
    "- External exposure of services\n",
    "\n",
    "## Kubernetes Networking Needs\n",
    "- Connecting pods to other pods across nodes (East-west traffic)\n",
    "- Service discovery and load balancing\n",
    "- Exposing services for external clients (North-south traffic)\n",
    "- Segmenting networks to increase pod security\n",
    "\n",
    "## Intra-pod Communication Requirements\n",
    "- Communication between pods happen without NAT\n",
    "- All nodes running pods can communicate to all other nodes running pods without NAT\n",
    "- No IP masking: the IP that the pod sees is the same as how other pods see it\n",
    "\n",
    "<img src='screenshots/Intra-Pod-Networking.png'>"
   ]
  },
  {
   "cell_type": "markdown",
   "metadata": {},
   "source": [
    "## Networking Inside a Pod\n",
    "- Within the Pod, containers communicate directly to one another\n",
    "- This is internal communication, handled by Docker as Kubernetes uses the Pod as the lowest level entity\n",
    "- Docker offers host private networking, where a virtual bridge docker0 is created\n",
    "- For each container that Docker creates, a Virtual Ethernet Device is created and this is attached to the bridge\n",
    "- The eth0 within the container uses an IP address from docker0 bridge address range\n",
    "- As a result, Docker containers can communicate wo one another only if they're on the same host\n",
    "- This is also sconfigured on purpose, using network isolation through namespaces\n",
    "\n",
    "### Other Communication Options\n",
    "- As containers within a pod really are processes running on the same host, they can find each other via localhost\n",
    "- Other standard POSIX inter-process communication methods do apply as well\n",
    "- - System V semaphores\n",
    "- - POSIX shared memory\n",
    "\n",
    "\n",
    "Lets show the networking by the virtual bridge"
   ]
  },
  {
   "cell_type": "code",
   "execution_count": null,
   "metadata": {},
   "outputs": [],
   "source": [
    "%%bash\n",
    "minikube ssh\n",
    "brctl show"
   ]
  },
  {
   "cell_type": "markdown",
   "metadata": {},
   "source": [
    "### To Show the IP addresses of the Pods"
   ]
  },
  {
   "cell_type": "code",
   "execution_count": 1,
   "metadata": {},
   "outputs": [
    {
     "name": "stdout",
     "output_type": "stream",
     "text": [
      "NAME                       READY   STATUS    RESTARTS   AGE     IP            NODE       NOMINATED NODE   READINESS GATES\n",
      "apache                     1/1     Running   30         32h     172.17.0.9    minikube   <none>           <none>\n",
      "apache-74484f7fc4-659bt    1/1     Running   19         21h     172.17.0.11   minikube   <none>           <none>\n",
      "apache-74484f7fc4-69l4r    1/1     Running   19         21h     172.17.0.13   minikube   <none>           <none>\n",
      "apache-74484f7fc4-xqqx5    1/1     Running   19         21h     172.17.0.12   minikube   <none>           <none>\n",
      "busybox                    1/1     Running   31         33h     172.17.0.8    minikube   <none>           <none>\n",
      "mynginx-8567cfb87c-892xw   1/1     Running   2          4d17h   172.17.0.3    minikube   <none>           <none>\n",
      "mynginx-8567cfb87c-8mxhw   1/1     Running   2          4d17h   172.17.0.4    minikube   <none>           <none>\n",
      "nginx-7bb7cd8db5-6w5qw     1/1     Running   0          35m     172.17.0.17   minikube   <none>           <none>\n",
      "nginx-7bb7cd8db5-khvt6     1/1     Running   0          35m     172.17.0.16   minikube   <none>           <none>\n",
      "nginx-7bb7cd8db5-kqmqq     1/1     Running   0          18h     172.17.0.14   minikube   <none>           <none>\n",
      "nginx-7bb7cd8db5-pdl5v     1/1     Running   0          35m     172.17.0.15   minikube   <none>           <none>\n",
      "nginx-7bb7cd8db5-s59kh     1/1     Running   0          22h     172.17.0.2    minikube   <none>           <none>\n"
     ]
    }
   ],
   "source": [
    "%%bash\n",
    "kubectl get pods -o wide"
   ]
  },
  {
   "cell_type": "markdown",
   "metadata": {},
   "source": [
    "## Pod to Pod Networking\n",
    "\n",
    "### Understanding the CNI (Container Network Interface)\n",
    "- Kubernetes uses CNI plugins to implement Pod-to-Pod networking\n",
    "- CNI plugins provide 3 types of networking\n",
    "- - layer 2 (switching)\n",
    "- - layer 3 (routing)\n",
    "- - overlay networking\n",
    "\n",
    "### CNI Layer 2 Configuration\n",
    "- Pods and nodes see subnets used for pod IP addresses as a singler layer 2 domain\n",
    "- Pod-to-pod communication happens through ARP (Address Resolution Protocol)\n",
    "- In layer 2 you need a bridge plugin\n",
    "- Bridge plugin example:"
   ]
  },
  {
   "cell_type": "raw",
   "metadata": {},
   "source": [
    "{\n",
    "    \"name\": \"kubenet\",\n",
    "    \"type\": \"bridge\",\n",
    "    \"bridge\": \"kube-bridge\",\n",
    "    \"isDefaultGateway\": true,\n",
    "    \"ipam\": {\n",
    "        \"type\": \"host-local\",\n",
    "        \"subnet\": \"10.1.0.0/16\"\n",
    "    }\n",
    "}"
   ]
  },
  {
   "cell_type": "markdown",
   "metadata": {},
   "source": [
    "### CNI Layer 3 Configuration\n",
    "- A layer 2 configuration is not scalable. For scalability, use routing, not switching\n",
    "- To do so, different plugins are available\n",
    "- - The Flanner plugin is one of the most common, but others exists\n",
    "- - Consult documentation at kubernetes.io for more details\n",
    "\n",
    "### CNI Overlay Configurations\n",
    "- Overlay solutions can be used to define the network completely in software, and use encapsulation - which looks a lot like VPN - to send packets from one pod to another pod\n",
    "- To use encapsulation, a tunnel interface is needed\n",
    "- Common encapsulation mechanisms such as VXLAN, GRE and more can be used to do so\n",
    "\n",
    "<img src='screenshots/Container-Network-Interface.png'>"
   ]
  },
  {
   "cell_type": "markdown",
   "metadata": {},
   "source": [
    "## Exposing Services\n",
    "- To expose functionality externally, services can be used\n",
    "- A service refers to a set of pods which is based on labels\n",
    "- Services work with publicly accessible IP addresses"
   ]
  },
  {
   "cell_type": "markdown",
   "metadata": {},
   "source": [
    "## Lab: Exploring Network Configuration\n",
    "Explore Kubernetes networking all the way down the stack, and make sure to answer the following questions\n",
    "- - Which network devices does Kubernetes create on the nodes?\n",
    "- - Which network devices does Docker create on the nodes?\n",
    "- - Which IP addresses are used by your pods?\n",
    "- - Whcih IP addresses are used by the containers in your pods?"
   ]
  },
  {
   "cell_type": "code",
   "execution_count": null,
   "metadata": {},
   "outputs": [],
   "source": [
    "%%bash\n",
    "// answer\n",
    "minikube ssh\n",
    "su -\n",
    "brctl\n",
    "brctl show\n",
    "docker ps\n",
    "docker ps | wc\n",
    "docker inspect <container id>\n",
    "for i in $(docker ps | awk '{ print $1 }'); \n",
    "do docker inspect -f '{{ .NetworkSettings.IPAddress }}' $i; \n",
    "done\n",
    "\n",
    "exit\n",
    "exit\n",
    "\n",
    "kubectl get pods -o wide"
   ]
  },
  {
   "cell_type": "markdown",
   "metadata": {},
   "source": [
    "# Accessing Pods\n",
    "\n",
    "## Using Kubernetes Proxy\n",
    "- Kubernetes Proxy can be used to access a Kubernetes service locally without exposing it\n",
    "- After starting kubectl proxy, the service is accessible on the host where **kubectl proxy** was started\n",
    "- - Start as a background process, or it will occupy the current shell\n",
    "- To access a service usingthe proxy, use the API URL\n",
    "- - **curl http://localhost:8001/api/v1/namespaces/default/services/ghost: \\< ghost-port \\>**"
   ]
  },
  {
   "cell_type": "code",
   "execution_count": null,
   "metadata": {},
   "outputs": [],
   "source": [
    "%%bash\n",
    "kubectl proxy &\n",
    "echo \"\""
   ]
  },
  {
   "cell_type": "code",
   "execution_count": null,
   "metadata": {},
   "outputs": [],
   "source": [
    "%%bash\n",
    "curl http://localhost:8001/version"
   ]
  },
  {
   "cell_type": "code",
   "execution_count": 9,
   "metadata": {},
   "outputs": [
    {
     "name": "stdout",
     "output_type": "stream",
     "text": [
      "{\n",
      "  \"kind\": \"APIResourceList\",\n",
      "  \"groupVersion\": \"v1\",\n",
      "  \"resources\": [\n",
      "    {\n",
      "      \"name\": \"bindings\",\n",
      "      \"singularName\": \"\",\n",
      "      \"namespaced\": true,\n",
      "      \"kind\": \"Binding\",\n",
      "      \"verbs\": [\n",
      "        \"create\"\n",
      "      ]\n",
      "    },\n",
      "    {\n",
      "      \"name\": \"componentstatuses\",\n",
      "      \"singularName\": \"\",\n",
      "      \"namespaced\": false,\n",
      "      \"kind\": \"ComponentStatus\",\n",
      "      \"verbs\": [\n",
      "        \"get\",\n"
     ]
    },
    {
     "name": "stderr",
     "output_type": "stream",
     "text": [
      "  % Total    % Received % Xferd  Average Speed   Time    Time     Time  Current\n",
      "                                 Dload  Upload   Total   Spent    Left  Speed\n",
      "100 10098    0 10098    0     0   896k      0 --:--:-- --:--:-- --:--:--  986k\n"
     ]
    }
   ],
   "source": [
    "%%bash\n",
    "curl http://localhost:8001/api/v1 | head -20 "
   ]
  },
  {
   "cell_type": "code",
   "execution_count": 14,
   "metadata": {},
   "outputs": [
    {
     "name": "stdout",
     "output_type": "stream",
     "text": [
      "{\n",
      "  \"kind\": \"ServiceList\",\n",
      "  \"apiVersion\": \"v1\",\n",
      "  \"metadata\": {\n",
      "    \"selfLink\": \"/api/v1/namespaces/default/services\",\n",
      "    \"resourceVersion\": \"272988\"\n",
      "  },\n",
      "  \"items\": [\n",
      "    {\n",
      "      \"metadata\": {\n",
      "        \"name\": \"kubernetes\",\n",
      "        \"namespace\": \"default\",\n",
      "        \"selfLink\": \"/api/v1/namespaces/default/services/kubernetes\",\n",
      "        \"uid\": \"695bf662-0df3-41ee-8b12-58d9290a3655\",\n",
      "        \"resourceVersion\": \"154\",\n",
      "        \"creationTimestamp\": \"2019-09-15T13:15:46Z\",\n",
      "        \"labels\": {\n",
      "          \"component\": \"apiserver\",\n",
      "          \"provider\": \"kubernetes\"\n",
      "        }\n",
      "      },\n",
      "      \"spec\": {\n",
      "        \"ports\": [\n",
      "          {\n",
      "            \"name\": \"https\",\n",
      "            \"protocol\": \"TCP\",\n",
      "            \"port\": 443,\n",
      "            \"targetPort\": 8443\n",
      "          }\n",
      "        ],\n"
     ]
    },
    {
     "name": "stderr",
     "output_type": "stream",
     "text": [
      "  % Total    % Received % Xferd  Average Speed   Time    Time     Time  Current\n",
      "                                 Dload  Upload   Total   Spent    Left  Speed\n",
      "100   956  100   956    0     0  79666      0 --:--:-- --:--:-- --:--:-- 79666\n"
     ]
    }
   ],
   "source": [
    "%%bash\n",
    "curl http://localhost:8001/api/v1/namespaces/default/services | head -30"
   ]
  },
  {
   "cell_type": "markdown",
   "metadata": {},
   "source": [
    "## User Port Forwarding\n",
    "- Port forwarding provides an easy way to connect to services running in the pod\n",
    "- The exposed port will be available on the Kubernetes management workstation\n",
    "- **kubectl port-forward http 8000:80 &** forwards port 80 on the pod httpd to port 8000 on localhost"
   ]
  },
  {
   "cell_type": "code",
   "execution_count": 22,
   "metadata": {},
   "outputs": [
    {
     "name": "stdout",
     "output_type": "stream",
     "text": [
      "deployment.apps/http created\n"
     ]
    },
    {
     "name": "stderr",
     "output_type": "stream",
     "text": [
      "kubectl run --generator=deployment/apps.v1 is DEPRECATED and will be removed in a future version. Use kubectl run --generator=run-pod/v1 or kubectl create instead.\n"
     ]
    }
   ],
   "source": [
    "%%bash\n",
    "kubectl run http --image=httpd"
   ]
  },
  {
   "cell_type": "code",
   "execution_count": 24,
   "metadata": {},
   "outputs": [
    {
     "name": "stdout",
     "output_type": "stream",
     "text": [
      "NAME      READY   UP-TO-DATE   AVAILABLE   AGE\n",
      "apache    3/3     3            3           25h\n",
      "http      1/1     1            1           2m58s\n",
      "mynginx   2/2     2            2           4d21h\n",
      "nginx     3/3     3            3           26h\n",
      "NAME                       READY   STATUS    RESTARTS   AGE\n",
      "apache                     1/1     Running   34         37h\n",
      "apache-74484f7fc4-659bt    1/1     Running   22         25h\n",
      "apache-74484f7fc4-69l4r    1/1     Running   22         25h\n",
      "apache-74484f7fc4-xqqx5    1/1     Running   22         25h\n",
      "busybox                    1/1     Running   34         37h\n",
      "http-7b99698fc5-shwgm      1/1     Running   0          2m58s\n",
      "mynginx-8567cfb87c-892xw   1/1     Running   2          4d21h\n",
      "mynginx-8567cfb87c-8mxhw   1/1     Running   2          4d21h\n",
      "nginx-7bb7cd8db5-6w5qw     1/1     Running   0          4h52m\n",
      "nginx-7bb7cd8db5-khvt6     1/1     Running   0          4h52m\n",
      "nginx-7bb7cd8db5-kqmqq     1/1     Running   0          22h\n",
      "nginx-7bb7cd8db5-pdl5v     1/1     Running   0          4h52m\n",
      "nginx-7bb7cd8db5-s59kh     1/1     Running   0          26h\n"
     ]
    }
   ],
   "source": [
    "%%bash\n",
    "kubectl get deployments\n",
    "kubectl get pods"
   ]
  },
  {
   "cell_type": "code",
   "execution_count": null,
   "metadata": {},
   "outputs": [],
   "source": [
    "%%bash\n",
    "kubectl port-forward http-7b99698fc5-shwgm 8000:80 &\n",
    "echo \"\""
   ]
  },
  {
   "cell_type": "code",
   "execution_count": 3,
   "metadata": {},
   "outputs": [
    {
     "name": "stdout",
     "output_type": "stream",
     "text": [
      "<html><body><h1>It works!</h1></body></html>\n"
     ]
    },
    {
     "name": "stderr",
     "output_type": "stream",
     "text": [
      "  % Total    % Received % Xferd  Average Speed   Time    Time     Time  Current\n",
      "                                 Dload  Upload   Total   Spent    Left  Speed\n",
      "100    45  100    45    0     0   1451      0 --:--:-- --:--:-- --:--:--  1451\n"
     ]
    }
   ],
   "source": [
    "%%bash\n",
    "curl localhost:8000"
   ]
  },
  {
   "cell_type": "markdown",
   "metadata": {},
   "source": [
    "## Using Services\n",
    "- Anything running in a pod is for internal use only. To expose containers in a pod to the outside world, you'll need services\n",
    "- Also, services provide a higher level of flexibility in making sure that containers are available\n",
    "- A default service is created for Kubernetes, custom services can be created using **kubectl expose**\n",
    "- Label selectors can be used to determine which pods are added to a service\n",
    "- - Labels make working with services more flexible and intuitive, it's not mandatory to use them\n",
    "\n",
    "### Creating Services\n",
    "- Before you can put a pod in a service, it's a good idea to set a label\n",
    "- - Use **kubectl describe pod http** and look for the label section, it contains key-value pairs that can be used\n",
    "- - Set the label using **kubectl label pod httpd dept=sales**\n",
    "- Expose pods to services, using **kubectl expose pod httpd --type=\"NodePort\" --port=80**\n",
    "- - Pods, deployments, replication sets and replication controllers can be exposed\n",
    "- - It's also possible to expose a service through a second service\n",
    "- Use **kubectl get services** to verify that a pod has been exposed\n",
    "- **kubectl delete services \\< name \\>** will un-expose it\n",
    "- Deleting a service does not delete the pod, it just un-expose it"
   ]
  },
  {
   "cell_type": "code",
   "execution_count": 4,
   "metadata": {},
   "outputs": [
    {
     "name": "stdout",
     "output_type": "stream",
     "text": [
      "NAME      READY   UP-TO-DATE   AVAILABLE   AGE\n",
      "apache    3/3     3            3           26h\n",
      "http      1/1     1            1           44m\n",
      "mynginx   2/2     2            2           4d22h\n",
      "nginx     3/3     3            3           27h\n"
     ]
    }
   ],
   "source": [
    "%%bash\n",
    "kubectl get deployments"
   ]
  },
  {
   "cell_type": "code",
   "execution_count": 5,
   "metadata": {},
   "outputs": [
    {
     "name": "stdout",
     "output_type": "stream",
     "text": [
      "NAME         TYPE        CLUSTER-IP   EXTERNAL-IP   PORT(S)   AGE\n",
      "kubernetes   ClusterIP   10.96.0.1    <none>        443/TCP   5d4h\n"
     ]
    }
   ],
   "source": [
    "%%bash\n",
    "kubectl get services"
   ]
  },
  {
   "cell_type": "code",
   "execution_count": 7,
   "metadata": {},
   "outputs": [
    {
     "name": "stdout",
     "output_type": "stream",
     "text": [
      "service/http exposed\n"
     ]
    }
   ],
   "source": [
    "%%bash\n",
    "kubectl expose deployment http --port=80 --type=NodePort"
   ]
  },
  {
   "cell_type": "code",
   "execution_count": 8,
   "metadata": {},
   "outputs": [
    {
     "name": "stdout",
     "output_type": "stream",
     "text": [
      "NAME         TYPE        CLUSTER-IP      EXTERNAL-IP   PORT(S)        AGE\n",
      "http         NodePort    10.100.161.38   <none>        80:32195/TCP   31s\n",
      "kubernetes   ClusterIP   10.96.0.1       <none>        443/TCP        5d4h\n"
     ]
    }
   ],
   "source": [
    "%%bash\n",
    "kubectl get services"
   ]
  },
  {
   "cell_type": "code",
   "execution_count": 12,
   "metadata": {},
   "outputs": [
    {
     "name": "stdout",
     "output_type": "stream",
     "text": [
      "apiVersion: v1\n",
      "kind: Service\n",
      "metadata:\n",
      "  creationTimestamp: \"2019-09-20T18:15:14Z\"\n",
      "  labels:\n",
      "    run: http\n",
      "  name: http\n",
      "  namespace: default\n",
      "  resourceVersion: \"278880\"\n",
      "  selfLink: /api/v1/namespaces/default/services/http\n",
      "  uid: 4250db4b-e592-46a7-84bd-c5b6107a187e\n",
      "spec:\n",
      "  clusterIP: 10.100.161.38\n",
      "  externalTrafficPolicy: Cluster\n",
      "  ports:\n",
      "  - nodePort: 32195\n",
      "    port: 80\n",
      "    protocol: TCP\n",
      "    targetPort: 80\n",
      "  selector:\n",
      "    run: http\n",
      "  sessionAffinity: None\n",
      "  type: NodePort\n",
      "status:\n",
      "  loadBalancer: {}\n"
     ]
    }
   ],
   "source": [
    "%%bash\n",
    "kubectl get services http -o yaml"
   ]
  },
  {
   "cell_type": "code",
   "execution_count": null,
   "metadata": {},
   "outputs": [],
   "source": [
    "%%bash\n",
    "# library to handle json\n",
    "sudo apt-get install jq"
   ]
  },
  {
   "cell_type": "code",
   "execution_count": 63,
   "metadata": {},
   "outputs": [
    {
     "name": "stdout",
     "output_type": "stream",
     "text": [
      "<html><body><h1>It works!</h1></body></html>\n"
     ]
    },
    {
     "name": "stderr",
     "output_type": "stream",
     "text": [
      "  % Total    % Received % Xferd  Average Speed   Time    Time     Time  Current\n",
      "                                 Dload  Upload   Total   Spent    Left  Speed\n",
      "100    45  100    45    0     0  45000      0 --:--:-- --:--:-- --:--:-- 45000\n"
     ]
    }
   ],
   "source": [
    "%%bash\n",
    "mip=`minikube ip`\n",
    "nodeport=`kubectl get services http -o json | jq -r '.spec.ports[0].nodePort'`\n",
    "curl ${mip}:${nodeport}"
   ]
  },
  {
   "cell_type": "code",
   "execution_count": 67,
   "metadata": {},
   "outputs": [
    {
     "name": "stdout",
     "output_type": "stream",
     "text": [
      "service \"http\" deleted\n"
     ]
    }
   ],
   "source": [
    "%%bash\n",
    "kubectl delete service http"
   ]
  },
  {
   "cell_type": "markdown",
   "metadata": {},
   "source": [
    "## DNS in Kubernetes Services\n",
    "- With services exposing themselves on dynamic ports, resolving service names is challenging\n",
    "- As a solution, DNS is included by default in the Kubernetes platforms\n",
    "- As a result, DNS name lookup from within a pod to an exposed service happens automatically"
   ]
  },
  {
   "cell_type": "code",
   "execution_count": 68,
   "metadata": {},
   "outputs": [
    {
     "name": "stdout",
     "output_type": "stream",
     "text": [
      "service/http exposed\n"
     ]
    }
   ],
   "source": [
    "%%bash\n",
    "kubectl expose deployment http --port=80 --type=NodePort"
   ]
  },
  {
   "cell_type": "markdown",
   "metadata": {},
   "source": [
    "since latest busybox have trouble with nslookup at this point we revert busybox back to 1.28 version, it is done on the yaml file"
   ]
  },
  {
   "cell_type": "code",
   "execution_count": null,
   "metadata": {},
   "outputs": [],
   "source": [
    "%%bash\n",
    "kubectl delete pod busybox\n",
    "kubectl create -f busybox.yaml"
   ]
  },
  {
   "cell_type": "code",
   "execution_count": 69,
   "metadata": {},
   "outputs": [
    {
     "name": "stdout",
     "output_type": "stream",
     "text": [
      "Server:    10.96.0.10\n",
      "Address 1: 10.96.0.10 kube-dns.kube-system.svc.cluster.local\n",
      "\n",
      "Name:      http\n",
      "Address 1: 10.107.67.207 http.default.svc.cluster.local\n"
     ]
    },
    {
     "name": "stderr",
     "output_type": "stream",
     "text": [
      "Unable to use a TTY - input is not a terminal or the right kind of file\n"
     ]
    }
   ],
   "source": [
    "%%bash\n",
    "kubectl exec -it busybox -- nslookup http"
   ]
  },
  {
   "cell_type": "markdown",
   "metadata": {},
   "source": [
    "### Understanding DNS Implementation\n",
    "- Kubernetes provides a kube-dns pod that had 3 containers implement the DNS service\n",
    "- The DNS server and the DNS domain that the cluster is using are provided as startup options of the kubelet process\n",
    "- - Optionally, add --resov-conf to the Kubelet to use alternative DNS servers"
   ]
  },
  {
   "cell_type": "code",
   "execution_count": null,
   "metadata": {},
   "outputs": [],
   "source": [
    "%%bash\n",
    "minikube ssh\n",
    "docker ps -a | grep dns\n",
    "ps aux | grep dns\n",
    "exit"
   ]
  },
  {
   "cell_type": "code",
   "execution_count": 70,
   "metadata": {},
   "outputs": [
    {
     "name": "stdout",
     "output_type": "stream",
     "text": [
      "nameserver 10.96.0.10\n",
      "search default.svc.cluster.local svc.cluster.local cluster.local\n",
      "options ndots:5\n"
     ]
    }
   ],
   "source": [
    "%%bash\n",
    "kubectl exec busybox cat /etc/resolv.conf"
   ]
  },
  {
   "cell_type": "markdown",
   "metadata": {},
   "source": [
    "## Service Types\n",
    "service types determine how srevices are accessed\n",
    "- **ClusterIP**: default, provides internal access only by exposing the service on a cluster-internal IP\n",
    "- **NodePort**: exposes a port on Kubernetes hosts\n",
    "- - When using NodePort, each node will proxy that port into the Service\n",
    "- **LoadBalancer**: available in public cloud solutions. Can be used in private cloud if Kubenetes provides a plugin for that cloud type"
   ]
  },
  {
   "cell_type": "markdown",
   "metadata": {},
   "source": [
    "## Ingress\n",
    "- ### Ingress can be used to give services externally reachable URLs\n",
    "- An Ingress controller is required for offering Ingress services\n",
    "- Any service that can be used as reversed proxy can be used as Ingress controller\n",
    "- - Currently, best support is available for the Nginx controller\n",
    "- To enable Ingress on Minikube use **minikube addons enable ingress**\n",
    "- Notice that Ingress is currently beta and further development is expected\n",
    "- - Check https://kubernetes.io/docs/concepts/services-networking/ingress/ for up to date information"
   ]
  },
  {
   "cell_type": "raw",
   "metadata": {},
   "source": [
    "// ingress.yaml Example\n",
    "apiVersion: extensions/v1beta1\n",
    "kind: Ingress\n",
    "metadata:\n",
    "  name: nginx-ingress\n",
    "  annotations:\n",
    "    ingress.kubernetes.io/rewrite-target: /\n",
    "spec:\n",
    "  rules:\n",
    "  - host:\n",
    "    http:\n",
    "      paths:\n",
    "      - path: /nginx\n",
    "        backend:\n",
    "          serviceName: nginx\n",
    "          servicePort: 80"
   ]
  },
  {
   "cell_type": "markdown",
   "metadata": {},
   "source": [
    "### Using Ingress\n",
    "- Verify service availability\n",
    "- Create an Ingress YAML file\n",
    "- Add teh Ingress object to the API\n",
    "- Access the service usign the Ingress rule"
   ]
  },
  {
   "cell_type": "markdown",
   "metadata": {},
   "source": [
    "To check if ingress is enabled"
   ]
  },
  {
   "cell_type": "code",
   "execution_count": 1,
   "metadata": {},
   "outputs": [
    {
     "name": "stdout",
     "output_type": "stream",
     "text": [
      "- addon-manager: enabled\n",
      "- dashboard: enabled\n",
      "- default-storageclass: enabled\n",
      "- efk: disabled\n",
      "- freshpod: disabled\n",
      "- gvisor: disabled\n",
      "- heapster: disabled\n",
      "- ingress: disabled\n",
      "- logviewer: disabled\n",
      "- metrics-server: disabled\n",
      "- nvidia-driver-installer: disabled\n",
      "- nvidia-gpu-device-plugin: disabled\n",
      "- registry: disabled\n",
      "- registry-creds: disabled\n",
      "- storage-provisioner: enabled\n",
      "- storage-provisioner-gluster: disabled\n"
     ]
    }
   ],
   "source": [
    "%%bash\n",
    "minikube addons list"
   ]
  },
  {
   "cell_type": "markdown",
   "metadata": {},
   "source": [
    "Since it is disabled, we will enable it"
   ]
  },
  {
   "cell_type": "code",
   "execution_count": 2,
   "metadata": {},
   "outputs": [
    {
     "name": "stdout",
     "output_type": "stream",
     "text": [
      "* ingress was successfully enabled\n"
     ]
    }
   ],
   "source": [
    "%%bash\n",
    "minikube addons enable ingress"
   ]
  },
  {
   "cell_type": "code",
   "execution_count": 3,
   "metadata": {},
   "outputs": [
    {
     "name": "stdout",
     "output_type": "stream",
     "text": [
      "- addon-manager: enabled\n",
      "- dashboard: enabled\n",
      "- default-storageclass: enabled\n",
      "- efk: disabled\n",
      "- freshpod: disabled\n",
      "- gvisor: disabled\n",
      "- heapster: disabled\n",
      "- ingress: enabled\n",
      "- logviewer: disabled\n",
      "- metrics-server: disabled\n",
      "- nvidia-driver-installer: disabled\n",
      "- nvidia-gpu-device-plugin: disabled\n",
      "- registry: disabled\n",
      "- registry-creds: disabled\n",
      "- storage-provisioner: enabled\n",
      "- storage-provisioner-gluster: disabled\n"
     ]
    }
   ],
   "source": [
    "%%bash\n",
    "minikube addons list"
   ]
  },
  {
   "cell_type": "code",
   "execution_count": 5,
   "metadata": {},
   "outputs": [
    {
     "name": "stdout",
     "output_type": "stream",
     "text": [
      "NAME         TYPE        CLUSTER-IP      EXTERNAL-IP   PORT(S)        AGE\n",
      "http         NodePort    10.107.67.207   <none>        80:31002/TCP   2d6h\n",
      "kubernetes   ClusterIP   10.96.0.1       <none>        443/TCP        7d12h\n",
      "NAME                       READY   STATUS             RESTARTS   AGE\n",
      "apache                     1/1     Running            49         3d22h\n",
      "apache-74484f7fc4-659bt    1/1     Running            38         3d10h\n",
      "apache-74484f7fc4-69l4r    1/1     Running            38         3d10h\n",
      "apache-74484f7fc4-xqqx5    1/1     Running            38         3d10h\n",
      "busybox                    1/1     Running            13         2d4h\n",
      "busybox-f8b8d9598-jm7st    0/1     CrashLoopBackOff   166        2d6h\n",
      "http-7b99698fc5-shwgm      1/1     Running            1          2d8h\n",
      "mynginx-8567cfb87c-892xw   1/1     Running            3          7d6h\n",
      "mynginx-8567cfb87c-8mxhw   1/1     Running            3          7d6h\n",
      "nginx-7bb7cd8db5-6w5qw     1/1     Running            1          2d13h\n",
      "nginx-7bb7cd8db5-khvt6     1/1     Running            1          2d13h\n",
      "nginx-7bb7cd8db5-kqmqq     1/1     Running            1          3d7h\n",
      "nginx-7bb7cd8db5-pdl5v     1/1     Running            1          2d13h\n",
      "nginx-7bb7cd8db5-s59kh     1/1     Running            1          3d11h\n"
     ]
    }
   ],
   "source": [
    "%%bash\n",
    "kubectl get services\n",
    "kubectl get pods"
   ]
  },
  {
   "cell_type": "markdown",
   "metadata": {},
   "source": [
    "We need nginx service"
   ]
  },
  {
   "cell_type": "code",
   "execution_count": 6,
   "metadata": {},
   "outputs": [
    {
     "name": "stdout",
     "output_type": "stream",
     "text": [
      "service/nginx exposed\n"
     ]
    }
   ],
   "source": [
    "%%bash\n",
    "kubectl expose deployment nginx --port=80 --type=NodePort"
   ]
  },
  {
   "cell_type": "code",
   "execution_count": 7,
   "metadata": {},
   "outputs": [
    {
     "name": "stdout",
     "output_type": "stream",
     "text": [
      "NAME         TYPE        CLUSTER-IP       EXTERNAL-IP   PORT(S)        AGE\n",
      "http         NodePort    10.107.67.207    <none>        80:31002/TCP   2d6h\n",
      "kubernetes   ClusterIP   10.96.0.1        <none>        443/TCP        7d12h\n",
      "nginx        NodePort    10.109.205.171   <none>        80:31518/TCP   17s\n"
     ]
    }
   ],
   "source": [
    "%%bash\n",
    "kubectl get services"
   ]
  },
  {
   "cell_type": "code",
   "execution_count": 8,
   "metadata": {},
   "outputs": [
    {
     "name": "stdout",
     "output_type": "stream",
     "text": [
      "NAME      READY   UP-TO-DATE   AVAILABLE   AGE\n",
      "apache    3/3     3            3           3d10h\n",
      "busybox   0/1     1            0           2d6h\n",
      "http      1/1     1            1           2d8h\n",
      "mynginx   2/2     2            2           7d6h\n",
      "nginx     3/3     3            3           3d11h\n"
     ]
    }
   ],
   "source": [
    "%%bash\n",
    "kubectl get deployments"
   ]
  },
  {
   "cell_type": "markdown",
   "metadata": {},
   "source": [
    "yaml file to create ingress"
   ]
  },
  {
   "cell_type": "code",
   "execution_count": null,
   "metadata": {},
   "outputs": [],
   "source": [
    "// nginx-in.yaml\n",
    "apiVersion: networking.k8s.io/v1beta1\n",
    "kind: Ingress\n",
    "metadata:\n",
    "  name: nginx-ingress\n",
    "  annotations:\n",
    "    ingress.kubernetes.io/rewrite-target: /\n",
    "spec:\n",
    "  rules:\n",
    "  - host:\n",
    "    http:\n",
    "      paths:\n",
    "      - path: /nginx\n",
    "        backend:\n",
    "          serviceName: nginx\n",
    "          servicePort: 80"
   ]
  },
  {
   "cell_type": "code",
   "execution_count": 25,
   "metadata": {},
   "outputs": [
    {
     "name": "stdout",
     "output_type": "stream",
     "text": [
      "ingress.extensions/nginx-ingress created\n"
     ]
    }
   ],
   "source": [
    "%%bash\n",
    "cd yaml-files\n",
    "kubectl create -f nginx-in.yaml"
   ]
  },
  {
   "cell_type": "code",
   "execution_count": 29,
   "metadata": {},
   "outputs": [
    {
     "name": "stdout",
     "output_type": "stream",
     "text": [
      "NAME            HOSTS   ADDRESS     PORTS   AGE\n",
      "nginx-ingress   *       10.0.2.15   80      12s\n"
     ]
    }
   ],
   "source": [
    "%%bash\n",
    "kubectl get ingress"
   ]
  },
  {
   "cell_type": "code",
   "execution_count": 28,
   "metadata": {},
   "outputs": [
    {
     "name": "stdout",
     "output_type": "stream",
     "text": [
      "apiVersion: extensions/v1beta1\n",
      "kind: Ingress\n",
      "metadata:\n",
      "  annotations:\n",
      "    ingress.kubernetes.io/rewrite-target: /\n",
      "  creationTimestamp: \"2019-09-23T03:00:04Z\"\n",
      "  generation: 1\n",
      "  name: nginx-ingress\n",
      "  namespace: default\n",
      "  resourceVersion: \"348888\"\n",
      "  selfLink: /apis/extensions/v1beta1/namespaces/default/ingresses/nginx-ingress\n",
      "  uid: f5b2812a-a660-45a3-bee2-95982b72e765\n",
      "spec:\n",
      "  rules:\n",
      "  - http:\n",
      "      paths:\n",
      "      - backend:\n",
      "          serviceName: nginx\n",
      "          servicePort: 80\n",
      "        path: /nginx\n",
      "status:\n",
      "  loadBalancer:\n",
      "    ingress:\n",
      "    - ip: 10.0.2.15\n"
     ]
    }
   ],
   "source": [
    "%%bash\n",
    "kubectl get ingress nginx-ingress -o yaml"
   ]
  },
  {
   "cell_type": "code",
   "execution_count": null,
   "metadata": {},
   "outputs": [],
   "source": [
    "%%bash\n",
    "curl https://10.0.2.15/nginx"
   ]
  },
  {
   "cell_type": "markdown",
   "metadata": {},
   "source": [
    "# Volumes\n",
    "\n",
    "## Kubernetes Storage\n",
    "- Container storage by nature is ephemeral\n",
    "- Pod starage exist for the pod lifetime\n",
    "- - After termination of a container, the storage remains available\n",
    "- Persistent volumnes go beyond the lifetime of a pod\n",
    "- Many types of storage can be provided\n",
    "- Alternative storage is provided in 2 different ways to the pod\n",
    "- - The ConfigMap API object is used for regular data\n",
    "- - The Secret API object can be used for encoded data\n",
    "\n",
    "## Volume Access\n",
    "- Volumes are defined at the pod level\n",
    "- Volumes are mounted into the container\n",
    "- Multiple pods may access the same volume\n",
    "- Outside locking is required to provent data corruption\n",
    "- When accessing volumes, the pod can request a specific access mode\n",
    "- - RWO (ReadWriteOnce) allows read-write access by one node\n",
    "- - ROX (ReadOnlyMany) allows read-only by multiple nodes\n",
    "- - RWX (ReadWriteMany) allows read-write access by many nodes\n",
    "\n",
    "<img src='screenshots/Volume-Types.png'>\n",
    "\n",
    "## Managing Volumes\n",
    "- Creating the Volume\n",
    "- - **kubectl create -f volumes.yaml --validate=false**\n",
    "- - **kubectl get pods**\n",
    "- After creation, test that you can use it\n",
    "- - **kubectl exec -it vol -c centos -- touch /test/myfile\n",
    "- - **kubectl exec -it vol -c centos -- ls -l /test\n",
    "- - Note: try this command without --\n"
   ]
  },
  {
   "cell_type": "raw",
   "metadata": {},
   "source": [
    "// morevolumes.yaml\n",
    "apiVersion: v1\n",
    "kind: Pod\n",
    "metadata:\n",
    "  name: morevol\n",
    "spec:\n",
    "  containers:\n",
    "  - name: centos\n",
    "    image: centos:6\n",
    "    command:\n",
    "      - sleep\n",
    "      - \"3600\"\n",
    "    volumeMounts:\n",
    "      - mountPath: /centos\n",
    "        name: test\n",
    "    name: centos\n",
    "  - name: centos\n",
    "    image: centos:6\n",
    "    command:\n",
    "      - sleep\n",
    "      - \"3600\"\n",
    "    volumeMounts:\n",
    "      - mountPath: /centos2\n",
    "        name: test\n",
    "    name: centos2\n",
    "  volumes:\n",
    "    - name: test\n",
    "      emptyDir: {}\n"
   ]
  },
  {
   "cell_type": "code",
   "execution_count": 5,
   "metadata": {},
   "outputs": [
    {
     "name": "stdout",
     "output_type": "stream",
     "text": [
      "pod/morevol created\n"
     ]
    }
   ],
   "source": [
    "%%bash\n",
    "cd yaml-files\n",
    "kubectl create -f morevolumes.yaml"
   ]
  },
  {
   "cell_type": "code",
   "execution_count": null,
   "metadata": {},
   "outputs": [],
   "source": [
    "%%bash\n",
    "kubectl get pods"
   ]
  },
  {
   "cell_type": "code",
   "execution_count": null,
   "metadata": {},
   "outputs": [],
   "source": [
    "%%bash\n",
    "kubectl exec -it morevol -c centos -- touch /centos/test"
   ]
  },
  {
   "cell_type": "code",
   "execution_count": null,
   "metadata": {},
   "outputs": [],
   "source": [
    "%%bash\n",
    "kubectl exec -it morevol -c centos2 -- ls -l /centos2"
   ]
  },
  {
   "cell_type": "markdown",
   "metadata": {},
   "source": [
    "## Persistent Volumes\n",
    "- A PersistentVolume (PV) is an independent Kubernetes resouce\n",
    "- The PV is not dependent from any pod and therefor survives a pod\n",
    "- The PersistentVolumeClaim (PVC) is a request to use a PV. In a PVC, specific storage properties can be requested\n",
    "\n",
    "### Volume Lifecycle\n",
    "- Provisioning: PVs can be provisioned statically or dynamically\n",
    "- Binding: the user requests access to a PV using a PVC\n",
    "- Using: pods use claims as volumes\n",
    "- Reclaiming: this is what happens after the user is done with the volume and the PVC is removed. Volumes can be in different states\n",
    "- - Retain: keeps data intact\n",
    "- - Delete: deletes the API object as well as the storage\n",
    "- - Recycle: removed contents of the storage mountpoint (will be deprected soon)"
   ]
  },
  {
   "cell_type": "raw",
   "metadata": {},
   "source": [
    "// Persistent Volume Example\n",
    "apiVersion: v1\n",
    "kind: PersistentVolume\n",
    "metadata:\n",
    "  name: pv-nfs\n",
    "spec:\n",
    "  capacity:\n",
    "    storage: 1Gi\n",
    "  accessModes:\n",
    "    - ReadWritemany\n",
    "  persistentVolumeReclaimPolicy: Retain\n",
    "  nfs:\n",
    "    path: /data\n",
    "    server: myserver\n",
    "    readOnly: false"
   ]
  },
  {
   "cell_type": "markdown",
   "metadata": {},
   "source": [
    "### Configuring PersistentVolume Usage\n",
    "High level overview\n",
    "- The cluster administrator creates a PersistentVolume\n",
    "- The cluster user creates a PersistentVolumeClaim\n",
    "- The user creates a Pod that uses the PersistentVolumeClaim as storage\n",
    "The Persistent volume claim is the glue between the persistent volume object and the pod that uses the persistent volume object as storage\n",
    "\n",
    "### PV Demo 1\n",
    "Prepare the hostPath persistent Volume\n",
    "- **minikube ssh**\n",
    "- **mkdir /mnt/data*\n",
    "- **echo \"Kubernetes Storage\" > /mnt/data/index.html**\n",
    "\n",
    "Create a PersistentVolume\n",
    "- Create pv.yaml (see example)\n",
    "- **kubectl create -f pv.yaml**\n",
    "- **kubectl get pv pv.yaml**; notice that the status  us set to available which means it is not currently used by a PVC\n",
    "\n",
    "### PV Demo 2\n",
    "Create a PVC\n",
    "- Create pvc.yaml (see example)\n",
    "- **kubectl create -f pvc.yaml**\n",
    "- **kubectl get pv pv-volume**\n",
    "- **kubectl get pvc pv-claim**\n",
    "Create a Pod\n",
    "- Create pv-pod.yaml (see example)\n",
    "- **kubectl create -f pv-pod.yaml**\n",
    "- **kubectl get pod pv-pod**\n",
    "- **kubectl exec -it pv-pod -- /bin/bash**\n",
    "- **apt-get update; apt-get unstall curl**\n",
    "- **curl localhost**"
   ]
  },
  {
   "cell_type": "markdown",
   "metadata": {},
   "source": [
    "Prepare the hostpath persistent volume"
   ]
  },
  {
   "cell_type": "code",
   "execution_count": null,
   "metadata": {},
   "outputs": [],
   "source": [
    "%%bash\n",
    "minikube ssh\n",
    "sudo -i\n",
    "mkdir /mnt/data\n",
    "echo \"my hostpath storage\" > /mnt/data/index.html\n",
    "exit\n",
    "exit"
   ]
  },
  {
   "cell_type": "markdown",
   "metadata": {},
   "source": [
    "Creating a persistent volume"
   ]
  },
  {
   "cell_type": "raw",
   "metadata": {},
   "source": [
    "// pv.yaml\n",
    "kind: PersistentVolume\n",
    "apiVersion: v1\n",
    "metadata:\n",
    "  name: pv-volume\n",
    "  labels:\n",
    "    type: local\n",
    "spec:\n",
    "  storageClassName: manual\n",
    "  capacity:\n",
    "    storage: 2Gi\n",
    "  accessModes:\n",
    "    - ReadWriteOnce\n",
    "  hostPath:\n",
    "    path: \"/mnt/data\"\n"
   ]
  },
  {
   "cell_type": "code",
   "execution_count": 7,
   "metadata": {},
   "outputs": [
    {
     "name": "stdout",
     "output_type": "stream",
     "text": [
      "persistentvolume/pv-volume created\n"
     ]
    }
   ],
   "source": [
    "%%bash\n",
    "cd yaml-files\n",
    "kubectl create -f pv.yaml"
   ]
  },
  {
   "cell_type": "code",
   "execution_count": 9,
   "metadata": {},
   "outputs": [
    {
     "name": "stdout",
     "output_type": "stream",
     "text": [
      "NAME        CAPACITY   ACCESS MODES   RECLAIM POLICY   STATUS      CLAIM   STORAGECLASS   REASON   AGE\n",
      "pv-volume   2Gi        RWO            Retain           Available           manual                  27s\n"
     ]
    }
   ],
   "source": [
    "%%bash\n",
    "kubectl get persistentvolumes"
   ]
  },
  {
   "cell_type": "markdown",
   "metadata": {},
   "source": [
    "Create a Persistent Volume Claim"
   ]
  },
  {
   "cell_type": "raw",
   "metadata": {},
   "source": [
    "// pvc.yaml\n",
    "kind: PersistentVolumeClaim\n",
    "apiVersion: v1\n",
    "metadata:\n",
    "  name: pv-claim\n",
    "spec:\n",
    "  storageClassName: manual\n",
    "  accessModes:\n",
    "    - ReadWriteOnce\n",
    "  resources:\n",
    "    requests:\n",
    "      storage: 1Gi\n"
   ]
  },
  {
   "cell_type": "code",
   "execution_count": 15,
   "metadata": {},
   "outputs": [
    {
     "name": "stdout",
     "output_type": "stream",
     "text": [
      "persistentvolumeclaim/pv-claim created\n"
     ]
    }
   ],
   "source": [
    "%%bash\n",
    "cd yaml-files\n",
    "kubectl create -f pvc.yaml"
   ]
  },
  {
   "cell_type": "code",
   "execution_count": 17,
   "metadata": {},
   "outputs": [
    {
     "name": "stdout",
     "output_type": "stream",
     "text": [
      "NAME        CAPACITY   ACCESS MODES   RECLAIM POLICY   STATUS   CLAIM              STORAGECLASS   REASON   AGE\n",
      "pv-volume   2Gi        RWO            Retain           Bound    default/pv-claim   manual                  13m\n"
     ]
    }
   ],
   "source": [
    "%%bash\n",
    "kubectl get persistentvolumes"
   ]
  },
  {
   "cell_type": "markdown",
   "metadata": {},
   "source": [
    "You can see that the Claim column is not empty."
   ]
  },
  {
   "cell_type": "code",
   "execution_count": 20,
   "metadata": {},
   "outputs": [
    {
     "name": "stdout",
     "output_type": "stream",
     "text": [
      "NAME       STATUS   VOLUME      CAPACITY   ACCESS MODES   STORAGECLASS   AGE\n",
      "pv-claim   Bound    pv-volume   2Gi        RWO            manual         2m43s\n"
     ]
    }
   ],
   "source": [
    "%%bash\n",
    "kubectl get persistentvolumeclaims"
   ]
  },
  {
   "cell_type": "raw",
   "metadata": {},
   "source": [
    "// pv-pod.yaml\n",
    "kind: Pod\n",
    "apiVersion: v1\n",
    "metadata:\n",
    "  name: pv-pod\n",
    "spec:\n",
    "  volumes:\n",
    "    - name: pv-storage\n",
    "      persistentVolumeClaim:\n",
    "        claimName: pv-claim\n",
    "  containers:\n",
    "    - name: pv-container\n",
    "      image: nginx\n",
    "      ports:\n",
    "        - containerPort: 80\n",
    "          name: \"http-server\"\n",
    "      volumeMounts:\n",
    "        - mountPath: \"/usr/share/nginx/html\"\n",
    "          name: pv-storage\n"
   ]
  },
  {
   "cell_type": "code",
   "execution_count": 22,
   "metadata": {},
   "outputs": [
    {
     "name": "stdout",
     "output_type": "stream",
     "text": [
      "pod/pv-pod created\n"
     ]
    }
   ],
   "source": [
    "%%bash\n",
    "cd yaml-files\n",
    "kubectl create -f pv-pod.yaml"
   ]
  },
  {
   "cell_type": "code",
   "execution_count": 26,
   "metadata": {},
   "outputs": [
    {
     "name": "stdout",
     "output_type": "stream",
     "text": [
      "NAME     READY   STATUS    RESTARTS   AGE\n",
      "pv-pod   1/1     Running   0          47s\n"
     ]
    }
   ],
   "source": [
    "%%bash\n",
    "kubectl get pods pv-pod"
   ]
  },
  {
   "cell_type": "code",
   "execution_count": null,
   "metadata": {},
   "outputs": [],
   "source": [
    "%%bash\n",
    "kubectl exec -it pv-pod -- bash\n",
    "apt-get update\n",
    "apt-get install curl -y\n",
    "curl localhost"
   ]
  }
 ],
 "metadata": {
  "kernelspec": {
   "display_name": "Python 3",
   "language": "python",
   "name": "python3"
  },
  "language_info": {
   "codemirror_mode": {
    "name": "ipython",
    "version": 3
   },
   "file_extension": ".py",
   "mimetype": "text/x-python",
   "name": "python",
   "nbconvert_exporter": "python",
   "pygments_lexer": "ipython3",
   "version": "3.7.3"
  }
 },
 "nbformat": 4,
 "nbformat_minor": 2
}
