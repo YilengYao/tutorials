{
 "cells": [
  {
   "cell_type": "markdown",
   "metadata": {},
   "source": [
    "# Container Orchestration\n",
    "\n",
    "## What is Kubernetes\n",
    "- Kubernetes, also referred to as K8s, is Greek and means helmsman or pilot\n",
    "- - So it's the captain of the ship with all the dcontainers\n",
    "- Kubernetes is an extensive open-source platform for managing containerized workloads and services\n",
    "- It comes from Google Borgn a system that Google has been useing since 2002 to run its applications\n",
    "\n",
    "## What Else is Kubernetes?\n",
    "- It's open-source software for automating deployment, scaling, and orchestration of containerized applications\n",
    "- - Instead of running containers with the **docker** command, you'll use the **kubernetes** command to run them\n",
    "- It is about running multiple connected containers, organized in Pods, or deployment,s runnimg on different hosts, where community of service is guaranteed\n",
    "- It has become the de factor standard for orchestration of containers\n",
    "- With a new release every 3 months, it is rapidly evolving\n",
    "\n",
    "<img src='screenshots/Simple-Kubernetes-Architecture.png'>\n",
    "\n",
    "## Kubernetes Architecture\n",
    "<img src='screenshots/Kubernetes-Architecture.png'>\n"
   ]
  },
  {
   "cell_type": "markdown",
   "metadata": {},
   "source": [
    "## Cloud Native Computing Foundation\n",
    "- Google donated Kubernetes to the Cloud Native Computing Foundation (CNCF), which is a foundation in Linux Foundation\n",
    "- CNCF is a governing body that solves issues faced by any cloud native allications (so not just Kubernetes)\n",
    "- CNCF owns the copyright to Kubernetes\n",
    "- Kubernetes itself uses an Apache license\n",
    "- Developers need to sign a Contributor License Agreement with CNCF"
   ]
  },
  {
   "cell_type": "markdown",
   "metadata": {},
   "source": [
    "# Containers\n",
    "\n",
    "## What is a Container?\n",
    "- A container is a solution that bundles an application and all of its dependencies in a box\n",
    "- - Kernel is not included\n",
    "- This box can run on virtually any platform, as long as that platform runs a container engine\n",
    "- Containers are based on an image, from the idmage you can spin multiple containers\n",
    "- - When the container is crete it runs a process on the host kernel. The host kernel isolates resources belonging to each container\n",
    "- - For resource isolation, namespaces are used\n",
    "- - To dedicate resources, cgroups are used\n",
    "\n",
    "## Container Filesystems\n",
    "- Container images consist of different layers\n",
    "- These layers are joined in the union filesystem\n",
    "- By overlaying these layers, a new virtual filesystem is created\n",
    "- The layers are joined in images, and by default are read-only\n",
    "- When a container is started, the ephemeral read-write layer is added\n",
    "\n",
    "## Why Containers are Successful\n",
    "- Very fast deployment\n",
    "- Flexible, as they run anywhere\n",
    "- Easy to scale up and down\n",
    "- Very resource-efficient\n",
    "- Little footprint\n",
    "- Portable"
   ]
  },
  {
   "cell_type": "markdown",
   "metadata": {},
   "source": [
    "# Installing Docker\n",
    "## On Ubuntu\n",
    "### 1. Prerequisites\n",
    "The very first step is to remove any default Docker packages from the system before installation Docker on a Linux VPS. Execute commands to remove unnecessary Docker versions"
   ]
  },
  {
   "cell_type": "code",
   "execution_count": null,
   "metadata": {},
   "outputs": [],
   "source": [
    "%%bash\n",
    "sudo apt-get purge docker lxc-docker docker-engine docker.io"
   ]
  },
  {
   "cell_type": "markdown",
   "metadata": {},
   "source": [
    "Now install some required packages on your system for installing Docker on Ubuntu system. Run the below commands to do this:"
   ]
  },
  {
   "cell_type": "code",
   "execution_count": null,
   "metadata": {},
   "outputs": [],
   "source": [
    "%%bash\n",
    "sudo apt-get install  curl  apt-transport-https ca-certificates software-properties-common"
   ]
  },
  {
   "cell_type": "markdown",
   "metadata": {},
   "source": [
    "### 2. Setup Docker Repository\n",
    "Now import dockers official GPG key to verify packages signature before installing them with apt-get. Run the below command on terminal."
   ]
  },
  {
   "cell_type": "code",
   "execution_count": null,
   "metadata": {},
   "outputs": [],
   "source": [
    "%%bash\n",
    "curl -fsSL https://download.docker.com/linux/ubuntu/gpg | sudo apt-key add "
   ]
  },
  {
   "cell_type": "markdown",
   "metadata": {},
   "source": [
    "After that add the Docker repository on your Ubuntu system which contains Docker packages including its dependencies. You must have to enable this repository to install Docker on Ubuntu."
   ]
  },
  {
   "cell_type": "code",
   "execution_count": null,
   "metadata": {},
   "outputs": [],
   "source": [
    "%%bash\n",
    "sudo add-apt-repository \"deb [arch=amd64] https://download.docker.com/linux/ubuntu $(lsb_release -cs) stable\""
   ]
  },
  {
   "cell_type": "markdown",
   "metadata": {},
   "source": [
    "### 3. Install Docker on Ubuntu\n",
    "Your system is now ready for Docker installation. Run the following commands to upgrade apt index and then install Docker community edition on Ubuntu."
   ]
  },
  {
   "cell_type": "code",
   "execution_count": null,
   "metadata": {},
   "outputs": [],
   "source": [
    "%%bash\n",
    "sudo apt-get update\n",
    "sudo apt-get install docker-ce\n",
    "sudo systemctl status docker"
   ]
  },
  {
   "cell_type": "markdown",
   "metadata": {},
   "source": [
    "## On Red Hat\n",
    "### 1. Install yum-utils and epel-release"
   ]
  },
  {
   "cell_type": "code",
   "execution_count": null,
   "metadata": {},
   "outputs": [],
   "source": [
    "%%bash\n",
    "yum install -y yum-utils\n",
    "wget http://dl.fedoraproject.org/pub/epel/epel-release-latest-7.noarch.rpm"
   ]
  },
  {
   "cell_type": "markdown",
   "metadata": {},
   "source": [
    "### 2. Add Docker CE to yum repos"
   ]
  },
  {
   "cell_type": "code",
   "execution_count": null,
   "metadata": {},
   "outputs": [],
   "source": [
    "%%bash\n",
    "yum-config-manager --add-repo https://download.docker.com/linux/centos/docker-ce.repo"
   ]
  },
  {
   "cell_type": "markdown",
   "metadata": {},
   "source": [
    "### 3. Install container-selinux package"
   ]
  },
  {
   "cell_type": "code",
   "execution_count": null,
   "metadata": {},
   "outputs": [],
   "source": [
    "%%bash\n",
    "yum install -y http://mirror.centos.org/centos/7/extras/x86_64/Packages/container-selinux-2.33-1.git86f33cd.el7.noarch.rpm"
   ]
  },
  {
   "cell_type": "markdown",
   "metadata": {},
   "source": [
    "### 4. Install Docker CE\n",
    "The container-selinux package is available from the rhel-7-server-extras-rpms channel. you can enable it using."
   ]
  },
  {
   "cell_type": "code",
   "execution_count": null,
   "metadata": {},
   "outputs": [],
   "source": [
    "%%bash\n",
    "subscription-manager repos --enable=rhel-7-server-extras-rpms"
   ]
  },
  {
   "cell_type": "code",
   "execution_count": null,
   "metadata": {},
   "outputs": [],
   "source": [
    "%%bash\n",
    "yum install -y docker-ce\n",
    "docker --version"
   ]
  },
  {
   "cell_type": "markdown",
   "metadata": {},
   "source": [
    "### 5. Restart docker service and enable it"
   ]
  },
  {
   "cell_type": "code",
   "execution_count": null,
   "metadata": {},
   "outputs": [],
   "source": [
    "%%bash\n",
    "systemctl restart docker\n",
    "systemctl enable docker"
   ]
  },
  {
   "cell_type": "markdown",
   "metadata": {},
   "source": [
    "## Mac OS\n",
    "Download docker desktop from docker hub\n",
    "\n",
    "https://hub.docker.com/editions/community/docker-ce-desktop-mac\n"
   ]
  },
  {
   "cell_type": "markdown",
   "metadata": {},
   "source": []
  }
 ],
 "metadata": {
  "kernelspec": {
   "display_name": "Python 3",
   "language": "python",
   "name": "python3"
  },
  "language_info": {
   "codemirror_mode": {
    "name": "ipython",
    "version": 3
   },
   "file_extension": ".py",
   "mimetype": "text/x-python",
   "name": "python",
   "nbconvert_exporter": "python",
   "pygments_lexer": "ipython3",
   "version": "3.7.3"
  }
 },
 "nbformat": 4,
 "nbformat_minor": 2
}
