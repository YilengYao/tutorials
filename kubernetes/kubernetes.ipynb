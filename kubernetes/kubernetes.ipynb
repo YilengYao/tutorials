{
 "cells": [
  {
   "cell_type": "markdown",
   "metadata": {},
   "source": [
    "# Container Orchestration\n",
    "\n",
    "## What is Kubernetes\n",
    "- Kubernetes, also referred to as K8s, is Greek and means helmsman or pilot\n",
    "- - So it's the captain of the ship with all the dcontainers\n",
    "- Kubernetes is an extensive open-source platform for managing containerized workloads and services\n",
    "- It comes from Google Borgn a system that Google has been useing since 2002 to run its applications\n",
    "\n",
    "## What Else is Kubernetes?\n",
    "- It's open-source software for automating deployment, scaling, and orchestration of containerized applications\n",
    "- - Instead of running containers with the **docker** command, you'll use the **kubernetes** command to run them\n",
    "- It is about running multiple connected containers, organized in Pods, or deployment,s runnimg on different hosts, where community of service is guaranteed\n",
    "- It has become the de factor standard for orchestration of containers\n",
    "- With a new release every 3 months, it is rapidly evolving\n",
    "\n",
    "<img src='screenshots/Simple-Kubernetes-Architecture.png'>\n",
    "\n",
    "## Kubernetes Architecture\n",
    "<img src='screenshots/Kubernetes-Architecture.png'>\n"
   ]
  },
  {
   "cell_type": "markdown",
   "metadata": {},
   "source": [
    "## Cloud Native Computing Foundation\n",
    "- Google donated Kubernetes to the Cloud Native Computing Foundation (CNCF), which is a foundation in Linux Foundation\n",
    "- CNCF is a governing body that solves issues faced by any cloud native allications (so not just Kubernetes)\n",
    "- CNCF owns the copyright to Kubernetes\n",
    "- Kubernetes itself uses an Apache license\n",
    "- Developers need to sign a Contributor Lice"
   ]
  }
 ],
 "metadata": {
  "kernelspec": {
   "display_name": "Python 3",
   "language": "python",
   "name": "python3"
  },
  "language_info": {
   "codemirror_mode": {
    "name": "ipython",
    "version": 3
   },
   "file_extension": ".py",
   "mimetype": "text/x-python",
   "name": "python",
   "nbconvert_exporter": "python",
   "pygments_lexer": "ipython3",
   "version": "3.7.3"
  }
 },
 "nbformat": 4,
 "nbformat_minor": 2
}
