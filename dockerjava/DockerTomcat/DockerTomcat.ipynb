{
 "cells": [
  {
   "cell_type": "markdown",
   "metadata": {},
   "source": [
    "## Tomcat Static default Web resources\n",
    "\n",
    "Default tomcat static webpages is located at\n",
    "\n",
    "/usr/local/tomcat/webapps/ROOT\n",
    "\n",
    "which we don't need in our app so we need to\n",
    "\n",
    "RUN rm -rf ./webapps/*"
   ]
  },
  {
   "cell_type": "markdown",
   "metadata": {},
   "source": [
    "## copy our war file to tomcat\n",
    "\n",
    "COPY target/fleetman-0.0.1-SNAPSHOT.war /usr/local/tomcat/webapps/ROOT.war\n"
   ]
  },
  {
   "cell_type": "markdown",
   "metadata": {},
   "source": [
    "## Running our docker container with CMD\n",
    "\n",
    "setting our java arguement with ENV JAVA_OPTS\n",
    "\n",
    "ENV JAVA_OPTS=\"-Dspring.profiles.active=docker-demo\"\n",
    "\n",
    "CMD [\"catalina.sh\", \"run\"]"
   ]
  },
  {
   "cell_type": "markdown",
   "metadata": {},
   "source": [
    "## Build War file with maven\n",
    "Build the war file with"
   ]
  },
  {
   "cell_type": "code",
   "execution_count": null,
   "metadata": {},
   "outputs": [],
   "source": [
    "%%bash\n",
    "mvn package"
   ]
  },
  {
   "cell_type": "markdown",
   "metadata": {},
   "source": [
    "Build the image"
   ]
  },
  {
   "cell_type": "code",
   "execution_count": null,
   "metadata": {},
   "outputs": [],
   "source": [
    "%%bash\n",
    "docker image build -t fleetman-webapp ."
   ]
  },
  {
   "cell_type": "markdown",
   "metadata": {},
   "source": [
    "Run the image"
   ]
  },
  {
   "cell_type": "code",
   "execution_count": null,
   "metadata": {},
   "outputs": [],
   "source": [
    "%%bash\n",
    "docker container run -p 8080:8080 -it fleetman-webapp"
   ]
  },
  {
   "cell_type": "markdown",
   "metadata": {},
   "source": [
    "## Spring Boot has Tomcat\n",
    "\n",
    "Since spring boot already has tomcat, we don't have  to install tomcat, we can just package our application as a jar. And run in any container that has java and run the jar file.\n",
    "\n",
    "To package as jar change the pom.xml to package your application as jar instead of war."
   ]
  },
  {
   "cell_type": "markdown",
   "metadata": {},
   "source": [
    "    <groupId>com.virtualpairprogrammers</groupId>\n",
    "    <artifactId>fleetman</artifactId>\n",
    "    <version>0.0.1-SNAPSHOT</version>\n",
    "    <packaging>jar</packaging>"
   ]
  },
  {
   "cell_type": "markdown",
   "metadata": {},
   "source": [
    "And Run"
   ]
  },
  {
   "cell_type": "code",
   "execution_count": null,
   "metadata": {},
   "outputs": [],
   "source": [
    "%%bash\n",
    "java -Dspring.profiles.active=development -jar $(pwd)/target/fleetman-0.0.1-SNAPSHOT.jar"
   ]
  }
 ],
 "metadata": {
  "kernelspec": {
   "display_name": "Python 3",
   "language": "python",
   "name": "python3"
  },
  "language_info": {
   "codemirror_mode": {
    "name": "ipython",
    "version": 3
   },
   "file_extension": ".py",
   "mimetype": "text/x-python",
   "name": "python",
   "nbconvert_exporter": "python",
   "pygments_lexer": "ipython3",
   "version": "3.7.3"
  }
 },
 "nbformat": 4,
 "nbformat_minor": 2
}
