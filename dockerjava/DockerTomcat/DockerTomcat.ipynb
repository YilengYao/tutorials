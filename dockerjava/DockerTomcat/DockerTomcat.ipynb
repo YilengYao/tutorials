{
 "cells": [
  {
   "cell_type": "markdown",
   "metadata": {},
   "source": [
    "## Tomcat Static default Web resources\n",
    "\n",
    "Default tomcat static webpages is located at\n",
    "\n",
    "/usr/local/tomcat/webapps/ROOT\n",
    "\n",
    "which we don't need in our app so we need to\n",
    "\n",
    "RUN rm -rf ./webapps/*"
   ]
  },
  {
   "cell_type": "markdown",
   "metadata": {},
   "source": [
    "## copy our war file to tomcat\n",
    "\n",
    "COPY target/fleetman-0.0.1-SNAPSHOT.war /usr/local/tomcat/webapps/ROOT.war\n"
   ]
  },
  {
   "cell_type": "markdown",
   "metadata": {},
   "source": [
    "## Running our docker container with CMD\n",
    "\n",
    "setting our java arguement with ENV JAVA_OPTS\n",
    "\n",
    "ENV JAVA_OPTS=\"-Dspring.profiles.active=docker-demo\"\n",
    "\n",
    "CMD [\"catalina.sh\", \"run\"]"
   ]
  },
  {
   "cell_type": "markdown",
   "metadata": {},
   "source": [
    "## Build War file with maven\n",
    "Build the war file with"
   ]
  },
  {
   "cell_type": "code",
   "execution_count": null,
   "metadata": {},
   "outputs": [],
   "source": [
    "%%bash\n",
    "mvn package"
   ]
  },
  {
   "cell_type": "markdown",
   "metadata": {},
   "source": [
    "Build the image"
   ]
  },
  {
   "cell_type": "code",
   "execution_count": null,
   "metadata": {},
   "outputs": [],
   "source": [
    "%%bash\n",
    "docker image build -t fleetman-webapp ."
   ]
  },
  {
   "cell_type": "markdown",
   "metadata": {},
   "source": [
    "Run the image"
   ]
  },
  {
   "cell_type": "code",
   "execution_count": null,
   "metadata": {},
   "outputs": [],
   "source": [
    "%%bash\n",
    "docker container run -p 8080:8080 -it fleetman-webapp"
   ]
  },
  {
   "cell_type": "markdown",
   "metadata": {},
   "source": [
    "## Spring Boot has Tomcat\n",
    "\n",
    "Since spring boot already has tomcat, we don't have  to install tomcat, we can just package our application as a jar. And run in any container that has java and run the jar file.\n",
    "\n",
    "To package as jar change the pom.xml to package your application as jar instead of war."
   ]
  },
  {
   "cell_type": "markdown",
   "metadata": {},
   "source": [
    "    <groupId>com.virtualpairprogrammers</groupId>\n",
    "    <artifactId>fleetman</artifactId>\n",
    "    <version>0.0.1-SNAPSHOT</version>\n",
    "    <packaging>jar</packaging>"
   ]
  },
  {
   "cell_type": "markdown",
   "metadata": {},
   "source": [
    "And Run"
   ]
  },
  {
   "cell_type": "code",
   "execution_count": null,
   "metadata": {},
   "outputs": [],
   "source": [
    "%%bash\n",
    "java -Dspring.profiles.active=development -jar $(pwd)/target/fleetman-0.0.1-SNAPSHOT.jar"
   ]
  },
  {
   "cell_type": "markdown",
   "metadata": {},
   "source": [
    "# Microservice Philosophy for Docker\n",
    "In docker it is best practice for each container to run a service, you shouldn't run multiple services in 1 container. Because it is easier to maintain and manage if 1 container runs a service. For example if you have 2 services in 1 container and one of the service died, it is hard to diagnose which service died and bring up the service that died. If you decided to restart the container the healthy service would be brought down too.\n",
    "\n",
    "For example if our tomcat application needs a database, we shouldn't add mysql to the same container that runs the same database.\n",
    "\n",
    "<img src=\"../../docker/media/TwoServiceOneContainer.png\" height=\"50%\" width=\"50%\">\n",
    "\n",
    "We should have multiple containers and each container provide a single service, and the service is determined by the last CMD or ENTRYPOINT line in our Dockerfile.\n",
    "Container communicate with each other through a network.\n",
    "\n",
    "<img src=\"../../docker/media/EachContainerSingleService.png\" height=\"50%\" width=\"50%\">\n"
   ]
  },
  {
   "cell_type": "markdown",
   "metadata": {},
   "source": [
    "## Working with Mysql\n",
    "pull down the image"
   ]
  },
  {
   "cell_type": "code",
   "execution_count": null,
   "metadata": {},
   "outputs": [],
   "source": [
    "%%bash\n",
    "docker container run -e MYSQL_ROOT_PASSWORD=****** -e MYSWL_DATABASE=fleetman -d mysql:8.0.16"
   ]
  },
  {
   "cell_type": "markdown",
   "metadata": {},
   "source": [
    "Run the container"
   ]
  },
  {
   "cell_type": "code",
   "execution_count": null,
   "metadata": {},
   "outputs": [],
   "source": [
    "%%bash\n",
    "docker container exec -it 85 bash"
   ]
  },
  {
   "cell_type": "markdown",
   "metadata": {},
   "source": [
    "Run mysql inside the container"
   ]
  },
  {
   "cell_type": "code",
   "execution_count": null,
   "metadata": {},
   "outputs": [],
   "source": [
    "%%bash\n",
    "mysql -uroot -ppassword\n",
    "show databases"
   ]
  },
  {
   "cell_type": "markdown",
   "metadata": {},
   "source": [
    "# Networking in Docker\n",
    "The scheme networking uses is to add the container name to the DNS service. \n",
    "\n",
    "A container want to network with another container, they can simply use the container name of the other container as the domain name so we don't need to deal with any IP addresses.\n",
    "\n",
    "Networks that comes with docker, lets list them"
   ]
  },
  {
   "cell_type": "code",
   "execution_count": null,
   "metadata": {},
   "outputs": [],
   "source": [
    "%%bash\n",
    "docker network ls"
   ]
  },
  {
   "cell_type": "markdown",
   "metadata": {},
   "source": [
    "network named *bridge* is the default network, it is the network all of our container is conneting too. It is four outbound traffic, that is why we are able to ping google.com or install packages from remote repositories in our containers.\n",
    "\n",
    "But *bridge* does not allow container to container networking.\n",
    "\n",
    "## Container to Container Networking\n",
    "If we want to perform container to container networking we need to create our own network.\n",
    "\n",
    "Lets create our own network called *my-network*"
   ]
  },
  {
   "cell_type": "code",
   "execution_count": null,
   "metadata": {},
   "outputs": [],
   "source": [
    "%%bash\n",
    "docker network create my-network"
   ]
  },
  {
   "cell_type": "markdown",
   "metadata": {},
   "source": [
    "Now spin up instance of our container and connect them to our network"
   ]
  },
  {
   "cell_type": "code",
   "execution_count": null,
   "metadata": {},
   "outputs": [],
   "source": [
    "%%bash\n",
    "docker container run --network my-network --name database -e MYSQL_ROOT_PASSWORD=**** -e MYSQL_DATABASE=fleetman -d mysql:8.0.16\n",
    "    \n",
    "docker container run --network my-network --name fleetman-webapp -d -p 80:8080 fleetman-webapp"
   ]
  },
  {
   "cell_type": "markdown",
   "metadata": {},
   "source": [
    "Lets go into our fleetman-webapp container and ping our database container"
   ]
  },
  {
   "cell_type": "code",
   "execution_count": null,
   "metadata": {},
   "outputs": [],
   "source": [
    "%%bash\n",
    "docker container exec -it fleetman-webapp bash\n",
    "\n",
    "ping database"
   ]
  },
  {
   "cell_type": "markdown",
   "metadata": {},
   "source": [
    "## Connecting our Tomcat app to Mysql database in another container\n",
    "In application-docker-demo.properties files\n",
    "replace "
   ]
  },
  {
   "cell_type": "code",
   "execution_count": null,
   "metadata": {},
   "outputs": [],
   "source": [
    "spring.datasource.url=jdbc:h2:file:./Database"
   ]
  },
  {
   "cell_type": "markdown",
   "metadata": {},
   "source": [
    "With"
   ]
  },
  {
   "cell_type": "code",
   "execution_count": null,
   "metadata": {},
   "outputs": [],
   "source": [
    "spring.datasource.url=jdbc:mysql://database:3306/fleetman\n",
    "spring.datasource.username=root\n",
    "spring.datasource.password=password"
   ]
  },
  {
   "cell_type": "markdown",
   "metadata": {},
   "source": [
    "Rebuilt the war file for the fleetman app with maven"
   ]
  },
  {
   "cell_type": "code",
   "execution_count": null,
   "metadata": {},
   "outputs": [],
   "source": [
    "%%bash\n",
    "mvn package"
   ]
  },
  {
   "cell_type": "markdown",
   "metadata": {},
   "source": [
    "Rebuild the image with the new war file"
   ]
  },
  {
   "cell_type": "code",
   "execution_count": null,
   "metadata": {},
   "outputs": [],
   "source": [
    "%%bash\n",
    "docker image build -t fleetman-webapp ."
   ]
  },
  {
   "cell_type": "markdown",
   "metadata": {},
   "source": [
    "Not spin up the container running the tomcat app"
   ]
  },
  {
   "cell_type": "code",
   "execution_count": 6,
   "metadata": {},
   "outputs": [
    {
     "name": "stderr",
     "output_type": "stream",
     "text": [
      "UsageError: %%bash is a cell magic, but the cell body is empty.\n"
     ]
    }
   ],
   "source": [
    "%%bash\n",
    "docker container run --network my-network --name fleetman-webapp -d -p 80:8080 --rm fleetman-webapp"
   ]
  },
  {
   "cell_type": "markdown",
   "metadata": {},
   "source": [
    "Extra argument --rm means that if container is stopped it will be removed. \n",
    "\n",
    "Lets got into our database container and look at the tables"
   ]
  },
  {
   "cell_type": "code",
   "execution_count": null,
   "metadata": {},
   "outputs": [],
   "source": [
    "%%bash\n",
    "docker container exec -it database bash\n",
    "\n",
    "mysql -uroot -ppassword\n",
    "\n",
    "use fleetman;\n",
    "\n",
    "show tables;\n",
    "\n",
    "select * from vehicles;"
   ]
  }
 ],
 "metadata": {
  "kernelspec": {
   "display_name": "Python 3",
   "language": "python",
   "name": "python3"
  },
  "language_info": {
   "codemirror_mode": {
    "name": "ipython",
    "version": 3
   },
   "file_extension": ".py",
   "mimetype": "text/x-python",
   "name": "python",
   "nbconvert_exporter": "python",
   "pygments_lexer": "ipython3",
   "version": "3.7.3"
  }
 },
 "nbformat": 4,
 "nbformat_minor": 2
}
