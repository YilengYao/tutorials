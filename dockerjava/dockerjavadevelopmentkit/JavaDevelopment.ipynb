{
 "cells": [
  {
   "cell_type": "markdown",
   "metadata": {},
   "source": [
    "# Install Java Using Dockerfile\n",
    "Dockerfile textfile explaining how image should be built\n",
    "\n",
    "Install java on Ubuntu image"
   ]
  },
  {
   "cell_type": "code",
   "execution_count": null,
   "metadata": {},
   "outputs": [],
   "source": [
    "# Dockerfile\n",
    "\n",
    "# extending from ubuntu:18.04\n",
    "FROM ubuntu:18.04\n",
    "\n",
    "# optional, maintainer who wrote and maintain this image\n",
    "MAINTAINER Yi leng Yao \"contact@yi.com\"\n",
    "\n",
    "# Run is to run the following command on the base image\n",
    "RUN apt-get update && \\\n",
    "    apt-get install -y openjdk-8-jdk\n",
    "    \n",
    "# What command to execute when the container is runned, \n",
    "# in this case it is a bash shell\n",
    "CMD [\"/bin/bash\"]"
   ]
  },
  {
   "cell_type": "markdown",
   "metadata": {},
   "source": [
    "Build dockerfile"
   ]
  },
  {
   "cell_type": "code",
   "execution_count": null,
   "metadata": {},
   "outputs": [],
   "source": [
    "%%bash\n",
    "docker image build --tag ubuntujava ."
   ]
  },
  {
   "cell_type": "markdown",
   "metadata": {},
   "source": [
    "To run the container"
   ]
  },
  {
   "cell_type": "code",
   "execution_count": null,
   "metadata": {},
   "outputs": [],
   "source": [
    "%%bash\n",
    "docker container run -it ubuntujava"
   ]
  },
  {
   "cell_type": "markdown",
   "metadata": {},
   "source": [
    "You should be able to run to get the java version install"
   ]
  },
  {
   "cell_type": "code",
   "execution_count": null,
   "metadata": {},
   "outputs": [],
   "source": [
    "%%bash\n",
    "java -version"
   ]
  },
  {
   "cell_type": "markdown",
   "metadata": {},
   "source": [
    "You can search package in Ubuntu's apt repositories by using"
   ]
  },
  {
   "cell_type": "code",
   "execution_count": null,
   "metadata": {},
   "outputs": [],
   "source": [
    "%%bash\n",
    "apt-cache search jdk"
   ]
  },
  {
   "cell_type": "markdown",
   "metadata": {},
   "source": [
    "## Copying a Java Jar File to Container and Execute it\n",
    "\n",
    "### COPY\n",
    "The COPY command allows us to copy files from our current environtment to the container\n",
    "\n",
    "Linux filesystem, opt folder is for optional software, usr folder is for read-only system wide binaries\n",
    "\n",
    "### WORKDIR\n",
    "The WORKDIR command allows us to specify the home working directory in the container"
   ]
  },
  {
   "cell_type": "code",
   "execution_count": null,
   "metadata": {},
   "outputs": [],
   "source": [
    "# Dockerfile\n",
    "\n",
    "# extending from ubuntu:18.04\n",
    "FROM ubuntu:18.04\n",
    "\n",
    "# optional, maintainer who wrote and maintain this image\n",
    "MAINTAINER Yi leng Yao \"contact@yi.com\"\n",
    "\n",
    "# Run is to run the following command on the base image\n",
    "RUN apt-get update && \\\n",
    "    apt-get install -y openjdk-8-jdk\n",
    "    \n",
    "# specifying the location of the working directory in the container\n",
    "# in which we want to work with\n",
    "WORKDIR /usr/local/bin\n",
    "    \n",
    "# Copying files to the container\n",
    "# COPY <source> <destination>\n",
    "# Copies the jar file to home working directory\n",
    "COPY test-program.jar .\n",
    "    \n",
    "# What command to execute when the container is runned, \n",
    "# in this case it is a bash shell\n",
    "CMD [\"/bin/bash\"]"
   ]
  },
  {
   "cell_type": "markdown",
   "metadata": {},
   "source": [
    "# Executing Jar file when running the container\n",
    "CMD specifies what command to run within the container."
   ]
  },
  {
   "cell_type": "code",
   "execution_count": null,
   "metadata": {},
   "outputs": [],
   "source": [
    "# Dockerfile\n",
    "\n",
    "# extending from ubuntu:18.04\n",
    "FROM ubuntu:18.04\n",
    "\n",
    "# optional, maintainer who wrote and maintain this image\n",
    "MAINTAINER Yi leng Yao \"contact@yi.com\"\n",
    "\n",
    "# Run is to run the following command on the base image\n",
    "RUN apt-get update && \\\n",
    "    apt-get install -y openjdk-8-jdk\n",
    "    \n",
    "# specifying the location of the working directory in the container\n",
    "# in which we want to work with\n",
    "WORKDIR /usr/local/bin\n",
    "\n",
    "# Copying files to the container\n",
    "# COPY <source> <destination>\n",
    "# Copies the jar file to home working directory\n",
    "COPY test-program.jar .\n",
    "    \n",
    "# What command to execute when the container is runned, \n",
    "# in this case it is a bash shell\n",
    "CMD [\"java\", \"-jar\", \"test-program.jar\"]"
   ]
  },
  {
   "cell_type": "markdown",
   "metadata": {},
   "source": [
    "Run"
   ]
  },
  {
   "cell_type": "code",
   "execution_count": null,
   "metadata": {},
   "outputs": [],
   "source": [
    "%%bash\n",
    "docker image build --tag ubuntujava .\n",
    "docker container run -it ubuntujava"
   ]
  }
 ],
 "metadata": {
  "kernelspec": {
   "display_name": "Python 3",
   "language": "python",
   "name": "python3"
  },
  "language_info": {
   "codemirror_mode": {
    "name": "ipython",
    "version": 3
   },
   "file_extension": ".py",
   "mimetype": "text/x-python",
   "name": "python",
   "nbconvert_exporter": "python",
   "pygments_lexer": "ipython3",
   "version": "3.7.3"
  }
 },
 "nbformat": 4,
 "nbformat_minor": 2
}
