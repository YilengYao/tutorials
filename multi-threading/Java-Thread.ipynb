{
 "cells": [
  {
   "cell_type": "markdown",
   "metadata": {},
   "source": []
  },
  {
   "cell_type": "markdown",
   "metadata": {},
   "source": [
    "Process: a unit of execution that has its own memoryspace.\n",
    "\n",
    "Each instance of a JVM runs as a process (which is not true for all JVM implementations, but for most of them). When we run a Java console application, we're kicking off a process. When we run a JavaFx application, we're kicking off a process.\n",
    "\n",
    "Many people will use the terms process and application interchangeably, and we will too. If one Java application is running and we run another one, each application has its own memory space of *heap*. The first Java applicaiton can't access the heap that belongs to the seecond Java application. The heap isn't shared between them. They each have their own.\n",
    "\n"
   ]
  },
  {
   "cell_type": "markdown",
   "metadata": {},
   "source": [
    "### Threads\n",
    "A thread is a unit of execution within a process. Each process can have multiple threads. In Java, every process (or application) has at least one thread, the *main thread* (for UI applications, this is called thee *JavaFX application thread*). In fact, just about every Java process also has multiple system threads that handle tasks like memory management and I/O.\n",
    "\n",
    "We, developers, don't explicitly create and code those threads. Our code runs on the main thread, or in other threads that we explicitly create.\n",
    "\n",
    "Creating a thread doesn't require as many resources as creating a process. Every thread created by a process shares the process's memory and ifles. This can create problems.\n",
    "\n",
    "In adition to the process's memory, or heap, each thread has a thread stack, which is the memory that only that thread can access.\n"
   ]
  },
  {
   "cell_type": "markdown",
   "metadata": {},
   "source": [
    "Every Java application runs as a single process, and each process can have multiple threads. Every process has a heap, and every thread has a thread stack."
   ]
  },
  {
   "cell_type": "markdown",
   "metadata": {},
   "source": [
    "# Why use multiple threads in our application?\n",
    "Why not just use the main thread? There are 2 reasons:\n",
    "1. - Sometimes we want to perform a task that's going to take a long time. For example, we want to query a database, or we might want to fetch data from somwhere on the internet. We can do this on the main thread, but the code within each main thread executes in a linear fashion. The main thread won't be able to do anything else while it's waiting for the data. \n",
    " - Another way of putting this is that the execution of the main thread will be suspended. It as to wait for the data to be returned before it can execute the enxt line of code. To the user, this could appear as if our application has died or is frozen, especially when we're dealing with a UI application.\n",
    " - Instead of tying up the main thread, we can create another thread and executed the long-running task on that thread. This would free up the main thread, so that it can continue executing. It can report progress or accept user input while the long running task continues to execute in the background.\n",
    "2. - Second Reason we might want to use threads is because an API requires us to provide one. Sometimes we have to provide the code that will run when a method we've called reaches a certain point in it's execution. In this instance, we usually don't create the thread. We pass in the code that we want to run on the thread."
   ]
  },
  {
   "cell_type": "markdown",
   "metadata": {},
   "source": [
    "# Concurrency \n",
    "Concurrency which referes to a napplication doing more than one thing at a time. That does not mean that the application is doing more than one thing at the seame time. It means that progress can be made on more than one task.\n",
    "\n",
    "Lets say that an application wants to download data and draw a shape on the screen.\n",
    "\n",
    "In a concurrent application, it can download a bit of data, then switch to drawing part of the shape, then switch back to downloading data, then switch to drawing the shape ...\n",
    "\n",
    "Concurrenncy means that one task doesn't have to be completed before another can start. Java provides thread related classes so that we can create Java concurrent applications."
   ]
  },
  {
   "cell_type": "markdown",
   "metadata": {},
   "source": [
    "When working with threads, we are at the mercy of the JVM and the OS when it comes to when threads are scheduled to run."
   ]
  },
  {
   "cell_type": "markdown",
   "metadata": {},
   "source": [
    "You should call a thread's start method instead of run method. If you use the run method, the run method will be run on the main thread."
   ]
  },
  {
   "cell_type": "code",
   "execution_count": null,
   "metadata": {},
   "outputs": [],
   "source": []
  }
 ],
 "metadata": {
  "kernelspec": {
   "display_name": "Java",
   "language": "java",
   "name": "java"
  },
  "language_info": {
   "codemirror_mode": "java",
   "file_extension": ".jshell",
   "mimetype": "text/x-java-source",
   "name": "Java",
   "pygments_lexer": "java",
   "version": "11.0.9+11-LTS"
  }
 },
 "nbformat": 4,
 "nbformat_minor": 4
}
