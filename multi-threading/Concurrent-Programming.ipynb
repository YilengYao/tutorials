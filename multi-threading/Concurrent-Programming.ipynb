{
 "cells": [
  {
   "cell_type": "markdown",
   "metadata": {},
   "source": [
    "# Concurent programming"
   ]
  },
  {
   "cell_type": "markdown",
   "metadata": {},
   "source": [
    "Sequential Programming: is a form of computing that executes the same sequence of instructions and always produces the same result\n",
    "- execution is deterministic (assuming no deliberate use of randomness)\n",
    "- Textual order of the source code doesn't define the order of execution\n",
    "\n",
    "Concurrent Programming: is a form of computing where threds cn run simultaneously\n",
    "\n",
    "Different executions of a concurent program may produce different instruction offerings:\n",
    "- Texture order of source code define the order of execution\n",
    "\n",
    "```\n",
    "new Thread(() ->\n",
    "           computationA()).\n",
    "           Start();\n",
    "\n",
    "new Thread(() -> \n",
    "           computationB()).\n",
    "           Start();\n",
    "           \n",
    "new Thread(() ->\n",
    "           computationC()).\n",
    "           start();\n",
    "```\n",
    "computationA(), computationB(), and computationC() can run in any order after their threads start executing.\n",
    "- Operations are permitted to overlap in time across multiple cores\n",
    "- Concurrent programming is often used to offlead work form user(UI) thread to background thread(s)\n",
    "- - Background thread(s) can block\n",
    "- - UI threads does not block\n",
    "- - Any mutable state shared between these threads must be protectted to avoid concurrency hazards\n",
    "- - - Motivates the need for various types of synchronizers"
   ]
  },
  {
   "cell_type": "markdown",
   "metadata": {},
   "source": [
    "## Concurrency in Java\n",
    "Concurrency is commmonly used to offload work from the user interface(UI) threads to background threads()\n",
    "\n",
    "Java Thread is an object \n",
    "- it contains methods and field\n",
    "\n",
    "|Class Thread|\n",
    "|-|\n",
    "|java.lang Object java.lang.Thread|\n",
    "|All Implemented Interface: Runnable|\n",
    "|Direct Known Subclasses: ForkJoinWorkerThread|\n",
    "|public class Thread extends Object implements Runnable|\n",
    "|A thread is a thread of execution in a program. lThe Java Virtual Machine allows an application oto have multiple threads of execution running concurrently|\n",
    "|Every thread has a priority. Threads with higher priority are executed in preference to threads with lower priority. Each thread may or may not also be marked as a daemon. When code running in some thread creates a new Thread object, the new thread has its prtiority initially set equal to the priority of the creating thread, and is a daemon thread if and only if the creating thread is a daemon.\n",
    "\n",
    "Each Java thread has its own unique stack, registers, thread-specific storage, etc.\n",
    "\n",
    "<img src=\"media/threadstack.png\"/>"
   ]
  },
  {
   "cell_type": "markdown",
   "metadata": {},
   "source": [
    "A Java thread can be in one of the various states\n",
    "- a Java thread starts out in `New` state\n",
    "\n",
    "<img src=\"media/threadstate.png\"/>\n",
    "\n",
    "Concurrent Java threads interact via shared objects and/or messages\n",
    "\n",
    "### Shared objects\n",
    "- Synchronized concurrent operations on objects to ensure certain properties\n",
    "- - Mutual Exclusion\n",
    "- - - Interation between treads does not corrupt shared mutable data\n",
    "- - Coordination\n",
    "- - - Operations occur in the right order at the right time and under the right conditions\n",
    "<img src=\"media/sharedobject.png\"/>\n",
    "\n",
    "Example of Java synchronizers:\n",
    "- Synchronized statements/methods\n",
    "- Reentrant locks and intrinsic locks\n",
    "- Atomic operations\n",
    "- Semaphores\n",
    "- Condition objects\n",
    "- \"Compare-and-swap\" CAS operation in sun.misc.unsafe\n",
    "\n",
    "### Message passing\n",
    "- Send messages(s) from producer thread(s) to consumer thread(s) via a threaed-safe queue\n",
    "<img src=\"media/messagepassing.png\"/>\n",
    "\n",
    "Examples of Java thread-safe quueues\n",
    "- Array and linked blocking queues\n",
    "- Priority blocking queue\n",
    "- Synchronous queue\n",
    "- Concurrent linked queue\n",
    "\n",
    "\n",
    "Java shard objects and message passing are designed to share resources safely and avoid concurrency hazards\n",
    "- Race conditions: race conditions occur when a program depend upon the sequence or timing of threads for it to operate properly\n",
    "- Memory inconsistencies: errors that occur when different threads have inconsistent views of what should be the same data\n",
    "- Deadlocks: Occurs when 2+ competing threads are waiting for the others to finish, and huse never ever do."
   ]
  },
  {
   "cell_type": "markdown",
   "metadata": {},
   "source": [
    "# Introduction to Threads\n",
    "Concurrent apps use threads to simultaneously run multiple computations that potentially interact with each other\n",
    "- Threads are the most basic way of obtaining concurrency in Java\n",
    "- A Java thread is a unit of computation that runs in the context of a process\n",
    "- Process: A process is a unit of resource allocation and protection in Java\n",
    "- A Java thread runs on one or more cores during its lifetime\n",
    "- Java enables multiple threads to run in multiple processes atop multiple cores\n",
    "<img src=\"media/processthread.png\"/>\n",
    "\n",
    "- Java threads running in the same process can communicate with each other via shard objects or message passing\n",
    "\n",
    "- Java threads in different processes communicate via shard memory or inter-process communication (IPC) mechanism\n",
    "<img src=\"media/interprocesscommunication.png\"/>\n"
   ]
  },
  {
   "cell_type": "markdown",
   "metadata": {},
   "source": [
    "Each Java thread leverage unique \"state\" from the underylying OS thread, e.g., a runtime stack, an instruction counter and other registers.\n",
    "<img src=\"media/underlyingosthread.png\"/>\n"
   ]
  },
  {
   "cell_type": "markdown",
   "metadata": {},
   "source": [
    "## Ways of Giving Code to Java Threads\n",
    "Java threads must be given code to run\n",
    "- Do not use the \"no argument\" Thread constructor directly!!!!\n",
    "```\n",
    "Thread t = new Thread();\n",
    "t.start();\n",
    "```\n",
    "\n",
    "There are 2 ways to give code to Java Threads\n",
    "1. Extend the Thread class\n",
    "```\n",
    "public class GCDThread extends Thread {\n",
    "    public void run() {\n",
    "        // code to run goes here\n",
    "    }\n",
    "}\n",
    "```\n",
    "Create and start a thread using a named subclass of Thread\n",
    "```\n",
    "Thread gCDThread = new GCDThread();\n",
    "gCDThread.start();\n",
    "```\n",
    "2. Implement the Runnable interface\n",
    "- Implement the run() hook method of an interface to define the thread's computations\n",
    "```\n",
    "public class GCDRunnable implements Runnable {\n",
    "    public void run() {\n",
    "        // code to run goes here\n",
    "    }\n",
    "}\n",
    "Runnable gCDRunnable = new GCDRunnable();\n",
    "new Thread(gcdRunnable).start();\n",
    "```\n",
    "Pass the runnable to a new thread object and start it.\n",
    "\n",
    "\n",
    "or we can Create and start a thead by using an anonymous inner class as the runnable\n",
    "```\n",
    "new Thread(new Runnable() {\n",
    "    public void run(){\n",
    "        // code to run goes here\n",
    "    }\n",
    "}).start();\n",
    "```\n",
    "3. Use Java 8 lambda expression (variant of using Runnable interface)\n",
    "- A lambda expression is an unnamed black of code (with optional parameters) that can be passed around and execute later\n",
    "```\n",
    "new Thread(() -> {\n",
    "    // code to run goes here\n",
    "}).start();\n",
    "```\n",
    "- This approach is unwieldy if the cod to run is long, complex, or needs to be used multiple times\n",
    "- Another approach is to store the runnable in a variable and pass it to the Thread constructor\n",
    "```\n",
    "Runnable r = () -> {\n",
    "    // code to run goes here\n",
    "};\n",
    "new Thread(r).start();\n",
    "```"
   ]
  },
  {
   "cell_type": "markdown",
   "metadata": {},
   "source": [
    "## Passing Parameters to a Java Thread\n",
    "- The run() methods defined in Java Thread and Runnable take no parameters\n",
    "```\n",
    "<<Java Class>>\n",
    "(C) Thread\n",
    "run(): void\n",
    "```\n",
    "-----------\n",
    "```\n",
    "<<Java Interface>>\n",
    "(I) Runnable\n",
    "run():void\n",
    "```\n",
    "\n",
    "### Parameters passed to run() can be supplied via one of two other means, e.g.\n",
    "1. As parameters to a class constructor\n",
    "- - By passing the parameter(s) when the runnable or thread is created"
   ]
  },
  {
   "cell_type": "code",
   "execution_count": 79,
   "metadata": {},
   "outputs": [],
   "source": [
    "public class MainActivity {\n",
    "    public void runnable() {\n",
    "        System.out.println(\"MainThread:\" + Thread.currentThread());\n",
    "        new Thread(new GCDRunnable(this)).start();\n",
    "    }\n",
    "    \n",
    "    public void println(String s) {        \n",
    "        System.out.println(s);\n",
    "    }\n",
    "    \n",
    "}"
   ]
  },
  {
   "cell_type": "code",
   "execution_count": 80,
   "metadata": {},
   "outputs": [],
   "source": [
    "public class GCDRunnable implements Runnable {\n",
    "    private final MainActivity mActivity;\n",
    "    \n",
    "    public GCDRunnable(MainActivity mainActivity) {\n",
    "        mActivity = mainActivity;\n",
    "    }\n",
    "    \n",
    "    public void run() {\n",
    "        final String threadString = \"Spin off thread: \" + Thread.currentThread().toString(); \n",
    "        mActivity.println(threadString);\n",
    "    }\n",
    "}"
   ]
  },
  {
   "cell_type": "code",
   "execution_count": 81,
   "metadata": {},
   "outputs": [],
   "source": [
    "MainActivity main = new MainActivity();\n",
    "main.runnable();"
   ]
  },
  {
   "cell_type": "markdown",
   "metadata": {},
   "source": [
    "2. As parameters to `setter` methods"
   ]
  },
  {
   "cell_type": "code",
   "execution_count": 148,
   "metadata": {},
   "outputs": [],
   "source": [
    "public class MainActivity {\n",
    "    public void runnable() {\n",
    "        System.out.println(\"MainThread:\" + Thread.currentThread());\n",
    "        Thread gCDThread = new GCDThread().setActivity(this);\n",
    "        gCDThread.start();\n",
    "    }\n",
    "    \n",
    "    public void println(String s) {        \n",
    "        System.out.println(s);\n",
    "    }\n",
    "}"
   ]
  },
  {
   "cell_type": "code",
   "execution_count": 149,
   "metadata": {},
   "outputs": [],
   "source": [
    "public class GCDThread extends Thread {\n",
    "    private MainActivity mActivity;\n",
    "    \n",
    "    public GCDThread setActivity(MainActivity activity) {\n",
    "        this.mActivity = activity;\n",
    "        return this;\n",
    "    }\n",
    "    \n",
    "    public void run() {\n",
    "        final String threadString = \"Spin off thread: \" + Thread.currentThread().toString(); \n",
    "        mActivity.println(threadString);\n",
    "    }\n",
    "}"
   ]
  },
  {
   "cell_type": "code",
   "execution_count": 150,
   "metadata": {},
   "outputs": [],
   "source": [
    "MainActivity main = new MainActivity();"
   ]
  },
  {
   "cell_type": "code",
   "execution_count": 151,
   "metadata": {},
   "outputs": [
    {
     "name": "stdout",
     "output_type": "stream",
     "text": [
      "MainThread:Thread[IJava-executor-6,5,main]\n",
      "Spin off thread: Thread[Thread-33,5,main]"
     ]
    }
   ],
   "source": [
    "main.runnable();"
   ]
  },
  {
   "cell_type": "markdown",
   "metadata": {},
   "source": [
    "Use Fluent interface to pass parameter(s) when the runnable or thread is created."
   ]
  },
  {
   "cell_type": "markdown",
   "metadata": {},
   "source": [
    "# How Java Threads Run\n",
    "There are multiple layers involved in creating and starting a thread\n",
    "\n",
    "|Treading and Synchronization Packages|\n",
    "|-|\n",
    "|Java Execution Environment (e.g., JVM, ART, etc)|\n",
    "|System Libraries|\n",
    "|Operating System Kernal|\n",
    "|Cores|\n",
    "\n",
    "- Creating a new thread object doens't allocate a run-time call stack of activation records\n",
    "- The runtime stack and other thread resources are only allocated after the start() method is called\n",
    "- The Java execution environment calls a thresd's run() hood method after start() creates its resources\n",
    "- Each thread can run concurrently and block independently\n",
    "- Any code can generally run in a thread\n",
    "- A thread can live as long is its run() hook method hasn't returned\n",
    "- - The underlying thread scheduler can suspend and resume a thread many times during its lifecycle\n",
    "- - - Scheduler operations are largely invisible to the user code, as long as synchronization is performed properly\n",
    "- For a thread to execute `forever`, its run() hook method needs an infinite loop\n",
    "```\n",
    "public void run() {\n",
    "    while(true) { ... }\n",
    "}\n",
    "```\n",
    "- The tread is dead after run() returns \n",
    "- - A thread can end normally\n",
    "- - Or an uncought exception can be thrown\n",
    "- The join() method allows one thread to waif for another thread to complete, which is a simple form of `barrier synchronization`\n",
    "- - Or a thread can simply evaporate!\n",
    "- - The Java execution environment recycles thread resources\n",
    "- - - e.g., runtime stack of activation records, thread-specific storage, etc.\n",
    "<img src=\"media/runningthreads.png\" />"
   ]
  },
  {
   "cell_type": "markdown",
   "metadata": {},
   "source": [
    "### Key Methods in Java Thread Class\n",
    "Certain Java Thread class methods are used in many concurrent Java programs, e.g.,\n",
    "- `void setDaemon()`\n",
    "- - Marks thread as `daemon`\n",
    "- `void start()`\n",
    "- - Allocates thread resources and initiates thread execution by calling the run() hook method\n",
    "- - the start() method can only be called once per thread object\n",
    "- `void run()`\n",
    "- - Hook method where user code is supplied\n",
    "- `void join()`\n",
    "- - Waits for a thread to finish\n",
    "- `void sleep(long time)`\n",
    "- - Sleeps for given time in ms\n",
    "- `Thread currentThread()`\n",
    "- - Object for current Thread\n",
    "- `void interrupt()`\n",
    "- - Post an interrupt request to a Thread\n",
    "- `boolean isInterrupted()`\n",
    "- - Tests whether a thread has been interrupted\n",
    "- `boolean interrupted()`\n",
    "- - Test whether current thread has been interrupted \n",
    "- `void setPriority(int newPriority)` and `int getPriority()`\n",
    "- - Set and get the prioprity of a Thread"
   ]
  },
  {
   "cell_type": "code",
   "execution_count": null,
   "metadata": {},
   "outputs": [],
   "source": []
  }
 ],
 "metadata": {
  "kernelspec": {
   "display_name": "Java",
   "language": "java",
   "name": "java"
  },
  "language_info": {
   "codemirror_mode": "java",
   "file_extension": ".jshell",
   "mimetype": "text/x-java-source",
   "name": "Java",
   "pygments_lexer": "java",
   "version": "11.0.9+11-LTS"
  }
 },
 "nbformat": 4,
 "nbformat_minor": 4
}
