{
 "cells": [
  {
   "cell_type": "markdown",
   "metadata": {},
   "source": [
    "## What is an API?\n",
    "- An API is a set of definitions and protocols for building and integrating application software. API stands for application programming interface.\n",
    "- In terms of definition, APIs connect pieces of software together. They 'glue' together any required information components around a system and are often 'released' to third-part programmers who will want to connect application emelents and services together."
   ]
  },
  {
   "cell_type": "markdown",
   "metadata": {},
   "source": [
    "## REST APIs\n",
    "- Api's that are related to web or internet\n",
    "\n",
    "#### Why are REST APIs important to my business?\n",
    "Organization that integrate rather than migrate:\n",
    "- are more productive\n",
    "- have the ability to reduce time to market for new applications\n",
    "- can effectively leverage their existing infrastructure\n",
    "\n",
    "APIs enables business"
   ]
  },
  {
   "cell_type": "markdown",
   "metadata": {},
   "source": [
    "## Full API LifeCycle\n",
    "1. Plan\n",
    "1. Design\n",
    "1. Implementation\n",
    "1. Testing\n",
    "1. Publication\n",
    "1. Managing\n",
    "1. Onboarding and monetizing\n",
    "\n",
    "#### 1. Plan\n",
    "API first\n",
    "- Applications built with an API-first platform can easily integrate with other systems and applications and eliminate silos of information caused by legacy or departmental solutions.\n",
    "Benefits:\n",
    "- Earlier validation\n",
    "- Clear abstraction layer\n",
    "- Decoupling dependencies\n",
    "- Faster growth\n",
    "\n",
    "People who plans the API:\n",
    "- Prepares the overall plan on how to expose an enterprise's digital assets using APIs.\n",
    "- The plan can include identifying the list of APIs\n",
    "- Design (including parameters and types)\n",
    "- Visibility scope\n",
    "- Documentation of the API is comprehensive\n",
    "\n",
    "Visibility Scope\n",
    "\n",
    "|Private|Partner|Public|\n",
    "|--|--|--|\n",
    "|The API is only for use internally. This gives companies the most control over their API.| The API is shared with specific business partners. This can provide additional revenuse streams without comprimising quality.| The API is available to everyone. This allows third parties to develop apps that interaact with your API and can be the source for innovation.|\n",
    "\n",
    "#### 2. Design\n",
    "APT RESTful\n",
    "\n",
    "Guiding Principles of REST\n",
    "- Client-server\n",
    "- Stateless\n",
    "- Cacheable\n",
    "- Uniform interface\n",
    "- Layered system\n",
    "- Code on demand\n",
    "\n",
    "\n",
    "URI\n",
    "\n",
    "|https://|api.mycompany.com/|name-of-api/|resource|\n",
    "|--|--|--|--|\n",
    "|HTTP or HTTPS|Domain|API name|Resource|\n"
   ]
  },
  {
   "cell_type": "markdown",
   "metadata": {},
   "source": [
    "#### Method\n",
    "To make a REST API request, you combine HTTP `GET`, `POST`, `PUT`, `PATCH`, or `DELETE` method, the URL to the API service, the URI to the resource to query, submit datat to, update, or delete, and one or more **HTTTP request headers**\n",
    "\n",
    "#### Versioning\n",
    "\n",
    "|https://|api.mycompany.com/|name-of-api/|v2/|resource|\n",
    "|--|--|--|--|--|\n",
    "|HTTP or HTTPS|Domain|API name|Version|Resource|\n",
    "\n",
    "#### Open Api Specification\n",
    "Swagger is use to document specification of apis"
   ]
  },
  {
   "cell_type": "markdown",
   "metadata": {},
   "source": [
    "#### 3. Implementation\n",
    "SDK/Code Gen\n",
    "\n",
    "Code generator cna simplify your build process by generatin server stubs and client SDKs for any API\n",
    "\n",
    "#### API Gateway\n",
    "\n",
    "#### 4. Testing\n",
    "- User server stubs and client SDKs to yesst your API even before the final implementation.\n",
    "- Mock using API gateway or mock tools\n",
    "- Create a Test Environment\n",
    "- Unblock other teams\n",
    "\n",
    "#### 5. Publication\n",
    "- API Management tool + DevOps\n",
    "- Publish your API\n",
    "- Multiple active versions of the same API\n",
    "\n",
    "##### 6. Manage API\n",
    "- APIs up and running\n",
    "- Update APIs\n",
    "- Monitoring\n",
    "- Retire deprecated APIs\n",
    "\n",
    "#### 7. Onboarding and monetizing\n",
    "\n",
    "Developer portal"
   ]
  },
  {
   "cell_type": "code",
   "execution_count": null,
   "metadata": {},
   "outputs": [],
   "source": []
  },
  {
   "cell_type": "code",
   "execution_count": null,
   "metadata": {},
   "outputs": [],
   "source": []
  }
 ],
 "metadata": {
  "kernelspec": {
   "display_name": "Java",
   "language": "java",
   "name": "java"
  },
  "language_info": {
   "codemirror_mode": "java",
   "file_extension": ".jshell",
   "mimetype": "text/x-java-source",
   "name": "Java",
   "pygments_lexer": "java",
   "version": "11.0.9+11-LTS"
  }
 },
 "nbformat": 4,
 "nbformat_minor": 4
}
