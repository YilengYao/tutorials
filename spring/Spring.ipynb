{
 "cells": [
  {
   "cell_type": "markdown",
   "metadata": {},
   "source": [
    "# Spring Framework\n",
    "official website www.spring.io\n",
    "\n",
    "Why Spring? Simplify Java Enterprise Development\n",
    "\n",
    "### Goals of Spring\n",
    "- Lightweight development with Java POjos (Plain-Old-Java-Objects)\n",
    "- Dependency injection to promote loose coupling\n",
    "- Declarative programming with Aspect-Oriented-Programming (AOP)\n",
    "- Minimize boilerplate Java code\n",
    "\n",
    "## Core Containers\n",
    "Factory for creating beans, <br>\n",
    "Manage bean dependency\n",
    "- Beans\n",
    "- Core\n",
    "- SpEL\n",
    "- Context\n",
    "\n",
    "## Infrastructure\n",
    "AOP: Aspect Oriented Programming, Add functionality to objects declaratively, logging, security, transactions, etc...\n",
    "- AOP\n",
    "- Aspects\n",
    "- Instrumentation: Can create Java agents to remotely monitor your app with JMX (Java Management Extension)\n",
    "- Messaging\n",
    "\n",
    "## Data Access Layer\n",
    "Communicatng with Database\n",
    "- JDBC: helper classes for accessing database\n",
    "- ORM: Object to Relatinal Mapping\n",
    "- Transactions: Transaction manager for method and database method uses AOP\n",
    "- OXM\n",
    "- JMS: Java Message Service\n",
    "\n",
    "## Web Layer\n",
    "All Web related classes. Home of the Spring MVC framework\n",
    "- Servlet\n",
    "- WebSocket\n",
    "- Web\n",
    "- Portlet"
   ]
  },
  {
   "cell_type": "markdown",
   "metadata": {},
   "source": [
    "## Test Layer\n",
    "Supports Test-Driven-Development (TDD) <br>\n",
    "Mock objects and out-of-container testing\n",
    "- Unit\n",
    "- Integration\n",
    "- Mock\n",
    "\n",
    "## Spring \"Projects\"\n",
    "Additional Spring modules built-on top of the core Spring Framework<br>\n",
    "Only use what you need ...\n",
    "- Spring Cloud, Spring Data\n",
    "- Spring Batch, Spring Security\n",
    "- Spring for LDAP, Spring Web Services\n",
    "\n",
    "# Install Tomcat\n",
    "got to http://tomcat.apache.org/ download tomcat\n",
    "unzip the tomcat file, which we already done here\n",
    "\n",
    "Start tomcat"
   ]
  },
  {
   "cell_type": "code",
   "execution_count": 2,
   "metadata": {},
   "outputs": [
    {
     "name": "stdout",
     "output_type": "stream",
     "text": [
      "Tomcat started.\n"
     ]
    }
   ],
   "source": [
    "%%bash\n",
    "# start up tomcat server\n",
    "apache-tomcat-8.5.49/bin/startup.sh "
   ]
  },
  {
   "cell_type": "markdown",
   "metadata": {},
   "source": [
    "go to http://localhost:8080/\n",
    "\n",
    "To shutdown Tomcat"
   ]
  },
  {
   "cell_type": "code",
   "execution_count": 3,
   "metadata": {},
   "outputs": [],
   "source": [
    "%%bash\n",
    "# shut down tomcat server\n",
    "apache-tomcat-8.5.49/bin/shutdown.sh"
   ]
  },
  {
   "cell_type": "markdown",
   "metadata": {},
   "source": [
    "# Spring Container\n",
    "Primary Functions\n",
    "1. Create and manage object (Inversion of Control)\n",
    "2. Inject object's dependencies (Dependency Injection)\n",
    "\n",
    "#### Configuring Sprint Container\n",
    "- XML configuration file\n",
    "- Java Annotations\n",
    "- Java Source Code\n",
    "\n",
    "#### Spring Development Process\n",
    "1. Configure you Spring Beans\n",
    "2. Create a Spring Container\n",
    "3. Retrieve Beans from Spring Container\n",
    "\n",
    "Step 1. Configure your Spring Beans"
   ]
  },
  {
   "cell_type": "raw",
   "metadata": {},
   "source": [
    "// applicationContext.xml\n",
    "<beans>\n",
    "    <bean id=\"myCoach\"\n",
    "          class=\"com.yi.springdemo.BaseballCoach\">\n",
    "    </bean>\n",
    "</bean>"
   ]
  },
  {
   "cell_type": "markdown",
   "metadata": {},
   "source": [
    "Step 2: Create a Spring Container\n",
    "- Spring container is generally known as ApplicationContext\n",
    "- Specialized implementations\n",
    "- - ClassPathXmlApplicationContext\n",
    "- - AnnotationConfigApplicationContext\n",
    "- - GenericWebApplicationContext"
   ]
  },
  {
   "cell_type": "raw",
   "metadata": {},
   "source": [
    "// create a spring container\n",
    "ClassPathXmlApplicationContext context = new ClassPathXmlApplicationContext(\"applicationContext.xml\");"
   ]
  },
  {
   "cell_type": "markdown",
   "metadata": {},
   "source": [
    "Step 3: Retrieve Beans from Container"
   ]
  },
  {
   "cell_type": "raw",
   "metadata": {},
   "source": [
    "// retrieve bean from spring container\n",
    "Coach theCoach = context.getBean(\"myCoach\", Coach.class);\n",
    "\n",
    "// call methods on the bean\n",
    "System.out.println(theCoach.getDailyWorkout());\n",
    "\n",
    "// close the content\n",
    "context.close();"
   ]
  },
  {
   "cell_type": "markdown",
   "metadata": {},
   "source": [
    "## Spring Bean\n",
    "A Spring Bean is simply a Java object. When Java objects are created by the Spring Container, the Spring refers to them as \"Spring Beans\".\n",
    "\n",
    "Spring Beans are created from normal Java classes jsut liek Java Objects.\n",
    "\n",
    "A bean is an object that is instantiated, assembled, and otherwised managed by a Spring IoC container. Otherwise, a bean is simply one of many objects in your application. Beans, and the dependencies among them, are reflected in the configuration metadata used by a container."
   ]
  },
  {
   "cell_type": "markdown",
   "metadata": {},
   "source": [
    "# Dependency Injection\n",
    "The dependency inversion principle.\n",
    "\n",
    "The client delegates to calls another object the responsibility of providing its dependencies.\n",
    "\n",
    "Basically, you are outsourcing the construction and injection of your object to an external entity.\n",
    "\n",
    "## Injection Types\n",
    "There are many types of injection with Spring\n",
    "\n",
    "We will cover the 2 most commong\n",
    "- Constructor Injection\n",
    "- Setter Injection\n",
    "\n",
    "### Constructor Injection Development Process\n",
    "1. Define the dependency interface and class\n",
    "2. Create a constructor in your class for injections\n",
    "3. Configure the dependency injection in Spring config file\n",
    "\n",
    "Step 1: Define the dependecny interface and class"
   ]
  },
  {
   "cell_type": "raw",
   "metadata": {},
   "source": [
    "// FortuneService.java\n",
    "public interface FortuneService {\n",
    "    public String getFortune();\n",
    "}"
   ]
  },
  {
   "cell_type": "raw",
   "metadata": {},
   "source": [
    "// HappyFortuneService.java\n",
    "public class HappyFortuneService implements FortuneService {\n",
    "\n",
    "    public String getFortune() {\n",
    "        return \"Today is your lucky day!\";\n",
    "    }\n",
    "}"
   ]
  },
  {
   "cell_type": "markdown",
   "metadata": {},
   "source": [
    "Step 2: Create a constructor in your class for injections"
   ]
  },
  {
   "cell_type": "raw",
   "metadata": {},
   "source": [
    "// BaseballCoach.java\n",
    "public class BaseballCoach implements Coach {\n",
    "    private FortuneService fortuneService; // Define field\n",
    "    \n",
    "    public BaseballCoach(FortuneService theFortuneService) {\n",
    "        fortuneService = theFortuneService; // Define constructor\n",
    "    }\n",
    "    \n",
    "}"
   ]
  },
  {
   "cell_type": "markdown",
   "metadata": {},
   "source": [
    "Step 3: Configure the dependency injection in Spring config file"
   ]
  },
  {
   "cell_type": "raw",
   "metadata": {},
   "source": [
    "// applicationContext.xml\n",
    "<bean id=\"myFortuneService\"\n",
    "    class=\"com.yi.springdemo.HappyFortuneService\">\n",
    "</bean>\n",
    "\n",
    "<bean id=\"myCoach\"\n",
    "    class=\"com.yi.springdemo.BaseballCoach\">\n",
    "        <constructor-arg ref=\"myFortuneService\" />\n",
    "</bean>"
   ]
  },
  {
   "cell_type": "markdown",
   "metadata": {},
   "source": [
    "Application calling our method"
   ]
  },
  {
   "cell_type": "raw",
   "metadata": {},
   "source": [
    "// HelloSpringApp.java\n",
    "public class HelloSpringApp {\n",
    "\n",
    "    public static void main(String[] args) {\n",
    "\n",
    "        // load the spring config file\n",
    "        ClassPathXmlApplicationContext context = new ClassPathXmlApplicationContext(\"applicationContext.xml\");\n",
    "\n",
    "        // retrieve bean from spring container\n",
    "        Coach theCoach = context.getBean(\"myCoach\", Coach.class);\n",
    "\n",
    "        // call methods on the bean\n",
    "        System.out.println(theCoach.getDailyWorkout());\n",
    "        System.out.println(theCoach.getDailyFortune());\n",
    "        // close the content\n",
    "        context.close();\n",
    "    }\n",
    "}"
   ]
  },
  {
   "cell_type": "markdown",
   "metadata": {},
   "source": [
    "### Setter Injection Development Process\n",
    "Inject dependencies by calling setter methods on your class\n",
    "1. Create setter methods in your class for injections\n",
    "2. Configure the dependency injection in Spring config file\n",
    "\n",
    "Step 1: Create setter methods in your class for injection"
   ]
  },
  {
   "cell_type": "raw",
   "metadata": {},
   "source": [
    "// CricketCoach.java\n",
    "public class CricketCoach implements Coach {\n",
    "    private FortuneService fortuneService;\n",
    "    public CricketCoach() {\n",
    "    }\n",
    "    \n",
    "    public void setFortuneService(FortuneService fortuneService) {\n",
    "        this.fortuneService = fortuneService;\n",
    "    }\n",
    "    ...\n",
    "}"
   ]
  },
  {
   "cell_type": "markdown",
   "metadata": {},
   "source": [
    "Step 2: Configure the dependency injection in Spring config file"
   ]
  },
  {
   "cell_type": "raw",
   "metadata": {},
   "source": [
    "// applicationContext.xml\n",
    "<bean id=\"myFortuneService\"\n",
    "    class=\"com.yi.springdemo.HappyFortuneService\">\n",
    "</bean>\n",
    "\n",
    "<bean id=\"myCricketCoach\"\n",
    "    class=\"com.yi.springdemo.CricketCoach\">\n",
    "    \n",
    "    <property name=\"fortuneService\" ref=\"myFortuneService\" />\n",
    "</bean>"
   ]
  },
  {
   "cell_type": "markdown",
   "metadata": {},
   "source": [
    "when reading fortuneService from applicationContext.xml sping will look for the setFortuneService in CricketCoach.java"
   ]
  },
  {
   "cell_type": "markdown",
   "metadata": {},
   "source": [
    "Spring behind the scene\n",
    "\n",
    "from application applicationContext.xml, spring behind the scene creates"
   ]
  },
  {
   "cell_type": "raw",
   "metadata": {},
   "source": [
    "// Spring framework\n",
    "HappyFortuneService myFortuneService = new HappyFortuneService();\n",
    "\n",
    "CricketCoach myCricketCoach = new CricketCoach();\n",
    "\n",
    "myCricketCoach.setFortuneService(myFortuneService);"
   ]
  },
  {
   "cell_type": "markdown",
   "metadata": {},
   "source": [
    "Application calling our method"
   ]
  },
  {
   "cell_type": "raw",
   "metadata": {},
   "source": [
    "// SetterDemoApp.java\n",
    "public class SetterDemoApp {\n",
    "    public static void main(String[] args) {\n",
    "\n",
    "        // load the spring configuration file\n",
    "        ClassPathXmlApplicationContext context = new ClassPathXmlApplicationContext(\"applicationContext.xml\");\n",
    "\n",
    "        // retrieve bean from spring container\n",
    "        Coach cricketCoach = context.getBean(\"myCricketCoach\", CricketCoach.class);\n",
    "\n",
    "        // call methods on the bean\n",
    "        System.out.println(cricketCoach.getDailyWorkout());\n",
    "        System.out.println(cricketCoach.getDailyFortune());\n",
    "\n",
    "        // close the context\n",
    "        context.close();\n",
    "    }\n",
    "}"
   ]
  },
  {
   "cell_type": "markdown",
   "metadata": {},
   "source": [
    "## Injecting Literal Values\n",
    "1. Create setter methods in your class for injections\n",
    "2. Configure the injection in Spring config file\n",
    "\n",
    "Step 1: Create setter methods in your class for injections"
   ]
  },
  {
   "cell_type": "raw",
   "metadata": {},
   "source": [
    "// CricketCoach.java\n",
    "public class CricketCoach implements Coach {\n",
    "    private String emailAddress;\n",
    "    private String team;\n",
    "    \n",
    "    // public email setter method\n",
    "    public void setEmailAddress(String emailAddress) {\n",
    "        System.out.println(\"CricketCoach: inside setter method - setEmailAddress\");\n",
    "        this.emailAddress = emailAddress;\n",
    "    }\n",
    "\n",
    "    // public team setter method\n",
    "    public void setTeam(String team) {\n",
    "        System.out.println(\"CricketCoach: inside setter method - setTeam\");\n",
    "        this.team = team;\n",
    "    }\n",
    "\n",
    "    public String getEmailAddress() {\n",
    "        return emailAddress;\n",
    "    }\n",
    "\n",
    "    public String getTeam() {\n",
    "        return team;\n",
    "}"
   ]
  },
  {
   "cell_type": "markdown",
   "metadata": {},
   "source": [
    "Step 2: Configure the injection in Spring config file"
   ]
  },
  {
   "cell_type": "raw",
   "metadata": {},
   "source": [
    "// applicationContext.xml\n",
    "<bean id=\"myCricketCoach\"\n",
    "    class=\"com.yi.springdemo.CricketCoach\">\n",
    "    \n",
    "    <property name=\"fortuneService\" ref=\"myFortuneService\" />\n",
    "    \n",
    "    <property name=\"emailAddress\" value=\"yi@mail.com\" />\n",
    "    \n",
    "    <property name=\"team\" value=\"Sunrisers Hyderabad\" />\n",
    "</bean>"
   ]
  },
  {
   "cell_type": "markdown",
   "metadata": {},
   "source": [
    "value refer to literal values\n",
    "\n",
    "ref refers to other objects or dependencies\n",
    "\n",
    "Application calling our method"
   ]
  },
  {
   "cell_type": "raw",
   "metadata": {},
   "source": [
    "// SetterDemoApp\n",
    "public class SetterDemoApp {\n",
    "    public static void main(String[] args) {\n",
    "\n",
    "        // load the spring configuration file\n",
    "        ClassPathXmlApplicationContext context = new ClassPathXmlApplicationContext(\"applicationContext.xml\");\n",
    "\n",
    "        // retrieve bean from spring container\n",
    "        CricketCoach cricketCoach = context.getBean(\"myCricketCoach\", CricketCoach.class);\n",
    "\n",
    "        // call methods on the bean\n",
    "        System.out.println(cricketCoach.getDailyWorkout());\n",
    "        System.out.println(cricketCoach.getDailyFortune());\n",
    "\n",
    "        // call our new methods to get literal values\n",
    "        System.out.println(cricketCoach.getEmailAddress());\n",
    "        System.out.println(cricketCoach.getTeam());\n",
    "\n",
    "        // close the context\n",
    "        context.close();\n",
    "    }\n",
    "}"
   ]
  },
  {
   "cell_type": "markdown",
   "metadata": {},
   "source": [
    "## Inject values from a Properties files\n",
    "1. Create Properties File\n",
    "2. Load Properties Files in Spring config file\n",
    "3. Reference value from Properties File\n",
    "\n",
    "Step 1: Create Properties File"
   ]
  },
  {
   "cell_type": "raw",
   "metadata": {},
   "source": [
    "// sport.properties\n",
    "foo.email=yi@mail.com\n",
    "foo.team=Royal Challengers Bangalore"
   ]
  },
  {
   "cell_type": "markdown",
   "metadata": {},
   "source": [
    "Step 2: Load Properties File in Spring config file"
   ]
  },
  {
   "cell_type": "raw",
   "metadata": {},
   "source": [
    "//applicationContext.xml\n",
    "<context:property-placeholder location=\"classpath:sport.properties\"/>"
   ]
  },
  {
   "cell_type": "markdown",
   "metadata": {},
   "source": [
    "Step 3: Reference values from Properties file <br>\n",
    "using the ${property name}"
   ]
  },
  {
   "cell_type": "raw",
   "metadata": {},
   "source": [
    "//applicationContext.xml\n",
    "<bean id=\"myCricketcoach\"\n",
    "    class=\"com.yi.springdemo.Cricketcoach\">\n",
    "    \n",
    "    <property name=\"emailAddress\" value=\"${foo.email}\" />\n",
    "    <property name=\"team\" value=\"${foo.team}\" />\n",
    "</bean>"
   ]
  },
  {
   "cell_type": "markdown",
   "metadata": {},
   "source": [
    "# Bean <beans ... >\n",
    "    <bean id=\"myCoach\"\n",
    "        class=\"com.yi.springdemo.TrackCoach\"\n",
    "        scope=\"singleton\">\n",
    "    ...\n",
    "    </bean>\n",
    "</beans>s\n",
    "Scope references to the lifecycle of a bean\n",
    "- how long does the bean live?\n",
    "- How many instances are created?\n",
    "- How is the bean shared?\n",
    "\n",
    "Default Scope: Singleton\n",
    "\n",
    "| Scope | Description |\n",
    "| -- | -- |\n",
    "| Singleton | Create a single shared instance of the default bean. Default scope. |\n",
    "| Prototype | Creates a new bean instance for each container request. |\n",
    "| request | Scoped to an HTTP web request. Only used for web apps. |\n",
    "| session | Scoped to an HTTP web session. Only used for web apps. |\n",
    "| global-session | Scoped to a global HTTP web session. Only used for web apps. |\n",
    "\n",
    "## Singleton\n",
    "- Spring Container creates only one instance of the bean, by default\n",
    "- It is cached in memory\n",
    "- All request for the bean\n",
    "- - will return a SHARED reference to the SAME bean"
   ]
  },
  {
   "cell_type": "raw",
   "metadata": {},
   "source": [
    "<beans ...>\n",
    "    <bean id=\"myCoach\"\n",
    "        class=\"com.yi.springdemo.Trachcoach\">\n",
    "    </bean>\n",
    "</beans>"
   ]
  },
  {
   "cell_type": "markdown",
   "metadata": {},
   "source": [
    "The following code will reference to the same bean"
   ]
  },
  {
   "cell_type": "raw",
   "metadata": {},
   "source": [
    "Coach theCoach = context.getBean(\"myCoach\", Coach.class);\n",
    "\n",
    "... \n",
    "\n",
    "Coach alphaCoach = context.getBean(\"myCoach\", Coach.class);"
   ]
  },
  {
   "cell_type": "markdown",
   "metadata": {},
   "source": [
    "Explicitly Specify Bean Scope"
   ]
  },
  {
   "cell_type": "raw",
   "metadata": {},
   "source": [
    "<beans ... >\n",
    "    <bean id=\"myCoach\"\n",
    "        class=\"com.yi.springdemo.TrackCoach\"\n",
    "        scope=\"singleton\">\n",
    "    ...\n",
    "    </bean>\n",
    "</beans>"
   ]
  },
  {
   "cell_type": "markdown",
   "metadata": {},
   "source": [
    "## Prototype Scope\n",
    "new object for each request\n",
    "\n",
    "useful for keeping track of stateful data."
   ]
  },
  {
   "cell_type": "raw",
   "metadata": {},
   "source": [
    "<beans ... >\n",
    "    <bean id=\"myCoach\"\n",
    "          class=\"com.yi.springdemo.TrackCoach\"\n",
    "          scope=\"prototype\">\n",
    "            ...\n",
    "    </bean>\n",
    "</beans>                         "
   ]
  },
  {
   "cell_type": "markdown",
   "metadata": {},
   "source": [
    "In the following code theCoach and alphaCoach are referring to different objects."
   ]
  },
  {
   "cell_type": "raw",
   "metadata": {},
   "source": [
    "Coach theCoach = context.getBean(\"myCoach\", Coach.class);\n",
    "\n",
    "... \n",
    "\n",
    "Coach alphaCoach = context.getBean(\"myCoach\", Coach.class);"
   ]
  },
  {
   "cell_type": "markdown",
   "metadata": {},
   "source": [
    "## Bean Lifecycle\n",
    "Container Started -> Bean Instantiated -> Dependency Injection -> Internal Spring Processing -> Your Custome Init Method\n",
    "\n",
    "At this point the bean is easy to use and the container is shutdown -> Your Custom Destroy method -> Stop"
   ]
  },
  {
   "cell_type": "markdown",
   "metadata": {},
   "source": [
    "## Bean Lifeycle Methods / Hooks \n",
    "Hooks are custom code\n",
    "\n",
    "You can add custom code during bean initialization\n",
    "- Calling custom business logic methods\n",
    "- Setting up handles to resouces (db, sockets, file etc)\n",
    "\n",
    "You can add custome code during bean destruction\n",
    "- Calling custom business logic method\n",
    "- Clean up handles to resources (db, sockets, files etc)\n",
    "\n",
    "You can add custom code for initialization by using the attribute \"init-method\" in your configuration file"
   ]
  },
  {
   "cell_type": "raw",
   "metadata": {},
   "source": [
    "<beans ... >\n",
    "    <bean id=\"myCoach\"\n",
    "        class=\"com.yi.springdemo.TrackCoach\"\n",
    "    init-method=\"doMyStartupStuff\">\n",
    "    ...\n",
    "    </bean>\n",
    "</beans>"
   ]
  },
  {
   "cell_type": "markdown",
   "metadata": {},
   "source": [
    "You can add custome code for destroy method suing the atttribute \"destroy-method\" in your config"
   ]
  },
  {
   "cell_type": "raw",
   "metadata": {},
   "source": [
    "<beans ... >\n",
    "    <bean id=\"myCoach\"\n",
    "        class=\"com.yi.springdemo.TrackCoach\"\n",
    "    init-method=\"doMyStartupStuff\"\n",
    "    destroy-method=\"doMyCleanupStuff\">\n",
    "    ...\n",
    "    </bean>\n",
    "</beans>"
   ]
  },
  {
   "cell_type": "markdown",
   "metadata": {},
   "source": [
    "### Development process\n",
    "1. Define your methods for init and destroy\n",
    "2. Configure the method names in Spring config file\n",
    "\n",
    "#### Special Note: Defining init and destroy methods - Method Signitures\n",
    "Special Note about init and destroy Meethod Signatures\n",
    "- When using XML configuration, I want to provdie additional details regarding the method signatures of the `init-method` and `destroy-method`.\n",
    "\n",
    "Access modifier\n",
    "- The method can have any access modifier (public, protected, private)\n",
    "\n",
    "Return type\n",
    "- The motehod can have any return type. However, \"void\" is most commonly used. If you give a return type just note that you will not be able to capture the return value. As a result, \"void is commonly used.\n",
    "\n",
    "Method Name\n",
    "- The method can have any method name.\n",
    "\n",
    "Arguments\n",
    "- The method can not accept any arguments. This mehtod shoudl be no-arg.\n",
    "\n",
    "Step 1: Define your methods for init and destroy"
   ]
  },
  {
   "cell_type": "raw",
   "metadata": {},
   "source": [
    "// TrackCoach.java\n",
    "public class TrackCoach implements Coach {\n",
    "\n",
    "    private FortuneService fortuneService;\n",
    "    public TrackCoach() {\n",
    "\n",
    "    }\n",
    "    public TrackCoach(FortuneService theFortuneService) {\n",
    "        this.fortuneService = theFortuneService;\n",
    "    }\n",
    "\n",
    "    @Override\n",
    "    public String getDailyWorkout() {\n",
    "        return \"Run a hard 5k\";\n",
    "    }\n",
    "\n",
    "    @Override\n",
    "    public String getDailyFortune() {\n",
    "        return \"Just Do it\" + fortuneService.getFortune();\n",
    "    }\n",
    "\n",
    "    // add an init method\n",
    "    public void doMyStartupStuff() {\n",
    "        System.out.println(\"TrackCoach: inside method doMyStartupStuff\");\n",
    "    }\n",
    "\n",
    "    // add a destroy method\n",
    "    public void doMyCleanupStuffYoYo() {\n",
    "        System.out.println(\"TrackCoach:inside method doMyCleanupStuffYoYo\");\n",
    "    }\n",
    "}"
   ]
  },
  {
   "cell_type": "markdown",
   "metadata": {},
   "source": [
    "Step 2: Configure the method names in Spring config file"
   ]
  },
  {
   "cell_type": "raw",
   "metadata": {},
   "source": [
    "// beanLifeCycle-applicationContext.java\n",
    "<?xml version=\"1.0\" encoding=\"UTF-8\"?>\n",
    "<beans xmlns=\"http://www.springframework.org/schema/beans\"\n",
    "       xmlns:xsi=\"http://www.w3.org/2001/XMLSchema-instance\"\n",
    "       xmlns:context=\"http://www.springframework.org/schema/context\"\n",
    "       xsi:schemaLocation=\"http://www.springframework.org/schema/beans\n",
    "    http://www.springframework.org/schema/beans/spring-beans.xsd\n",
    "    http://www.springframework.org/schema/context\n",
    "    http://www.springframework.org/schema/context/spring-context.xsd\">\n",
    "\n",
    "    <!-- Define your beans here -->\n",
    "    <bean id=\"myFortuneService\"\n",
    "          class=\"com.yi.springdemo.HappyFortuneService\">\n",
    "    </bean>\n",
    "\n",
    "    <bean id=\"myCoach\"\n",
    "        class=\"com.yi.springdemo.TrackCoach\"\n",
    "        init-method=\"doMyStartupStuff\"\n",
    "        destroy-method=\"doMyCleanupStuffYoYo\">\n",
    "            <!-- set up constructor injection -->\n",
    "            <constructor-arg ref=\"myFortuneService\" />\n",
    "    </bean>\n",
    "\n",
    "</beans>"
   ]
  },
  {
   "cell_type": "markdown",
   "metadata": {},
   "source": [
    "Application calling our method"
   ]
  },
  {
   "cell_type": "raw",
   "metadata": {},
   "source": [
    "// BeanLifeCycleDemoApp.Java\n",
    "public class BeanLifeCycleDemoApp {\n",
    "    public static void main(String[] args) {\n",
    "        // load the spring configuration file\n",
    "        ClassPathXmlApplicationContext context = new ClassPathXmlApplicationContext(\"beanLifeCycle-applicationContext.xml\");\n",
    "\n",
    "        // retrieve bean from spring container\n",
    "        Coach theCoach = context.getBean(\"myCoach\", Coach.class);\n",
    "\n",
    "        System.out.println(theCoach.getDailyWorkout());\n",
    "\n",
    "\n",
    "        // close the context\n",
    "        context.close();\n",
    "    }\n",
    "}"
   ]
  },
  {
   "cell_type": "markdown",
   "metadata": {},
   "source": [
    "### Special Note aobut Destroy Lifecycle and Prototype Scope\n",
    "There is a subtle point you need to be aware of withy \"prototype\" scoped beans.\n",
    "\n",
    "For \"prototype\" scoped beans, Spring does not call the destroy method.\n",
    "\n",
    "In Contrast to the other scopes, Spring does not manage the complete lifecycle of a prototype bean: the container instantiates, configures, and otherwise assembles a prototype object, and hands it to the client, with no ruther record of the prototype instance.\n",
    "\n",
    "Thus, although initialization lifecycle callback methods are called on all objects regardless of scope, in the case of prototypes, configured destruction lifecycle callbacks are not called. The client code must clean up prototype-scoped objects and release expensive resources that the prototype beans are holding.\n",
    "\n",
    "This also applies to both XML configuration and Annotation based configurations."
   ]
  },
  {
   "cell_type": "markdown",
   "metadata": {},
   "source": [
    "# Java Annotations\n",
    "- Special albels/markers added to Java classes\n",
    "- Provide meta-datqa about the class\n",
    "- Processed at compile tiem or run-time for special processing\n",
    "\n",
    "## Annotation Example\n",
    "- @Override: tells the compiler that, we are going to implement an interface or extend a class, and we are going to override the method"
   ]
  },
  {
   "cell_type": "raw",
   "metadata": {},
   "source": [
    "public class TrackCoach implements Coach {\n",
    "    \n",
    "    @Override\n",
    "    public string getDailyWorkout() {\n",
    "        return \"Run a hard 5k\";\n",
    "    }\n",
    "}"
   ]
  },
  {
   "cell_type": "markdown",
   "metadata": {},
   "source": [
    "## Why Spring Configuration with Annotations\n",
    "- XML configuration can be verbose\n",
    "- Configure your Spring beans with Annotations\n",
    "- Annotations minimizes the XML configuration\n",
    "Annotations are like meta-data for your class\n",
    "\n",
    "## Annotations with Spring Development Process\n",
    "1. Enable component scanning in Spring config file\n",
    "2. Add the @Component Annotation to your Java classes\n",
    "3. Retrieve bean from Spring container\n",
    "\n",
    "Create a new project, and in the src of the project create a package \"com.yi.springdemo\"\n",
    "Step 1: Enable component scanning in Spring config file"
   ]
  },
  {
   "cell_type": "raw",
   "metadata": {},
   "source": [
    "// applicationContext.xml\n",
    "<?xml version=\"1.0\" encoding=\"UTF-8\"?>\n",
    "<beans xmlns=\"http://www.springframework.org/schema/beans\"\n",
    "       xmlns:xsi=\"http://www.w3.org/2001/XMLSchema-instance\"\n",
    "       xmlns:context=\"http://www.springframework.org/schema/context\"\n",
    "       xsi:schemaLocation=\"http://www.springframework.org/schema/beans\n",
    "        http://www.springframework.org/schema/beans/spring-beans.xsd\n",
    "        http://www.springframework.org/schema/context\n",
    "        http://www.springframework.org/schema/context/spring-context.xsd\">\n",
    "\n",
    "    <!-- add entry to enable component scanning -->\n",
    "    <context:component-scan base-package=\"com.yi.springdemo\" />\n",
    "\n",
    "</beans>"
   ]
  },
  {
   "cell_type": "markdown",
   "metadata": {},
   "source": [
    "Step 2: Add the @Component Annotation to your Java classes\n",
    "- This will register \"thatSillyCoach\" bean with spring"
   ]
  },
  {
   "cell_type": "raw",
   "metadata": {},
   "source": [
    "// TennisCoach.java\n",
    "package com.yi.springdemo;\n",
    "\n",
    "import org.springframework.stereotype.Component;\n",
    "\n",
    "@Component(\"thatSillyCoach\")\n",
    "public class TennisCoach implements Coach{\n",
    "\n",
    "    @Override\n",
    "    public String getDailyWorkout() {\n",
    "        return \"Practice your backhand volley\";\n",
    "    }\n",
    "}"
   ]
  },
  {
   "cell_type": "markdown",
   "metadata": {},
   "source": [
    "Step 3: Retrieve bean from Spring container\n",
    "- Same coding as before .. nothing changes"
   ]
  },
  {
   "cell_type": "raw",
   "metadata": {},
   "source": [
    "// AnnotationDemo.java\n",
    "public class AnnotationDemo {\n",
    "    public static void main(String[] args) {\n",
    "        // Read Spring config file\n",
    "        ClassPathXmlApplicationContext context = new ClassPathXmlApplicationContext(\"applicationContext.xml\");\n",
    "\n",
    "        // Get the bean from Spring container\n",
    "        Coach tennisCoach = context.getBean(\"thatSillyCoach\", Coach.class);\n",
    "\n",
    "        // Call a method on the bean\n",
    "        System.out.println(tennisCoach.getDailyWorkout());\n",
    "\n",
    "        // Close the context\n",
    "        context.close();\n",
    "    }\n",
    "}"
   ]
  },
  {
   "cell_type": "markdown",
   "metadata": {},
   "source": [
    "Step 3 retrieve the \"thatSillyCoach\" bean from the @Component annotation in Step 2"
   ]
  },
  {
   "cell_type": "markdown",
   "metadata": {},
   "source": [
    "## Spring Default Bean Ids\n",
    "- Default gean id: the class name, make first letter lower-case\n",
    "\n",
    "Class Name: TennisCoach -> Default Bean Id: tennisCoach\n",
    "\n",
    "eg."
   ]
  },
  {
   "cell_type": "raw",
   "metadata": {},
   "source": [
    "// TennisCoach.java\n",
    "package com.yi.springdemo;\n",
    "\n",
    "import org.springframework.stereotype.Component;\n",
    "\n",
    "@Component\n",
    "public class TennisCoach implements Coach{\n",
    "\n",
    "    @Override\n",
    "    public String getDailyWorkout() {\n",
    "        return \"Practice your backhand volley\";\n",
    "    }\n",
    "}"
   ]
  },
  {
   "cell_type": "raw",
   "metadata": {},
   "source": [
    "// AnnotationDemo.java\n",
    "public class AnnotationDemo {\n",
    "    public static void main(String[] args) {\n",
    "        // Read Spring config file\n",
    "        ClassPathXmlApplicationContext context = new ClassPathXmlApplicationContext(\"applicationContext.xml\");\n",
    "\n",
    "        // Get the bean from Spring container\n",
    "        Coach tennisCoach = context.getBean(\"tennisCoach\", Coach.class);\n",
    "\n",
    "        // Call a method on the bean\n",
    "        System.out.println(tennisCoach.getDailyWorkout());\n",
    "\n",
    "        // Close the context\n",
    "        context.close();\n",
    "    }\n",
    "}"
   ]
  },
  {
   "cell_type": "markdown",
   "metadata": {},
   "source": [
    "# Dependency Injection with Annotation and AutoWiring\n",
    "\n",
    "## Auto Wiring\n",
    "- For dependency injection, Spring can use auto wiring\n",
    "- Spring will look for a class that matches the property\n",
    "- - Matches by type: class or interface\n",
    "- Spring will inject it automatically .. hence it is autowired\n",
    "\n",
    "### Autowiring Example\n",
    "- Injecting FortuneService into a Coach implementation\n",
    "- Spring will scan @Components\n",
    "- Any one implements FortuneService interface???\n",
    "- If so, let's inject them. For example: HappyFortuneService\n",
    "\n",
    "## Autowiring Injection Types\n",
    "- Constructor Injection\n",
    "- Setter Injection\n",
    "- Field Injection"
   ]
  },
  {
   "cell_type": "markdown",
   "metadata": {},
   "source": [
    "## Constructor Injection Development Process\n",
    "1. Define the dependency interface and class\n",
    "2. Create a constructor in your class for injections\n",
    "3. Configure the dependency injection with @Autowire annotation\n",
    "\n",
    "Step 1. Define the dependency interface and class"
   ]
  },
  {
   "cell_type": "raw",
   "metadata": {},
   "source": [
    "// FortuneService.java\n",
    "package com.yi.springdemo;\n",
    "\n",
    "public interface FortuneService {\n",
    "    public String getFortune();\n",
    "}"
   ]
  },
  {
   "cell_type": "raw",
   "metadata": {},
   "source": [
    "// HappyFortuneService.java\n",
    "package com.yi.springdemo\n",
    "\n",
    "import org.springframework.stereotype.Component;\n",
    "\n",
    "@Component\n",
    "public class HappyFortuneService implements FortuneService {\n",
    "    public String getFortune() {\n",
    "        return \"This is your lucky day!\";\n",
    "    }\n",
    "}"
   ]
  },
  {
   "cell_type": "markdown",
   "metadata": {},
   "source": [
    "Step 2. Create a constructor in your class for injections <br>\n",
    "Step 3. Confiture the dependency injection with @Autowire annotation"
   ]
  },
  {
   "cell_type": "raw",
   "metadata": {},
   "source": [
    "// TennisCoach.java\n",
    "package com.yi.springdemo;\n",
    "\n",
    "import org.springframework.beans.factory.annotation.Autowired;\n",
    "import org.springframework.beans.stereotype.Component;\n",
    "\n",
    "@Component\n",
    "public class TennisCoach implements Coach {\n",
    "    private FortuneService fortuneService;\n",
    "    \n",
    "    // Constructor Dependency Injection\n",
    "    @Autowired\n",
    "    public TennisCoach(FortuneService fortuneService) {\n",
    "        this.fortuneService.getFortune();\n",
    "    }\n",
    "    \n",
    "    public String getDailyFortune() {\n",
    "        return this.fortuneService.getFortune();\n",
    "    }\n",
    "    \n",
    "    @Override\n",
    "    public String getDailyWorkout() {\n",
    "        return \"Practice your backhand vollet\";\n",
    "    }\n",
    "}"
   ]
  },
  {
   "cell_type": "markdown",
   "metadata": {},
   "source": [
    "Update Coach interface to show get daily fortune"
   ]
  },
  {
   "cell_type": "raw",
   "metadata": {},
   "source": [
    "// Coach.java\n",
    "package com.yi.springdemo;\n",
    "\n",
    "public interface Coach {\n",
    "    public String getDailyWorkout();\n",
    "\n",
    "    public String getDailyFortune();\n",
    "}"
   ]
  },
  {
   "cell_type": "markdown",
   "metadata": {},
   "source": [
    "Application calling our method"
   ]
  },
  {
   "cell_type": "raw",
   "metadata": {},
   "source": [
    "// AnnotationDemo.java\n",
    "package com.yi.springdemo;\n",
    "\n",
    "import org.springframework.context.support.ClassPathXmlApplicationContext;\n",
    "\n",
    "public class AnnotationDemo {\n",
    "    public static void main(String[] args) {\n",
    "        // Read Spring config file\n",
    "        ClassPathXmlApplicationContext context = new ClassPathXmlApplicationContext(\"applicationContext.xml\");\n",
    "\n",
    "        // Get the bean from Spring container\n",
    "        Coach tennisCoach = context.getBean(\"tennisCoach\", Coach.class);\n",
    "\n",
    "        // Call a method on the bean\n",
    "        System.out.println(tennisCoach.getDailyWorkout());\n",
    "\n",
    "        // Call method to get the daily fortune\n",
    "        System.out.println(tennisCoach.getDailyFortune());\n",
    "\n",
    "        // Close the context\n",
    "        context.close();\n",
    "    }\n",
    "}"
   ]
  },
  {
   "cell_type": "markdown",
   "metadata": {},
   "source": [
    "## Setter Injection with Annotation and Autowiring\n",
    "Inject dependencies by calling setter methods on your class\n",
    "\n",
    "Development Process\n",
    "\n",
    "1. Define the Dependency interface and class\n",
    "2. Create setter methods in your class for injection\n",
    "3. Configure the dpeendency with @Autowire annotation\n",
    "\n",
    "Step 1: Define the Dependency interface and class"
   ]
  },
  {
   "cell_type": "raw",
   "metadata": {},
   "source": [
    "// FoodService.java\n",
    "package com.yi.springdemo;\n",
    "\n",
    "public interface FoodService {\n",
    "    public String getMenu();\n",
    "}"
   ]
  },
  {
   "cell_type": "raw",
   "metadata": {},
   "source": [
    "// HappyFoodService.java\n",
    "package com.yi.springdemo;\n",
    "\n",
    "import org.springframework.stereotype.Component;\n",
    "\n",
    "@Component\n",
    "public class HappyFortuneService implements FortuneService {\n",
    "    public String getFortune() {\n",
    "        return \"This is your lucky day!\";\n",
    "    }\n",
    "}"
   ]
  },
  {
   "cell_type": "markdown",
   "metadata": {},
   "source": [
    "Step 2: Create setter methods in your class for injection\n",
    "Step 3: Configure the dpeendency with @Autowire annotation"
   ]
  },
  {
   "cell_type": "raw",
   "metadata": {},
   "source": [
    "// TennisCoach.java\n",
    "package com.yi.springdemo;\n",
    "\n",
    "import org.springframework.beans.factory.annotation.Autowired;\n",
    "import org.springframework.stereotype.Component;\n",
    "\n",
    "@Component\n",
    "public class TennisCoach implements Coach {\n",
    "    private FortuneService fortuneService;\n",
    "    private FoodService foodService;\n",
    "\n",
    "    // Constructor dependency injection\n",
    "    @Autowired\n",
    "    public TennisCoach(FortuneService fortuneService) {\n",
    "        this.fortuneService = fortuneService;\n",
    "    }\n",
    "\n",
    "    // Setter dependency injectjion\n",
    "    @Autowired\n",
    "    public void setFoodService(FoodService foodService) {\n",
    "        this.foodService = foodService;\n",
    "    }\n",
    "\n",
    "    public String getDailyFortune() {\n",
    "        return fortuneService.getFortune();\n",
    "    }\n",
    "\n",
    "    public String getDailyMenu() {\n",
    "        return foodService.getMenu();\n",
    "    }\n",
    "\n",
    "    @Override\n",
    "    public String getDailyWorkout() {\n",
    "        return \"Practice your backhand volley\";\n",
    "    }\n",
    "}"
   ]
  },
  {
   "cell_type": "markdown",
   "metadata": {},
   "source": [
    "Update Coach interface to include get daily menu"
   ]
  },
  {
   "cell_type": "raw",
   "metadata": {},
   "source": [
    "// Coach.java\n",
    "package com.yi.springdemo;\n",
    "\n",
    "public interface Coach {\n",
    "    public String getDailyWorkout();\n",
    "    public String getDailyFortune();\n",
    "    public String getDailyMenu();\n",
    "}"
   ]
  },
  {
   "cell_type": "markdown",
   "metadata": {},
   "source": [
    "Application Calling our method"
   ]
  },
  {
   "cell_type": "raw",
   "metadata": {},
   "source": [
    "// AnnotationDemo.java\n",
    "package com.yi.springdemo;\n",
    "\n",
    "import org.springframework.context.support.ClassPathXmlApplicationContext;\n",
    "\n",
    "public class AnnotationDemo {\n",
    "    public static void main(String[] args) {\n",
    "        // Read Spring config file\n",
    "        ClassPathXmlApplicationContext context = new ClassPathXmlApplicationContext(\"applicationContext.xml\");\n",
    "\n",
    "        // Get the bean from Spring container\n",
    "        Coach tennisCoach = context.getBean(\"tennisCoach\", Coach.class);\n",
    "\n",
    "        // Call a method on the bean\n",
    "        System.out.println(tennisCoach.getDailyWorkout());\n",
    "\n",
    "        // Call method to get the daily fortune\n",
    "        System.out.println(tennisCoach.getDailyFortune());\n",
    "\n",
    "        // Call method to get the daily menu\n",
    "        System.out.println(tennisCoach.getDailyMenu());\n",
    "\n",
    "        // Close the context\n",
    "        context.close();\n",
    "    }\n",
    "}"
   ]
  },
  {
   "cell_type": "markdown",
   "metadata": {},
   "source": [
    "## !Note you can use any method for dependency injection\n",
    "All you need is the @Autowire annotation\n",
    "the following are equivalent\n",
    "\n",
    "```    \n",
    "    @Autowired\n",
    "    public void setFoodService(FoodService foodService) {\n",
    "        this.foodService = foodService;\n",
    "    }\n",
    "```\n",
    "is equivalent to\n",
    "```\n",
    "    @Autowired\n",
    "    public void someCrazyMethod(FoodService foodService) {\n",
    "        this.foodService = foodService;\n",
    "    }\n",
    "```"
   ]
  },
  {
   "cell_type": "markdown",
   "metadata": {},
   "source": [
    "## Field Injection with Annotation and Autowiring\n",
    "Inject dependencies by setting field values on your class directly (even private fields)\n",
    "- Accomplished by using Java Reflection\n",
    "\n",
    "### Field Injection Development process\n",
    "1. Create Depenency interface and class\n",
    "2. Configure the dependency injection with Autowire Annotation\n",
    "- Applied directly to the field\n",
    "- No need for setter methods\n",
    "\n",
    "Step 1: Create dependency interface and class"
   ]
  },
  {
   "cell_type": "raw",
   "metadata": {},
   "source": [
    "// TransportationService.java\n",
    "package com.yi.springdemo;\n",
    "\n",
    "public interface TransportationService {\n",
    "    public String getTransportation();\n",
    "}"
   ]
  },
  {
   "cell_type": "raw",
   "metadata": {},
   "source": [
    "// HappyTransportationService.java\n",
    "package com.yi.springdemo;\n",
    "\n",
    "import org.springframework.stereotype.Component;\n",
    "\n",
    "@Component\n",
    "public class HappyTransportationService implements TransportationService {\n",
    "    @Override\n",
    "    public String getTransportation() {\n",
    "        return \"Transport by Car\";\n",
    "    }\n",
    "}"
   ]
  },
  {
   "cell_type": "markdown",
   "metadata": {},
   "source": [
    "Step 2. Confiture the dependency injection with Autowire Annotation"
   ]
  },
  {
   "cell_type": "raw",
   "metadata": {},
   "source": [
    "// TennisCoach.java\n",
    "package com.yi.springdemo;\n",
    "\n",
    "import org.springframework.beans.factory.annotation.Autowired;\n",
    "import org.springframework.stereotype.Component;\n",
    "\n",
    "@Component\n",
    "public class TennisCoach implements Coach {\n",
    "    private FortuneService fortuneService;\n",
    "    private FoodService foodService;\n",
    "\n",
    "    // Dependency injection with field injection\n",
    "    @Autowired\n",
    "    private TransportationService transportationService;\n",
    "\n",
    "    // Constructor dependency injection\n",
    "    @Autowired\n",
    "    public TennisCoach(FortuneService fortuneService) {\n",
    "        this.fortuneService = fortuneService;\n",
    "    }\n",
    "\n",
    "    // Setter dependency injectjion\n",
    "    @Autowired\n",
    "    public void setFoodService(FoodService foodService) {\n",
    "        this.foodService = foodService;\n",
    "    }\n",
    "\n",
    "    public String getDailyFortune() {\n",
    "        return fortuneService.getFortune();\n",
    "    }\n",
    "\n",
    "    public String getDailyMenu() {\n",
    "        return foodService.getMenu();\n",
    "    }\n",
    "\n",
    "    public String getDailyTransportation() {\n",
    "        return transportationService.getTransportation();\n",
    "    }\n",
    "\n",
    "    @Override\n",
    "    public String getDailyWorkout() {\n",
    "        return \"Practice your backhand volley\";\n",
    "    }\n",
    "}"
   ]
  },
  {
   "cell_type": "markdown",
   "metadata": {},
   "source": [
    "Update Coach interface with new getDailyTransport method"
   ]
  },
  {
   "cell_type": "raw",
   "metadata": {},
   "source": [
    "package com.yi.springdemo;\n",
    "\n",
    "public interface Coach {\n",
    "    public String getDailyWorkout();\n",
    "    public String getDailyFortune();\n",
    "    public String getDailyMenu();\n",
    "    public String getDailyTransportation();\n",
    "}"
   ]
  },
  {
   "cell_type": "markdown",
   "metadata": {},
   "source": [
    "Application calling our class"
   ]
  },
  {
   "cell_type": "raw",
   "metadata": {},
   "source": [
    "// AnnotationDemo.java\n",
    "package com.yi.springdemo;\n",
    "\n",
    "import org.springframework.context.support.ClassPathXmlApplicationContext;\n",
    "\n",
    "public class AnnotationDemo {\n",
    "    public static void main(String[] args) {\n",
    "        // Read Spring config file\n",
    "        ClassPathXmlApplicationContext context = new ClassPathXmlApplicationContext(\"applicationContext.xml\");\n",
    "\n",
    "        // Get the bean from Spring container\n",
    "        Coach tennisCoach = context.getBean(\"tennisCoach\", Coach.class);\n",
    "\n",
    "        // Call a method on the bean\n",
    "        System.out.println(tennisCoach.getDailyWorkout());\n",
    "\n",
    "        // Call method to get the daily fortune\n",
    "        System.out.println(tennisCoach.getDailyFortune());\n",
    "\n",
    "        // Call method to get the daily menu\n",
    "        System.out.println(tennisCoach.getDailyMenu());\n",
    "\n",
    "        // Call method to get daily transport\n",
    "        System.out.println(tennisCoach.getDailyTransportation());\n",
    "\n",
    "        // Close the context\n",
    "        context.close();\n",
    "    }\n",
    "}"
   ]
  },
  {
   "cell_type": "markdown",
   "metadata": {},
   "source": [
    "# Qualifier for Dependency injections\n",
    "If dependency have multiple implementations\n",
    "\n",
    "Eg. if Fortune service have multiple implementation\n",
    "- HappyFortuneService\n",
    "- DatabaseFortuneService\n",
    "- RandomFortuneService\n",
    "- RESTFortuneService\n",
    "\n",
    "You get error creating bean. Injection of autowired dependencies field.<br>\n",
    "Caused by: org.springframework.beans.factory.NoUniqueBeanDefinitionException:<br>\n",
    "No qualifying bean of type ??? is defined:<br>\n",
    "expected single matching bean but found 4:\n",
    "\n",
    "## We need to tell Spring which bean to use using @Qualifier\n",
    "Can apply @Qualifier annotation to\n",
    "- Constructor injection\n",
    "- Setter injection methods\n",
    "- Field injection\n",
    "\n",
    "eg."
   ]
  },
  {
   "cell_type": "raw",
   "metadata": {},
   "source": [
    "@Component\n",
    "public class TennisCoach implements Coach {\n",
    "    @Autowired\n",
    "    @Qualifier(\"happyFortuneService\")\n",
    "    private FortuneService fortuneService; \n",
    "}"
   ]
  },
  {
   "cell_type": "markdown",
   "metadata": {},
   "source": [
    "Qualifier injection development process\n",
    "1. Create new project name spring-demo-qualifier, create configuration file, Coach interface. FortuneService interface and all its implementations.\n",
    "2. Autowire dependencies using Qualifier injection\n",
    "\n",
    "Step 1: Create new project name spring-demo-qualifier, create configuration file, Coach interface. FortuneService interface and all its implementations."
   ]
  },
  {
   "cell_type": "raw",
   "metadata": {},
   "source": [
    "// applicationContext.xml\n",
    "<?xml version=\"1.0\" encoding=\"UTF-8\"?>\n",
    "<beans xmlns=\"http://www.springframework.org/schema/beans\"\n",
    "       xmlns:xsi=\"http://www.w3.org/2001/XMLSchema-instance\"\n",
    "       xmlns:context=\"http://www.springframework.org/schema/context\"\n",
    "       xsi:schemaLocation=\"http://www.springframework.org/schema/beans\n",
    "        http://www.springframework.org/schema/beans/spring-beans.xsd\n",
    "        http://www.springframework.org/schema/context\n",
    "        http://www.springframework.org/schema/context/spring-context.xsd\">\n",
    "\n",
    "    <!-- add entry to enable component scanning -->\n",
    "    <context:component-scan base-package=\"com.yi.springdemo\" />\n",
    "\n",
    "</beans>"
   ]
  },
  {
   "cell_type": "raw",
   "metadata": {},
   "source": [
    "// Coach.java\n",
    "package com.yi.springdemo;\n",
    "\n",
    "public interface Coach {\n",
    "    public String getDailyFortune();\n",
    "}"
   ]
  },
  {
   "cell_type": "raw",
   "metadata": {},
   "source": [
    "// FortuneService.java\n",
    "package com.yi.springdemo;\n",
    "\n",
    "public interface FortuneService {\n",
    "    public String getFortune();\n",
    "}"
   ]
  },
  {
   "cell_type": "raw",
   "metadata": {},
   "source": [
    "// HappyFortuneService.java\n",
    "package com.yi.springdemo;\n",
    "\n",
    "import org.springframework.stereotype.Component;\n",
    "\n",
    "@Component\n",
    "public class HappyFortuneService implements FortuneService {\n",
    "    @Override\n",
    "    public String getFortune() {\n",
    "        return \"This is your lucky day!\";\n",
    "    }\n",
    "}"
   ]
  },
  {
   "cell_type": "raw",
   "metadata": {},
   "source": [
    "// DatabaseFortuneService.java\n",
    "package com.yi.springdemo;\n",
    "\n",
    "import org.springframework.stereotype.Component;\n",
    "\n",
    "@Component\n",
    "public class DatabaseFortuneService implements FortuneService {\n",
    "    @Override\n",
    "    public String getFortune() {\n",
    "        return null;\n",
    "    }\n",
    "}"
   ]
  },
  {
   "cell_type": "raw",
   "metadata": {},
   "source": [
    "// RandomFortuneService.java\n",
    "import org.springframework.stereotype.Component;\n",
    "\n",
    "import java.util.Random;\n",
    "\n",
    "@Component\n",
    "public class RandomFortuneService implements FortuneService {\n",
    "\n",
    "    // Create an array of strings\n",
    "    private String[] data = {\n",
    "            \"Baware of the wolf in sheep's clothing\",\n",
    "            \"Diligence is the mother of good luck\",\n",
    "            \"The journey is the reward\"\n",
    "    };\n",
    "\n",
    "    // create a random number generator\n",
    "    private Random myRandom = new Random();\n",
    "    @Override\n",
    "    public String getFortune() {\n",
    "        // pick a random string from the array\n",
    "        int index = myRandom.nextInt(data.length);\n",
    "        return data[index];\n",
    "    }\n",
    "}"
   ]
  },
  {
   "cell_type": "raw",
   "metadata": {},
   "source": [
    "// RESTFortuneService.java\n",
    "package com.yi.springdemo;\n",
    "\n",
    "import org.springframework.stereotype.Component;\n",
    "\n",
    "@Component\n",
    "public class RESTFortuneService implements FortuneService {\n",
    "    @Override\n",
    "    public String getFortune() {\n",
    "        return null;\n",
    "    }\n",
    "}"
   ]
  },
  {
   "cell_type": "markdown",
   "metadata": {},
   "source": [
    "Step 2: Autowire dependencies using Qualifier injection"
   ]
  },
  {
   "cell_type": "raw",
   "metadata": {},
   "source": [
    "// TennisCoach.java\n",
    "ackage com.yi.springdemo;\n",
    "\n",
    "import org.springframework.beans.factory.annotation.Autowired;\n",
    "import org.springframework.beans.factory.annotation.Qualifier;\n",
    "import org.springframework.stereotype.Component;\n",
    "\n",
    "@Component\n",
    "public class TennisCoach implements Coach {\n",
    "    @Autowired\n",
    "    @Qualifier(\"randomFortuneService\")\n",
    "    private FortuneService fortuneService;\n",
    "\n",
    "    // default constructor\n",
    "    public TennisCoach() {\n",
    "        System.out.println(\">> TennisCoach: inside default constructor\");\n",
    "    }\n",
    "\n",
    "    @Override\n",
    "    public String getDailyFortune() {\n",
    "        return fortuneService.getFortune();\n",
    "    }\n",
    "}"
   ]
  },
  {
   "cell_type": "markdown",
   "metadata": {},
   "source": [
    "Application calling our class"
   ]
  },
  {
   "cell_type": "raw",
   "metadata": {},
   "source": [
    "package com.yi.springdemo;\n",
    "\n",
    "import org.springframework.context.support.ClassPathXmlApplicationContext;\n",
    "\n",
    "public class AnnotationDemoApp {\n",
    "    public static void main(String[] args) {\n",
    "\n",
    "        // read spring config file\n",
    "        ClassPathXmlApplicationContext context = new ClassPathXmlApplicationContext(\"applicationContext.xml\");\n",
    "\n",
    "        // Retrieve bean from spring container\n",
    "        Coach tennisCoach = context.getBean(\"tennisCoach\", Coach.class);\n",
    "\n",
    "        // call get daily fortune method\n",
    "        System.out.println(tennisCoach.getDailyFortune());\n",
    "\n",
    "        // Close context\n",
    "        context.close();\n",
    "    }"
   ]
  },
  {
   "cell_type": "markdown",
   "metadata": {},
   "source": [
    "# Bean scope\n",
    "## Default bean scope is a singleton\n",
    "Singleton is:\n",
    "- Spring Container creates only one instance of the bean, by default\n",
    "- It is cached in memory\n",
    "- All requests for the bean\n",
    "- - Will be SHARED reference to the SAME bean\n",
    "\n",
    "You can specify bean scope in the config file\n",
    "\n",
    "```\n",
    "<beans ... >\n",
    "    <bean id=\"myCoach\"\n",
    "        class=\"com.yi.springdemo.TrackCoach\"\n",
    "        scope=\"singleton\">\n",
    "    ...\n",
    "    </bean>\n",
    "</beans>\n",
    "```\n",
    "\n",
    "Or with annotations\n",
    "```\n",
    "@Component\n",
    "@Scope(\"Singleton\")\n",
    "public class TennisCoach implements Coach {\n",
    "...\n",
    "}\n",
    "```\n",
    "\n",
    "## Prototype Scope\n",
    "Prototype scope: new object for each request\n",
    "\n",
    "With annotations\n",
    "```\n",
    "@Component\n",
    "@Scope(\"prototype\")\n",
    "public class TennisCoach implements Coach {\n",
    "...\n",
    "}\n",
    "\n",
    "```"
   ]
  },
  {
   "cell_type": "markdown",
   "metadata": {},
   "source": [
    "## Bean Lifecycle Methods / Hooks with Prototype\n",
    "You can add custom code during bean initialization\n",
    "- Calling custom business logic method\n",
    "- Setting up handles to resources(db, sockets ,file etc)\n",
    "\n",
    "You can add custom code during bean destruction\n",
    "- Calling custom business logic method\n",
    "- Cleanup handles to resource (db, sockets, files, etc)\n",
    "\n",
    "### bean initialization and destruction development process\n",
    "1. Define your methods for init and destroy\n",
    "2. Add annotations: @PostConstruct and @PreDestroy\n",
    "```\n",
    "@Component\n",
    "public class TennisCoach implements Coach {\n",
    "    @PostConstruction\n",
    "    public void doMyStartupStuff() {...}\n",
    "    ...\n",
    "}\n",
    "```\n",
    "\n",
    "Step 1 and 2"
   ]
  },
  {
   "cell_type": "raw",
   "metadata": {},
   "source": [
    "// TennisCoach.java\n",
    "package com.yi.springdemo;\n",
    "\n",
    "import org.springframework.beans.factory.annotation.Autowired;\n",
    "import org.springframework.beans.factory.annotation.Qualifier;\n",
    "import org.springframework.context.annotation.Scope;\n",
    "import org.springframework.stereotype.Component;\n",
    "\n",
    "import javax.annotation.PostConstruct;\n",
    "import javax.annotation.PreDestroy;\n",
    "\n",
    "@Component\n",
    "public class TennisCoach implements Coach {\n",
    "    @Autowired\n",
    "    @Qualifier(\"randomFortuneService\")\n",
    "    private FortuneService fortuneService;\n",
    "\n",
    "    // default constructor\n",
    "    public TennisCoach() {\n",
    "        System.out.println(\">> TennisCoach: inside default constructor\");\n",
    "    }\n",
    "\n",
    "    // define my init method\n",
    "    @PostConstruct\n",
    "    public void doMyStartupStuff () {\n",
    "        System.out.println(\">> TennisCoach: inside of doMyStartupSTuff()\");\n",
    "    }\n",
    "\n",
    "    // define my destroy method\n",
    "    @PreDestroy\n",
    "    public void doMyCleanupStuff() {\n",
    "        System.out.println(\">> TennisCoach: inside of doMyCleanupStuff()\");\n",
    "    }\n",
    "\n",
    "    @Override\n",
    "    public String getDailyFortune() {\n",
    "        return fortuneService.getFortune();\n",
    "    }\n",
    "}"
   ]
  },
  {
   "cell_type": "markdown",
   "metadata": {},
   "source": [
    "!Note Spring does not manage lifecycle of a prototype bean<br>\n",
    "The container instantiates, configures and otherwise assembles a prototype object and hands it to the client with no further record of that pototype.<br>\n"
   ]
  }
 ],
 "metadata": {
  "kernelspec": {
   "display_name": "Python 3",
   "language": "python",
   "name": "python3"
  },
  "language_info": {
   "codemirror_mode": {
    "name": "ipython",
    "version": 3
   },
   "file_extension": ".py",
   "mimetype": "text/x-python",
   "name": "python",
   "nbconvert_exporter": "python",
   "pygments_lexer": "ipython3",
   "version": "3.7.4"
  }
 },
 "nbformat": 4,
 "nbformat_minor": 4
}
