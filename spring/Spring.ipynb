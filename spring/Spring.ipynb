{
 "cells": [
  {
   "cell_type": "markdown",
   "metadata": {},
   "source": [
    "# Spring Framework\n",
    "official website www.spring.io\n",
    "\n",
    "Why Spring? Simplify Java Enterprise Development\n",
    "\n",
    "### Goals of Spring\n",
    "- Lightweight development with Java POjos (Plain-Old-Java-Objects)\n",
    "- Dependency injection to promote loose coupling\n",
    "- Declarative programming with Aspect-Oriented-Programming (AOP)\n",
    "- Minimize boilerplate Java code\n",
    "\n",
    "## Core Containers\n",
    "Factory for creating beans, <br>\n",
    "Manage bean dependency\n",
    "- Beans\n",
    "- Core\n",
    "- SpEL\n",
    "- Context\n",
    "\n",
    "## Infrastructure\n",
    "AOP: Aspect Oriented Programming, Add functionality to objects declaratively, logging, security, transactions, etc...\n",
    "- AOP\n",
    "- Aspects\n",
    "- Instrumentation: Can create Java agents to remotely monitor your app with JMX (Java Management Extension)\n",
    "- Messaging\n",
    "\n",
    "## Data Access Layer\n",
    "Communicatng with Database\n",
    "- JDBC: helper classes for accessing database\n",
    "- ORM: Object to Relatinal Mapping\n",
    "- Transactions: Transaction manager for method and database method uses AOP\n",
    "- OXM\n",
    "- JMS: Java Message Service\n",
    "\n",
    "## Web Layer\n",
    "All Web related classes. Home of the Spring MVC framework\n",
    "- Servlet\n",
    "- WebSocket\n",
    "- Web\n",
    "- Portlet"
   ]
  },
  {
   "cell_type": "markdown",
   "metadata": {},
   "source": [
    "## Test Layer\n",
    "Supports Test-Driven-Development (TDD) <br>\n",
    "Mock objects and out-of-container testing\n",
    "- Unit\n",
    "- Integration\n",
    "- Mock\n",
    "\n",
    "## Spring \"Projects\"\n",
    "Additional Spring modules built-on top of the core Spring Framework<br>\n",
    "Only use what you need ...\n",
    "- Spring Cloud, Spring Data\n",
    "- Spring Batch, Spring Security\n",
    "- Spring for LDAP, Spring Web Services\n"
   ]
  }
 ],
 "metadata": {
  "kernelspec": {
   "display_name": "Python 3",
   "language": "python",
   "name": "python3"
  },
  "language_info": {
   "codemirror_mode": {
    "name": "ipython",
    "version": 3
   },
   "file_extension": ".py",
   "mimetype": "text/x-python",
   "name": "python",
   "nbconvert_exporter": "python",
   "pygments_lexer": "ipython3",
   "version": "3.7.4"
  }
 },
 "nbformat": 4,
 "nbformat_minor": 4
}
