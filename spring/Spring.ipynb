{
 "cells": [
  {
   "cell_type": "markdown",
   "metadata": {},
   "source": [
    "# Spring Framework\n",
    "official website www.spring.io\n",
    "\n",
    "Why Spring? Simplify Java Enterprise Development\n",
    "\n",
    "### Goals of Spring\n",
    "- Lightweight development with Java POjos (Plain-Old-Java-Objects)\n",
    "- Dependency injection to promote loose coupling\n",
    "- Declarative programming with Aspect-Oriented-Programming (AOP)\n",
    "- Minimize boilerplate Java code\n",
    "\n",
    "## Core Containers\n",
    "Factory for creating beans, <br>\n",
    "Manage bean dependency\n",
    "- Beans\n",
    "- Core\n",
    "- SpEL\n",
    "- Context\n",
    "\n",
    "## Infrastructure\n",
    "AOP: Aspect Oriented Programming, Add functionality to objects declaratively, logging, security, transactions, etc...\n",
    "- AOP\n",
    "- Aspects\n",
    "- Instrumentation: Can create Java agents to remotely monitor your app with JMX (Java Management Extension)\n",
    "- Messaging\n",
    "\n",
    "## Data Access Layer\n",
    "Communicatng with Database\n",
    "- JDBC: helper classes for accessing database\n",
    "- ORM: Object to Relatinal Mapping\n",
    "- Transactions: Transaction manager for method and database method uses AOP\n",
    "- OXM\n",
    "- JMS: Java Message Service\n",
    "\n",
    "## Web Layer\n",
    "All Web related classes. Home of the Spring MVC framework\n",
    "- Servlet\n",
    "- WebSocket\n",
    "- Web\n",
    "- Portlet"
   ]
  },
  {
   "cell_type": "markdown",
   "metadata": {},
   "source": [
    "## Test Layer\n",
    "Supports Test-Driven-Development (TDD) <br>\n",
    "Mock objects and out-of-container testing\n",
    "- Unit\n",
    "- Integration\n",
    "- Mock\n",
    "\n",
    "## Spring \"Projects\"\n",
    "Additional Spring modules built-on top of the core Spring Framework<br>\n",
    "Only use what you need ...\n",
    "- Spring Cloud, Spring Data\n",
    "- Spring Batch, Spring Security\n",
    "- Spring for LDAP, Spring Web Services\n",
    "\n",
    "# Install Tomcat\n",
    "got to http://tomcat.apache.org/ download tomcat\n",
    "unzip the tomcat file, which we already done here\n",
    "\n",
    "Start tomcat"
   ]
  },
  {
   "cell_type": "code",
   "execution_count": 2,
   "metadata": {},
   "outputs": [
    {
     "name": "stdout",
     "output_type": "stream",
     "text": [
      "Tomcat started.\n"
     ]
    }
   ],
   "source": [
    "%%bash\n",
    "# start up tomcat server\n",
    "apache-tomcat-8.5.49/bin/startup.sh "
   ]
  },
  {
   "cell_type": "markdown",
   "metadata": {},
   "source": [
    "go to http://localhost:8080/\n",
    "\n",
    "To shutdown Tomcat"
   ]
  },
  {
   "cell_type": "code",
   "execution_count": 3,
   "metadata": {},
   "outputs": [],
   "source": [
    "%%bash\n",
    "# shut down tomcat server\n",
    "apache-tomcat-8.5.49/bin/shutdown.sh"
   ]
  },
  {
   "cell_type": "markdown",
   "metadata": {},
   "source": [
    "# Spring Container\n",
    "Primary Functions\n",
    "1. Create and manage object (Inversion of Control)\n",
    "2. Inject object's dependencies (Dependency Injection)\n",
    "\n",
    "#### Configuring Sprint Container\n",
    "- XML configuration file\n",
    "- Java Annotations\n",
    "- Java Source Code\n",
    "\n",
    "#### Spring Development Process\n",
    "1. Configure you Spring Beans\n",
    "2. Create a Spring Container\n",
    "3. Retrieve Beans from Spring Container\n",
    "\n",
    "Step 1. Configure your Spring Beans"
   ]
  },
  {
   "cell_type": "raw",
   "metadata": {},
   "source": [
    "// applicationContext.xml\n",
    "<beans>\n",
    "    <bean id=\"myCoach\"\n",
    "          class=\"com.yi.springdemo.BaseballCoach\">\n",
    "    </bean>\n",
    "</bean>"
   ]
  },
  {
   "cell_type": "markdown",
   "metadata": {},
   "source": [
    "Step 2: Create a Spring Container\n",
    "- Spring container is generally known as ApplicationContext\n",
    "- Specialized implementations\n",
    "- - ClassPathXmlApplicationContext\n",
    "- - AnnotationConfigApplicationContext\n",
    "- - GenericWebApplicationContext"
   ]
  },
  {
   "cell_type": "raw",
   "metadata": {},
   "source": [
    "// create a spring container\n",
    "ClassPathXmlApplicationContext context = new ClassPathXmlApplicationContext(\"applicationContext.xml\");"
   ]
  },
  {
   "cell_type": "markdown",
   "metadata": {},
   "source": [
    "Step 3: Retrieve Beans from Container"
   ]
  },
  {
   "cell_type": "raw",
   "metadata": {},
   "source": [
    "// retrieve bean from spring container\n",
    "Coach theCoach = context.getBean(\"myCoach\", Coach.class);\n",
    "\n",
    "// call methods on the bean\n",
    "System.out.println(theCoach.getDailyWorkout());\n",
    "\n",
    "// close the content\n",
    "context.close();"
   ]
  },
  {
   "cell_type": "markdown",
   "metadata": {},
   "source": [
    "## Spring Bean\n",
    "A Spring Bean is simply a Java object. When Java objects are created by the Spring Container, the Spring refers to them as \"Spring Beans\".\n",
    "\n",
    "Spring Beans are created from normal Java classes jsut liek Java Objects.\n",
    "\n",
    "A bean is an object that is instantiated, assembled, and otherwised managed by a Spring IoC container. Otherwise, a bean is simply one of many objects in your application. Beans, and the dependencies among them, are reflected in the configuration metadata used by a container."
   ]
  },
  {
   "cell_type": "markdown",
   "metadata": {},
   "source": [
    "# Dependency Injection\n",
    "The dependency inversion principle.\n",
    "\n",
    "The client delegates to calls another object the responsibility of providing its dependencies.\n",
    "\n",
    "Basically, you are outsourcing the construction and injection of your object to an external entity.\n",
    "\n",
    "## Injection Types\n",
    "There are many types of injection with Spring\n",
    "\n",
    "We will cover the 2 most commong\n",
    "- Constructor Injection\n",
    "- Setter Injection\n",
    "\n",
    "### Constructor Injection Development Process\n",
    "1. Define the dependency interface and class\n",
    "2. Create a constructor in your class for injections\n",
    "3. Configure the dependency injection in Spring config file\n",
    "\n",
    "Step 1: Define the dependecny interface and class"
   ]
  },
  {
   "cell_type": "raw",
   "metadata": {},
   "source": [
    "// FortuneService.java\n",
    "public interface FortuneService {\n",
    "    public String getFortune();\n",
    "}"
   ]
  },
  {
   "cell_type": "raw",
   "metadata": {},
   "source": [
    "// HappyFortuneService.java\n",
    "public class HappyFortuneService implements FortuneService {\n",
    "\n",
    "    public String getFortune() {\n",
    "        return \"Today is your lucky day!\";\n",
    "    }\n",
    "}"
   ]
  },
  {
   "cell_type": "markdown",
   "metadata": {},
   "source": [
    "Step 2: Create a constructor in your class for injections"
   ]
  },
  {
   "cell_type": "raw",
   "metadata": {},
   "source": [
    "// BaseballCoach.java\n",
    "public class BaseballCoach implements Coach {\n",
    "    private FortuneService fortuneService; // Define field\n",
    "    \n",
    "    public BaseballCoach(FortuneService theFortuneService) {\n",
    "        fortuneService = theFortuneService; // Define constructor\n",
    "    }\n",
    "    \n",
    "}"
   ]
  },
  {
   "cell_type": "markdown",
   "metadata": {},
   "source": [
    "Step 3: Configure the dependency injection in Spring config file"
   ]
  },
  {
   "cell_type": "raw",
   "metadata": {},
   "source": [
    "// applicationContext.xml\n",
    "<bean id=\"myFortuneService\"\n",
    "    class=\"com.yi.springdemo.HappyFortuneService\">\n",
    "</bean>\n",
    "\n",
    "<bean id=\"myCoach\"\n",
    "    class=\"com.yi.springdemo.BaseballCoach\">\n",
    "        <constructor-arg ref=\"myFortuneService\" />\n",
    "</bean>"
   ]
  },
  {
   "cell_type": "markdown",
   "metadata": {},
   "source": [
    "Application calling our method"
   ]
  },
  {
   "cell_type": "raw",
   "metadata": {},
   "source": [
    "// HelloSpringApp.java\n",
    "public class HelloSpringApp {\n",
    "\n",
    "    public static void main(String[] args) {\n",
    "\n",
    "        // load the spring config file\n",
    "        ClassPathXmlApplicationContext context = new ClassPathXmlApplicationContext(\"applicationContext.xml\");\n",
    "\n",
    "        // retrieve bean from spring container\n",
    "        Coach theCoach = context.getBean(\"myCoach\", Coach.class);\n",
    "\n",
    "        // call methods on the bean\n",
    "        System.out.println(theCoach.getDailyWorkout());\n",
    "        System.out.println(theCoach.getDailyFortune());\n",
    "        // close the content\n",
    "        context.close();\n",
    "    }\n",
    "}"
   ]
  },
  {
   "cell_type": "markdown",
   "metadata": {},
   "source": [
    "### Setter Injection Development Process\n",
    "Inject dependencies by calling setter methods on your class\n",
    "1. Create setter methods in your class for injections\n",
    "2. Configure the dependency injection in Spring config file\n",
    "\n",
    "Step 1: Create setter methods in your class for injection"
   ]
  },
  {
   "cell_type": "raw",
   "metadata": {},
   "source": [
    "// CricketCoach.java\n",
    "public class CricketCoach implements Coach {\n",
    "    private FortuneService fortuneService;\n",
    "    public CricketCoach() {\n",
    "    }\n",
    "    \n",
    "    public void setFortuneService(FortuneService fortuneService) {\n",
    "        this.fortuneService = fortuneService;\n",
    "    }\n",
    "    ...\n",
    "}"
   ]
  },
  {
   "cell_type": "markdown",
   "metadata": {},
   "source": [
    "Step 2: Configure the dependency injection in Spring config file"
   ]
  },
  {
   "cell_type": "raw",
   "metadata": {},
   "source": [
    "// applicationContext.xml\n",
    "<bean id=\"myFortuneService\"\n",
    "    class=\"com.yi.springdemo.HappyFortuneService\">\n",
    "</bean>\n",
    "\n",
    "<bean id=\"myCricketCoach\"\n",
    "    class=\"com.yi.springdemo.CricketCoach\">\n",
    "    \n",
    "    <property name=\"fortuneService\" ref=\"myFortuneService\" />\n",
    "</bean>"
   ]
  },
  {
   "cell_type": "markdown",
   "metadata": {},
   "source": [
    "when reading fortuneService from applicationContext.xml sping will look for the setFortuneService in CricketCoach.java"
   ]
  },
  {
   "cell_type": "markdown",
   "metadata": {},
   "source": [
    "Spring behind the scene\n",
    "\n",
    "from application applicationContext.xml, spring behind the scene creates"
   ]
  },
  {
   "cell_type": "raw",
   "metadata": {},
   "source": [
    "// Spring framework\n",
    "HappyFortuneService myFortuneService = new HappyFortuneService();\n",
    "\n",
    "CricketCoach myCricketCoach = new CricketCoach();\n",
    "\n",
    "myCricketCoach.setFortuneService(myFortuneService);"
   ]
  },
  {
   "cell_type": "markdown",
   "metadata": {},
   "source": [
    "Application calling our method"
   ]
  },
  {
   "cell_type": "raw",
   "metadata": {},
   "source": [
    "// SetterDemoApp.java\n",
    "public class SetterDemoApp {\n",
    "    public static void main(String[] args) {\n",
    "\n",
    "        // load the spring configuration file\n",
    "        ClassPathXmlApplicationContext context = new ClassPathXmlApplicationContext(\"applicationContext.xml\");\n",
    "\n",
    "        // retrieve bean from spring container\n",
    "        Coach cricketCoach = context.getBean(\"myCricketCoach\", CricketCoach.class);\n",
    "\n",
    "        // call methods on the bean\n",
    "        System.out.println(cricketCoach.getDailyWorkout());\n",
    "        System.out.println(cricketCoach.getDailyFortune());\n",
    "\n",
    "        // close the context\n",
    "        context.close();\n",
    "    }\n",
    "}"
   ]
  },
  {
   "cell_type": "markdown",
   "metadata": {},
   "source": [
    "## Injecting Literal Values\n",
    "1. Create setter methods in your class for injections\n",
    "2. Configure the injection in Spring config file\n",
    "\n",
    "Step 1: Create setter methods in your class for injections"
   ]
  },
  {
   "cell_type": "raw",
   "metadata": {},
   "source": [
    "// CricketCoach.java\n",
    "public class CricketCoach implements Coach {\n",
    "    private String emailAddress;\n",
    "    private String team;\n",
    "    \n",
    "    // public email setter method\n",
    "    public void setEmailAddress(String emailAddress) {\n",
    "        System.out.println(\"CricketCoach: inside setter method - setEmailAddress\");\n",
    "        this.emailAddress = emailAddress;\n",
    "    }\n",
    "\n",
    "    // public team setter method\n",
    "    public void setTeam(String team) {\n",
    "        System.out.println(\"CricketCoach: inside setter method - setTeam\");\n",
    "        this.team = team;\n",
    "    }\n",
    "\n",
    "    public String getEmailAddress() {\n",
    "        return emailAddress;\n",
    "    }\n",
    "\n",
    "    public String getTeam() {\n",
    "        return team;\n",
    "}"
   ]
  },
  {
   "cell_type": "markdown",
   "metadata": {},
   "source": [
    "Step 2: Configure the injection in Spring config file"
   ]
  },
  {
   "cell_type": "raw",
   "metadata": {},
   "source": [
    "// applicationContext.xml\n",
    "<bean id=\"myCricketCoach\"\n",
    "    class=\"com.yi.springdemo.CricketCoach\">\n",
    "    \n",
    "    <property name=\"fortuneService\" ref=\"myFortuneService\" />\n",
    "    \n",
    "    <property name=\"emailAddress\" value=\"yi@mail.com\" />\n",
    "    \n",
    "    <property name=\"team\" value=\"Sunrisers Hyderabad\" />\n",
    "</bean>"
   ]
  },
  {
   "cell_type": "markdown",
   "metadata": {},
   "source": [
    "value refer to literal values\n",
    "\n",
    "ref refers to other objects or dependencies\n",
    "\n",
    "Application calling our method"
   ]
  },
  {
   "cell_type": "raw",
   "metadata": {},
   "source": [
    "// SetterDemoApp\n",
    "public class SetterDemoApp {\n",
    "    public static void main(String[] args) {\n",
    "\n",
    "        // load the spring configuration file\n",
    "        ClassPathXmlApplicationContext context = new ClassPathXmlApplicationContext(\"applicationContext.xml\");\n",
    "\n",
    "        // retrieve bean from spring container\n",
    "        CricketCoach cricketCoach = context.getBean(\"myCricketCoach\", CricketCoach.class);\n",
    "\n",
    "        // call methods on the bean\n",
    "        System.out.println(cricketCoach.getDailyWorkout());\n",
    "        System.out.println(cricketCoach.getDailyFortune());\n",
    "\n",
    "        // call our new methods to get literal values\n",
    "        System.out.println(cricketCoach.getEmailAddress());\n",
    "        System.out.println(cricketCoach.getTeam());\n",
    "\n",
    "        // close the context\n",
    "        context.close();\n",
    "    }\n",
    "}"
   ]
  },
  {
   "cell_type": "markdown",
   "metadata": {},
   "source": [
    "## Inject values from a Properties files\n",
    "1. Create Properties File\n",
    "2. Load Properties Files in Spring config file\n",
    "3. Reference value from Properties File\n",
    "\n",
    "Step 1: Create Properties File"
   ]
  },
  {
   "cell_type": "raw",
   "metadata": {},
   "source": [
    "// sport.properties\n",
    "foo.email=yi@mail.com\n",
    "foo.team=Royal Challengers Bangalore"
   ]
  },
  {
   "cell_type": "markdown",
   "metadata": {},
   "source": [
    "Step 2: Load Properties File in Spring config file"
   ]
  },
  {
   "cell_type": "raw",
   "metadata": {},
   "source": [
    "//applicationContext.xml\n",
    "<context:property-placeholder location=\"classpath:sport.properties\"/>"
   ]
  },
  {
   "cell_type": "markdown",
   "metadata": {},
   "source": [
    "Step 3: Reference values from Properties file <br>\n",
    "using the ${property name}"
   ]
  },
  {
   "cell_type": "raw",
   "metadata": {},
   "source": [
    "//applicationContext.xml\n",
    "<bean id=\"myCricketcoach\"\n",
    "    class=\"com.yi.springdemo.Cricketcoach\">\n",
    "    \n",
    "    <property name=\"emailAddress\" value=\"${foo.email}\" />\n",
    "    <property name=\"team\" value=\"${foo.team}\" />\n",
    "</bean>"
   ]
  },
  {
   "cell_type": "markdown",
   "metadata": {},
   "source": [
    "# Bean Scopes\n",
    "Scope references to the lifecycle of a bean\n",
    "- how long does the bean live?\n",
    "- How many instances are created?\n",
    "- How is the bean shared?\n",
    "\n",
    "Default Scope: Singleton\n",
    "\n",
    "| Scope | Description |\n",
    "| -- | -- |\n",
    "| Singleton | Create a single shared instance of the default bean. Default scope. |\n",
    "| Prototype | Creates a new bean instance for each container request. |\n",
    "| request | Scoped to an HTTP web request. Only used for web apps. |\n",
    "| session | Scoped to an HTTP web session. Only used for web apps. |\n",
    "| global-session | Scoped to a global HTTP web session. Only used for web apps. |\n",
    "\n",
    "## Singleton\n",
    "- Spring Container creates only one instance of the bean, by default\n",
    "- It is cached in memory\n",
    "- All request for the bean\n",
    "- - will return a SHARED reference to the SAME bean"
   ]
  },
  {
   "cell_type": "raw",
   "metadata": {},
   "source": [
    "<beans ...>\n",
    "    <bean id=\"myCoach\"\n",
    "        class=\"com.yi.springdemo.Trachcoach\">\n",
    "    </bean>\n",
    "</beans>"
   ]
  },
  {
   "cell_type": "markdown",
   "metadata": {},
   "source": [
    "The following code will reference to the same bean"
   ]
  },
  {
   "cell_type": "raw",
   "metadata": {},
   "source": [
    "Coach theCoach = context.getBean(\"myCoach\", Coach.class);\n",
    "\n",
    "... \n",
    "\n",
    "Coach alphaCoach = context.getBean(\"myCoach\", Coach.class);"
   ]
  },
  {
   "cell_type": "markdown",
   "metadata": {},
   "source": [
    "Explicitly Specify Bean Scope"
   ]
  },
  {
   "cell_type": "raw",
   "metadata": {},
   "source": [
    "<beans ... >\n",
    "    <bean id=\"myCoach\"\n",
    "        class=\"com.yi.springdemo.TrackCoach\"\n",
    "        scope=\"singleton\">\n",
    "    ...\n",
    "    </bean>\n",
    "</beans>"
   ]
  },
  {
   "cell_type": "markdown",
   "metadata": {},
   "source": [
    "## Prototype Scope\n",
    "new object for each request\n",
    "\n",
    "useful for keeping track of stateful data."
   ]
  },
  {
   "cell_type": "raw",
   "metadata": {},
   "source": [
    "<beans ... >\n",
    "    <bean id=\"myCoach\"\n",
    "          class=\"com.yi.springdemo.TrackCoach\"\n",
    "          scope=\"prototype\">\n",
    "            ...\n",
    "    </bean>\n",
    "</beans>                         "
   ]
  },
  {
   "cell_type": "markdown",
   "metadata": {},
   "source": [
    "In the following code theCoach and alphaCoach are referring to different objects."
   ]
  },
  {
   "cell_type": "raw",
   "metadata": {},
   "source": [
    "Coach theCoach = context.getBean(\"myCoach\", Coach.class);\n",
    "\n",
    "... \n",
    "\n",
    "Coach alphaCoach = context.getBean(\"myCoach\", Coach.class);"
   ]
  },
  {
   "cell_type": "code",
   "execution_count": null,
   "metadata": {},
   "outputs": [],
   "source": []
  }
 ],
 "metadata": {
  "kernelspec": {
   "display_name": "Python 3",
   "language": "python",
   "name": "python3"
  },
  "language_info": {
   "codemirror_mode": {
    "name": "ipython",
    "version": 3
   },
   "file_extension": ".py",
   "mimetype": "text/x-python",
   "name": "python",
   "nbconvert_exporter": "python",
   "pygments_lexer": "ipython3",
   "version": "3.7.4"
  }
 },
 "nbformat": 4,
 "nbformat_minor": 4
}
