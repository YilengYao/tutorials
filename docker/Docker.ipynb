{
 "cells": [
  {
   "cell_type": "markdown",
   "metadata": {},
   "source": [
    "This is from Amit Agrawal\n",
    "\n",
    "When we want to push any image to docker hub we need to run the command \"docker login\", whenever we run this command docker first looks for the username and password inside the file ~/.docker/config.json , If credentials remains saved in this files under auth section then docker logins to the docker hub without asking for userid and password again and if not present then it will ask for credentials and once we successfully logged in into the docker hub, the credentials will be saved in ~/.docker/config.json until and unless we runs the command \"docker logout\"\n",
    "\n"
   ]
  },
  {
   "cell_type": "code",
   "execution_count": null,
   "metadata": {},
   "outputs": [],
   "source": [
    "%%bash\n",
    "# this is run on ubuntu\n",
    "su root\n",
    "cat ~/.docker/config.json"
   ]
  },
  {
   "cell_type": "markdown",
   "metadata": {},
   "source": [
    "# Volumes\n",
    "-v\n",
    "hostpath/containerpath"
   ]
  },
  {
   "cell_type": "markdown",
   "metadata": {},
   "source": [
    "# Wofking directory\n",
    "-w \n",
    "working diectory"
   ]
  },
  {
   "cell_type": "markdown",
   "metadata": {},
   "source": [
    "# Publish to dockerhub\n",
    "To push your image to dockerhub"
   ]
  },
  {
   "cell_type": "code",
   "execution_count": null,
   "metadata": {},
   "outputs": [],
   "source": [
    "%%bash\n",
    "docker login\n",
    "docker image tag tag <image name> <dockerhub id>/<image name>\n",
    "docker image push <dockerhub id>/<image name>"
   ]
  },
  {
   "cell_type": "markdown",
   "metadata": {},
   "source": [
    "# Microservice Philosophy for Docker\n",
    "In docker it is best practice for each container to run a service, you shouldn't run multiple services in 1 container. Because it is easier to maintain and manage if 1 container runs a service. For example if you have 2 services in 1 container and one of the service died, it is hard to diagnose which service died and bring up the service that died. If you decided to restart the container the healthy service would be brought down too.\n",
    "\n",
    "For example if our tomcat application needs a database, we shouldn't add mysql to the same container that runs the same database.\n",
    "\n",
    "<img src=\"media/TwoServiceOneContainer.png\" height=\"50%\" width=\"50%\">\n",
    "\n",
    "We should have multiple containers and each container provide a single service, and the service is determined by the last CMD or ENTRYPOINT line in our Dockerfile.\n",
    "Container communicate with each other through a network.\n",
    "\n",
    "<img src=\"media/EachContainerSingleService.png\" height=\"50%\" width=\"50%\">"
   ]
  },
  {
   "cell_type": "markdown",
   "metadata": {},
   "source": [
    "## Working with Mysql\n",
    "pull down the image"
   ]
  },
  {
   "cell_type": "code",
   "execution_count": null,
   "metadata": {},
   "outputs": [],
   "source": [
    "%%bash\n",
    "docker container run -e MYSQL_ROOT_PASSWORD=****** -e MYSWL_DATABASE=fleetman -d mysql:8.0.16"
   ]
  },
  {
   "cell_type": "markdown",
   "metadata": {},
   "source": [
    "Run the container"
   ]
  },
  {
   "cell_type": "code",
   "execution_count": null,
   "metadata": {},
   "outputs": [],
   "source": [
    "%%bash\n",
    "docker container exec -it 85 bash"
   ]
  },
  {
   "cell_type": "markdown",
   "metadata": {},
   "source": [
    "Run mysql inside the container"
   ]
  },
  {
   "cell_type": "code",
   "execution_count": null,
   "metadata": {},
   "outputs": [],
   "source": [
    "%%bash\n",
    "mysql -uroot -ppassword\n",
    "show databases"
   ]
  },
  {
   "cell_type": "markdown",
   "metadata": {},
   "source": [
    "# Networking in Docker\n",
    "The scheme networking uses is to add the container name to the DNS service. \n",
    "\n",
    "A container want to network with another container, they can simply use the container name of the other container as the domain name so we don't need to deal with any IP addresses.\n",
    "\n",
    "Networks that comes with docker, lets list them"
   ]
  },
  {
   "cell_type": "code",
   "execution_count": null,
   "metadata": {},
   "outputs": [],
   "source": [
    "%%bash\n",
    "docker network ls"
   ]
  },
  {
   "cell_type": "markdown",
   "metadata": {},
   "source": [
    "network named *bridge* is the default network, it is the network all of our container is conneting too. It is four outbound traffic, that is why we are able to ping google.com or install packages from remote repositories in our containers.\n",
    "\n",
    "But *bridge* does not allow container to container networking.\n",
    "\n",
    "## Container to Container Networking\n",
    "If we want to perform container to container networking we need to create our own network.\n",
    "\n",
    "Lets create our own network called *my-network*"
   ]
  },
  {
   "cell_type": "code",
   "execution_count": null,
   "metadata": {},
   "outputs": [],
   "source": [
    "%%bash\n",
    "docker network create my-network"
   ]
  },
  {
   "cell_type": "markdown",
   "metadata": {},
   "source": [
    "Now spin up instance of our container and connect them to our network"
   ]
  },
  {
   "cell_type": "code",
   "execution_count": null,
   "metadata": {},
   "outputs": [],
   "source": [
    "%%bash\n",
    "docker container run --network my-network --name database -e MYSQL_ROOT_PASSWORD=**** -e MYSQL_DATABASE=fleetman -d mysql:8.0.16"
   ]
  }
 ],
 "metadata": {
  "kernelspec": {
   "display_name": "Python 3",
   "language": "python",
   "name": "python3"
  },
  "language_info": {
   "codemirror_mode": {
    "name": "ipython",
    "version": 3
   },
   "file_extension": ".py",
   "mimetype": "text/x-python",
   "name": "python",
   "nbconvert_exporter": "python",
   "pygments_lexer": "ipython3",
   "version": "3.7.3"
  }
 },
 "nbformat": 4,
 "nbformat_minor": 4
}
