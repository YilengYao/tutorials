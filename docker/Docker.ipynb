{
 "cells": [
  {
   "cell_type": "markdown",
   "metadata": {},
   "source": [
    "This is from Amit Agrawal\n",
    "\n",
    "When we want to push any image to docker hub we need to run the command \"docker login\", whenever we run this command docker first looks for the username and password inside the file ~/.docker/config.json , If credentials remains saved in this files under auth section then docker logins to the docker hub without asking for userid and password again and if not present then it will ask for credentials and once we successfully logged in into the docker hub, the credentials will be saved in ~/.docker/config.json until and unless we runs the command \"docker logout\"\n",
    "\n"
   ]
  },
  {
   "cell_type": "code",
   "execution_count": null,
   "metadata": {},
   "outputs": [],
   "source": [
    "%%bash\n",
    "# this is run on ubuntu\n",
    "su root\n",
    "cat ~/.docker/config.json"
   ]
  },
  {
   "cell_type": "code",
   "execution_count": null,
   "metadata": {},
   "outputs": [],
   "source": []
  }
 ],
 "metadata": {
  "kernelspec": {
   "display_name": "Python 3",
   "language": "python",
   "name": "python3"
  },
  "language_info": {
   "codemirror_mode": {
    "name": "ipython",
    "version": 3
   },
   "file_extension": ".py",
   "mimetype": "text/x-python",
   "name": "python",
   "nbconvert_exporter": "python",
   "pygments_lexer": "ipython3",
   "version": "3.7.3"
  }
 },
 "nbformat": 4,
 "nbformat_minor": 2
}
