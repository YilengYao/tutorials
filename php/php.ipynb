{
 "cells": [
  {
   "cell_type": "markdown",
   "metadata": {},
   "source": [
    "# Running a php server"
   ]
  },
  {
   "cell_type": "code",
   "execution_count": null,
   "metadata": {},
   "outputs": [],
   "source": [
    "%%bash\n",
    "php -S localhost:4000"
   ]
  },
  {
   "cell_type": "markdown",
   "metadata": {},
   "source": [
    "webpage is accessed using the url <a href=\"localhost:4000/www/data.php\">localhost:4000/www/data.php</a>"
   ]
  },
  {
   "cell_type": "markdown",
   "metadata": {},
   "source": [
    "# Get vs Post\n",
    "get: unformation is stored in url parameter\n",
    "\n",
    "post: information is not stored in url parameter\n",
    "\n",
    "Post is more secure"
   ]
  },
  {
   "cell_type": "markdown",
   "metadata": {},
   "source": [
    "# Associative Array \n",
    "\n",
    "Associative Array in PHP is for storing key value pairs\n"
   ]
  },
  {
   "cell_type": "markdown",
   "metadata": {},
   "source": [
    "### human readable printing\n",
    "print_r(var_name): used to print human-readable information about a variable, expecially useful for printing key value pari information in an associative array."
   ]
  },
  {
   "cell_type": "markdown",
   "metadata": {},
   "source": [
    "# Output Buffering\n",
    "Don't send output to the browser immediately, send it to a buffer when a function or some calculation has finished then send to the browser.<br>\n",
    "PHP code and data is runned in the background and not shown to the user untill you <b>echo</b> it out. echo statements are output generators: they \"leak out\" of PHP code, creating visual output to the user. while most othe PHP code doesn't. \"output buffering\" is the process of capturing and modifying the output before it is \"echoed out\".\n",
    "\n",
    "\n",
    "### ob_start()\n",
    "Turns on output buffering. In other words, it creates the buffer (invisible holding cell) that will store all output after it is called\n",
    "\n",
    "### ob_get_contents()\n",
    "Grabs all the data gathered since we ce called ob_start. i.e. everything in the buffer. Usually, you'll assign this to a variable\n",
    "\n",
    "### ob_clean()\n",
    "Removes everything from the output buffer. Note that it doesn not output anything\n",
    "\n",
    "### ob_end_clean()\n",
    "basically runs ob_get_contents(), erases the buffer, and turns off output buffering.\n",
    "\n",
    "### ob_end_flush() \n",
    "outputs content from the buffer and ends output buffering. It does not erase the buffer.\n",
    "\n",
    "## Wen is Output Buffering used\n",
    "HTTP headers contains information like the type of contents on its way, dated it was last modified, typer of server sending the request. Headers need to be sent before any output or other data is sent from the server.\n"
   ]
  },
  {
   "cell_type": "markdown",
   "metadata": {},
   "source": [
    "# Autoloaders\n",
    "Class autoloading: load classes automatically on demand, it provides you the name of the class to be loaded before it is called to instantiate an object. You are responsible for implementing the code to require the file containing the class that is in demand.<br>\n",
    "Right before an object is instantiated from a class, the autoloader, will give the php program of the name of the class that is needed to be required. So it is up to your to implement a code to search for and require the file that contains the class of the same name.\n",
    "- It's common and good practice to define each class in a separate file\n",
    "- Before you can use a class that's defined in a separate file, you have to require it\n",
    "- If you have alot of sepaate files (classes), you can end up with alot of requires in the script\n",
    "- autoloaders allow you to require the the files containing the class automatically on demand\n",
    "- how the autoload function works: autoload function provides the name of the class in demand\n",
    "Autoloading any class\n",
    "- Each class in a separate file\n",
    "- The filename matching the class name\n",
    "- In folders that match the name spaces\n",
    "- Classes will be automatically required on demand\n",
    "- No explicit require statements needed"
   ]
  },
  {
   "cell_type": "code",
   "execution_count": null,
   "metadata": {},
   "outputs": [],
   "source": [
    "<?php\n",
    "    // using anomynous function\n",
    "    spl_autoload_register(function($class) {\n",
    "        require_once(\"folder/{$class}.php\");\n",
    "     });\n",
    "     \n",
    "     // another way\n",
    "     function my_autoloader($class) {\n",
    "         require_once(\"folder/{$class}.php\");\n",
    "     }\n",
    "     spl_autoload_register('my_autoloader');\n",
    "?>"
   ]
  },
  {
   "cell_type": "markdown",
   "metadata": {},
   "source": [
    "# Sessions\n",
    "Sessions: is a way to carry data or information across multiple pages.<br>\n",
    "Normal a variable set on one page is not accessable on the next<br>\n",
    "Unlike cookies, session data is not stored on the user's computer, it is stored on the server.<br>\n",
    "- session_start(): start the session\n",
    "- the PHP global variable $_SESSION is associative array storing session variables, in a key value pair"
   ]
  },
  {
   "cell_type": "code",
   "execution_count": null,
   "metadata": {},
   "outputs": [],
   "source": [
    "// storing session variable\n",
    "<?php\n",
    "    session_start();\n",
    "    \n",
    "    $_SESSION['email'] = \"someone@somemail.com\";\n",
    "?>"
   ]
  },
  {
   "cell_type": "code",
   "execution_count": null,
   "metadata": {},
   "outputs": [],
   "source": [
    "// accessing session variable\n",
    "<?php\n",
    "    session_start();\n",
    "    \n",
    "    $name = $_SESSION['email'];\n",
    "?>"
   ]
  },
  {
   "cell_type": "markdown",
   "metadata": {},
   "source": [
    "# Redirection with PHP header"
   ]
  },
  {
   "cell_type": "code",
   "execution_count": null,
   "metadata": {},
   "outputs": [],
   "source": [
    "<?php \n",
    "// PHP program to describes header function \n",
    "  \n",
    "// Redirect the browser \n",
    "header(\"Location: http://www.geeksforgeeks.org\"); \n",
    "  \n",
    "// The below code does not get executed  \n",
    "// while redirecting \n",
    "exit; \n",
    "  \n",
    "?> "
   ]
  },
  {
   "cell_type": "markdown",
   "metadata": {},
   "source": [
    "# Magic Constants\n",
    "Magic constants are predefined constants in PHP whih gets changed on the basis of their usage. They start with double underscore $(__)$ and ends with double underscore.<br>\n",
    "They are similar to predefined constants but they change their values with the context.\n",
    "\n",
    "|Name|Description|\n",
    "|----|-----------|\n",
    "|$__LINE__$|Represents current line number where it is used.|\n",
    "|$__FILE__$|Represents full path and file name of the file. If it is used inside an include, name of included file is returned.|\n",
    "|$__DIR__$|Represents full directory path of the file. Equivaluent to dirname($__file__$). It does not have a trailing slash unless it is a root directory. It also resolves symbolic link.|\n",
    "|$__FUNCTION__$|Represents the function name where it is used. If it is used outside any function, then it will return blank.|\n",
    "|$__CLASS__$|Represents the class name where it is used. If it is used outside of any function, then it will return blank.|\n",
    "|$__TRAIT__$|Represents the trait name where it is used. If it is used outside any function, then it will return blank. It includes namespace it was declared in.|\n",
    "|$__METHOD__$|Represents the name of the class method where it is used. The method name is returned as it was declared.|\n",
    "|$__NAMESPACE__$|Represents the name of the current namespace.|\n",
    "\n",
    "<br>\n",
    "\n",
    "- file_exists(): checks whether a file or directory exists\n",
    "- is_file(): tells whether the given file is a regular file\n",
    "- is_dir(): tells whether the given filename is a directory\n"
   ]
  },
  {
   "cell_type": "code",
   "execution_count": null,
   "metadata": {},
   "outputs": [],
   "source": [
    "<?php\n",
    "    echo __FILE__ . \"<br>\";\n",
    "    echo __LINE__ . \"<br>\";\n",
    "    echo __DIR__ . \"<br>\";\n",
    "    \n",
    "    if(file_exists(__DIR__)) {\n",
    "        echo \"yes\";\n",
    "    } else {\n",
    "        echo \"no\";\n",
    "    }\n",
    "    \n",
    "    if(is_file(__DIR__)) {\n",
    "        echo \"yes\";\n",
    "    } else {\n",
    "        echo \"no\";\n",
    "    }\n",
    "    \n",
    "    is(is_dir(__FILE__)) {\n",
    "        echo \"yes\";\n",
    "    } else {\n",
    "        echo \"no\";\n",
    "    }"
   ]
  },
  {
   "cell_type": "markdown",
   "metadata": {},
   "source": [
    "# Uploading Files\n",
    "\n",
    "php.ini configurations\n",
    "\n",
    "| Attribute | Description |\n",
    "|--|--|\n",
    "|file_uploads| True, 1, or On|\n",
    "|post_max_size| 8M|\n",
    "|upload_max_file_size| 2M|\n",
    "|memory limit| 128M|\n",
    "|max_input_time| -1 - no limit|\n",
    "|upload_tmp_dir| NULL|\n",
    "|max_execution_time| 30 seconds|\n",
    "\n",
    "This information on XAMPP is available in http://localhost/xampp/ phpinfo()\n",
    "\n",
    "file path for php.ini on XAMPP on Mac OS is /Applications/XAMPP/etc/php.ini \n",
    "\n",
    "after changes to the configuration restart XAMPP services\n",
    "\n",
    "to view php info in browser use the following function"
   ]
  },
  {
   "cell_type": "code",
   "execution_count": null,
   "metadata": {},
   "outputs": [],
   "source": [
    "<?php \n",
    "    phpinfo();\n",
    "?>"
   ]
  },
  {
   "cell_type": "markdown",
   "metadata": {},
   "source": [
    "## Submitting file using a Form\n",
    "- method should be post\n",
    "- enctype should be multipart/form-data\n",
    "- input type should be file"
   ]
  },
  {
   "cell_type": "code",
   "execution_count": null,
   "metadata": {},
   "outputs": [],
   "source": [
    "<form action=\"upload.php\" enctype=\"multipart/form-data\" method=\"post\">\n",
    "    <input type=\"file\" name=\"file_upload\"><br>\n",
    "    <input type=\"submit\" name=\"submit\">\n",
    "</form>"
   ]
  },
  {
   "cell_type": "markdown",
   "metadata": {},
   "source": [
    "## Uploaded File Structure\n",
    "$_FILES['example_file']\n",
    "\n",
    "An associative array of items uploaded to current script via the HTTP POST method.\n",
    "\n",
    "\n",
    "| Attribute | Description |\n",
    "|--|--|\n",
    "|name|file name|\n",
    "|type|jpg, png, gif, doc, txt|\n",
    "|size| in bytes|\n",
    "|tmp_name|temborary name|\n",
    "|error|the error code|\n",
    "\n"
   ]
  },
  {
   "cell_type": "code",
   "execution_count": null,
   "metadata": {},
   "outputs": [],
   "source": [
    "<?php \n",
    "    print_r($_FILES['file_upload']);\n",
    "?>"
   ]
  },
  {
   "cell_type": "markdown",
   "metadata": {},
   "source": [
    "## File Upload Errors List\n",
    "\n",
    "|Constant|Value|Description|\n",
    "|--|--|--|\n",
    "|UPLOAD_ERR_OK        | 0| There is no error|\n",
    "|UPLOAD_ERR_INI_SIZE  | 1| Bigger then the upload_max)filesize directive|\n",
    "|UPLOAD_ERR_FORM_SIZE | 2| The uploaded file exceed MAX_FILE_SIZE|\n",
    "|UPLOAD_ERR_PARTIAL   | 3| The uploaded file was only partially uploaded|\n",
    "|UPLOAD_ERR_NO_FILE   | 4| No file was uploaded\n",
    "|UPLOAD_ERR_NO_TMP_DIR| 6| Missing a temporary folder. Introduced in PHP 5.0.3|\n",
    "|UPLOAD_ERR_CANT_WRITE| 7| Failed to write file to disk/ Introduced in PHP 5.1.0|\n",
    "|UPLOAD_ERR_EXTENSION | 8| A PHP extension stopped the file upload|\n"
   ]
  },
  {
   "cell_type": "code",
   "execution_count": null,
   "metadata": {},
   "outputs": [],
   "source": [
    "<?php\n",
    "    $upload_errors = array(\n",
    "        UPLOAD_ERR_OK         => \"There is no error\",\n",
    "        UPLOAD_ERR_INI_SIZE   => \"The uploaded file exceed the upload_max_filesize directive\",\n",
    "        UPLOAD_ERR_FORM_SIZE  => \"The upload file exceeds the MAX_FILE_SIZE directive\",\n",
    "        UPLOAD_ERR_PARTIAL    => \"The uploaded file is only partially uploaded.\",\n",
    "        UPLOAD_ERR_NO_FILE    => \"No file was uploaded.\",\n",
    "        UPLOAD_ERR_NO_TMP_DIR => \"Missing a temporary folder.\",\n",
    "        UPLOAD_ERR_CANT_WRITE => \"Failed to write file to disk.\",\n",
    "        UPLOAD_ERR_EXTENSION  => \"A PHP extension stopped the file upload.\"\n",
    "    );\n",
    "\n",
    "    $the_error = $_FILES['file_upload']['error'];\n",
    "    $the_message = $upload_error[$the_error];\n",
    "?>"
   ]
  },
  {
   "cell_type": "markdown",
   "metadata": {},
   "source": [
    "## Moving Uploaded Files\n",
    "using <b>move_uploaded_file([source],[destination])</b>."
   ]
  },
  {
   "cell_type": "code",
   "execution_count": null,
   "metadata": {},
   "outputs": [],
   "source": [
    "%%bash\n",
    "mkdir uploads # make directory to move the uploaded files into\n",
    "chmod ugo=rwx uploads # add read write and execute permissions to uploads directory"
   ]
  },
  {
   "cell_type": "code",
   "execution_count": null,
   "metadata": {},
   "outputs": [],
   "source": [
    "<?php \n",
    "    if(isset($_FILES['file_upload'])) {\n",
    "    \n",
    "\n",
    "        $upload_errors = array(\n",
    "            UPLOAD_ERR_OK         => \"There is no error\",\n",
    "            UPLOAD_ERR_INI_SIZE   => \"The uploaded file exceed the upload_max_filesize directive\",            \n",
    "            UPLOAD_ERR_FORM_SIZE  => \"The upload file exceeds the MAX_FILE_SIZE directive\",\n",
    "            UPLOAD_ERR_PARTIAL    => \"The uploaded file is only partially uploaded.\",\n",
    "            UPLOAD_ERR_NO_FILE    => \"No file was uploaded.\",\n",
    "            UPLOAD_ERR_NO_TMP_DIR => \"Missing a temporary folder.\",\n",
    "            UPLOAD_ERR_CANT_WRITE => \"Failed to write file to disk.\",\n",
    "            UPLOAD_ERR_EXTENSION  => \"A PHP extension stopped the file upload.\"\n",
    "        );\n",
    "\n",
    "        $temp_name = $_FILES['file_upload']['tmp_name'];\n",
    "        $the_file = $_FILES['file_upload']['name'];\n",
    "        $directory = \"uploads\";\n",
    "        \n",
    "        if(move_uploaded_file($temp_name, $directory . \"/\" . $the_file)) {\n",
    "            $the_message = \"File uploaded successfully\";\n",
    "        } else {\n",
    "            $the_error = $_FILES['file_upload']['error'];\n",
    "            $the_message = $upload_errors[$the_error];\n",
    "        }\n",
    "    }\n",
    "?>\n",
    "\n",
    "<form action=\"upload.php\" enctype=\"multipart/form-data\" method=\"post\">\n",
    "   <h2>\n",
    "        <?php\n",
    "            if(!empty($upload_errors)) {\n",
    "                echo $the_message;\n",
    "            }\n",
    "        ?>\n",
    "    </h2>\n",
    "    <input type=\"file\" name=\"file_upload\"><br>\n",
    "    <input type=\"submit\" name=\"submit\">\n",
    "</form>"
   ]
  },
  {
   "cell_type": "markdown",
   "metadata": {},
   "source": [
    "## Cleaning with htmlentities\n",
    "It attempts to solve the security loophole of attacker inject html code and scripts into your webpage<br>\n",
    "### Converting HTML into Entities\n",
    "htmlentities function takes a string and returns the same string with HTML converted into HTML entities. "
   ]
  },
  {
   "cell_type": "code",
   "execution_count": null,
   "metadata": {},
   "outputs": [],
   "source": [
    "# Eg, string \"\\<script>\" would be converted into \n",
    "# \"&lt;script&gt;\"\n",
    "\n",
    "# By converting the < and > into entities, it prevents the browser from using it as an HTML element and it prevents the code from running if you were to display some user's input on your website."
   ]
  },
  {
   "cell_type": "code",
   "execution_count": null,
   "metadata": {},
   "outputs": [],
   "source": [
    "<?php\n",
    "    /* removes unwanted charaters such as > < etc. */\n",
    "    function clean($string) {\n",
    "        return htmlentities($string);\n",
    "    }\n",
    "?>"
   ]
  }
 ],
 "metadata": {
  "kernelspec": {
   "display_name": "Python 3",
   "language": "python",
   "name": "python3"
  },
  "language_info": {
   "codemirror_mode": {
    "name": "ipython",
    "version": 3
   },
   "file_extension": ".py",
   "mimetype": "text/x-python",
   "name": "python",
   "nbconvert_exporter": "python",
   "pygments_lexer": "ipython3",
   "version": "3.7.3"
  }
 },
 "nbformat": 4,
 "nbformat_minor": 2
}
