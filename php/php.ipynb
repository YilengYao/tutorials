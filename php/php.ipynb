{
 "cells": [
  {
   "cell_type": "markdown",
   "metadata": {},
   "source": [
    "# Running a php server"
   ]
  },
  {
   "cell_type": "code",
   "execution_count": null,
   "metadata": {},
   "outputs": [],
   "source": [
    "%%bash\n",
    "php -S localhost:4000"
   ]
  },
  {
   "cell_type": "markdown",
   "metadata": {},
   "source": [
    "webpage is accessed using the url <a href=\"localhost:4000/www/data.php\">localhost:4000/www/data.php</a>"
   ]
  },
  {
   "cell_type": "markdown",
   "metadata": {},
   "source": [
    "# Get vs Post\n",
    "get: unformation is stored in url parameter\n",
    "\n",
    "post: information is not stored in url parameter\n",
    "\n",
    "Post is more secure"
   ]
  },
  {
   "cell_type": "markdown",
   "metadata": {},
   "source": [
    "# Associative Array \n",
    "\n",
    "Associative Array in PHP is for storing key value pairs\n"
   ]
  },
  {
   "cell_type": "markdown",
   "metadata": {},
   "source": [
    "# Output Buffering\n",
    "Don't send output to the browser immediately, send it to a buffer when a function or some calculation has finished then send to the browser.<br>\n",
    "PHP code and data is runned in the background and not shown to the user untill you <b>echo</b> it out. echo statements are output generators: they \"leak out\" of PHP code, creating visual output to the user. while most othe PHP code doesn't. \"output buffering\" is the process of capturing and modifying the output before it is \"echoed out\".\n",
    "\n",
    "\n",
    "### ob_start()\n",
    "Turns on output buffering. In other words, it creates the buffer (invisible holding cell) that will store all output after it is called\n",
    "\n",
    "### ob_get_contents()\n",
    "Grabs all the data gathered since we ce called ob_start. i.e. everything in the buffer. Usually, you'll assign this to a variable\n",
    "\n",
    "### ob_clean()\n",
    "Removes everything from the output buffer. Note that it doesn not output anything\n",
    "\n",
    "### ob_end_clean()\n",
    "basically runs ob_get_contents(), erases the buffer, and turns off output buffering.\n",
    "\n",
    "### ob_end_flush() \n",
    "outputs content from the buffer and ends output buffering. It does not erase the buffer.\n",
    "\n",
    "## Wen is Output Buffering used\n",
    "HTTP headers contains information like the type of contents on its way, dated it was last modified, typer of server sending the request. Headers need to be sent before any output or other data is sent from the server.\n"
   ]
  },
  {
   "cell_type": "markdown",
   "metadata": {},
   "source": [
    "# Autoloaders\n",
    "Class autoloading: load classes automatically on demand, it provides you the name of the class to be loaded before it is called to instantiate an object. You are responsible for implementing the code to require the file containing the class that is in demand.<br>\n",
    "Right before an object is instantiated from a class, the autoloader, will give the php program of the name of the class that is needed to be required. So it is up to your to implement a code to search for and require the file that contains the class of the same name.\n",
    "- It's common and good practice to define each class in a separate file\n",
    "- Before you can use a class that's defined in a separate file, you have to require it\n",
    "- If you have alot of sepaate files (classes), you can end up with alot of requires in the script\n",
    "- autoloaders allow you to require the the files containing the class automatically on demand\n",
    "- how the autoload function works: autoload function provides the name of the class in demand\n",
    "Autoloading any class\n",
    "- Each class in a separate file\n",
    "- The filename matching the class name\n",
    "- In folders that match the name spaces\n",
    "- Classes will be automatically required on demand\n",
    "- No explicit require statements needed"
   ]
  },
  {
   "cell_type": "code",
   "execution_count": null,
   "metadata": {},
   "outputs": [],
   "source": [
    "<?php\n",
    "    // using anomynous function\n",
    "    spl_autoload_register(function($class) {\n",
    "        require_once(\"folder/{$class}.php\");\n",
    "     });\n",
    "     \n",
    "     // another way\n",
    "     function my_autoloader($class) {\n",
    "         require_once(\"folder/{$class}.php\");\n",
    "     }\n",
    "     spl_autoload_register('my_autoloader');\n",
    "?>"
   ]
  },
  {
   "cell_type": "markdown",
   "metadata": {},
   "source": [
    "# Sessions\n",
    "Sessions: is a way to carry data or information across multiple pages.<br>\n",
    "Normal a variable set on one page is not accessable on the next<br>\n",
    "Unlike cookies, session data is not stored on the user's computer, it is stored on the server.<br>\n",
    "- session_start(): start the session\n",
    "- the PHP global variable $_SESSION is associative array storing session variables, in a key value pair"
   ]
  },
  {
   "cell_type": "code",
   "execution_count": null,
   "metadata": {},
   "outputs": [],
   "source": [
    "// storing session variable\n",
    "<?php\n",
    "    session_start();\n",
    "    \n",
    "    $_SESSION['email'] = \"someone@somemail.com\";\n",
    "?>"
   ]
  },
  {
   "cell_type": "code",
   "execution_count": null,
   "metadata": {},
   "outputs": [],
   "source": [
    "// accessing session variable\n",
    "<?php\n",
    "    session_start();\n",
    "    \n",
    "    $name = $_SESSION['email'];\n",
    "?>"
   ]
  },
  {
   "cell_type": "markdown",
   "metadata": {},
   "source": [
    "# Redirection with PHP header"
   ]
  },
  {
   "cell_type": "code",
   "execution_count": null,
   "metadata": {},
   "outputs": [],
   "source": [
    "<?php \n",
    "// PHP program to describes header function \n",
    "  \n",
    "// Redirect the browser \n",
    "header(\"Location: http://www.geeksforgeeks.org\"); \n",
    "  \n",
    "// The below code does not get executed  \n",
    "// while redirecting \n",
    "exit; \n",
    "  \n",
    "?> "
   ]
  },
  {
   "cell_type": "markdown",
   "metadata": {},
   "source": [
    "# Magic Constants\n",
    "Magic constants are predefined constants in PHP whih gets changed on the basis of their usage. They start with double underscore $(__)$ and ends with double underscore.<br>\n",
    "They are similar to predefined constants but they change their values with the context.\n",
    "\n",
    "|Name|Description|\n",
    "|----|-----------|\n",
    "|$__LINE__$|Represents current line number where it is used.|\n",
    "|$__FILE__$|Represents full path and file name of the file. If it is used inside an include, name of included file is returned.|\n",
    "|$__DIR__$|Represents full directory path of the file. Equivaluent to dirname($__file__$). It does not have a trailing slash unless it is a root directory. It also resolves symbolic link.|\n",
    "|$__FUNCTION__$|Represents the function name where it is used. If it is used outside any function, then it will return blank.|\n",
    "|$__CLASS__$|Represents the class name where it is used. If it is used outside of any function, then it will return blank.|\n",
    "|$__TRAIT__$|Represents the trait name where it is used. If it is used outside any function, then it will return blank. It includes namespace it was declared in.|\n",
    "|$__METHOD__$|Represents the name of the class method where it is used. The method name is returned as it was declared.|\n",
    "|$__NAMESPACE__$|Represents the name of the current namespace.|\n",
    "\n",
    "<br>\n",
    "\n",
    "- file_exists(): checks whether a file or directory exists\n",
    "- is_file(): tells whether the given file is a regular file\n",
    "- is_dir(): tells whether the given filename is a directory\n"
   ]
  },
  {
   "cell_type": "code",
   "execution_count": null,
   "metadata": {},
   "outputs": [],
   "source": [
    "<?php\n",
    "    echo __FILE__ . \"<br>\";\n",
    "    echo __LINE__ . \"<br>\";\n",
    "    echo __DIR__ . \"<br>\";\n",
    "    \n",
    "    if(file_exists(__DIR__)) {\n",
    "        echo \"yes\";\n",
    "    } else {\n",
    "        echo \"no\";\n",
    "    }\n",
    "    \n",
    "    if(is_file(__DIR__)) {\n",
    "        echo \"yes\";\n",
    "    } else {\n",
    "        echo \"no\";\n",
    "    }\n",
    "    \n",
    "    is(is_dir(__FILE__)) {\n",
    "        echo \"yes\";\n",
    "    } else {\n",
    "        echo \"no\";\n",
    "    }"
   ]
  }
 ],
 "metadata": {
  "kernelspec": {
   "display_name": "Python 3",
   "language": "python",
   "name": "python3"
  },
  "language_info": {
   "codemirror_mode": {
    "name": "ipython",
    "version": 3
   },
   "file_extension": ".py",
   "mimetype": "text/x-python",
   "name": "python",
   "nbconvert_exporter": "python",
   "pygments_lexer": "ipython3",
   "version": "3.7.3"
  }
 },
 "nbformat": 4,
 "nbformat_minor": 2
}
