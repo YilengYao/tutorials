{
 "cells": [
  {
   "cell_type": "markdown",
   "metadata": {},
   "source": [
    "# Running a php server"
   ]
  },
  {
   "cell_type": "code",
   "execution_count": null,
   "metadata": {},
   "outputs": [],
   "source": [
    "%%bash\n",
    "php -S localhost:4000"
   ]
  },
  {
   "cell_type": "markdown",
   "metadata": {},
   "source": [
    "webpage is accessed using the url <a href=\"localhost:4000/www/data.php\">localhost:4000/www/data.php</a>"
   ]
  },
  {
   "cell_type": "markdown",
   "metadata": {},
   "source": [
    "# Get vs Post\n",
    "get: unformation is stored in url parameter\n",
    "\n",
    "post: information is not stored in url parameter\n",
    "\n",
    "Post is more secure"
   ]
  },
  {
   "cell_type": "markdown",
   "metadata": {},
   "source": [
    "# Associative Array \n",
    "\n",
    "Associative Array in PHP is for storing key value pairs\n"
   ]
  },
  {
   "cell_type": "markdown",
   "metadata": {},
   "source": [
    "# Output Buffering\n",
    "Don't send output to the browser immediately, send it to a buffer when a function or some calculation has finished then send to the browser.<br>\n",
    "PHP code and data is runned in the background and not shown to the user untill you <b>echo</b> it out. echo statements are output generators: they \"leak out\" of PHP code, creating visual output to the user. while most othe PHP code doesn't. \"output buffering\" is the process of capturing and modifying the output before it is \"echoed out\".\n",
    "\n",
    "\n",
    "### ob_start()\n",
    "Turns on output buffering. In other words, it creates the buffer (invisible holding cell) that will store all output after it is called\n",
    "\n",
    "### ob_get_contents()\n",
    "Grabs all the data gathered since we ce called ob_start. i.e. everything in the buffer. Usually, you'll assign this to a variable\n",
    "\n",
    "### ob_clean()\n",
    "Removes everything from the output buffer. Note that it doesn not output anything\n",
    "\n",
    "### ob_end_clean()\n",
    "basically runs ob_get_contents(), erases the buffer, and turns off output buffering.\n",
    "\n",
    "### ob_end_flush() \n",
    "outputs content from the buffer and ends output buffering. It does not erase the buffer.\n",
    "\n",
    "## Wen is Output Buffering used\n",
    "HTTP headers contains information like the type of contents on its way, dated it was last modified, typer of server sending the request. Headers need to be sent before any output or other data is sent from the server.\n"
   ]
  },
  {
   "cell_type": "code",
   "execution_count": null,
   "metadata": {},
   "outputs": [],
   "source": []
  },
  {
   "cell_type": "code",
   "execution_count": null,
   "metadata": {},
   "outputs": [],
   "source": []
  }
 ],
 "metadata": {
  "kernelspec": {
   "display_name": "Python 3",
   "language": "python",
   "name": "python3"
  },
  "language_info": {
   "codemirror_mode": {
    "name": "ipython",
    "version": 3
   },
   "file_extension": ".py",
   "mimetype": "text/x-python",
   "name": "python",
   "nbconvert_exporter": "python",
   "pygments_lexer": "ipython3",
   "version": "3.7.3"
  }
 },
 "nbformat": 4,
 "nbformat_minor": 2
}
