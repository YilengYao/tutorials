{
 "cells": [
  {
   "cell_type": "markdown",
   "metadata": {},
   "source": [
    "# Linux Tech Stack\n",
    "\n",
    "<img src='screenshots/Linux-Stack.png' style='height: 50%; width: 50%'>\n",
    "\n",
    "Role of the Kernel\n",
    "\n",
    "<img src='screenshots/Role-of-Kernel.png' style='height: 50%; width: 50%'>"
   ]
  },
  {
   "cell_type": "markdown",
   "metadata": {},
   "source": [
    "lsmod: gives you a list of all drivers currently loaded"
   ]
  },
  {
   "cell_type": "code",
   "execution_count": null,
   "metadata": {},
   "outputs": [],
   "source": [
    "%%bash\n",
    "lsmod"
   ]
  },
  {
   "cell_type": "markdown",
   "metadata": {},
   "source": [
    "Use **modinfo [drivername]** to get info of specific driver"
   ]
  },
  {
   "cell_type": "code",
   "execution_count": null,
   "metadata": {},
   "outputs": [],
   "source": [
    "%%bash\n",
    "modinfo soundcore"
   ]
  },
  {
   "cell_type": "code",
   "execution_count": null,
   "metadata": {},
   "outputs": [],
   "source": [
    "%%bash\n",
    "modinfo 1915"
   ]
  },
  {
   "cell_type": "markdown",
   "metadata": {},
   "source": [
    "**/dev**: directory contains files for your drivers\n",
    "\n",
    "**cd /dev/sd\\***: contain drivers for scsi drives which are hardware of tape drivers\n"
   ]
  },
  {
   "cell_type": "markdown",
   "metadata": {},
   "source": [
    "# GLIBC\n",
    "linux languages\n",
    "- Linux is written in the C programming language\n",
    "- Most linux components are written in C\n",
    "- C is considered a low-level language\n",
    "- High-level languages such as scripting languages are common as well\n",
    "- Python is an often used scripting language, which itsel is written in C"
   ]
  },
  {
   "cell_type": "code",
   "execution_count": 4,
   "metadata": {},
   "outputs": [
    {
     "name": "stdout",
     "output_type": "stream",
     "text": [
      "\tlinux-vdso.so.1 (0x00007ffd5797c000)\n",
      "\tlibpam.so.0 => /lib/x86_64-linux-gnu/libpam.so.0 (0x00007f5d17a92000)\n",
      "\tlibpam_misc.so.0 => /lib/x86_64-linux-gnu/libpam_misc.so.0 (0x00007f5d1788e000)\n",
      "\tlibselinux.so.1 => /lib/x86_64-linux-gnu/libselinux.so.1 (0x00007f5d17666000)\n",
      "\tlibc.so.6 => /lib/x86_64-linux-gnu/libc.so.6 (0x00007f5d17275000)\n",
      "\tlibaudit.so.1 => /lib/x86_64-linux-gnu/libaudit.so.1 (0x00007f5d1704c000)\n",
      "\tlibdl.so.2 => /lib/x86_64-linux-gnu/libdl.so.2 (0x00007f5d16e48000)\n",
      "\tlibpcre.so.3 => /lib/x86_64-linux-gnu/libpcre.so.3 (0x00007f5d16bd6000)\n",
      "\t/lib64/ld-linux-x86-64.so.2 (0x00007f5d17eaf000)\n",
      "\tlibcap-ng.so.0 => /lib/x86_64-linux-gnu/libcap-ng.so.0 (0x00007f5d169d1000)\n",
      "\tlibpthread.so.0 => /lib/x86_64-linux-gnu/libpthread.so.0 (0x00007f5d167b2000)\n"
     ]
    }
   ],
   "source": [
    "%%bash\n",
    "ldd $(which passwd)"
   ]
  },
  {
   "cell_type": "markdown",
   "metadata": {},
   "source": [
    "lbc is a well known c library, providing systemcalls and function used by this program"
   ]
  },
  {
   "cell_type": "code",
   "execution_count": 6,
   "metadata": {},
   "outputs": [
    {
     "name": "stdout",
     "output_type": "stream",
     "text": [
      "LIBC(7)                    Linux Programmer's Manual                   LIBC(7)\n",
      "\n",
      "NAME\n",
      "       libc - overview of standard C libraries on Linux\n",
      "\n",
      "DESCRIPTION\n",
      "       The  term  \"libc\"  is  commonly used as a shorthand for the \"standard C\n",
      "       library\", a library of standard functions that can be  used  by  all  C\n",
      "       programs  (and  sometimes  by programs in other languages).  Because of\n",
      "       some history (see below), use of the term \"libc\" to refer to the  stan‐\n",
      "       dard C library is somewhat ambiguous on Linux.\n",
      "\n",
      "   glibc\n",
      "       By  far  the  most  widely used C library on Linux is the GNU C Library\n",
      "       ⟨http://www.gnu.org/software/libc/⟩, often referred to as glibc.   This\n",
      "       is  the  C  library  that is nowadays used in all major Linux distribu‐\n",
      "       tions.  It is also the C library whose details are  documented  in  the\n",
      "       relevant  pages of the man-pages project (primarily in Section 3 of the\n",
      "       manual).  Documentation of glibc is also available in the glibc manual,\n",
      "       available  via the command info libc.  Release 1.0 of glibc was made in\n",
      "       September 1992.  (There were earlier 0.x  releases.)   The  next  major\n",
      "       release of glibc was 2.0, at the beginning of 1997.\n",
      "\n",
      "       The  pathname  /lib/libc.so.6 (or something similar) is normally a sym‐\n",
      "       bolic link that points to the location of the glibc library,  and  exe‐\n",
      "       cuting  this  pathname  will cause glibc to display various information\n",
      "       about the version installed on your system.\n",
      "\n",
      "   Linux libc\n",
      "       In the early to mid 1990s, there was for a while Linux libc, a fork  of\n",
      "       glibc  1.x  created by Linux developers who felt that glibc development\n",
      "       at the time was not sufficing for the  needs  of  Linux.   Often,  this\n",
      "       library  was  referred  to  (ambiguously)  as  just \"libc\".  Linux libc\n",
      "       released major versions 2, 3, 4, and 5, as well as many minor  versions\n",
      "       of  those  releases.  Linux libc4 was the last version to use the a.out\n",
      "       binary format, and the first  version  to  provide  (primitive)  shared\n",
      "       library support.  Linux libc 5 was the first version to support the ELF\n",
      "       binary format; this version used the shared library  soname  libc.so.5.\n",
      "       For  a  while, Linux libc was the standard C library in many Linux dis‐\n",
      "       tributions.\n",
      "\n",
      "       However, notwithstanding the original motivations  of  the  Linux  libc\n",
      "       effort,  by  the  time glibc 2.0 was released (in 1997), it was clearly\n",
      "       superior to Linux libc, and all major Linux distributions that had been\n",
      "       using  Linux  libc soon switched back to glibc.  To avoid any confusion\n",
      "       with Linux libc versions, glibc 2.0 and later used the  shared  library\n",
      "       soname libc.so.6.\n",
      "\n",
      "       Since  the  switch from Linux libc to glibc 2.0 occurred long ago, man-\n",
      "       pages no longer takes care to document Linux libc  details.   Neverthe‐\n",
      "       less,  the  history  is  visible in vestiges of information about Linux\n",
      "       libc that remain in a few manual pages, in  particular,  references  to\n",
      "       libc4 and libc5.\n",
      "\n",
      "   Other C libraries\n",
      "       There  are various other less widely used C libraries for Linux.  These\n",
      "       libraries are generally smaller than glibc, both in terms  of  features\n",
      "       and  memory  footprint, and often intended for building small binaries,\n",
      "       perhaps targeted at development for embedded Linux systems.  Among such\n",
      "       libraries     are     uClibc     ⟨http://www.uclibc.org/⟩,     dietlibc\n",
      "       ⟨http://www.fefe.de/dietlibc/⟩,         and          musl          libc\n",
      "       ⟨http://www.musl-libc.org/⟩.  Details of these libraries are covered by\n",
      "       the man-pages project, where they are known.\n",
      "\n",
      "SEE ALSO\n",
      "       syscalls(2),  getauxval(3),   proc(5),   feature_test_macros(7),   man-\n",
      "       pages(7), standards(7), vdso(7)\n",
      "\n",
      "COLOPHON\n",
      "       This  page  is  part of release 4.15 of the Linux man-pages project.  A\n",
      "       description of the project, information about reporting bugs,  and  the\n",
      "       latest     version     of     this    page,    can    be    found    at\n",
      "       https://www.kernel.org/doc/man-pages/.\n",
      "\n",
      "Linux                             2016-12-12                           LIBC(7)\n"
     ]
    }
   ],
   "source": [
    "%%bash\n",
    "man glibc"
   ]
  },
  {
   "cell_type": "markdown",
   "metadata": {},
   "source": [
    "Glibc is a GNU version of libc"
   ]
  },
  {
   "cell_type": "markdown",
   "metadata": {},
   "source": [
    "# File Descriptors\n",
    "Understanding file descriptors\n",
    "- Linux is a file oriented operating system\n",
    "- Everything is happening as a file: device access, I/O handling, inter process communication and more\n",
    "- Every process keeps a table of file descriptors that shows files that are currently in use\n",
    "- Common file descriptors are:\n",
    "- - 0: STDIN\n",
    "- - 1: STDOUT\n",
    "- - 2: STDERR"
   ]
  },
  {
   "cell_type": "code",
   "execution_count": null,
   "metadata": {},
   "outputs": [],
   "source": [
    "%%bash\n",
    "cd /proc\n",
    "cd <some number in proc>\n",
    "cd fd\n",
    "ls -l"
   ]
  },
  {
   "cell_type": "markdown",
   "metadata": {},
   "source": [
    "# Role of C in Linux\n",
    "- Linux is written in C\n",
    "- The source code of all linux components is accessible as a readable file\n",
    "- Source files written in C need to be compile to a binary program"
   ]
  },
  {
   "cell_type": "code",
   "execution_count": 15,
   "metadata": {},
   "outputs": [
    {
     "name": "stderr",
     "output_type": "stream",
     "text": [
      "Cloning into 'coreutils'...\n"
     ]
    }
   ],
   "source": [
    "%%bash\n",
    "git clone git://git.sv.gnu.org/coreutils"
   ]
  },
  {
   "cell_type": "code",
   "execution_count": 24,
   "metadata": {},
   "outputs": [
    {
     "name": "stdout",
     "output_type": "stream",
     "text": [
      "/* 'dir', 'vdir' and 'ls' directory listing programs for GNU.\n",
      "   Copyright (C) 1985-2019 Free Software Foundation, Inc.\n",
      "\n",
      "   This program is free software: you can redistribute it and/or modify\n",
      "   it under the terms of the GNU General Public License as published by\n",
      "   the Free Software Foundation, either version 3 of the License, or\n",
      "   (at your option) any later version.\n",
      "\n",
      "   This program is distributed in the hope that it will be useful,\n",
      "   but WITHOUT ANY WARRANTY; without even the implied warranty of\n",
      "   MERCHANTABILITY or FITNESS FOR A PARTICULAR PURPOSE.  See the\n",
      "   GNU General Public License for more details.\n",
      "\n",
      "   You should have received a copy of the GNU General Public License\n",
      "   along with this program.  If not, see <https://www.gnu.org/licenses/>.  */\n",
      "\n",
      "/* If ls_mode is LS_MULTI_COL,\n",
      "   the multi-column format is the default regardless\n",
      "   of the type of output device.\n",
      "   This is for the 'dir' program.\n",
      "\n",
      "   If ls_mode is LS_LONG_FORMAT,\n",
      "   the long format is the default regardless of the\n",
      "   type of output device.\n",
      "   This is for the 'vdir' program.\n",
      "\n",
      "   If ls_mode is LS_LS,\n",
      "   the output format depends on whether the output\n",
      "   device is a terminal.\n",
      "   This is for the 'ls' program.  */\n",
      "\n",
      "/* Written by Richard Stallman and David MacKenzie.  */\n",
      "\n",
      "/* Color support by Peter Anvin <Peter.Anvin@linux.org> and Dennis\n",
      "   Flaherty <dennisf@denix.elk.miles.com> based on original patches by\n",
      "   Greg Lee <lee@uhunix.uhcc.hawaii.edu>.  */\n",
      "\n",
      "#include <config.h>\n",
      "#include <sys/types.h>\n",
      "\n",
      "#include <termios.h>\n",
      "#if HAVE_STROPTS_H\n",
      "# include <stropts.h>\n",
      "#endif\n",
      "#include <sys/ioctl.h>\n",
      "\n",
      "#ifdef WINSIZE_IN_PTEM\n",
      "# include <sys/stream.h>\n",
      "# include <sys/ptem.h>\n",
      "#endif\n"
     ]
    }
   ],
   "source": [
    "%%bash\n",
    "cd coreutils/src\n",
    "head -50 ls.c"
   ]
  },
  {
   "cell_type": "markdown",
   "metadata": {},
   "source": [
    "# Role of GIT\n",
    "Understanding git\n",
    "- Linux code is written by the Open Source community\n",
    "- The Open Source community needs a way to work together\n",
    "- Git is the most common version control syst3em which was created by Linux founder Linus Torvalds\n",
    "- A git folder contains the complete repository with a historicj overview and included tracking functionality as well\n",
    "- To work on software, developers can clone a Git folder to their local computer and work from there. Once finished it can be merged from the user's computer up to the git repository"
   ]
  },
  {
   "cell_type": "markdown",
   "metadata": {},
   "source": [
    "# What you need to know about C\n",
    "Understanding Compilers and Makefiles\n",
    "- C code needs to be compiled to get usable code\n",
    "- Compiling a simple file can be straightforward. If that is the case, the **gcc** command can be used, as in **gcc first.c -o first**"
   ]
  },
  {
   "cell_type": "code",
   "execution_count": 34,
   "metadata": {},
   "outputs": [],
   "source": [
    "%%bash\n",
    "gcc first.c -o first -w"
   ]
  },
  {
   "cell_type": "code",
   "execution_count": 35,
   "metadata": {},
   "outputs": [
    {
     "name": "stdout",
     "output_type": "stream",
     "text": [
      " Hello world\n"
     ]
    }
   ],
   "source": [
    "%%bash\n",
    "./first"
   ]
  },
  {
   "cell_type": "markdown",
   "metadata": {},
   "source": [
    "ldd list the library that a C program uses"
   ]
  },
  {
   "cell_type": "code",
   "execution_count": 36,
   "metadata": {},
   "outputs": [
    {
     "name": "stdout",
     "output_type": "stream",
     "text": [
      "\tlinux-vdso.so.1 (0x00007ffddfa53000)\n",
      "\tlibc.so.6 => /lib/x86_64-linux-gnu/libc.so.6 (0x00007fddd89ac000)\n",
      "\t/lib64/ld-linux-x86-64.so.2 (0x00007fddd8f9f000)\n"
     ]
    }
   ],
   "source": [
    "%%bash\n",
    "ldd first"
   ]
  },
  {
   "cell_type": "markdown",
   "metadata": {},
   "source": [
    "- On complex programs, external files need to be included as well and the compiler line would become extremely long\n",
    "- To fix this issue, you can use Makefiles\n",
    "- A Makefile is a recipe that defines exactly what needs to be done in the compilation process\n",
    "- User the **make** command to process intructions in a Makefile"
   ]
  },
  {
   "cell_type": "markdown",
   "metadata": {},
   "source": [
    "## Understand Object Files\n",
    "- Simple files can be compiled straightforward\n",
    "- Complex programs are composed of many componenets and the compilation process consists fo multiple steps\n",
    "- - The source code is compiled into object files\n",
    "- - - A object file cannot run by itself, but already contains machine specific code\n",
    "- - - These object files later are linked to libraries to compose an executable program\n",
    "- The linker is a component ath links everything. It exists as a separate command, but can be done directly from the C compiler as well: **gcc -o myprogram main.o aux.o**\n",
    "\n",
    "## Understanding Header Files\n",
    "- Header files are additional C source files that contin type and library function declarations\n",
    "- stdio.h is a common header file that is included to make these functions available\n",
    "- - User \\#include \\< stdio.h \\> in the source file to include the the header\n",
    "- - The compiler by default looks in /usr/include for these\n",
    "- Specific source code is often dependent on the header files\n",
    "- - If header files cannot be found in the compilation processes, parts of the code won't be compiled at all\n",
    "- Before compiling everything, the C Processor (cpp) joins source code, object files and header files and next the compiler is doing the rest of it"
   ]
  },
  {
   "cell_type": "code",
   "execution_count": 41,
   "metadata": {},
   "outputs": [
    {
     "name": "stdout",
     "output_type": "stream",
     "text": [
      "stdio.h\n"
     ]
    }
   ],
   "source": [
    "%%bash\n",
    "ls /usr/include | grep stdio.h"
   ]
  },
  {
   "cell_type": "code",
   "execution_count": null,
   "metadata": {},
   "outputs": [],
   "source": [
    "%%bash\n",
    "find /usr/share/doc | grep Makefile"
   ]
  },
  {
   "cell_type": "markdown",
   "metadata": {},
   "source": [
    "# How Linux CIf a ommands work\n",
    "\n",
    "## What is happening when task is performs\n",
    "If a linux performs a somple task, a lot of things need to happen to accomplish that task. Have you for example ever wondered wha'ts involved to simple read a file, as in the **cat /etc/hosts** command?\n",
    "- The **cat** command must be read and loaded from disk in RAM\n",
    "- Related libraries must be found and loaded in RAM also\n",
    "- The /etc/hosts file needs to be located on disk\n",
    "- Permissions of the current user need to be checked on this file\n",
    "- If that is appropriate, the file contents can be copied to RAM\n",
    "All these different tasks are provided through system calls and library calls\n",
    "\n",
    "## Understanding System Calls\n",
    "- Processes cannot access the kernel directly\n",
    "- System calls are used as an interface for processes to the kernel\n",
    "- - **glibc** provides a library interface to use system calls from programs\n",
    "- Common tasks like opening, listing, reading and writing to files all involve system calls\n",
    "- The **fork()** and **exec()** system calls determing how a process starts\n",
    "- - **fork()**: the kernel creates an almost identical copy of the current process and replaces that\n",
    "- - **exec()**: the kernel starts a program, which replaced the current process\n",
    "\n",
    "<img src='screenshots/System-Call-Fork-Exec.png' style='height: 50%; width: 50%'>"
   ]
  },
  {
   "cell_type": "markdown",
   "metadata": {},
   "source": [
    "## Reading about System Calls in Man"
   ]
  },
  {
   "cell_type": "code",
   "execution_count": 3,
   "metadata": {},
   "outputs": [
    {
     "name": "stdout",
     "output_type": "stream",
     "text": [
      "       2   System calls (functions provided by the kernel)\n"
     ]
    }
   ],
   "source": [
    "%%bash\n",
    "man man | grep \"System calls\""
   ]
  },
  {
   "cell_type": "code",
   "execution_count": 4,
   "metadata": {},
   "outputs": [
    {
     "name": "stdout",
     "output_type": "stream",
     "text": [
      "INTRO(2)                   Linux Programmer's Manual                  INTRO(2)\n",
      "\n",
      "NAME\n",
      "       intro - introduction to system calls\n",
      "\n",
      "DESCRIPTION\n",
      "       Section  2  of  the  manual describes the Linux system calls.  A system\n",
      "       call is an entry point into the Linux kernel.   Usually,  system  calls\n",
      "       are not invoked directly: instead, most system calls have corresponding\n",
      "       C library wrapper functions which perform  the  steps  required  (e.g.,\n",
      "       trapping  to  kernel  mode)  in order to invoke the system call.  Thus,\n",
      "       making a system call looks the same as invoking a normal library  func‐\n",
      "       tion.\n",
      "\n",
      "       In many cases, the C library wrapper function does nothing more than:\n",
      "\n",
      "       *  copying arguments and the unique system call number to the registers\n",
      "          where the kernel expects them;\n",
      "\n",
      "       *  trapping to kernel mode, at which point the  kernel  does  the  real\n",
      "          work of the system call;\n",
      "\n",
      "       *  setting  errno  if  the system call returns an error number when the\n",
      "          kernel returns the CPU to user mode.\n",
      "\n",
      "       However, in a few cases, a wrapper function may  do  rather  more  than\n",
      "       this,  for  example,  performing  some  preprocessing  of the arguments\n",
      "       before trapping to kernel mode, or postprocessing of values returned by\n",
      "       the system call.  Where this is the case, the manual pages in Section 2\n",
      "       generally try to note the details of both the (usually GNU)  C  library\n",
      "       API  interface  and  the  raw  system  call.   Most  commonly, the main\n",
      "       DESCRIPTION will focus on the C library interface, and differences  for\n",
      "       the system call are covered in the NOTES section.\n",
      "\n",
      "       For a list of the Linux system calls, see syscalls(2).\n",
      "\n",
      "RETURN VALUE\n",
      "       On  error,  most system calls return a negative error number (i.e., the\n",
      "       negated value of one of the constants described in  errno(3)).   The  C\n",
      "       library  wrapper  hides this detail from the caller: when a system call\n",
      "       returns a negative value, the wrapper copies the  absolute  value  into\n",
      "       the errno variable, and returns -1 as the return value of the wrapper.\n",
      "\n",
      "       The  value  returned  by  a successful system call depends on the call.\n",
      "       Many system calls return 0 on success, but some can return nonzero val‐\n",
      "       ues  from a successful call.  The details are described in the individ‐\n",
      "       ual manual pages.\n",
      "\n",
      "       In some cases, the programmer must define a feature test macro in order\n",
      "       to  obtain the declaration of a system call from the header file speci‐\n",
      "       fied in the man page SYNOPSIS section.  (Where required, these  feature\n",
      "       test  macros  must  be  defined before including any header files.)  In\n",
      "       such cases, the required macro is described in the man page.  For  fur‐\n",
      "       ther information on feature test macros, see feature_test_macros(7).\n",
      "\n",
      "CONFORMING TO\n",
      "       Certain  terms and abbreviations are used to indicate UNIX variants and\n",
      "       standards to which calls in this section conform.  See standards(7).\n",
      "\n",
      "NOTES\n",
      "   Calling directly\n",
      "       In most cases, it is unnecessary to invoke a system call directly,  but\n",
      "       there  are  times when the Standard C library does not implement a nice\n",
      "       wrapper function for you.  In this case, the programmer  must  manually\n",
      "       invoke  the  system call using syscall(2).  Historically, this was also\n",
      "       possible using one of the _syscall macros described in _syscall(2).\n",
      "\n",
      "   Authors and copyright conditions\n",
      "       Look at the header of the manual page  source  for  the  author(s)  and\n",
      "       copyright  conditions.   Note  that these can be different from page to\n",
      "       page!\n",
      "\n",
      "SEE ALSO\n",
      "       _syscall(2), syscall(2), syscalls(2), errno(3), intro(3),\n",
      "       capabilities(7), credentials(7), feature_test_macros(7),\n",
      "       mq_overview(7), path_resolution(7), pipe(7), pty(7), sem_overview(7),\n",
      "       shm_overview(7), signal(7), socket(7), standards(7), svipc(7),\n",
      "       symlink(7), time(7)\n",
      "\n",
      "COLOPHON\n",
      "       This page is part of release 4.15 of the Linux man-pages project.  A\n",
      "       description of the project, information about reporting bugs, and the\n",
      "       latest version of this page, can be found at\n",
      "       https://www.kernel.org/doc/man-pages/.\n",
      "\n",
      "Linux                             2017-09-15                          INTRO(2)\n"
     ]
    }
   ],
   "source": [
    "%%bash\n",
    "man 2 intro"
   ]
  },
  {
   "cell_type": "markdown",
   "metadata": {},
   "source": [
    "-  A system call is an entry point into the Linux kernel."
   ]
  },
  {
   "cell_type": "code",
   "execution_count": null,
   "metadata": {},
   "outputs": [],
   "source": [
    "%%bash\n",
    "man 2 syscall | head -20"
   ]
  },
  {
   "cell_type": "markdown",
   "metadata": {},
   "source": [
    "### Memory Management with System Call"
   ]
  },
  {
   "cell_type": "code",
   "execution_count": null,
   "metadata": {},
   "outputs": [],
   "source": [
    "%%bash\n",
    "man mmap"
   ]
  },
  {
   "cell_type": "markdown",
   "metadata": {},
   "source": [
    "### Understanding Library Calls\n",
    "- System calls are provided by the kernel to give access to restricted parts\n",
    "- Library calls come from shared libraries and provide functionality\n",
    "- There's a large number of library calls, virtually unlimited because it all depends on the shared libraries that are loaded\n",
    "- See also **man 3 intro**"
   ]
  },
  {
   "cell_type": "code",
   "execution_count": null,
   "metadata": {},
   "outputs": [],
   "source": [
    "%%bash\n",
    "man 3 intro"
   ]
  },
  {
   "cell_type": "markdown",
   "metadata": {},
   "source": [
    "## User Space vs Kernel Sace\n",
    "- Hardware access is restricted to the kernel only\n",
    "- The kernel provides system calls for users and processes to access hardware\n",
    "- User space is memory that is allocated by the kernel for user processes\n",
    "- Several elements are all running in user space\n",
    "- - Network configuration\n",
    "- - Services like a web server\n",
    "- - Applications\n",
    "- - User interfaces\n",
    "- Users are created to assign permissions and limits to entitites on Linux\n",
    "- Every process or task running on Linux has a owner\n",
    "\n",
    "## Tracing System Calls\n",
    "using strace and ltrace\n",
    "\n",
    "strace: system call information\n",
    "ltrace: library call information"
   ]
  },
  {
   "cell_type": "code",
   "execution_count": null,
   "metadata": {},
   "outputs": [],
   "source": [
    "%%bash\n",
    "strace ls"
   ]
  },
  {
   "cell_type": "code",
   "execution_count": 13,
   "metadata": {},
   "outputs": [
    {
     "name": "stdout",
     "output_type": "stream",
     "text": [
      "coreutils\n",
      "first\n",
      "first.c\n",
      "linux.ipynb\n",
      "linux_OS.ipynb\n",
      "screenshots\n",
      "-w\n"
     ]
    },
    {
     "name": "stderr",
     "output_type": "stream",
     "text": [
      "% time     seconds  usecs/call     calls    errors syscall\n",
      "------ ----------- ----------- --------- --------- ----------------\n",
      " 23.30    0.000446          26        17           mmap\n",
      " 21.94    0.000420          35        12           mprotect\n",
      " 13.32    0.000255          28         9           openat\n",
      "  7.11    0.000136          17         8         8 access\n",
      "  6.58    0.000126          11        11           close\n",
      "  6.06    0.000116          17         7           read\n",
      "  5.28    0.000101          10        10           fstat\n",
      "  3.97    0.000076          38         2           getdents\n",
      "  2.87    0.000055          55         1           munmap\n",
      "  2.35    0.000045          23         2         2 statfs\n",
      "  1.10    0.000021           7         3           brk\n",
      "  1.04    0.000020          10         2           rt_sigaction\n",
      "  1.04    0.000020          20         1           set_tid_address\n",
      "  0.84    0.000016          16         1           write\n",
      "  0.84    0.000016          16         1           arch_prctl\n",
      "  0.73    0.000014           7         2         2 ioctl\n",
      "  0.57    0.000011          11         1           set_robust_list\n",
      "  0.57    0.000011          11         1           prlimit64\n",
      "  0.47    0.000009           9         1           rt_sigprocmask\n",
      "  0.00    0.000000           0         1           execve\n",
      "------ ----------- ----------- --------- --------- ----------------\n",
      "100.00    0.001914                    93        12 total\n"
     ]
    }
   ],
   "source": [
    "%%bash\n",
    "strace -c ls"
   ]
  },
  {
   "cell_type": "markdown",
   "metadata": {},
   "source": [
    "Since strace output std errors, to grep output of strace, we need to treat it as an std error"
   ]
  },
  {
   "cell_type": "code",
   "execution_count": 14,
   "metadata": {},
   "outputs": [
    {
     "name": "stdout",
     "output_type": "stream",
     "text": [
      "openat(AT_FDCWD, \"/etc/ld.so.cache\", O_RDONLY|O_CLOEXEC) = 3\n",
      "openat(AT_FDCWD, \"/lib/x86_64-linux-gnu/libselinux.so.1\", O_RDONLY|O_CLOEXEC) = 3\n",
      "openat(AT_FDCWD, \"/lib/x86_64-linux-gnu/libc.so.6\", O_RDONLY|O_CLOEXEC) = 3\n",
      "openat(AT_FDCWD, \"/lib/x86_64-linux-gnu/libpcre.so.3\", O_RDONLY|O_CLOEXEC) = 3\n",
      "openat(AT_FDCWD, \"/lib/x86_64-linux-gnu/libdl.so.2\", O_RDONLY|O_CLOEXEC) = 3\n",
      "openat(AT_FDCWD, \"/lib/x86_64-linux-gnu/libpthread.so.0\", O_RDONLY|O_CLOEXEC) = 3\n",
      "openat(AT_FDCWD, \"/proc/filesystems\", O_RDONLY|O_CLOEXEC) = 3\n",
      "openat(AT_FDCWD, \"/usr/lib/locale/locale-archive\", O_RDONLY|O_CLOEXEC) = 3\n",
      "openat(AT_FDCWD, \".\", O_RDONLY|O_NONBLOCK|O_CLOEXEC|O_DIRECTORY) = 3\n"
     ]
    }
   ],
   "source": [
    "%%bash\n",
    "strace ls 2>&1 | grep open"
   ]
  },
  {
   "cell_type": "code",
   "execution_count": null,
   "metadata": {},
   "outputs": [],
   "source": [
    "%%bash\n",
    "ltrace ls"
   ]
  },
  {
   "cell_type": "markdown",
   "metadata": {},
   "source": [
    "## Understanding Signals\n",
    "- A signal provides a software interrupt; it's a method to tell a process that it has to do something\n",
    "- Signals are strictly defined, see man (7) signal for a complete overview\n",
    "- Some signals (such as sigkill and sigterm) cannot be ignored, others can be ignored\n",
    "- Many signals are specific to a command"
   ]
  },
  {
   "cell_type": "code",
   "execution_count": null,
   "metadata": {},
   "outputs": [],
   "source": [
    "%%bash\n",
    "man 7 signal"
   ]
  },
  {
   "cell_type": "markdown",
   "metadata": {},
   "source": [
    "Killsignal in action"
   ]
  },
  {
   "cell_type": "code",
   "execution_count": null,
   "metadata": {},
   "outputs": [],
   "source": [
    "%%bash\n",
    "dd if=/dev/zero of=/dev/null &\n",
    "kill -s $(pidof dd)"
   ]
  },
  {
   "cell_type": "code",
   "execution_count": null,
   "metadata": {},
   "outputs": [],
   "source": []
  },
  {
   "cell_type": "code",
   "execution_count": null,
   "metadata": {},
   "outputs": [],
   "source": []
  }
 ],
 "metadata": {
  "kernelspec": {
   "display_name": "Python 3",
   "language": "python",
   "name": "python3"
  },
  "language_info": {
   "codemirror_mode": {
    "name": "ipython",
    "version": 3
   },
   "file_extension": ".py",
   "mimetype": "text/x-python",
   "name": "python",
   "nbconvert_exporter": "python",
   "pygments_lexer": "ipython3",
   "version": "3.7.3"
  }
 },
 "nbformat": 4,
 "nbformat_minor": 2
}
