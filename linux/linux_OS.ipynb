{
 "cells": [
  {
   "cell_type": "markdown",
   "metadata": {},
   "source": [
    "# Linux Tech Stack\n",
    "\n",
    "<img src='screenshots/Linux-Stack.png' style='height: 50%; width: 50%'>\n",
    "\n",
    "Role of the Kernel\n",
    "\n",
    "<img src='screenshots/Role-of-Kernel.png' style='height: 50%; width: 50%'>"
   ]
  },
  {
   "cell_type": "markdown",
   "metadata": {},
   "source": [
    "lsmod: gives you a list of all drivers currently loaded"
   ]
  },
  {
   "cell_type": "code",
   "execution_count": null,
   "metadata": {},
   "outputs": [],
   "source": [
    "%%bash\n",
    "lsmod"
   ]
  },
  {
   "cell_type": "markdown",
   "metadata": {},
   "source": [
    "Use **modinfo [drivername]** to get info of specific driver"
   ]
  },
  {
   "cell_type": "code",
   "execution_count": null,
   "metadata": {},
   "outputs": [],
   "source": [
    "%%bash\n",
    "modinfo soundcore"
   ]
  },
  {
   "cell_type": "code",
   "execution_count": null,
   "metadata": {},
   "outputs": [],
   "source": [
    "%%bash\n",
    "modinfo 1915"
   ]
  },
  {
   "cell_type": "markdown",
   "metadata": {},
   "source": [
    "**/dev**: directory contains files for your drivers\n",
    "\n",
    "**cd /dev/sd\\***: contain drivers for scsi drives which are hardware of tape drivers\n"
   ]
  },
  {
   "cell_type": "markdown",
   "metadata": {},
   "source": [
    "# GLIBC\n",
    "linux languages\n",
    "- Linux is written in the C programming language\n",
    "- Most linux components are written in C\n",
    "- C is considered a low-level language\n",
    "- High-level languages such as scripting languages are common as well\n",
    "- Python is an often used scripting language, which itsel is written in C"
   ]
  },
  {
   "cell_type": "code",
   "execution_count": 4,
   "metadata": {},
   "outputs": [
    {
     "name": "stdout",
     "output_type": "stream",
     "text": [
      "\tlinux-vdso.so.1 (0x00007ffd5797c000)\n",
      "\tlibpam.so.0 => /lib/x86_64-linux-gnu/libpam.so.0 (0x00007f5d17a92000)\n",
      "\tlibpam_misc.so.0 => /lib/x86_64-linux-gnu/libpam_misc.so.0 (0x00007f5d1788e000)\n",
      "\tlibselinux.so.1 => /lib/x86_64-linux-gnu/libselinux.so.1 (0x00007f5d17666000)\n",
      "\tlibc.so.6 => /lib/x86_64-linux-gnu/libc.so.6 (0x00007f5d17275000)\n",
      "\tlibaudit.so.1 => /lib/x86_64-linux-gnu/libaudit.so.1 (0x00007f5d1704c000)\n",
      "\tlibdl.so.2 => /lib/x86_64-linux-gnu/libdl.so.2 (0x00007f5d16e48000)\n",
      "\tlibpcre.so.3 => /lib/x86_64-linux-gnu/libpcre.so.3 (0x00007f5d16bd6000)\n",
      "\t/lib64/ld-linux-x86-64.so.2 (0x00007f5d17eaf000)\n",
      "\tlibcap-ng.so.0 => /lib/x86_64-linux-gnu/libcap-ng.so.0 (0x00007f5d169d1000)\n",
      "\tlibpthread.so.0 => /lib/x86_64-linux-gnu/libpthread.so.0 (0x00007f5d167b2000)\n"
     ]
    }
   ],
   "source": [
    "%%bash\n",
    "ldd $(which passwd)"
   ]
  },
  {
   "cell_type": "markdown",
   "metadata": {},
   "source": [
    "lbc is a well known c library, providing systemcalls and function used by this program"
   ]
  },
  {
   "cell_type": "code",
   "execution_count": 6,
   "metadata": {},
   "outputs": [
    {
     "name": "stdout",
     "output_type": "stream",
     "text": [
      "LIBC(7)                    Linux Programmer's Manual                   LIBC(7)\n",
      "\n",
      "NAME\n",
      "       libc - overview of standard C libraries on Linux\n",
      "\n",
      "DESCRIPTION\n",
      "       The  term  \"libc\"  is  commonly used as a shorthand for the \"standard C\n",
      "       library\", a library of standard functions that can be  used  by  all  C\n",
      "       programs  (and  sometimes  by programs in other languages).  Because of\n",
      "       some history (see below), use of the term \"libc\" to refer to the  stan‐\n",
      "       dard C library is somewhat ambiguous on Linux.\n",
      "\n",
      "   glibc\n",
      "       By  far  the  most  widely used C library on Linux is the GNU C Library\n",
      "       ⟨http://www.gnu.org/software/libc/⟩, often referred to as glibc.   This\n",
      "       is  the  C  library  that is nowadays used in all major Linux distribu‐\n",
      "       tions.  It is also the C library whose details are  documented  in  the\n",
      "       relevant  pages of the man-pages project (primarily in Section 3 of the\n",
      "       manual).  Documentation of glibc is also available in the glibc manual,\n",
      "       available  via the command info libc.  Release 1.0 of glibc was made in\n",
      "       September 1992.  (There were earlier 0.x  releases.)   The  next  major\n",
      "       release of glibc was 2.0, at the beginning of 1997.\n",
      "\n",
      "       The  pathname  /lib/libc.so.6 (or something similar) is normally a sym‐\n",
      "       bolic link that points to the location of the glibc library,  and  exe‐\n",
      "       cuting  this  pathname  will cause glibc to display various information\n",
      "       about the version installed on your system.\n",
      "\n",
      "   Linux libc\n",
      "       In the early to mid 1990s, there was for a while Linux libc, a fork  of\n",
      "       glibc  1.x  created by Linux developers who felt that glibc development\n",
      "       at the time was not sufficing for the  needs  of  Linux.   Often,  this\n",
      "       library  was  referred  to  (ambiguously)  as  just \"libc\".  Linux libc\n",
      "       released major versions 2, 3, 4, and 5, as well as many minor  versions\n",
      "       of  those  releases.  Linux libc4 was the last version to use the a.out\n",
      "       binary format, and the first  version  to  provide  (primitive)  shared\n",
      "       library support.  Linux libc 5 was the first version to support the ELF\n",
      "       binary format; this version used the shared library  soname  libc.so.5.\n",
      "       For  a  while, Linux libc was the standard C library in many Linux dis‐\n",
      "       tributions.\n",
      "\n",
      "       However, notwithstanding the original motivations  of  the  Linux  libc\n",
      "       effort,  by  the  time glibc 2.0 was released (in 1997), it was clearly\n",
      "       superior to Linux libc, and all major Linux distributions that had been\n",
      "       using  Linux  libc soon switched back to glibc.  To avoid any confusion\n",
      "       with Linux libc versions, glibc 2.0 and later used the  shared  library\n",
      "       soname libc.so.6.\n",
      "\n",
      "       Since  the  switch from Linux libc to glibc 2.0 occurred long ago, man-\n",
      "       pages no longer takes care to document Linux libc  details.   Neverthe‐\n",
      "       less,  the  history  is  visible in vestiges of information about Linux\n",
      "       libc that remain in a few manual pages, in  particular,  references  to\n",
      "       libc4 and libc5.\n",
      "\n",
      "   Other C libraries\n",
      "       There  are various other less widely used C libraries for Linux.  These\n",
      "       libraries are generally smaller than glibc, both in terms  of  features\n",
      "       and  memory  footprint, and often intended for building small binaries,\n",
      "       perhaps targeted at development for embedded Linux systems.  Among such\n",
      "       libraries     are     uClibc     ⟨http://www.uclibc.org/⟩,     dietlibc\n",
      "       ⟨http://www.fefe.de/dietlibc/⟩,         and          musl          libc\n",
      "       ⟨http://www.musl-libc.org/⟩.  Details of these libraries are covered by\n",
      "       the man-pages project, where they are known.\n",
      "\n",
      "SEE ALSO\n",
      "       syscalls(2),  getauxval(3),   proc(5),   feature_test_macros(7),   man-\n",
      "       pages(7), standards(7), vdso(7)\n",
      "\n",
      "COLOPHON\n",
      "       This  page  is  part of release 4.15 of the Linux man-pages project.  A\n",
      "       description of the project, information about reporting bugs,  and  the\n",
      "       latest     version     of     this    page,    can    be    found    at\n",
      "       https://www.kernel.org/doc/man-pages/.\n",
      "\n",
      "Linux                             2016-12-12                           LIBC(7)\n"
     ]
    }
   ],
   "source": [
    "%%bash\n",
    "man glibc"
   ]
  },
  {
   "cell_type": "markdown",
   "metadata": {},
   "source": [
    "Glibc is a GNU version of libc"
   ]
  },
  {
   "cell_type": "markdown",
   "metadata": {},
   "source": [
    "# File Descriptors\n",
    "Understanding file descriptors\n",
    "- Linux is a file oriented operating system\n",
    "- Everything is happening as a file: device access, I/O handling, inter process communication and more\n",
    "- Every process keeps a table of file descriptors that shows files that are currently in use\n",
    "- Common file descriptors are:\n",
    "- - 0: STDIN\n",
    "- - 1: STDOUT\n",
    "- - 2: STDERR"
   ]
  },
  {
   "cell_type": "code",
   "execution_count": null,
   "metadata": {},
   "outputs": [],
   "source": [
    "%%bash\n",
    "cd /proc\n",
    "cd <some number in proc>\n",
    "cd fd\n",
    "ls -l"
   ]
  },
  {
   "cell_type": "markdown",
   "metadata": {},
   "source": [
    "# Role of C in Linux\n",
    "- Linux is written in C\n",
    "- The source code of all linux components is accessible as a readable file\n",
    "- Source files written in C need to be compile to a binary program"
   ]
  },
  {
   "cell_type": "code",
   "execution_count": 15,
   "metadata": {},
   "outputs": [
    {
     "name": "stderr",
     "output_type": "stream",
     "text": [
      "Cloning into 'coreutils'...\n"
     ]
    }
   ],
   "source": [
    "%%bash\n",
    "git clone git://git.sv.gnu.org/coreutils"
   ]
  },
  {
   "cell_type": "code",
   "execution_count": 24,
   "metadata": {},
   "outputs": [
    {
     "name": "stdout",
     "output_type": "stream",
     "text": [
      "/* 'dir', 'vdir' and 'ls' directory listing programs for GNU.\n",
      "   Copyright (C) 1985-2019 Free Software Foundation, Inc.\n",
      "\n",
      "   This program is free software: you can redistribute it and/or modify\n",
      "   it under the terms of the GNU General Public License as published by\n",
      "   the Free Software Foundation, either version 3 of the License, or\n",
      "   (at your option) any later version.\n",
      "\n",
      "   This program is distributed in the hope that it will be useful,\n",
      "   but WITHOUT ANY WARRANTY; without even the implied warranty of\n",
      "   MERCHANTABILITY or FITNESS FOR A PARTICULAR PURPOSE.  See the\n",
      "   GNU General Public License for more details.\n",
      "\n",
      "   You should have received a copy of the GNU General Public License\n",
      "   along with this program.  If not, see <https://www.gnu.org/licenses/>.  */\n",
      "\n",
      "/* If ls_mode is LS_MULTI_COL,\n",
      "   the multi-column format is the default regardless\n",
      "   of the type of output device.\n",
      "   This is for the 'dir' program.\n",
      "\n",
      "   If ls_mode is LS_LONG_FORMAT,\n",
      "   the long format is the default regardless of the\n",
      "   type of output device.\n",
      "   This is for the 'vdir' program.\n",
      "\n",
      "   If ls_mode is LS_LS,\n",
      "   the output format depends on whether the output\n",
      "   device is a terminal.\n",
      "   This is for the 'ls' program.  */\n",
      "\n",
      "/* Written by Richard Stallman and David MacKenzie.  */\n",
      "\n",
      "/* Color support by Peter Anvin <Peter.Anvin@linux.org> and Dennis\n",
      "   Flaherty <dennisf@denix.elk.miles.com> based on original patches by\n",
      "   Greg Lee <lee@uhunix.uhcc.hawaii.edu>.  */\n",
      "\n",
      "#include <config.h>\n",
      "#include <sys/types.h>\n",
      "\n",
      "#include <termios.h>\n",
      "#if HAVE_STROPTS_H\n",
      "# include <stropts.h>\n",
      "#endif\n",
      "#include <sys/ioctl.h>\n",
      "\n",
      "#ifdef WINSIZE_IN_PTEM\n",
      "# include <sys/stream.h>\n",
      "# include <sys/ptem.h>\n",
      "#endif\n"
     ]
    }
   ],
   "source": [
    "%%bash\n",
    "cd coreutils/src\n",
    "head -50 ls.c"
   ]
  },
  {
   "cell_type": "markdown",
   "metadata": {},
   "source": [
    "# Role of GIT\n",
    "Understanding git\n",
    "- Linux code is written by the Open Source community\n",
    "- The Open Source community needs a way to work together\n",
    "- Git is the most common version control syst3em which was created by Linux founder Linus Torvalds\n",
    "- A git folder contains the complete repository with a historicj overview and included tracking functionality as well\n",
    "- To work on software, developers can clone a Git folder to their local computer and work from there. Once finished it can be merged from the user's computer up to the git repository"
   ]
  },
  {
   "cell_type": "code",
   "execution_count": null,
   "metadata": {},
   "outputs": [],
   "source": []
  }
 ],
 "metadata": {
  "kernelspec": {
   "display_name": "Python 3",
   "language": "python",
   "name": "python3"
  },
  "language_info": {
   "codemirror_mode": {
    "name": "ipython",
    "version": 3
   },
   "file_extension": ".py",
   "mimetype": "text/x-python",
   "name": "python",
   "nbconvert_exporter": "python",
   "pygments_lexer": "ipython3",
   "version": "3.7.3"
  }
 },
 "nbformat": 4,
 "nbformat_minor": 2
}
