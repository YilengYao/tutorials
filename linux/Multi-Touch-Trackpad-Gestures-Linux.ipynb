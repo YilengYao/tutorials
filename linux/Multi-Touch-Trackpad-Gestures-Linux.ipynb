{
 "cells": [
  {
   "cell_type": "markdown",
   "metadata": {},
   "source": [
    "# Adding Multi-Touch Gestures to Linux\n",
    "\n",
    "https://www.youtube.com/watch?v=ci6YbQGx3c4\n",
    "https://github.com/bulletmark/libinput-gestures\n",
    "\n",
    "The following command allows you to perform finger gestures on Ubuntu that is similar to Mission Control for MacOS to change workspace."
   ]
  },
  {
   "cell_type": "markdown",
   "metadata": {},
   "source": [
    "Install packages"
   ]
  },
  {
   "cell_type": "code",
   "execution_count": null,
   "metadata": {},
   "outputs": [],
   "source": [
    "%%bash\n",
    "sudo apt install git xdotool wmctrl libinput-tools"
   ]
  },
  {
   "cell_type": "markdown",
   "metadata": {},
   "source": [
    "Clone the repository"
   ]
  },
  {
   "cell_type": "code",
   "execution_count": null,
   "metadata": {},
   "outputs": [],
   "source": [
    "%%bash\n",
    "cd ~\n",
    "git clone http://github.com/bulletmark/libinput-gestures"
   ]
  },
  {
   "cell_type": "markdown",
   "metadata": {},
   "source": [
    "Install libinput-gestures-setup"
   ]
  },
  {
   "cell_type": "code",
   "execution_count": null,
   "metadata": {},
   "outputs": [],
   "source": [
    "%%bash\n",
    "cd ~/libinput-gestures\n",
    "echo <password> | sudo -S ./libinput-gestures-setup install"
   ]
  },
  {
   "cell_type": "markdown",
   "metadata": {},
   "source": [
    "Creating keyboard gestures configuration file"
   ]
  },
  {
   "cell_type": "code",
   "execution_count": 14,
   "metadata": {},
   "outputs": [],
   "source": [
    "%%bash\n",
    "cd ~/.config\n",
    "touch libinput-gestures.conf"
   ]
  },
  {
   "cell_type": "markdown",
   "metadata": {},
   "source": [
    "Instruction that map track-pad gestures to keyboard shortcuts"
   ]
  },
  {
   "cell_type": "code",
   "execution_count": 15,
   "metadata": {},
   "outputs": [],
   "source": [
    "%%bash\n",
    "cd ~/.config\n",
    "echo 'gesture swipe up 3 xdotool key Super_L' >> libinput-gestures.conf\n",
    "echo 'gesture swipe left 3 xdotool key Super_L+Page_Up' >> libinput-gestures.conf\n",
    "echo 'gesture swipe right 3 xdotool key Super+Page_Down' >> libinput-gestures.conf"
   ]
  },
  {
   "cell_type": "markdown",
   "metadata": {},
   "source": [
    "The code below is to restart libinput-gesture-setup"
   ]
  },
  {
   "cell_type": "code",
   "execution_count": null,
   "metadata": {},
   "outputs": [],
   "source": [
    "%%bash\n",
    "cd ~\n",
    "libinput-gestures-setup restart"
   ]
  },
  {
   "cell_type": "markdown",
   "metadata": {},
   "source": [
    "If you receive errors lie\n",
    "Failed to open /dev/input/event4 (Permission denied)\n",
    "\n",
    "run the following code on terminal"
   ]
  },
  {
   "cell_type": "code",
   "execution_count": null,
   "metadata": {},
   "outputs": [],
   "source": [
    "%%bash\n",
    "sudo gpasswd -a $USER input\n",
    "sudo chmod +rwx /dev/input/event*\n",
    "libinput-gestures-setup restart\n",
    "sudo chmod 0660 /dev/input/event*"
   ]
  }
 ],
 "metadata": {
  "kernelspec": {
   "display_name": "Python 3",
   "language": "python",
   "name": "python3"
  },
  "language_info": {
   "codemirror_mode": {
    "name": "ipython",
    "version": 3
   },
   "file_extension": ".py",
   "mimetype": "text/x-python",
   "name": "python",
   "nbconvert_exporter": "python",
   "pygments_lexer": "ipython3",
   "version": "3.7.3"
  }
 },
 "nbformat": 4,
 "nbformat_minor": 2
}
