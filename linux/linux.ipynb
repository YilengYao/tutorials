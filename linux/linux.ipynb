{
 "cells": [
  {
   "cell_type": "markdown",
   "metadata": {},
   "source": [
    "## proc directory\n",
    "/proc: directory in charge of linux performance optimization\n",
    "\n",
    "proc fidrectory has 3 parts\n",
    "1. PID directory\n",
    "2. information files /meminfo: prevents information from kernel\n",
    "3. /sys: tunables\n",
    "\n",
    "## sys\n",
    "important interface for sys\n",
    "- fs: filesystem\n",
    "- kernel: for kernel\n",
    "- net: networking\n",
    "- vm: memory\n",
    "\n",
    "swappiness: the williness of the kernel to swap\n",
    "out memory pages, if memory pressure arises"
   ]
  },
  {
   "cell_type": "markdown",
   "metadata": {},
   "source": [
    "### Systemctl service\n",
    "```systemctl status systemd-sysct```\n",
    "its configuration is in /etc/sysctl.conf<br>\n",
    "changes to system is applied on boot<br>\n",
    "you can change swappiness"
   ]
  },
  {
   "cell_type": "raw",
   "metadata": {},
   "source": [
    "/etc/systctl.conf\n",
    "\n",
    "vm.swappiness = 60"
   ]
  },
  {
   "cell_type": "markdown",
   "metadata": {},
   "source": [
    "Useful sysctl command"
   ]
  },
  {
   "cell_type": "code",
   "execution_count": null,
   "metadata": {},
   "outputs": [],
   "source": [
    "%%bash\n",
    "sysctl --help\n",
    "sysctl -p /etc/sysctl.conf"
   ]
  },
  {
   "cell_type": "code",
   "execution_count": null,
   "metadata": {},
   "outputs": [],
   "source": [
    "%%bash\n",
    "# list sysctl prameters\n",
    "sysctl -a"
   ]
  },
  {
   "cell_type": "markdown",
   "metadata": {},
   "source": [
    "# Managing Kernel Module Parameters\n",
    "- Use **modinfo** to find which parameters are available\n",
    "- Use **modprobe module key=value** to specify a parameter in runtime\n",
    "- Use /etc/modprobe.d/modulename.conf to specify a permanent parameter"
   ]
  },
  {
   "cell_type": "markdown",
   "metadata": {},
   "source": [
    "## Limiting Resource Usage\n",
    "\n",
    "### ulimit\n",
    "ulimit is the old way of configuring resource usage<br>\n",
    "Applying POSIX Resource Limits\n",
    "- Set runtime limits with **ulimit**\n",
    "- - It dapplies to the shell in which the command is used\n",
    "- Apply persistent ulimit settings to /etc/security/limits.conf\n",
    "- Soft limits can be modified by the user, hard limits implements an absolute ceiling\n",
    "- - Users can set soft limits, but only lower than the enforced hard limit"
   ]
  },
  {
   "cell_type": "code",
   "execution_count": null,
   "metadata": {},
   "outputs": [],
   "source": [
    "%%bash\n",
    "cat /etc/security/limits.conf"
   ]
  },
  {
   "cell_type": "markdown",
   "metadata": {},
   "source": [
    "#### Managing Persistent limits\n",
    "- **pam_limits** is applied from PAM sessions to configure persistent limits\n",
    "- It works with /etc/security/limits.conf and /etc/security/limits.d/*.conf\n",
    "- See *man 5 limits.conf** for documentation\n",
    "- - Notice that not all llimites currently work on RHEL. The **rss**limit for instance doesn not work\n",
    "- Example: set the maximum amount of logins for studentst to 2, creating a file with the contents /etc/security/limits/students.d and the following contents:\n",
    "- - **@students hard maxlogins 2**\n",
    "\n",
    "#### Setting Limits to Services\n",
    "- In systemd units, add the **LIMIT\\** entries to the **[Service]** block of a unit file to limit what services can do\n",
    "- If, for inatance you want to allow your blah.service a maximum of 60 seconds of CPU time before it is killed, add the following to **/etc/systemd/system/blah.service.d/10-cpulimits.conf**"
   ]
  },
  {
   "cell_type": "markdown",
   "metadata": {},
   "source": [
    "[Service]\n",
    "LimitCPU=60"
   ]
  },
  {
   "cell_type": "markdown",
   "metadata": {},
   "source": [
    "- Use **systemctl daemon-reload** and **systemctl restart blah** to make the changes effective\n",
    "- See **man5 systemd.exec** and **man 2 setrlimit** for a full list of Limit\\* settings\n",
    "\n",
    "PAM (Pluggable Authentication Modules): it shapes what is happening when user log into the system\n",
    "\n",
    "<img src='screenshots/PAM.png'>"
   ]
  },
  {
   "cell_type": "code",
   "execution_count": null,
   "metadata": {},
   "outputs": [],
   "source": [
    "%%bash\n",
    "man systemd.exec | grep limits"
   ]
  },
  {
   "cell_type": "code",
   "execution_count": null,
   "metadata": {},
   "outputs": [],
   "source": [
    "! mkdir /etc/systemd/system/sleep.service.d"
   ]
  },
  {
   "cell_type": "raw",
   "metadata": {},
   "source": [
    "/sleep.service.d/10-cpulimits.conf\n",
    "[Service]\n",
    "LimitCPU=60\n"
   ]
  },
  {
   "cell_type": "code",
   "execution_count": null,
   "metadata": {},
   "outputs": [],
   "source": [
    "%%bash\n",
    "# to reload\n",
    "systemctl daemon-reload\n",
    "systemctl restart\n",
    "status sleep"
   ]
  }
 ],
 "metadata": {
  "kernelspec": {
   "display_name": "Python 3",
   "language": "python",
   "name": "python3"
  },
  "language_info": {
   "codemirror_mode": {
    "name": "ipython",
    "version": 3
   },
   "file_extension": ".py",
   "mimetype": "text/x-python",
   "name": "python",
   "nbconvert_exporter": "python",
   "pygments_lexer": "ipython3",
   "version": "3.7.3"
  }
 },
 "nbformat": 4,
 "nbformat_minor": 2
}
