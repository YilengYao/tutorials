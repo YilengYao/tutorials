{
 "cells": [
  {
   "cell_type": "markdown",
   "metadata": {},
   "source": [
    "## proc directory\n",
    "/proc: directory in charge of linux performance optimization\n",
    "\n",
    "proc fidrectory has 3 parts\n",
    "1. PID directory\n",
    "2. information files /meminfo: prevents information from kernel\n",
    "3. /sys: tunables\n",
    "\n",
    "## sys\n",
    "important interface for sys\n",
    "- fs: filesystem\n",
    "- kernel: for kernel\n",
    "- net: networking\n",
    "- vm: memory\n",
    "\n",
    "swappiness: the williness of the kernel to swap\n",
    "out memory pages, if memory pressure arises"
   ]
  },
  {
   "cell_type": "markdown",
   "metadata": {},
   "source": [
    "### Systemctl service\n",
    "```systemctl status systemd-sysct```\n",
    "its configuration is in /etc/sysctl.conf<br>\n",
    "changes to system is applied on boot<br>\n",
    "you can change swappiness"
   ]
  },
  {
   "cell_type": "raw",
   "metadata": {},
   "source": [
    "/etc/systctl.conf\n",
    "\n",
    "vm.swappiness = 60"
   ]
  },
  {
   "cell_type": "markdown",
   "metadata": {},
   "source": [
    "Useful sysctl command"
   ]
  },
  {
   "cell_type": "code",
   "execution_count": null,
   "metadata": {},
   "outputs": [],
   "source": [
    "%%bash\n",
    "sysctl --help\n",
    "sysctl -p /etc/sysctl.conf"
   ]
  },
  {
   "cell_type": "code",
   "execution_count": null,
   "metadata": {},
   "outputs": [],
   "source": [
    "%%bash\n",
    "# list sysctl prameters\n",
    "sysctl -a"
   ]
  },
  {
   "cell_type": "markdown",
   "metadata": {},
   "source": [
    "# Managing Kernel Module Parameters\n",
    "- Use **modinfo** to find which parameters are available\n",
    "- Use **modprobe module key=value** to specify a parameter in runtime\n",
    "- Use /etc/modprobe.d/modulename.conf to specify a permanent parameter"
   ]
  },
  {
   "cell_type": "markdown",
   "metadata": {},
   "source": [
    "## Limiting Resource Usage\n",
    "\n",
    "### ulimit\n",
    "ulimit is the old way of configuring resource usage<br>\n",
    "Applying POSIX Resource Limits\n",
    "- Set runtime limits with **ulimit**\n",
    "- - It dapplies to the shell in which the command is used\n",
    "- Apply persistent ulimit settings to /etc/security/limits.conf\n",
    "- Soft limits can be modified by the user, hard limits implements an absolute ceiling\n",
    "- - Users can set soft limits, but only lower than the enforced hard limit"
   ]
  },
  {
   "cell_type": "code",
   "execution_count": null,
   "metadata": {},
   "outputs": [],
   "source": [
    "%%bash\n",
    "cat /etc/security/limits.conf"
   ]
  },
  {
   "cell_type": "markdown",
   "metadata": {},
   "source": [
    "#### Managing Persistent limits\n",
    "- **pam_limits** is applied from PAM sessions to configure persistent limits\n",
    "- It works with /etc/security/limits.conf and /etc/security/limits.d/*.conf\n",
    "- See *man 5 limits.conf** for documentation\n",
    "- - Notice that not all llimites currently work on RHEL. The **rss**limit for instance doesn not work\n",
    "- Example: set the maximum amount of logins for studentst to 2, creating a file with the contents /etc/security/limits/students.d and the following contents:\n",
    "- - **@students hard maxlogins 2**\n",
    "\n",
    "#### Setting Limits to Services\n",
    "- In systemd units, add the **LIMIT\\** entries to the **[Service]** block of a unit file to limit what services can do\n",
    "- If, for inatance you want to allow your blah.service a maximum of 60 seconds of CPU time before it is killed, add the following to **/etc/systemd/system/blah.service.d/10-cpulimits.conf**"
   ]
  },
  {
   "cell_type": "markdown",
   "metadata": {},
   "source": [
    "[Service]\n",
    "LimitCPU=60"
   ]
  },
  {
   "cell_type": "markdown",
   "metadata": {},
   "source": [
    "- Use **systemctl daemon-reload** and **systemctl restart blah** to make the changes effective\n",
    "- See **man5 systemd.exec** and **man 2 setrlimit** for a full list of Limit\\* settings\n",
    "\n",
    "PAM (Pluggable Authentication Modules): it shapes what is happening when user log into the system\n",
    "\n",
    "<img src='screenshots/PAM.png'>"
   ]
  },
  {
   "cell_type": "code",
   "execution_count": null,
   "metadata": {},
   "outputs": [],
   "source": [
    "%%bash\n",
    "man systemd.exec | grep limits"
   ]
  },
  {
   "cell_type": "code",
   "execution_count": null,
   "metadata": {},
   "outputs": [],
   "source": [
    "! mkdir /etc/systemd/system/sleep.service.d"
   ]
  },
  {
   "cell_type": "raw",
   "metadata": {},
   "source": [
    "/sleep.service.d/10-cpulimits.conf\n",
    "[Service]\n",
    "LimitCPU=60\n"
   ]
  },
  {
   "cell_type": "code",
   "execution_count": null,
   "metadata": {},
   "outputs": [],
   "source": [
    "%%bash\n",
    "# to reload\n",
    "systemctl daemon-reload\n",
    "systemctl restart\n",
    "status sleep"
   ]
  },
  {
   "cell_type": "markdown",
   "metadata": {},
   "source": [
    "## Control Groups\n",
    "Understand Control Groups\n",
    "- Control Groups place resources in controllers that represent the type of resource\n",
    "- Some common default controllers are **cpu**, **memory**, and **blkio**\n",
    "- These controllers are subdivided in to a tree structure where different weights or limits are applied to each branch\n",
    "- - Each of these branches is a cgroup\n",
    "- - One or more processes are assigned to a cgroup\n",
    "- Cgroups can be applied from the command line, or from systemd\n",
    "- - Manual creation happened throught the **cgconfig** service and the **cgred** process\n",
    "- - In all cases, cgroup settings are written to /sys/fs/cgroups"
   ]
  },
  {
   "cell_type": "code",
   "execution_count": null,
   "metadata": {},
   "outputs": [],
   "source": [
    "%%bash\n",
    "ls /sys/fs/cgroup"
   ]
  },
  {
   "cell_type": "markdown",
   "metadata": {},
   "source": [
    "## Resource Allocation \n",
    "- Machine\n",
    "- System\n",
    "- User\n",
    "\n",
    "<img src='screenshots/CGroup.png'>"
   ]
  },
  {
   "cell_type": "markdown",
   "metadata": {},
   "source": [
    "### Integrating Cgroups in Systemd\n",
    "Systemd divides **cpu**, **cpuacct**, **blkio** into slices\n",
    "- **system** for system processes and daemons\n",
    "- **machine** for virtual machines\n",
    "- **user** for user sessions\n",
    "On a systemd-system, system-enabled cgroups can be omitted and you can still use **cgconfig** and **cgred**. See **systemd-system.conf** for instructions on how to do that and make sure to rebuild initramfs to make this effective\n",
    "\n",
    "#### Using Custom Slices\n",
    "- Administrators can create their own slices, naming them *.slice, or slices within a slice, using the **parent-child.slice** naming\n",
    "- Child slices will inherit the settings of the parent slices\n",
    "- Make sure to turn on CPU, memory, or I/O accounting to see how they are used within a slice\n",
    "\n",
    "#### Enabling Accounting\n",
    "Enabling accounting in the [Service] section of the unit file\n",
    "- **CPUAccounting=true**\n",
    "- **MemoryAccounting=true**\n",
    "- BlockIOAccounting=true**\n",
    "Or better: enable it in /etc/systemd/system.conf\n",
    "Use drop-in files to take care of this\n",
    "- e.g. the SSH service would use a drop-in /etc/systemd/system/sshd.service.d/*conf<br>\n",
    "**man 5 systemd.resource-control** for all parameters\n",
    "- CPUShares=512\n",
    "- MemoryLimit=512M\n",
    "- BlockIO*="
   ]
  },
  {
   "cell_type": "code",
   "execution_count": null,
   "metadata": {},
   "outputs": [],
   "source": [
    "%%bash\n",
    "# listing folder for cpu\n",
    "ls /sys/devices/system/cpu"
   ]
  },
  {
   "cell_type": "markdown",
   "metadata": {},
   "source": [
    "```top``` then 1 to check cpu usage\n",
    "\n",
    "### Managing slice\n",
    "Putting Commands into a Slice<br>\n",
    "To put a command into a slice, you can use the **systemd-run** command with the **slice=** option\n",
    "- **systemd-run --slice=example.slice sleep 10d**\n",
    "- show with **systemd-cgls /example.slice/<servicename>**\n",
    "- If the **--slice** option is not used, commands started with **systemd-run** will be put into the **system.slice**  \n",
    "    \n",
    "Using Custom Slices\n",
    "- Put a service into a custom slice using **Slice=my.slice**; if the slice doesn't exist it iwll be created when the service is started\n",
    "- You can also pre-create custom slices by creating a *.slice file in /etc/systemd/system. Put the tunables in the **[Slice]** section\n",
    "- To make a lice a child of another slice, git it a name **<parent>-<clild>.slice**; it will inherit all settings of the parent slice\n",
    "- Note that the slice will only be created once the first process is started within\n"
   ]
  },
  {
   "cell_type": "code",
   "execution_count": null,
   "metadata": {},
   "outputs": [],
   "source": [
    "! systemd-cgtop"
   ]
  },
  {
   "cell_type": "code",
   "execution_count": null,
   "metadata": {},
   "outputs": [],
   "source": [
    "! systemd-cgls"
   ]
  },
  {
   "cell_type": "markdown",
   "metadata": {},
   "source": [
    "# Benchmarking\n",
    "- Benchmarking is comparing performance characteristics to industry standards\n",
    "- This means that data needs to be gathered and compared\n",
    "- In IT there are often is no such thing as a standard benchmark, so you'll need to gather and compare a lot \n",
    "- Benchmarking is NOT profiling, which is about gathering information about performance hot spots\n",
    "\n",
    "## Subsystem involved\n",
    "While benchmarking, different subsystems should be involved\n",
    "- Processor\n",
    "- Memory\n",
    "- Scheduler\n",
    "- I/O\n",
    "- Network"
   ]
  },
  {
   "cell_type": "markdown",
   "metadata": {},
   "source": [
    "## Benchmarking Utilities\n",
    "- **vmstat**\n",
    "- - Notive that the first line of vmstat output is giving the average since boot!\n",
    "- **iostat**\n",
    "- **mpstat**\n",
    "- **sar**: can be used for gathering performance data\n",
    "- **awk**: is useful for data analysis\n",
    "- **gnuplot**: can be useful for plotting data\n",
    "- **pcp**: is useful as an extensive testing framework"
   ]
  },
  {
   "cell_type": "markdown",
   "metadata": {},
   "source": [
    "### Getting Performance data with sar\n",
    "**sar**\n",
    "- For filtering purposes, use **LANG=C sar -b**\n",
    "- Create an alias to do this automatically\n",
    "- Consider /etc/sysconfig/sysstat for additional settings\n",
    "- Data collection interval is set through cron"
   ]
  },
  {
   "cell_type": "markdown",
   "metadata": {},
   "source": [
    "## Gnuplot\n",
    "you can plot performance data with Gnuplot\n"
   ]
  },
  {
   "cell_type": "code",
   "execution_count": null,
   "metadata": {},
   "outputs": [],
   "source": []
  }
 ],
 "metadata": {
  "kernelspec": {
   "display_name": "Python 3",
   "language": "python",
   "name": "python3"
  },
  "language_info": {
   "codemirror_mode": {
    "name": "ipython",
    "version": 3
   },
   "file_extension": ".py",
   "mimetype": "text/x-python",
   "name": "python",
   "nbconvert_exporter": "python",
   "pygments_lexer": "ipython3",
   "version": "3.7.3"
  }
 },
 "nbformat": 4,
 "nbformat_minor": 2
}
